{
 "cells": [
  {
   "cell_type": "markdown",
   "metadata": {},
   "source": [
    "# Programming C/C++ With GCC(Windows)"
   ]
  },
  {
   "cell_type": "markdown",
   "metadata": {},
   "source": [
    "### 1. GCC: GNU Compiler Collection\n",
    "\n",
    "#### 1.1 A Brief History and Introduction to GCC\n",
    "\n",
    "* The original GNU C Compiler (GCC) is developed by Richard Stallman, the founder of the GNU Project. Richard Stallman founded the GNU project in 1984 to create a complete Unix-like operating system as free software, to promote freedom and cooperation among computer users and programmers.\n",
    "\n",
    "  GCC, formerly for \"GNU C Compiler\", has grown over times to support many languages such as C++, Objective-C, Java, Fortran and Ada. It is now referred to as \"GNU Compiler Collection\". \n",
    "  The mother site for GCC is **http://gcc.gnu.org/**.\n",
    "\n",
    "  GCC is a key component of \"GNU Toolchain\", for developing applications, as well as operating systems. \n",
    "\n",
    "  GCC is portable and run in many operating platforms. GCC (and GNU Toolchain) is currently available on all Unixes. They are also ported to Windows by MinGW and Cygwin. GCC is also a cross-compiler, for producing executables on different platform.\n",
    "\n",
    "#### 1.2  Installing MinGW GCC\n",
    "\n",
    "GCC (GNU Toolchain) is included in all Unixes. For Windows, you could either install **MinGW GCC** or **Cygwin GCC**.\n",
    "\n",
    "* MinGW-w64 GCC\n",
    "\n",
    "  MinGW (short for \"Minimalist GNU for Windows\"), is a minimalist (i.e., small but fewer features compared with cygwin) development environment for native Microsoft Windows applications, in particular:\n",
    "   * 1.A port of the GNU Compiler Collection (GCC), including C, C++, ADA and Fortran compilers;\n",
    "   * 2.GNU Binutils for Windows (assembler, linker, archive manager).\n",
    "   * 3.MSYS (short for \"Minimal SYStem\"), is a bash Shell command line interpreter.\n",
    "\n",
    "\n",
    "* To install MinGW-w64:\n",
    "  \n",
    "  * 1.Goto MinGW mother site at https://sourceforge.net/projects/mingw-w64/files/?source=navbar \n",
    "\n",
    "      Downloads x86_64-6.3.0-release-win32-seh \n",
    "\n",
    "      ![MinGW-w64](./img/mingw-w64.jpg) \n",
    "    \n",
    "  * 2.unzip the ziped MinGW-w64 to C:\\mingw64\n",
    "\n",
    "  * 3.Setup **C:\\mingw6\\bin** to PATH  \n",
    "      ```bash\n",
    "      echo off\n",
    "      set PATH=C:\\mingw64\\bin;%PATH%\n",
    "      echo %PATH%\n",
    "      ```\n",
    "\n",
    "   * 4.Verify the GCC installation by listing the version of gcc, g++ and gdb: \n",
    "      ```bash\n",
    "      > gcc --version\n",
    "      > g++ --version\n",
    "      > gdb --version\n",
    "      ```\n"
   ]
  },
  {
   "cell_type": "code",
   "execution_count": null,
   "metadata": {
    "collapsed": true
   },
   "outputs": [],
   "source": [
    "!set PATH=C:\\mingw64\\bin;%PATH%\n",
    "!echo %PATH%"
   ]
  },
  {
   "cell_type": "code",
   "execution_count": null,
   "metadata": {
    "collapsed": true
   },
   "outputs": [],
   "source": [
    "!gcc --version\n",
    "!g++ --version\n",
    "!gdb --version"
   ]
  },
  {
   "cell_type": "markdown",
   "metadata": {},
   "source": [
    "### TDM-GCC\n",
    "\n",
    "A compiler suite for 32- and 64-bit Windows based on the GNU toolchain\n",
    "\n",
    "http://tdm-gcc.tdragon.net/download"
   ]
  },
  {
   "cell_type": "markdown",
   "metadata": {},
   "source": [
    "#### 1.3  Getting Started\n",
    "\n",
    "The GNU C and C++ compiler are gcc and g++, respectively.\n",
    "\n",
    "* **gcc** to compile C program\n",
    "\n",
    "* **g++** to compile C++ program \n",
    "\n",
    "**Compile/Link a Simple C Program - hello.c**\n",
    "\n",
    "Below is the Hello-world C program hello.c:"
   ]
  },
  {
   "cell_type": "code",
   "execution_count": null,
   "metadata": {
    "collapsed": true
   },
   "outputs": [],
   "source": [
    "%%file ./code/gcc/hello.c\n",
    "\n",
    "#include <stdio.h>\n",
    " \n",
    "int main() {\n",
    "    printf(\"C says Hello, world!\\n\");\n",
    "    return 0;\n",
    "}"
   ]
  },
  {
   "cell_type": "markdown",
   "metadata": {},
   "source": [
    "You need to use **gcc** to compile C program：hello.c:"
   ]
  },
  {
   "cell_type": "code",
   "execution_count": null,
   "metadata": {
    "collapsed": true
   },
   "outputs": [],
   "source": [
    "!gcc -o hello ./code/gcc/hello.c"
   ]
  },
  {
   "cell_type": "markdown",
   "metadata": {},
   "source": [
    "To run the program:"
   ]
  },
  {
   "cell_type": "code",
   "execution_count": null,
   "metadata": {
    "collapsed": true
   },
   "outputs": [],
   "source": [
    "!hello"
   ]
  },
  {
   "cell_type": "markdown",
   "metadata": {},
   "source": [
    "* **-o:** specifies the **output** filename.\n"
   ]
  },
  {
   "cell_type": "code",
   "execution_count": null,
   "metadata": {
    "collapsed": true
   },
   "outputs": [],
   "source": [
    "!gcc -o renamehello ./code/gcc/hello.c"
   ]
  },
  {
   "cell_type": "code",
   "execution_count": null,
   "metadata": {
    "collapsed": true
   },
   "outputs": [],
   "source": [
    "!renamehello"
   ]
  },
  {
   "cell_type": "markdown",
   "metadata": {},
   "source": [
    "**Compile/Link a Simple C++ Program - hello.cpp**\n",
    "\n",
    "Below is the Hello-world C++ program hello.cpp:\n"
   ]
  },
  {
   "cell_type": "code",
   "execution_count": null,
   "metadata": {
    "collapsed": true
   },
   "outputs": [],
   "source": [
    "%%file ./code/gcc/hello.cpp\n",
    "\n",
    "#include <iostream>\n",
    "using namespace std;\n",
    " \n",
    "int main() {\n",
    "   cout << \"C++ Hello, world!\" << endl;\n",
    "   return 0;\n",
    "}"
   ]
  },
  {
   "cell_type": "markdown",
   "metadata": {},
   "source": [
    "You need to use **g++** to compile C++ program, as follows "
   ]
  },
  {
   "cell_type": "code",
   "execution_count": null,
   "metadata": {
    "collapsed": true
   },
   "outputs": [],
   "source": [
    "!g++ -o hello.exe ./code/gcc/hello.cpp"
   ]
  },
  {
   "cell_type": "markdown",
   "metadata": {},
   "source": [
    "To run the program:"
   ]
  },
  {
   "cell_type": "code",
   "execution_count": null,
   "metadata": {
    "collapsed": true
   },
   "outputs": [],
   "source": [
    "!hello"
   ]
  },
  {
   "cell_type": "markdown",
   "metadata": {},
   "source": [
    "## 2.  GNU Make\n",
    "\n",
    "The **\"make\"** utility automates the mundane aspects of building executable from source code.\n",
    "\n",
    "**\"make\"** uses a so-called **makefile**, which contains rules on how to build the executables.\n",
    "\n",
    "You can issue \"make --help\" to list the command-line options.\n"
   ]
  },
  {
   "cell_type": "code",
   "execution_count": null,
   "metadata": {
    "collapsed": true
   },
   "outputs": [],
   "source": [
    "!make --help"
   ]
  },
  {
   "cell_type": "markdown",
   "metadata": {},
   "source": [
    "**First Makefile By Example**\n",
    "\n",
    "Let's begin with a simple example to build the Hello-world program (hello.c) into executable (hello.exe) via make utility.\n"
   ]
  },
  {
   "cell_type": "code",
   "execution_count": null,
   "metadata": {
    "collapsed": true
   },
   "outputs": [],
   "source": [
    "%%file ./code/gcc/hello.c\n",
    "\n",
    "#include <stdio.h>\n",
    " \n",
    "int main() {\n",
    "    printf(\"Hello, world!\\n\");\n",
    "    return 0;\n",
    "}"
   ]
  },
  {
   "cell_type": "markdown",
   "metadata": {},
   "source": [
    "Create the following file named **\"makefile\"** which contains rules and save in the same directory as the source file. \n",
    "\n",
    "* without any file extension\n",
    "\n",
    "A makefile consists of a set of rules to build the executable. \n",
    "\n",
    "**A rule** consists of 3 parts:\n",
    "\n",
    "* **a target**, \n",
    "\n",
    "* **a list of pre-requisites** \n",
    "\n",
    "* **a command**\n",
    "\n",
    "as follows:\n",
    "\n",
    " ```bash\n",
    "\n",
    "target: pre-req-1 pre-req-2 ...\n",
    "\t  command\n",
    "\n",
    " ```\n",
    "\n",
    "* The **target** and **pre-requisites** are separated by a colon ** : **.\n",
    "\n",
    "* The **command** must be preceded by **a Tab** (NOT spaces)."
   ]
  },
  {
   "cell_type": "code",
   "execution_count": null,
   "metadata": {
    "collapsed": true
   },
   "outputs": [],
   "source": [
    "%%file makefile\n",
    "\n",
    "all: hello.exe\n",
    "\n",
    "hello.exe: helloobj\n",
    "\t gcc -o hello.exe hello.o\n",
    "\t del hello.o\n",
    "    \n",
    "helloobj: ./code/gcc/hello.c\n",
    "\t gcc -c ./code/gcc/hello.c\n",
    "     \n",
    "clean:\n",
    "\t del hello.exe"
   ]
  },
  {
   "cell_type": "markdown",
   "metadata": {},
   "source": [
    "Running make without argument starts the target **all** in the current **makefile**。\n",
    "\n",
    "* rename `C:\\mingw64\\bin\\mingw32-make.exe` to `C:\\mingw64\\bin\\make.exe`"
   ]
  },
  {
   "cell_type": "code",
   "execution_count": null,
   "metadata": {
    "collapsed": true
   },
   "outputs": [],
   "source": [
    "!make"
   ]
  },
  {
   "cell_type": "code",
   "execution_count": null,
   "metadata": {
    "collapsed": true
   },
   "outputs": [],
   "source": [
    "!hello"
   ]
  },
  {
   "cell_type": "markdown",
   "metadata": {},
   "source": [
    "Running make with **clean** argument, starts the target **clean** in the makefile."
   ]
  },
  {
   "cell_type": "code",
   "execution_count": null,
   "metadata": {
    "collapsed": true
   },
   "outputs": [],
   "source": [
    "!make clean"
   ]
  },
  {
   "cell_type": "markdown",
   "metadata": {},
   "source": [
    "**Specified** FILE as a makefile\n",
    "\n",
    "* -f FILE:  Read FILE as a makefile."
   ]
  },
  {
   "cell_type": "code",
   "execution_count": null,
   "metadata": {
    "collapsed": true
   },
   "outputs": [],
   "source": [
    "%%file ./code/gcc/makefile-gcc\n",
    "\n",
    "all: hello.exe\n",
    "\n",
    "hello.exe: hello.o\n",
    "\t gcc -o hello.exe hello.o\n",
    "\t del hello.o\n",
    "    \n",
    "hello.o: ./code/gcc/hello.c\n",
    "\t gcc -c ./code/gcc/hello.c\n",
    "     \n",
    "clean:\n",
    "\t del hello.exe"
   ]
  },
  {
   "cell_type": "code",
   "execution_count": null,
   "metadata": {
    "collapsed": true
   },
   "outputs": [],
   "source": [
    "!make -f ./code/gcc/makefile-gcc"
   ]
  },
  {
   "cell_type": "code",
   "execution_count": null,
   "metadata": {
    "collapsed": true
   },
   "outputs": [],
   "source": [
    "!hello"
   ]
  },
  {
   "cell_type": "markdown",
   "metadata": {},
   "source": [
    "## 3 Using Shared Library with GCC\n",
    "\n",
    "A **shared library** has file extension of \n",
    "\n",
    "   * **\".so\"** (shared objects) in Unixes\n",
    "   \n",
    "   * **\".dll\"** (dynamic link library) in Windows. \n",
    "\n",
    "   When your program is linked against a shared library, only a small table is created in the executable. Before the executable starts running, **the operating system loads the machine code needed for the external functions** - a process known as **dynamic linking.** \n",
    "\n",
    "    Dynamic linking makes executable files smaller and saves disk space, because one copy of a **library** can be **shared** between multiple programs. \n",
    "\n",
    "   Furthermore, most operating systems allows one copy of a shared library in memory to be used by all running programs, thus, saving memory. \n",
    "\n",
    "   The shared library codes can be upgraded without the need to recompile your program."
   ]
  },
  {
   "cell_type": "markdown",
   "metadata": {},
   "source": [
    "### EXAMPLE: dynamic link library in MinGW-w64\n",
    "\n",
    "**Step 1: Creating a shared library**\n",
    "\n",
    "* header file:funs.h\n",
    "\n",
    "* source file: funs.c"
   ]
  },
  {
   "cell_type": "code",
   "execution_count": null,
   "metadata": {
    "collapsed": true
   },
   "outputs": [],
   "source": [
    "%%file ./code/gcc/funs.h\n",
    "\n",
    "#ifndef FUNS_H\n",
    "#define FUNS_H\n",
    "\n",
    "void hello();\n",
    "double dprod(double *x, int n);\n",
    "\n",
    "#endif"
   ]
  },
  {
   "cell_type": "code",
   "execution_count": null,
   "metadata": {
    "collapsed": true
   },
   "outputs": [],
   "source": [
    "%%file ./code/gcc/funs.c\n",
    "\n",
    "#include \"funs.h\"\n",
    "#include <stdio.h>\n",
    "\n",
    "void hello()\n",
    "{\n",
    "   printf(\"C says Hello world!\\n\");\n",
    "}\n",
    "\n",
    "double dprod(double *x, int n)\n",
    "{\n",
    "    double y = 1.0;\n",
    "    for (int i = 0; i < n; i++)\n",
    "    {\n",
    "        y *= x[i];\n",
    "    }\n",
    "    return y;\n",
    "}"
   ]
  },
  {
   "cell_type": "markdown",
   "metadata": {},
   "source": [
    "**Compile the C file with Position Independent Code（PIC) into a shared library:**"
   ]
  },
  {
   "cell_type": "code",
   "execution_count": null,
   "metadata": {
    "collapsed": true
   },
   "outputs": [],
   "source": [
    "!gcc -c -O3 -Wall -fPIC ./code/gcc/funs.c\n",
    "!gcc -o libfuns.dll -shared funs.o"
   ]
  },
  {
   "cell_type": "markdown",
   "metadata": {},
   "source": [
    "\n",
    "* -c: compile into object file with default name : funs.o.\n",
    "  \n",
    "  * By default, the object file has the same name as the source file with extension of \".o\" \n",
    "  \n",
    "  \n",
    "* -Wall: prints \"all\" warning messages\n",
    "\n",
    "\n",
    "* **-fPIC** : stands for Position Independent Code\n",
    "   \n",
    "   the generated machine code is not dependent on being located at a specific address in order to work.\n",
    "   \n",
    "\n",
    "* -O3: Optimize yet more.\n",
    "       \n",
    "     turns on all optimizations specified by -O2 and also turns on the -finline-functions, -fweb, -frename-registers and -funswitch-loops optionsturns  on  all  optimizations   \n",
    "     \n",
    "\n",
    "* **-shared:** creating a shared library"
   ]
  },
  {
   "cell_type": "markdown",
   "metadata": {},
   "source": [
    "The result is a compiled shared library libfuns.dll"
   ]
  },
  {
   "cell_type": "code",
   "execution_count": null,
   "metadata": {
    "collapsed": true
   },
   "outputs": [],
   "source": [
    "%%file makefile\n",
    "\n",
    "CC=gcc\n",
    "CFLAGS=-O3 -Wall -fPIC -o \n",
    "\n",
    "all: libfuns.dll\n",
    "\n",
    "libfuns.dll: funsobj\n",
    "\t $(CC) -o libfuns.dll -shared funs.o\n",
    "\t del funs.o\n",
    "    \n",
    "funsobj: ./code/gcc/funs.c\n",
    "\t $(CC) -c $(CFLAGS) funs.o ./code/gcc/funs.c\n",
    "     \n",
    "clean:\n",
    "\t del libfuns.dll"
   ]
  },
  {
   "cell_type": "code",
   "execution_count": null,
   "metadata": {
    "collapsed": true
   },
   "outputs": [],
   "source": [
    "!make"
   ]
  },
  {
   "cell_type": "code",
   "execution_count": null,
   "metadata": {
    "collapsed": true
   },
   "outputs": [],
   "source": [
    "!make clean"
   ]
  },
  {
   "cell_type": "markdown",
   "metadata": {},
   "source": [
    "### Step2 Using Shared Library"
   ]
  },
  {
   "cell_type": "markdown",
   "metadata": {},
   "source": [
    "#### Header Files and Libraries\n",
    "\n",
    "When compiling the program, the **compiler** needs the **header** files to compile the source codes;\n",
    "\n",
    "the **linker** needs the **libraries** to resolve external references from other object files or libraries. \n",
    "\n",
    "The compiler and linker will not find the headers/libraries unless you set **the appropriate options**\n",
    "\n",
    "* **Searching for Header Files**\n",
    "\n",
    "   The include-paths are specified via **-Idir** option (uppercase 'I' followed by the directory path or environment variable **CPATH**). \n",
    "   \n",
    "   \n",
    "* **Searching for libraries Files**\n",
    "\n",
    "   The library-path is specified via **-Ldir** option (uppercase 'L' followed by the directory path(or environment variable **LIBRARY_PATH**). "
   ]
  },
  {
   "cell_type": "code",
   "execution_count": null,
   "metadata": {
    "collapsed": true
   },
   "outputs": [],
   "source": [
    "%%file ./code/gcc/mainfuns.c\n",
    "\n",
    "#include <stdio.h>\n",
    "#include \"funs.h\"\n",
    " \n",
    "int main() {\n",
    "    hello();\n",
    "    double x[5]={1.0,2.0,3.0,4.0,5.0};\n",
    "    int n=5;\n",
    "    double r=dprod(x,n);\n",
    "    printf(\"dprod %.2f \",r);\n",
    "    return 0;\n",
    "}"
   ]
  },
  {
   "cell_type": "markdown",
   "metadata": {},
   "source": [
    "### Linking with a shared library\n",
    "   \n",
    "   GCC assumes that all libraries **start** with **lib** and end with **.dll**(windows) or **.so**(Linux)，so, libfuns.dll:\n",
    "    \n",
    "* -L./ -lfuns"
   ]
  },
  {
   "cell_type": "code",
   "execution_count": null,
   "metadata": {
    "collapsed": true
   },
   "outputs": [],
   "source": [
    "!gcc -c -o mainfuns.o ./code/gcc/mainfuns.c \n",
    "!gcc -o  mainfuns.exe mainfuns.o -I./code/gcc -L./ -lfuns"
   ]
  },
  {
   "cell_type": "code",
   "execution_count": null,
   "metadata": {
    "collapsed": true
   },
   "outputs": [],
   "source": [
    "!mainfuns"
   ]
  },
  {
   "cell_type": "code",
   "execution_count": null,
   "metadata": {
    "collapsed": true
   },
   "outputs": [],
   "source": [
    "%%file makefile\n",
    "\n",
    "all: mainfuns.exe\n",
    "\n",
    "clean:\n",
    "\tdel mainfuns.exe\n",
    "\n",
    "mainfuns.exe: mainfuns.o ./code/gcc/funs.h \n",
    "\tgcc -o mainfuns mainfuns.o -I./code/gcc -L./ -lfuns\n",
    "\tdel *.o\n",
    "\n",
    "mainfuns.o: ./code/gcc/mainfuns.c \n",
    "\tgcc -c ./code/gcc/mainfuns.c \n"
   ]
  },
  {
   "cell_type": "code",
   "execution_count": null,
   "metadata": {
    "collapsed": true
   },
   "outputs": [],
   "source": [
    "!make"
   ]
  },
  {
   "cell_type": "code",
   "execution_count": null,
   "metadata": {
    "collapsed": true
   },
   "outputs": [],
   "source": [
    "!mainfuns"
   ]
  },
  {
   "cell_type": "code",
   "execution_count": null,
   "metadata": {
    "collapsed": true
   },
   "outputs": [],
   "source": [
    "!make clean"
   ]
  },
  {
   "cell_type": "markdown",
   "metadata": {},
   "source": [
    "## 4. Development Environment for Windows\n",
    "\n",
    "### 4.1 Visual Studio Code for C/C++ Programming\n",
    "\n",
    "A program editor (or source code editor) is programming language sensitive and context-aware. \n",
    "It highlights the syntax elements of your programs; and provides many features that aid in your program development (such as auto-complete, compile/build/run, help menu, etc.). \n",
    "\n",
    "It is important to use a mono-space font (such as \"Courier New\", \"Consola\") for programming, so that the columns are properly aligned.\n",
    "\n",
    "Visual Studio Code https://code.visualstudio.com/  is a lightweight but powerful source code editor which runs on your desktop and is available for Windows, Mac and Linux. It comes with built-in support for JavaScript, TypeScript and Node.js and has a rich ecosystem of extensions for other languages (such as C++, C#, Python, PHP, Go) and runtimes.\n",
    "\n",
    "**C/C++ for VS Code** : https://code.visualstudio.com/docs/languages/cpp\n",
    "\n",
    "For full-scale software development, you should use an appropriate IDE (Integrated Development Environment).\n",
    "\n",
    "###  4.2 Eclipse for C/C++ Programming\n",
    "\n",
    "Eclipse is an open-source Integrated Development Environment (IDE) supported by IBM. The mother site is http://www.eclipse.org.\n",
    "\n",
    "Eclipse is popular for Java project development. It also supports C/C++, PHP, Python, Perl, and other web project developments via extensible plug-ins. Eclipse is cross-platform and runs under Windows, Linux and Mac OS.\n"
   ]
  },
  {
   "cell_type": "markdown",
   "metadata": {},
   "source": [
    "## Reference\n",
    "\n",
    "* MinGW-W64 (GCC) Compiler Suite: https://sourceforge.net/projects/mingw-w64/files/\n",
    "\n",
    "* GCC for Windows 64 & 32 bits：http://mingw-w64.org/\n",
    "\n",
    "* GCC (GNU compilers) http://gcc.gnu.org\n",
    "\n",
    "* GCC Manual  http://gcc.gnu.org/onlinedocs\n",
    "\n",
    "* An Introduction to GCC  http://www.network-theory.co.uk/docs/gccintro/index.html.\n",
    "\n",
    "* GCC and Make：Compiling, Linking and Building C/C++ Applications http://www3.ntu.edu.sg/home/ehchua/programming/cpp/gcc_make.html\n",
    "\n",
    "* Eclipse 4.3 (Kepler) for C/C++ Programming http://www3.ntu.edu.sg/home/ehchua/programming/howto/EclipseCpp_HowTo.html\n",
    "\n",
    "* Eclipse's \"C/C++ Development Tool User Guide\", accessible via Eclipse's Help menu\n",
    "\n",
    "* Simple Unit Testing for C：https://github.com/ThrowTheSwitch/Unity\n",
    "\n",
    "* How to C https://matt.sh/howto-c\n",
    "\n"
   ]
  }
 ],
 "metadata": {
  "kernelspec": {
   "display_name": "Python 3",
   "language": "python",
   "name": "python3"
  },
  "language_info": {
   "codemirror_mode": {
    "name": "ipython",
    "version": 3
   },
   "file_extension": ".py",
   "mimetype": "text/x-python",
   "name": "python",
   "nbconvert_exporter": "python",
   "pygments_lexer": "ipython3",
   "version": "3.5.2"
  }
 },
 "nbformat": 4,
 "nbformat_minor": 1
}
