{
 "cells": [
  {
   "cell_type": "markdown",
   "metadata": {
    "deletable": true,
    "editable": true
   },
   "source": [
    "# Using C Shared Library with Python"
   ]
  },
  {
   "cell_type": "markdown",
   "metadata": {
    "deletable": true,
    "editable": true
   },
   "source": [
    "The advantage of Python is that it is **flexible and easy** to program. The time it takes to setup a new calulation is therefore short. But for certain types of calculations Python (and any other interpreted language) can be **very slow**. It is particularly iterations over large arrays that is difficult to do efficiently.\n",
    "\n",
    "Such calculations may be implemented in a compiled language such as C or Fortran. In Python it is relatively easy to call out to libraries with compiled C or Fortran code. \n",
    "\n",
    "But before we go ahead and work on optimizing anything, it is always worthwhile to ask.... "
   ]
  },
  {
   "cell_type": "code",
   "execution_count": null,
   "metadata": {
    "collapsed": false,
    "deletable": true,
    "editable": true
   },
   "outputs": [],
   "source": [
    "import seuif97\n",
    "%timeit seuif97.pt2h(15,535)"
   ]
  },
  {
   "cell_type": "code",
   "execution_count": null,
   "metadata": {
    "collapsed": false,
    "deletable": true,
    "editable": true
   },
   "outputs": [],
   "source": [
    "from iapws.iapws97 import IAPWS97\n",
    "%timeit IAPWS97(P=16.10,T=535.10).h"
   ]
  },
  {
   "cell_type": "markdown",
   "metadata": {
    "deletable": true,
    "editable": true
   },
   "source": [
    "* Algorithm of the High-speed IAPWS-IF97 Library: \n",
    "\n",
    "   * 王培红,贾俊颖,程懋华. 水和水蒸汽热力性质IAPWS_IF97公式的通用计算模型[J]. 动力工程. 2001 21(6)：1564-1567(EI)\n",
    "     * The **slowest** run took xxx.xx times **longer** than the **fastest**. This could mean that an **intermediate result** is being **cached.**\n"
   ]
  },
  {
   "cell_type": "markdown",
   "metadata": {
    "deletable": true,
    "editable": true
   },
   "source": [
    "## C/C++ Programing with GCC(for Windows)\n",
    "\n",
    "### 1. GCC: GNU Compiler Collection\n",
    "\n",
    "#### 1.1 A Brief History and Introduction to GCC\n",
    "\n",
    "* The original GNU C Compiler (GCC) is developed by Richard Stallman, the founder of the GNU Project. Richard Stallman founded the GNU project in 1984 to create a complete Unix-like operating system as free software, to promote freedom and cooperation among computer users and programmers.\n",
    "\n",
    "  GCC, formerly for \"GNU C Compiler\", has grown over times to support many languages such as C++, Objective-C, Java, Fortran and Ada. It is now referred to as \"GNU Compiler Collection\". \n",
    "  The mother site for GCC is **http://gcc.gnu.org/**.\n",
    "\n",
    "  GCC is a key component of \"GNU Toolchain\", for developing applications, as well as operating systems. \n",
    "\n",
    "  GCC is portable and run in many operating platforms. GCC (and GNU Toolchain) is currently available on all Unixes. They are also ported to Windows by MinGW and Cygwin. GCC is also a cross-compiler, for producing executables on different platform.\n",
    "\n",
    "#### 1.2  Installing MinGW GCC\n",
    "\n",
    "GCC (GNU Toolchain) is included in all Unixes. For Windows, you could either install **MinGW GCC** or **Cygwin GCC**.\n",
    "\n",
    "* MinGW-w64 GCC\n",
    "\n",
    "  MinGW (short for \"Minimalist GNU for Windows\"), is a minimalist (i.e., small but fewer features compared with cygwin) development environment for native Microsoft Windows applications, in particular:\n",
    "   * 1.A port of the GNU Compiler Collection (GCC), including C, C++, ADA and Fortran compilers;\n",
    "   * 2.GNU Binutils for Windows (assembler, linker, archive manager).\n",
    "   * 3.MSYS (short for \"Minimal SYStem\"), is a bash Shell command line interpreter.\n",
    "\n",
    "\n",
    "* To install MinGW-w64:\n",
    "  \n",
    "  * 1.Goto MinGW mother site at https://sourceforge.net/projects/mingw-w64/files/?source=navbar \n",
    "\n",
    "      Downloads x86_64-6.3.0-release-win32-seh \n",
    "\n",
    "      ![MinGW-w64](./img/mingw-w64.jpg) \n",
    "    \n",
    "  * 2.unzip the ziped MinGW-w64 to C:\\mingw64\n",
    "\n",
    "  * 3.Setup **C:\\mingw6\\bin** to PATH  \n",
    "      ```bash\n",
    "      echo off\n",
    "      set PATH=C:\\mingw64\\bin;%PATH%\n",
    "      echo %PATH%\n",
    "      ```\n",
    "\n",
    "   * 4.Verify the GCC installation by listing the version of gcc, g++ and gdb: \n",
    "      ```bash\n",
    "      > gcc --version\n",
    "      > g++ --version\n",
    "      > gdb --version\n",
    "      ```\n"
   ]
  },
  {
   "cell_type": "code",
   "execution_count": null,
   "metadata": {
    "collapsed": false,
    "deletable": true,
    "editable": true
   },
   "outputs": [],
   "source": [
    "!set PATH=C:\\mingw64\\bin;%PATH%\n",
    "!echo %PATH%"
   ]
  },
  {
   "cell_type": "code",
   "execution_count": null,
   "metadata": {
    "collapsed": false,
    "deletable": true,
    "editable": true
   },
   "outputs": [],
   "source": [
    "!gcc --version\n",
    "!g++ --version\n",
    "!gdb --version"
   ]
  },
  {
   "cell_type": "markdown",
   "metadata": {
    "deletable": true,
    "editable": true
   },
   "source": [
    "### 1.3  Getting Started\n",
    "\n",
    "The GNU C and C++ compiler are gcc and g++, respectively.\n",
    "\n",
    "**Compile/Link a Simple C Program - hello.c**\n",
    "\n",
    "Below is the Hello-world C program hello.c:\n"
   ]
  },
  {
   "cell_type": "code",
   "execution_count": null,
   "metadata": {
    "collapsed": false,
    "deletable": true,
    "editable": true
   },
   "outputs": [],
   "source": [
    "%%file hello.c\n",
    "\n",
    "#include <stdio.h>\n",
    " \n",
    "int main() {\n",
    "    printf(\"C says Hello, world!\\n\");\n",
    "    return 0;\n",
    "}"
   ]
  },
  {
   "cell_type": "markdown",
   "metadata": {
    "deletable": true,
    "editable": true
   },
   "source": [
    "To compile the hello.c:"
   ]
  },
  {
   "cell_type": "code",
   "execution_count": null,
   "metadata": {
    "collapsed": false,
    "deletable": true,
    "editable": true
   },
   "outputs": [],
   "source": [
    "!gcc -o hello.exe hello.c"
   ]
  },
  {
   "cell_type": "markdown",
   "metadata": {
    "deletable": true,
    "editable": true
   },
   "source": [
    "To run the program:"
   ]
  },
  {
   "cell_type": "code",
   "execution_count": null,
   "metadata": {
    "collapsed": false,
    "deletable": true,
    "editable": true
   },
   "outputs": [],
   "source": [
    "!hello"
   ]
  },
  {
   "cell_type": "markdown",
   "metadata": {
    "deletable": true,
    "editable": true
   },
   "source": [
    "**Compile/Link a Simple C++ Program - hello.cpp**\n",
    "\n",
    "Below is the Hello-world C++ program hello.cpp:\n"
   ]
  },
  {
   "cell_type": "code",
   "execution_count": null,
   "metadata": {
    "collapsed": false,
    "deletable": true,
    "editable": true
   },
   "outputs": [],
   "source": [
    "%%file hello.cpp\n",
    "\n",
    "#include <iostream>\n",
    "using namespace std;\n",
    " \n",
    "int main() {\n",
    "   cout << \"C++ Hello, world!\" << endl;\n",
    "   return 0;\n",
    "}"
   ]
  },
  {
   "cell_type": "markdown",
   "metadata": {
    "deletable": true,
    "editable": true
   },
   "source": [
    "You need to use g++ to compile C++ program, as follows. We use the -o option to specify the output file name.\n"
   ]
  },
  {
   "cell_type": "code",
   "execution_count": null,
   "metadata": {
    "collapsed": false,
    "deletable": true,
    "editable": true
   },
   "outputs": [],
   "source": [
    "!g++ -o hello.exe hello.cpp"
   ]
  },
  {
   "cell_type": "markdown",
   "metadata": {
    "deletable": true,
    "editable": true
   },
   "source": [
    "To run the program:"
   ]
  },
  {
   "cell_type": "code",
   "execution_count": null,
   "metadata": {
    "collapsed": false,
    "deletable": true,
    "editable": true
   },
   "outputs": [],
   "source": [
    "!hello"
   ]
  },
  {
   "cell_type": "markdown",
   "metadata": {
    "deletable": true,
    "editable": true
   },
   "source": [
    "## 2.  GNU Make\n",
    "\n",
    "The **\"make\"** utility automates the mundane aspects of building executable from source code. **\"make\"** uses a so-called **makefile**, which contains rules on how to build the executables.\n",
    "\n",
    "You can issue \"make --help\" to list the command-line options.\n"
   ]
  },
  {
   "cell_type": "code",
   "execution_count": null,
   "metadata": {
    "collapsed": false,
    "deletable": true,
    "editable": true
   },
   "outputs": [],
   "source": [
    "!make --help"
   ]
  },
  {
   "cell_type": "markdown",
   "metadata": {
    "deletable": true,
    "editable": true
   },
   "source": [
    "**First Makefile By Example**\n",
    "\n",
    "Let's begin with a simple example to build the Hello-world program (hello.c) into executable (hello.exe) via make utility.\n"
   ]
  },
  {
   "cell_type": "code",
   "execution_count": null,
   "metadata": {
    "collapsed": false,
    "deletable": true,
    "editable": true
   },
   "outputs": [],
   "source": [
    "%%file hello.c\n",
    "\n",
    "#include <stdio.h>\n",
    " \n",
    "int main() {\n",
    "    printf(\"Hello, world!\\n\");\n",
    "    return 0;\n",
    "}\n"
   ]
  },
  {
   "cell_type": "markdown",
   "metadata": {
    "deletable": true,
    "editable": true
   },
   "source": [
    "Create the following file named **\"makefile\"** (without any file extension), which contains rules to build the executable, and save in the same directory as the source file. Use **\"tab\"** to indent the command (NOT spaces).\n",
    "\n",
    "A makefile consists of a set of rules. A rule consists of 3 parts:**a target**, **a list of pre-requisites** and **a command**, as follows:\n",
    "\n",
    " ```bash\n",
    "\n",
    "target: pre-req-1 pre-req-2 ...\n",
    "\t  command\n",
    "\n",
    " ```\n",
    "The target and pre-requisites are separated by **a colon (:)**. The command must be preceded by **a tab** (NOT spaces)."
   ]
  },
  {
   "cell_type": "code",
   "execution_count": null,
   "metadata": {
    "collapsed": false,
    "deletable": true,
    "editable": true
   },
   "outputs": [],
   "source": [
    "%%file makefile\n",
    "\n",
    "all: hello.exe\n",
    "\n",
    "hello.exe: hello.o\n",
    "\t gcc -o hello.exe hello.o\n",
    "\n",
    "hello.o: hello.c\n",
    "\t gcc -c hello.c\n",
    "     \n",
    "clean:\n",
    "\t rm hello.o hello.exe"
   ]
  },
  {
   "cell_type": "markdown",
   "metadata": {
    "deletable": true,
    "editable": true
   },
   "source": [
    "Run the \"make\" utility as follows:\n",
    " \n",
    " * rename `C:\\mingw64\\bin\\mingw32-make.exe` to `C:\\mingw64\\bin\\make.exe`\n",
    " \n",
    "Running make without argument starts the target \"all\" in the makefile.\n",
    " "
   ]
  },
  {
   "cell_type": "code",
   "execution_count": null,
   "metadata": {
    "collapsed": false,
    "deletable": true,
    "editable": true
   },
   "outputs": [],
   "source": [
    "!make"
   ]
  },
  {
   "cell_type": "code",
   "execution_count": null,
   "metadata": {
    "collapsed": false,
    "deletable": true,
    "editable": true
   },
   "outputs": [],
   "source": [
    "!hello"
   ]
  },
  {
   "cell_type": "markdown",
   "metadata": {
    "deletable": true,
    "editable": true
   },
   "source": [
    "## ctypes"
   ]
  },
  {
   "cell_type": "markdown",
   "metadata": {
    "deletable": true,
    "editable": true
   },
   "source": [
    "ctypes is a Python library for calling out to C code. We manually need to load the library and set properties such as the functions return and argument types. On the otherhand we do not need to touch the C code at all. "
   ]
  },
  {
   "cell_type": "code",
   "execution_count": null,
   "metadata": {
    "collapsed": false,
    "deletable": true,
    "editable": true
   },
   "outputs": [],
   "source": [
    "%%file funs.c\n",
    "\n",
    "#include <stdio.h>\n",
    "\n",
    "void hello(int n);\n",
    "double dprod(double *x, int n);\n",
    "void dcumsum(double *a, double *b, int n);\n",
    "\n",
    "void hello(int n)\n",
    "{\n",
    "    for (int i = 0; i < n; i++)\n",
    "    {\n",
    "        printf(\"C says Hello world!\\n\");\n",
    "    }\n",
    "}\n",
    "\n",
    "double dprod(double *x, int n)\n",
    "{\n",
    "    double y = 1.0;\n",
    "    for (int i = 0; i < n; i++)\n",
    "    {\n",
    "        y *= x[i];\n",
    "    }\n",
    "    return y;\n",
    "}\n",
    "\n",
    "void dcumsum(double *a, double *b, int n)\n",
    "{\n",
    "    b[0] = a[0];\n",
    "    for (int i = 1; i < n; i++)\n",
    "    {\n",
    "        b[i] = a[i] + b[i-1];\n",
    "    }\n",
    "}"
   ]
  },
  {
   "cell_type": "markdown",
   "metadata": {
    "deletable": true,
    "editable": true
   },
   "source": [
    "Compile the C file into a shared library:"
   ]
  },
  {
   "cell_type": "code",
   "execution_count": null,
   "metadata": {
    "collapsed": false,
    "deletable": true,
    "editable": true
   },
   "outputs": [],
   "source": [
    "!gcc -c -O3 -Wall -fPIC -o funs.o funs.c\n",
    "!gcc -o libfuns.dll -shared funs.o"
   ]
  },
  {
   "cell_type": "markdown",
   "metadata": {
    "deletable": true,
    "editable": true
   },
   "source": [
    "The result is a compiled shared library `libfuns.dll`"
   ]
  },
  {
   "cell_type": "markdown",
   "metadata": {
    "deletable": true,
    "editable": true
   },
   "source": [
    "Now we need to write wrapper functions to access the C library: \n",
    "\n",
    "* To load the library we use the **ctypes** package, which included in the Python standard library (with extensions from numpy for passing arrays to C). \n",
    "\n",
    "* Then we manually set the types of the argument and return values (no automatic code inspection here!). "
   ]
  },
  {
   "cell_type": "code",
   "execution_count": null,
   "metadata": {
    "collapsed": false,
    "deletable": true,
    "editable": true
   },
   "outputs": [],
   "source": [
    "%%file funs.py\n",
    "\n",
    "from ctypes import c_int, c_double,c_void_p\n",
    "import numpy as np\n",
    "\n",
    "_libfuns = np.ctypeslib.load_library('libfuns', '.')\n",
    "\n",
    "_libfuns.hello.argtypes = [c_int]\n",
    "_libfuns.hello.restype  =  c_void_p\n",
    "\n",
    "_libfuns.dprod.argtypes = [np.ctypeslib.ndpointer(dtype=np.float), c_int]\n",
    "_libfuns.dprod.restype  = c_double\n",
    "\n",
    "_libfuns.dcumsum.argtypes = [np.ctypeslib.ndpointer(dtype=np.float), np.ctypeslib.ndpointer(dtype=np.float),c_int]\n",
    "_libfuns.dcumsum.restype  = c_void_p\n",
    "\n",
    "def hello(n):\n",
    "    return _libfuns.hello(int(n))\n",
    "\n",
    "def dprod(x, n=None):\n",
    "    if n is None:\n",
    "        n = len(x)\n",
    "    x = np.asarray(x, dtype=np.float)\n",
    "    return _libfuns.dprod(x, int(n))\n",
    "\n",
    "def dcumsum(a, n):\n",
    "    a = np.asarray(a, dtype=np.float)\n",
    "    b = np.empty(len(a), dtype=np.float)\n",
    "    _libfuns.dcumsum(a, b, int(n))\n",
    "    return b"
   ]
  },
  {
   "cell_type": "code",
   "execution_count": null,
   "metadata": {
    "collapsed": false,
    "deletable": true,
    "editable": true
   },
   "outputs": [],
   "source": [
    "%%file run_hello_c.py\n",
    "\n",
    "import funs\n",
    "funs.hello(3)"
   ]
  },
  {
   "cell_type": "code",
   "execution_count": null,
   "metadata": {
    "collapsed": false,
    "deletable": true,
    "editable": true
   },
   "outputs": [],
   "source": [
    "!python run_hello_c.py"
   ]
  },
  {
   "cell_type": "markdown",
   "metadata": {
    "deletable": true,
    "editable": true
   },
   "source": [
    "### Product function:"
   ]
  },
  {
   "cell_type": "code",
   "execution_count": null,
   "metadata": {
    "collapsed": false,
    "deletable": true,
    "editable": true
   },
   "outputs": [],
   "source": [
    "import funs\n",
    "funs.dprod([1,2,3,4,5]) "
   ]
  },
  {
   "cell_type": "markdown",
   "metadata": {
    "deletable": true,
    "editable": true
   },
   "source": [
    "### Cummulative sum:"
   ]
  },
  {
   "cell_type": "code",
   "execution_count": null,
   "metadata": {
    "collapsed": false,
    "deletable": true,
    "editable": true
   },
   "outputs": [],
   "source": [
    "import funs\n",
    "a=[1,2,3,4,5]\n",
    "result = funs.dcumsum(a, len(a)) \n",
    "print(result)"
   ]
  },
  {
   "cell_type": "markdown",
   "metadata": {
    "deletable": true,
    "editable": true
   },
   "source": [
    "### Further reading"
   ]
  },
  {
   "cell_type": "markdown",
   "metadata": {
    "deletable": true,
    "editable": true
   },
   "source": [
    "* http://docs.python.org/3/library/ctypes.html\n",
    "* http://www.scipy.org/Cookbook/Ctypes"
   ]
  }
 ],
 "metadata": {
  "kernelspec": {
   "display_name": "Python 3",
   "language": "python",
   "name": "python3"
  },
  "language_info": {
   "codemirror_mode": {
    "name": "ipython",
    "version": 3
   },
   "file_extension": ".py",
   "mimetype": "text/x-python",
   "name": "python",
   "nbconvert_exporter": "python",
   "pygments_lexer": "ipython3",
   "version": "3.5.2"
  }
 },
 "nbformat": 4,
 "nbformat_minor": 0
}
