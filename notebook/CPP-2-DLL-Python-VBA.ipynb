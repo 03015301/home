{
 "cells": [
  {
   "cell_type": "markdown",
   "metadata": {},
   "source": [
    "# C/C++ DLL using MinGW-w64 with Python and Excel VBA\n"
   ]
  },
  {
   "cell_type": "markdown",
   "metadata": {},
   "source": [
    "## 1 Using C/C++ DLL with Python"
   ]
  },
  {
   "cell_type": "markdown",
   "metadata": {},
   "source": [
    "The advantage of Python is that it is **flexible and easy** to program. The time it takes to setup a new calulation is therefore short. But for certain types of calculations Python (and any other interpreted language) can be **very slow**. It is particularly iterations over large arrays that is difficult to do efficiently.\n",
    "\n",
    "Such calculations may be implemented in a compiled language such as C or Fortran. In Python it is relatively easy to call out to libraries with compiled C or Fortran code. \n",
    "\n",
    "But before we go ahead and work on optimizing anything, it is always worthwhile to ask.... "
   ]
  },
  {
   "cell_type": "code",
   "execution_count": null,
   "metadata": {
    "collapsed": true
   },
   "outputs": [],
   "source": [
    "import seuif97\n",
    "%timeit seuif97.pt2h(15,535)"
   ]
  },
  {
   "cell_type": "code",
   "execution_count": null,
   "metadata": {
    "collapsed": true
   },
   "outputs": [],
   "source": [
    "from iapws.iapws97 import IAPWS97\n",
    "%timeit IAPWS97(P=16.10,T=535.10).h"
   ]
  },
  {
   "cell_type": "markdown",
   "metadata": {},
   "source": [
    "## ctypes"
   ]
  },
  {
   "cell_type": "markdown",
   "metadata": {},
   "source": [
    "ctypes is a Python library for calling out to C code.\n",
    "\n",
    "We manually need to load the library and set properties such as the functions return and argument types.\n",
    "\n",
    "On the otherhand we do not need to touch the C code at all. "
   ]
  },
  {
   "cell_type": "code",
   "execution_count": 11,
   "metadata": {},
   "outputs": [
    {
     "name": "stdout",
     "output_type": "stream",
     "text": [
      "Writing funs.c\n"
     ]
    }
   ],
   "source": [
    "%%file funs.c\n",
    "\n",
    "#include <stdio.h>\n",
    "\n",
    "void hello();\n",
    "double dprod(double *x, int n);\n",
    "\n",
    "void hello()\n",
    "{\n",
    "   printf(\"C says Hello world!\\n\");\n",
    "}\n",
    "\n",
    "double dprod(double *x, int n)\n",
    "{\n",
    "    double y = 1.0;\n",
    "    for (int i = 0; i < n; i++)\n",
    "    {\n",
    "        y *= x[i];\n",
    "    }\n",
    "    return y;\n",
    "}"
   ]
  },
  {
   "cell_type": "markdown",
   "metadata": {},
   "source": [
    "Compile the C file into a shared library:"
   ]
  },
  {
   "cell_type": "code",
   "execution_count": 12,
   "metadata": {
    "collapsed": true
   },
   "outputs": [],
   "source": [
    "!gcc -c -O3 -Wall -fPIC -o funs.o funs.c\n",
    "!gcc -o libfuns.dll -shared funs.o"
   ]
  },
  {
   "cell_type": "code",
   "execution_count": 13,
   "metadata": {},
   "outputs": [
    {
     "name": "stdout",
     "output_type": "stream",
     "text": [
      "Overwriting makefile\n"
     ]
    }
   ],
   "source": [
    "%%file makefile\n",
    "\n",
    "CC=gcc\n",
    "CFLAGS=-O3 -Wall -fPIC -o \n",
    "\n",
    "all: libfuns.dll\n",
    "\n",
    "libfuns.dll: funsobj\n",
    "\t $(CC) -o libfuns.dll -shared funs.o\n",
    "\t del funs.o\n",
    "    \n",
    "funsobj: ./code/gcc/funs.c\n",
    "\t $(CC) -c $(CFLAGS) funs.o ./code/gcc/funs.c\n",
    "     \n",
    "clean:\n",
    "\t del libfuns.dll"
   ]
  },
  {
   "cell_type": "code",
   "execution_count": 14,
   "metadata": {},
   "outputs": [
    {
     "name": "stdout",
     "output_type": "stream",
     "text": [
      "gcc -c -O3 -Wall -fPIC -o  funs.o ./code/gcc/funs.c\n",
      "gcc -o libfuns.dll -shared funs.o\n",
      "del funs.o\n"
     ]
    }
   ],
   "source": [
    "!make"
   ]
  },
  {
   "cell_type": "markdown",
   "metadata": {},
   "source": [
    "The result is a compiled shared library `libfuns.dll`"
   ]
  },
  {
   "cell_type": "markdown",
   "metadata": {},
   "source": [
    "Now we need to write wrapper functions to access the C library: \n",
    "\n",
    "* To load the library we use the **ctypes** package, which included in the Python standard library (with extensions from numpy for passing arrays to C). \n",
    "\n",
    "* Then we manually set the types of the argument and return values. \n",
    "\n",
    "   * cdll.LoadLibrary\n",
    "\n",
    "   * .argtypes\n",
    "\n",
    "   * .restype"
   ]
  },
  {
   "cell_type": "code",
   "execution_count": 15,
   "metadata": {},
   "outputs": [
    {
     "name": "stdout",
     "output_type": "stream",
     "text": [
      "Writing funs.py\n"
     ]
    }
   ],
   "source": [
    "%%file funs.py\n",
    "\n",
    "from ctypes import c_int, c_double,c_void_p,cdll\n",
    "import numpy as np\n",
    "\n",
    "_lib = cdll.LoadLibrary('libfuns.dll')\n",
    "#_lib = np.ctypeslib.load_library('libfuns', '.')\n",
    "\n",
    "_lib.hello.argtypes = []\n",
    "_lib.hello.restype  =  c_void_p\n",
    "\n",
    "_lib.dprod.argtypes = [np.ctypeslib.ndpointer(dtype=np.float), c_int]\n",
    "_lib.dprod.restype  = c_double\n",
    "\n",
    "def hello():\n",
    "    return _lib.hello()\n",
    "\n",
    "def dprod(x):\n",
    "    n = len(x)\n",
    "    x = np.asarray(x, dtype=np.float)\n",
    "    return _lib.dprod(x, int(n))"
   ]
  },
  {
   "cell_type": "code",
   "execution_count": 19,
   "metadata": {},
   "outputs": [
    {
     "name": "stdout",
     "output_type": "stream",
     "text": [
      "Overwriting run_hello_c.py\n"
     ]
    }
   ],
   "source": [
    "%%file run_hello_c.py\n",
    "\n",
    "import funs\n",
    "funs.hello()"
   ]
  },
  {
   "cell_type": "code",
   "execution_count": 20,
   "metadata": {},
   "outputs": [
    {
     "name": "stdout",
     "output_type": "stream",
     "text": [
      "C says Hello world!\n"
     ]
    }
   ],
   "source": [
    "!python run_hello_c.py"
   ]
  },
  {
   "cell_type": "markdown",
   "metadata": {},
   "source": [
    "### Product function:"
   ]
  },
  {
   "cell_type": "code",
   "execution_count": 24,
   "metadata": {},
   "outputs": [
    {
     "data": {
      "text/plain": [
       "720.0"
      ]
     },
     "execution_count": 24,
     "metadata": {},
     "output_type": "execute_result"
    }
   ],
   "source": [
    "import funs\n",
    "funs.dprod([2,3,4,5,6]) "
   ]
  },
  {
   "cell_type": "markdown",
   "metadata": {},
   "source": [
    "## 2 C/C++ DLL using MinGW-w64 for Visual Basic Application with Excel\n",
    "\n",
    "  For Visual Basic applications (or applications in other languages such as Pascal or Fortran) to call functions in a C/C++ DLL, the functions must be exported using the correct calling convention without any name decoration done by the compiler.\n",
    "  \n",
    "*  `__stdcall` creates the correct calling convention for the function (the called function cleans up the stack and parameters are passed from right to left)\n",
    "\n",
    "* ` __declspec(dllexport)` is used on an exported function in a DLL\n",
    "\n",
    "Below is the example of techniques which facilitate the use of use of MinGW to create DLLs, exporting functions which may be called from Visual Basic Application with Excel. "
   ]
  },
  {
   "cell_type": "markdown",
   "metadata": {},
   "source": [
    "#### Step 1: Create your DLL.\n",
    "\n",
    "VBA can only call `__stdcall` functions, not `__cdecl` functions. So we must export all our functions as `__stdcall`. \n",
    "\n",
    "Create a DLL with the following code:\n",
    "\n",
    "* mathfuns.h\n",
    "\n",
    "* mathfuns.c"
   ]
  },
  {
   "cell_type": "code",
   "execution_count": 21,
   "metadata": {},
   "outputs": [
    {
     "name": "stdout",
     "output_type": "stream",
     "text": [
      "Overwriting ./code/gcc/mathfuns.h\n"
     ]
    }
   ],
   "source": [
    "%%file ./code/gcc/mathfuns.h\n",
    "\n",
    "#ifdef BUILD_DLL\n",
    "#define DLLPORT __declspec(dllexport)\n",
    "#else\n",
    "#define DLLPORT __declspec(dllimport)\n",
    "#endif\n",
    "\n",
    "DLLPORT int __stdcall iadd(int a,int b);\n",
    "DLLPORT float __stdcall fmult(float a, float b);"
   ]
  },
  {
   "cell_type": "markdown",
   "metadata": {},
   "source": [
    "When you create header files for your DLLs, use\n",
    "\n",
    "* ` __declspec(dllexport) ` adds the export directive to the object fileworks\n",
    "\n",
    "* ` __declspec(dllimport)`  on the declarations of the public symbols"
   ]
  },
  {
   "cell_type": "code",
   "execution_count": 22,
   "metadata": {},
   "outputs": [
    {
     "name": "stdout",
     "output_type": "stream",
     "text": [
      "Overwriting ./code/gcc/mathfuns.c\n"
     ]
    }
   ],
   "source": [
    "%%file ./code/gcc/mathfuns.c\n",
    "\n",
    "#include \"mathfuns.h\"\n",
    "\n",
    "int iadd(int a,int b){\n",
    "   return a+b;\n",
    "}\n",
    "\n",
    "float fmult(float a, float b){\n",
    "   float product;\n",
    "   product = a *b;\n",
    "   return product;\n",
    "}"
   ]
  },
  {
   "cell_type": "code",
   "execution_count": 23,
   "metadata": {
    "collapsed": true
   },
   "outputs": [],
   "source": [
    "!gcc -c -DBUILD_DLL ./code/gcc/mathfuns.c\n",
    "!gcc -shared -o libmathfuns.dll mathfuns.o -Wl,--add-stdcall-alias"
   ]
  },
  {
   "cell_type": "markdown",
   "metadata": {},
   "source": [
    "* -DBUILD_DLL:\n",
    "   \n",
    "  * -Dname: Predefine name as a macro, with definition \n",
    "  \n",
    "\n",
    "*  -Wl,option \n",
    "\n",
    "   Pass **option** as an option to the **linker**. If option contains commas, it is split into multiple options at the commas.\n",
    "\n",
    "\n",
    "* --add-stdcall-alias:\n",
    "   \n",
    "   the option to the linker: Add aliases without @<n>."
   ]
  },
  {
   "cell_type": "code",
   "execution_count": 33,
   "metadata": {
    "collapsed": true
   },
   "outputs": [],
   "source": [
    "!gcc -c -DBUILD_DLL ./code/gcc/mathfuns.c\n",
    "!gcc -shared -o libmathfuns.dll -static-libgcc mathfuns.o -Wl,--add-stdcall-alias,-output-def=libmathfuns.def"
   ]
  },
  {
   "cell_type": "markdown",
   "metadata": {},
   "source": [
    "* -static-libgcc\n",
    "\n",
    "   This option links the GNU libgcc library statically. \n",
    "   \n",
    "\n",
    "* -output-def=libmathfuns.def\n",
    "\n",
    "    Name of .def file to be created.\n",
    "    \n",
    "    **def:** A module-definition  file is a text file containing one or more module statements that describe various attributes of a DLL"
   ]
  },
  {
   "cell_type": "code",
   "execution_count": 21,
   "metadata": {},
   "outputs": [
    {
     "name": "stdout",
     "output_type": "stream",
     "text": [
      "Overwriting makefile\n"
     ]
    }
   ],
   "source": [
    "%%file makefile\n",
    "\n",
    "CC=gcc\n",
    "CFLAGS=-O3 -DBUILD_DLL -Wall -fPIC -o \n",
    "\n",
    "all: libmathfuns.dll\n",
    "\n",
    "libmathfuns.dll: mathfunsobj\n",
    "\t $(CC) -shared -o libmathfuns.dll -static-libgcc mathfuns.o -Wl,--add-stdcall-alias,-output-def=libmathfuns.def\n",
    "\t del mathfuns.o\n",
    "    \n",
    "mathfunsobj: ./code/gcc/mathfuns.c\n",
    "\t $(CC) -c $(CFLAGS) mathfuns.o ./code/gcc/mathfuns.c\n",
    "     \n",
    "clean:\n",
    "\t del libmathfuns.dll"
   ]
  },
  {
   "cell_type": "code",
   "execution_count": 22,
   "metadata": {},
   "outputs": [
    {
     "name": "stdout",
     "output_type": "stream",
     "text": [
      "gcc -c -O3 -DBUILD_DLL -Wall -fPIC -o  mathfuns.o ./code/gcc/mathfuns.c\n",
      "gcc -shared -o libmathfuns.dll -static-libgcc mathfuns.o -Wl,--add-stdcall-alias,-output-def=libmathfuns.def\n",
      "del mathfuns.o\n"
     ]
    }
   ],
   "source": [
    "!make"
   ]
  },
  {
   "cell_type": "markdown",
   "metadata": {},
   "source": [
    "### Step 2: Call DLL from Excel VBA\n",
    "\n",
    "* 1) libmathfuns.dll in the default dll path of windows c:\\windows\\system\n",
    "\n",
    "* 2) demo-vba.xlsm in ./code/gcc/\n",
    "\n",
    "* 3)  press \"ALT+F11\" into VBA\n",
    "\n",
    "create the module *mathfuns* to library call such as:\n",
    "```vba\n",
    "Public Declare PtrSafe Function iadd Lib \"libmathfuns\" (ByVal a As Integer, ByVal a As Integer) As Integer\n",
    "Public Declare PtrSafe Function fmult Lib \"libmathfuns\" (ByVal a As Single, ByVal b As Single) As Single\n",
    "```\n",
    "create the module *vbaapi* to call such as:\n",
    "```\n",
    "Public Function intadd(ByVal a As Integer, ByVal b As Integer) As Integer\n",
    "   intadd = iadd(a, b)\n",
    "End Function\n",
    " \n",
    "Public Function smult(ByVal a As Single, ByVal b As Single) As Single\n",
    "   smult = fmult(a, b)\n",
    "End Function\n",
    "```\n",
    "\n",
    "* 4)  call in cells\n",
    "![demo-vba](./code/gcc/demo-vba.jpg)"
   ]
  },
  {
   "cell_type": "markdown",
   "metadata": {},
   "source": [
    "### 3 call_stdcall DLL from Python\n",
    "\n",
    "```python\n",
    " windll.LoadLibrary\n",
    "```"
   ]
  },
  {
   "cell_type": "code",
   "execution_count": 4,
   "metadata": {},
   "outputs": [
    {
     "name": "stdout",
     "output_type": "stream",
     "text": [
      "Writing mathfuns.py\n"
     ]
    }
   ],
   "source": [
    "%%file mathfuns.py\n",
    "\n",
    "from ctypes import windll,c_int,c_float\n",
    "\n",
    "flib = windll.LoadLibrary('libmathfuns.dll')\n",
    "\n",
    "\n",
    "def iadd(a,b):\n",
    "    flib.iadd.argtypes = [c_int,c_int]\n",
    "    flib.iadd.restype  = c_int\n",
    "    return flib.iadd(a,b)\n",
    "\n",
    "def fmult(a,b):\n",
    "    flib.fmult.argtypes = [c_float,c_float]\n",
    "    flib.fmult.restype  = c_float\n",
    "    return flib.fmult(a,b)\n"
   ]
  },
  {
   "cell_type": "code",
   "execution_count": 5,
   "metadata": {},
   "outputs": [
    {
     "name": "stdout",
     "output_type": "stream",
     "text": [
      "10\n",
      "25.0\n"
     ]
    }
   ],
   "source": [
    "from mathfuns import *\n",
    "print(iadd(4,6))\n",
    "print(fmult(5,5))"
   ]
  },
  {
   "cell_type": "markdown",
   "metadata": {},
   "source": [
    "### 4 Call __stdcall DLL from C "
   ]
  },
  {
   "cell_type": "code",
   "execution_count": 6,
   "metadata": {},
   "outputs": [
    {
     "name": "stdout",
     "output_type": "stream",
     "text": [
      "Writing ./code/gcc/mainmathfuns.c\n"
     ]
    }
   ],
   "source": [
    "%%file ./code/gcc/mainmathfuns.c\n",
    "\n",
    "#include <stdio.h>\n",
    "#include \"mathfuns.h\"\n",
    " \n",
    "int main() {\n",
    "    int ir=iadd(5,6);\n",
    "    float fr=fmult(2.1,4.1);\n",
    "    printf(\"ir: %d \\t fr: %.3f\",ir,fr);\n",
    "    return 0;\n",
    "}"
   ]
  },
  {
   "cell_type": "code",
   "execution_count": 8,
   "metadata": {
    "collapsed": true
   },
   "outputs": [],
   "source": [
    "!gcc -c -o mainmathfuns.o ./code/gcc/mainmathfuns.c \n",
    "!gcc -o  mainmathfuns.exe mainmathfuns.o -I./code/gcc -L./ -lmathfuns"
   ]
  },
  {
   "cell_type": "code",
   "execution_count": 9,
   "metadata": {},
   "outputs": [
    {
     "name": "stdout",
     "output_type": "stream",
     "text": [
      "ir: 11 \t fr: 8.610\n"
     ]
    }
   ],
   "source": [
    "!mainmathfuns"
   ]
  },
  {
   "cell_type": "code",
   "execution_count": 16,
   "metadata": {},
   "outputs": [
    {
     "name": "stdout",
     "output_type": "stream",
     "text": [
      "Overwriting makefile\n"
     ]
    }
   ],
   "source": [
    "%%file makefile\n",
    "\n",
    "all: mainmathfuns.exe\n",
    "\n",
    "clean:\n",
    "\tdel mainmathfuns.exe\n",
    "\n",
    "mainmathfuns.exe: mainmathfuns.o ./code/gcc/mathfuns.h \n",
    "\tgcc -o mainmathfuns mainmathfuns.o -I./code/gcc -L./ -lmathfuns\n",
    "\tdel *.o\n",
    "\n",
    "mainmathfuns.o: ./code/gcc/mainmathfuns.c \n",
    "\tgcc -c ./code/gcc/mainmathfuns.c \n"
   ]
  },
  {
   "cell_type": "code",
   "execution_count": 17,
   "metadata": {},
   "outputs": [
    {
     "name": "stdout",
     "output_type": "stream",
     "text": [
      "gcc -o mainmathfuns mainmathfuns.o -I./code/gcc -L./ -lmathfuns\n",
      "del *.o\n"
     ]
    }
   ],
   "source": [
    "!make"
   ]
  },
  {
   "cell_type": "code",
   "execution_count": 14,
   "metadata": {},
   "outputs": [
    {
     "name": "stdout",
     "output_type": "stream",
     "text": [
      "del mainmathfuns.exe\n"
     ]
    }
   ],
   "source": [
    "!make clean"
   ]
  },
  {
   "cell_type": "code",
   "execution_count": 18,
   "metadata": {},
   "outputs": [
    {
     "name": "stdout",
     "output_type": "stream",
     "text": [
      "ir: 11 \t fr: 8.610\n"
     ]
    }
   ],
   "source": [
    "!mainmathfuns"
   ]
  },
  {
   "cell_type": "markdown",
   "metadata": {},
   "source": [
    "### Further reading"
   ]
  },
  {
   "cell_type": "markdown",
   "metadata": {},
   "source": [
    "* http://docs.python.org/3/library/ctypes.html\n",
    "* http://scipy-cookbook.readthedocs.io/items/Ctypes.html\n",
    "* https://docs.scipy.org/doc/numpy/reference/routines.ctypeslib.html\n",
    "\n",
    "\n",
    "* DLLs in Visual C++ https://msdn.microsoft.com/en-us/library/1ez7dh12.aspx\n",
    "\n",
    "* Calling DLL Functions from Visual Basic Applications https://msdn.microsoft.com/en-us/library/dt232c9t.aspx\n",
    "\n",
    "\n",
    "* Getting Started with VBA in Office 2010: https://msdn.microsoft.com/library/office/ee814735(v=office.14)\n",
    "   \n",
    "* Excel VBA Programming:  http://www.homeandlearn.org/the_excel_vba_editor.html\n",
    "\n",
    "\n"
   ]
  },
  {
   "cell_type": "code",
   "execution_count": null,
   "metadata": {
    "collapsed": true
   },
   "outputs": [],
   "source": []
  }
 ],
 "metadata": {
  "kernelspec": {
   "display_name": "Python 3",
   "language": "python",
   "name": "python3"
  },
  "language_info": {
   "codemirror_mode": {
    "name": "ipython",
    "version": 3
   },
   "file_extension": ".py",
   "mimetype": "text/x-python",
   "name": "python",
   "nbconvert_exporter": "python",
   "pygments_lexer": "ipython3",
   "version": "3.5.2"
  }
 },
 "nbformat": 4,
 "nbformat_minor": 1
}
