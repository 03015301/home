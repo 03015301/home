{
 "cells": [
  {
   "cell_type": "markdown",
   "metadata": {
    "deletable": true,
    "editable": true
   },
   "source": [
    "# Introduction to SEUIF97 Library\n",
    "\n",
    "**Purpose:** Provide a high-speed shared library for developers to calculate the properties of water and steam  in extensive process simulations, such as Computational Fluid Dynamics (CFD), heat cycle calculations, simulations of non-stationary processes, and real-time process optimizations, where the direct IAPWS-IF97 implementation may be unsuitable because of their computing time consumption.\n",
    " \n",
    " Through the high-speed library, the results of the IAPWS-IF97  are accurately produced at above 3 times computational speed.\n",
    " \n",
    "        Algorithm of the High-speed IAPWS-IF97 Library: \n",
    "\n",
    "        王培红,贾俊颖,程懋华. 水和水蒸汽热力性质IAPWS-IF97公式的通用计算模型[J]. 动力工程. 2001 21(6)：1564-1567(EI)\n",
    " \n",
    " This library is written in ANSI C for faster, smaller binaries and better compatibility for accessing the DLL/SO from different C++ compilers.\n",
    " \n",
    " For Windows and Linux users, convenient binary packages are provided.\n",
    " \n",
    "         IF97 shared library: Windows(64):libseuif97.dll, Linux(64):libseuif97.so\n",
    " \n",
    " The package includes bindings for Python, Microsoft Excel. \n",
    "        \n",
    "        Python API：seuif97.py\n",
    "        \n",
    "        Microsoft Excel Macro: DEMO_SEUIF97.xlsm,SEUIF97.xlam\n",
    " \n",
    "**Author:** Cheng Maohua, Southeast University, Nanjing，China  (cmh@seu.edu.cn)\n",
    "\n",
    "# Python \n",
    "\n",
    "* Python API: **seuif97.py** \n",
    "\n",
    "## Windows64 \n",
    "  \n",
    "1. copy **libseuif97.dll**  to a default path of Windows dll\n",
    "      \n",
    "        C:\\Windows\\system\n",
    "   \n",
    "2. copy **seuif97.py** to a default path of Python lib\n",
    "    \n",
    "        C:\\Python35\\Lib \n",
    "   \n",
    "##  Linux64   \n",
    "    \n",
    " 1. copy **libseuif97.so**  to a default path of Linux shared lib\n",
    "   \n",
    "        $ sudo cp libseuif97.so /usr/lib/\n",
    "\n",
    " 2. copy **seuif97.py** to a default path of Python lib\n",
    "   \n",
    "        $ sudo cp seuif97.py /usr/lib/python3.5/"
   ]
  },
  {
   "cell_type": "markdown",
   "metadata": {
    "deletable": true,
    "editable": true
   },
   "source": [
    "## SEUIF97 share Library（API)\n",
    "\n",
    "### Functions \n",
    "\n",
    "```c\n",
    "   seupt( pressure,    temperature, propertyID)\n",
    "   seuph( pressure,    enthalpy,    propertyID)\n",
    "   seups( pressure,    entropy,     propertyID)\n",
    "   seuhs( enthalpy,    entropy,     propertyID)\n",
    "   seupx( pressure,    quality,     propertyID)\n",
    "   seutx( temperature, quality,     propertyID)\n",
    "```\n",
    "\n",
    "   *  propertyID  - int，0-29,(see **Properties in libseuif97**)\n",
    "\n",
    "### Function for process  \n",
    "   \n",
    "*  1 Isentropic Enthalpy Drop： ishd( pi,ti,pe)\n",
    "    \n",
    "        pi - double,inlet P; ti - double,inlet T\n",
    "\n",
    "        pe - double,outlet P\n",
    "\n",
    "* 2 Isentropic Efficiency： ief( pi,ti,pe,te)\n",
    "\n",
    "         pi  -double，inlet P; ti  - double,inlet T\n",
    "\n",
    "         pe  -double，outlet P; te  - double, outlet T"
   ]
  },
  {
   "cell_type": "markdown",
   "metadata": {
    "deletable": true,
    "editable": true
   },
   "source": [
    "## Python 接口：\n",
    "\n",
    "seuif97.py"
   ]
  },
  {
   "cell_type": "code",
   "execution_count": null,
   "metadata": {
    "collapsed": false,
    "deletable": true,
    "editable": true
   },
   "outputs": [],
   "source": [
    "# -*- coding: utf-8 -*- \n",
    "\n",
    "from ctypes import c_int,c_double,WINFUNCTYPE,windll\n",
    "\n",
    "prototype=WINFUNCTYPE(c_double,c_double,c_double,c_int)\n",
    "\n",
    "fpt=prototype((\"seupt\",windll.libseuif97),)\n",
    "fph=prototype((\"seuph\",windll.libseuif97),)\n",
    "fps=prototype((\"seups\",windll.libseuif97),)\n",
    "fhs=prototype((\"seuhs\",windll.libseuif97),)\n",
    "\n",
    "def pt(p,t,oid): \n",
    "    result=fpt(p,t,oid)\n",
    "    return result\n",
    "\n",
    "def pt2h(p,t): \n",
    "    result=fpt(p,t,4)\n",
    "    return result\n",
    "\n",
    "def ph(p,h,oid): \n",
    "    result=fhs(h,s,oid)\n",
    "    return result\n",
    "\n",
    "def ps(p,s,oid): \n",
    "    result=fhs(p,s,oid)\n",
    "    return result\n",
    "\n",
    "def hs(h,s,oid): \n",
    "    result=fhs(h,s,oid)\n",
    "    return result"
   ]
  },
  {
   "cell_type": "markdown",
   "metadata": {
    "collapsed": true,
    "deletable": true,
    "editable": true
   },
   "source": [
    "## Example1 water or steam"
   ]
  },
  {
   "cell_type": "code",
   "execution_count": null,
   "metadata": {
    "collapsed": false,
    "deletable": true,
    "editable": true
   },
   "outputs": [],
   "source": [
    "from seuif97 import *\n",
    "p=16.12\n",
    "t=562.1\n",
    "\n",
    "h=pt2h(p,t)\n",
    "s=pt(p,t,5)\n",
    "print('h:',h,'s: ',s)\n",
    "\n",
    "t1=ph(p,h,1)\n",
    "t2=ps(p,s,1)\n",
    "\n",
    "print('t1: ',t1,' t2 ',t2)\n",
    "\n",
    "p1=hs(h,s,0)\n",
    "t3=hs(h,s,1)\n",
    "print('p1: ',p1,' t3 ',t3)\n"
   ]
  },
  {
   "cell_type": "markdown",
   "metadata": {
    "deletable": true,
    "editable": true
   },
   "source": [
    "## Example2: Thermodynamic Process  "
   ]
  },
  {
   "cell_type": "code",
   "execution_count": null,
   "metadata": {
    "collapsed": false,
    "deletable": true,
    "editable": true
   },
   "outputs": [],
   "source": [
    "from seuif97 import *\n",
    "# HP of 300MW \n",
    "\n",
    "p1=16.1\n",
    "t1=535.2\n",
    "p2=3.56\n",
    "t2=315.1\n",
    "\n",
    "hdis=ishd(p1,t1,p2) # 等熵焓降\n",
    "ef=ief(p1,t1,p2,t2) # 过程效率\n",
    "\n",
    "print('等熵焓降 =',hdis)\n",
    "print('过程效率 =',ef)"
   ]
  },
  {
   "cell_type": "markdown",
   "metadata": {
    "collapsed": true,
    "deletable": true,
    "editable": true
   },
   "source": [
    "## T-s Diagram"
   ]
  },
  {
   "cell_type": "code",
   "execution_count": null,
   "metadata": {
    "collapsed": false,
    "deletable": true,
    "editable": true
   },
   "outputs": [],
   "source": [
    "%matplotlib inline\n",
    "\"\"\"\n",
    "T-s Diagram\n",
    "\n",
    "1 isoenthalpic lines isoh(200, 3600)kJ/kg\n",
    "2 isobar lines isop(611.657e-6,100)MPa\n",
    "3 saturation lines x=0,x=1\n",
    "4 isoquality lines x(0.1,0.9)\n",
    "\n",
    "\"\"\"\n",
    "from seuif97 import pt2h, ph2t, ph2s, tx2s\n",
    "import numpy as np\n",
    "import matplotlib.pyplot as plt\n",
    "\n",
    "Pt=611.657e-6\n",
    "Tc=647.096\n",
    "\n",
    "xAxis = \"s\"\n",
    "yAxis = \"T\"\n",
    "title = {\"T\": \"T, ºC\", \"s\": \"s, kJ/kgK\"}\n",
    "plt.title(\"%s-%s Diagram\" % (yAxis, xAxis))\n",
    "plt.xlabel(title[xAxis])\n",
    "plt.ylabel(title[yAxis])\n",
    "plt.xlim(0, 11.5)\n",
    "plt.ylim(0, 800)\n",
    "plt.grid()\n",
    "\n",
    "isoh = np.linspace(200, 3600, 18)\n",
    "isop = np.array([Pt,0.001,0.002,0.004,0.01, 0.02, 0.05, 0.1, 0.2, 0.5, 1.0,\n",
    "                 2.0, 5.0, 10.0, 20.0, 50.0, 100.0])\n",
    "for h in isoh:\n",
    "    T = np.array([ph2t(p, h) for p in isop])\n",
    "    S = np.array([ph2s(p, h) for p in isop])\n",
    "    plt.plot(S, T, 'b', lw=0.5)\n",
    "\n",
    "for p in isop:\n",
    "    T = np.array([ph2t(p, h) for h in isoh])\n",
    "    S = np.array([ph2s(p, h) for h in isoh])\n",
    "    plt.plot(S, T, 'b', lw=0.5)\n",
    "\n",
    "tc = Tc - 273.15\n",
    "T = np.linspace(0.01, tc, 100)\n",
    "for x in np.array([0, 1.0]):\n",
    "    S = np.array([tx2s(t, x) for t in T])\n",
    "    plt.plot(S, T, 'r', lw=1.0)\n",
    "\n",
    "for x in np.linspace(0.1, 0.9, 11):\n",
    "    S = np.array([tx2s(t, x) for t in T])\n",
    "    plt.plot(S, T, 'r--', lw=0.5)\n",
    "\n",
    "plt.show()"
   ]
  },
  {
   "cell_type": "markdown",
   "metadata": {
    "collapsed": true,
    "deletable": true,
    "editable": true
   },
   "source": [
    "## H-S Diagram"
   ]
  },
  {
   "cell_type": "code",
   "execution_count": null,
   "metadata": {
    "collapsed": false,
    "deletable": true,
    "editable": true
   },
   "outputs": [],
   "source": [
    "%matplotlib inline\n",
    "\"\"\"\n",
    "h-s Diagram\n",
    "\n",
    "1 Calculating Isotherm lines isot(0.0,800)ºC\n",
    "2 Calculating Isobar lines  isop(611.657e-6, 100)Mpa\n",
    "3 Calculating saturation lines x=0,x=1\n",
    "4 Calculating isoquality lines x(0.1,0.9)\n",
    "\"\"\"\n",
    "from  seuif97 import pt2h,pt2s,tx2s,tx2h\n",
    "import numpy as np\n",
    "import matplotlib.pyplot as plt\n",
    "\n",
    "xAxis = \"s\"\n",
    "yAxis = \"h\"\n",
    "title = { \"h\": \"h, kJ/kg\", \"s\": \"s, kJ/kgK\"}\n",
    "\n",
    "plt.title(\"%s-%s Diagram\" % (yAxis, xAxis))\n",
    "plt.xlabel(title[xAxis])\n",
    "plt.ylabel(title[yAxis])\n",
    "plt.xlim(0, 12.2)\n",
    "plt.ylim(0, 4300)\n",
    "plt.grid()\n",
    "\n",
    "Pt=611.657e-6\n",
    "\n",
    "isot = np.array([0, 50, 100, 200, 300, 400, 500, 600, 700, 800])\n",
    "isop = np.array([Pt,0.001, 0.01, 0.1, 1, 10, 20, 50, 100])\n",
    "# Isotherm lines in ºC\n",
    "for t in isot:\n",
    "    h = np.array([pt2h(p,t) for p in isop])\n",
    "    s = np.array([pt2s(p,t) for p in isop])\n",
    "    plt.plot(s,h,'g',lw=0.5)\n",
    "\n",
    "# Isobar lines in Mpa\n",
    "for p in isop:\n",
    "     h = np.array([pt2h(p,t) for t in isot])\n",
    "     s = np.array([pt2s(p,t) for t in isot])\n",
    "     plt.plot(s,h,'b',lw=0.5)\n",
    "\n",
    "tc=647.096-273.15\n",
    "T = np.linspace(0.1,tc,100)  \n",
    "# saturation lines\n",
    "for x in np.array([0,1.0]):\n",
    "    h = np.array([tx2h(t,x) for t in T])\n",
    "    s = np.array([tx2s(t,x) for t in T])\n",
    "    plt.plot(s,h,'r',lw=1.0)\n",
    "\n",
    "# Isoquality lines\n",
    "isox=np.linspace(0.1,0.9,11)\n",
    "for x in isox:\n",
    "    h = np.array([tx2h(t,x) for t in T])\n",
    "    s = np.array([tx2s(t,x) for t in T])\n",
    "    plt.plot(s,h,'r--',lw=0.5)\n",
    "\n",
    "plt.show()"
   ]
  },
  {
   "cell_type": "code",
   "execution_count": null,
   "metadata": {
    "collapsed": true,
    "deletable": true,
    "editable": true
   },
   "outputs": [],
   "source": []
  }
 ],
 "metadata": {
  "kernelspec": {
   "display_name": "Python 3",
   "language": "python",
   "name": "python3"
  },
  "language_info": {
   "codemirror_mode": {
    "name": "ipython",
    "version": 3
   },
   "file_extension": ".py",
   "mimetype": "text/x-python",
   "name": "python",
   "nbconvert_exporter": "python",
   "pygments_lexer": "ipython3",
   "version": "3.5.2"
  }
 },
 "nbformat": 4,
 "nbformat_minor": 0
}
