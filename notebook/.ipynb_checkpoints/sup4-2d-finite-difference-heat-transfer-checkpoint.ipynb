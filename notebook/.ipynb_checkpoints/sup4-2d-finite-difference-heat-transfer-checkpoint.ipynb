{
 "cells": [
  {
   "cell_type": "markdown",
   "metadata": {
    "collapsed": true
   },
   "source": [
    "# 二维稳态导热问题\n",
    "\n",
    "\n",
    "算例源自高等教育出版社《传热学》第四版，P173例4-2。\n",
    "\n",
    "有一各向同性材料的方形物体，其导热系数为常量。\n",
    "\n",
    "已知各边界的温度如图\n",
    "\n",
    "```\n",
    "        \n",
    "          500\n",
    "      ┌───────────┐\n",
    "      |   |   |   |\n",
    "      |───1───2───|\n",
    " 100  |   |   |   | 100\n",
    "      |───3───4───| \n",
    "      |   |   |   |\n",
    "      └───────────┘  \n",
    "           100\n",
    "```\n",
    "\n",
    "求内部网格节点1、2、3和4的温度\n",
    "\n",
    "\n",
    "## 解题步骤：\n",
    "\n",
    "* 1 划分网格\n",
    "\n",
    "* 2 形成节点离散方程组\n",
    "\n",
    "* 3 使用**numpy.linalg.solve**求解方程\n",
    "\n",
    "* 4  输出结果、可视化温度分布\n"
   ]
  },
  {
   "cell_type": "markdown",
   "metadata": {},
   "source": [
    "## numpy.linalg.solve 简介\n",
    "\n",
    "* numpy.linalg.solve(a, b)\n",
    "\n",
    "  Solve a linear matrix equation, or system of linear scalar equations.\n",
    "\n",
    "  Computes the “exact” solution, x, of the well-determined, i.e., full rank,\n",
    "  \n",
    "  linear matrix equation **ax = b**\n",
    "\n",
    "* Parameters:\n",
    "\n",
    "  a : (..., M, M) array_like\n",
    "\n",
    "* Coefficient matrix.\n",
    "\n",
    "  b : {(..., M,), (..., M, K)}, array_like\n",
    "\n",
    "  Ordinate or “dependent variable” values.\n",
    "\n",
    "* Returns:\n",
    "\n",
    "  x : {(..., M,), (..., M, K)} ndarray\n",
    "\n",
    "  Solution to the system a x = b. Returned shape is identical to b.\n",
    " \n",
    "   Raises:\n",
    "\n",
    "   LinAlgError\n",
    "\n",
    "   If a is singular or not square.\n",
    " \n",
    "### Example:\n",
    "\n",
    "$ Ax=b \\tag{1}$ \n",
    "\n",
    "$$ A|b=\n",
    "\\left[\n",
    "    \\begin{array}{cc|c}\n",
    "      3 & 1 & 9 \\\\\n",
    "      1 & 2 & 8 \n",
    "    \\end{array}\n",
    "\\right] \n",
    "\\tag{2}\n",
    "$$"
   ]
  },
  {
   "cell_type": "code",
   "execution_count": 2,
   "metadata": {},
   "outputs": [
    {
     "data": {
      "text/plain": [
       "array([ 2.,  3.])"
      ]
     },
     "execution_count": 2,
     "metadata": {},
     "output_type": "execute_result"
    }
   ],
   "source": [
    "import numpy as np\n",
    "a = np.array([[3,1], [1,2]])\n",
    "b = np.array([9,8])\n",
    "x = np.linalg.solve(a, b)\n",
    "x"
   ]
  },
  {
   "cell_type": "markdown",
   "metadata": {},
   "source": [
    "# 网格和节点离散方程\n",
    "\n",
    "当前结点[r,c]\n",
    "\n",
    "* r: row id\n",
    "\n",
    "* c: col id\n",
    "\n",
    "$ 4*nodes[r,c]-(nodes[r-1,c]+nodes[r+1,c]+nodes[r,c+1]+nodes[r,c-1])=0 $\n",
    "\n",
    "\n",
    "**算例：**\n",
    "\n",
    "   * 网格： $m*n=4*4$\n",
    " \n",
    "   * 内部网格节点: \n",
    "       * 1: node[1,1] \n",
    "       * 2: node[1,2]\n",
    "       * 3: node[2,1]\n",
    "       * 4: node[2,2]\n",
    "\n",
    "$$ At=b \\tag{3}$$\n",
    "\n",
    "$$ \n",
    "\\left[\n",
    "    \\begin{array}{cccc}\n",
    "      4 & -1 & -1 & 0 \\\\\n",
    "      -1 & 4 & 0 & -1 \\\\\n",
    "      -1 & 0 & 4 & -1 \\\\\n",
    "       0 & -1 & -1 & 4 \n",
    "    \\end{array}\n",
    "\\right] \n",
    "\\left[\n",
    "    \\begin{array}{c}\n",
    "       node[1,1] \\\\\n",
    "       node[1,2] \\\\\n",
    "       node[2,1] \\\\\n",
    "       node[2,2] \n",
    "    \\end{array}\n",
    "\\right]\n",
    "=\n",
    "\\left[\n",
    "    \\begin{array}{c}\n",
    "       node[0,1]+node[1,0] \\\\\n",
    "       node[0,2]+node[1,3] \\\\\n",
    "       node[2,0]+node[3,1] \\\\\n",
    "       node[2,3]+node[3,2] \n",
    "    \\end{array}\n",
    "\\right]\n",
    "\\tag{4}\n",
    "$$\n"
   ]
  },
  {
   "cell_type": "markdown",
   "metadata": {},
   "source": [
    "# 求解程序"
   ]
  },
  {
   "cell_type": "code",
   "execution_count": 1,
   "metadata": {},
   "outputs": [
    {
     "name": "stdout",
     "output_type": "stream",
     "text": [
      "+-------+-------+\n",
      "|   0   |   1   |\n",
      "+-------+-------+\n",
      "| 250.0 | 250.0 |\n",
      "| 150.0 | 150.0 |\n",
      "+-------+-------+\n"
     ]
    },
    {
     "data": {
      "image/png": "[encoded data removed]",
      "text/plain": [
       "<matplotlib.figure.Figure at 0x27a46037f60>"
      ]
     },
     "metadata": {},
     "output_type": "display_data"
    }
   ],
   "source": [
    "%matplotlib inline\n",
    "# -*- coding: UTF-8 -*-\n",
    "import numpy as np\n",
    "import matplotlib.pyplot as plt\n",
    "from prettytable import PrettyTable\n",
    "    \n",
    "def get_temperaturegrid():\n",
    "    \"\"\" get temperature grid \"\"\" \n",
    "    m=4 # row\n",
    "    n=4 # col \n",
    "\n",
    "    # wall:\n",
    "    #  col 0 left，n right\n",
    "    node = np.zeros((m,n))\n",
    "    #  row 0 top\n",
    "    node[0,1],node[0,2]=500,500\n",
    "    #  row m-1 bottom\n",
    "    node[3,1],node[3,2]=100,100\n",
    "    # left col 0\n",
    "    node[1,0],node[2,0]=100,100\n",
    "    # right n-1 \n",
    "    node[1,3],node[2,3]=100,100\n",
    "\n",
    "    a = np.array([\n",
    "              [4,-1,-1,0],\n",
    "              [-1,4,0,-1],\n",
    "              [-1,0,4,-1],\n",
    "              [0,-1,-1,4] \n",
    "             ])\n",
    "    b = np.array([\n",
    "             node[0,1]+node[1,0],\n",
    "             node[0,2]+node[1,3],\n",
    "             node[2,0]+node[3,1],\n",
    "             node[2,3]+node[3,2]\n",
    "             ]\n",
    "             )\n",
    "    t = np.linalg.solve(a, b)\n",
    " \n",
    "    temperature=np.zeros((2,2))\n",
    "    \n",
    "    for i in range(2):\n",
    "        temperature[i,0],temperature[i,1]= t[2*i],t[2*i+1]\n",
    " \n",
    "    return temperature\n",
    "\n",
    "def print_temperaturegrid(t):\n",
    "    \"\"\" print temperature grid \"\"\"  \n",
    "    table = PrettyTable([\"0\",\"1\"])  \n",
    "    table.align= \"c\" # center\n",
    "    table.padding_width = 1 # One space between column edges and contents (default)\n",
    "    for i in range(2):\n",
    "        table.add_row([t[i,0],t[i,1]])\n",
    "    print(table)\n",
    "\n",
    "def plot_temperaturegrid(t):\n",
    "    \"\"\" plot temperature grid \"\"\" \n",
    "    plt.imshow(temperature,interpolation='bilinear', cmap=plt.get_cmap(\"coolwarm\"))\n",
    "    plt.colorbar()\n",
    "    plt.show()\n",
    "\n",
    "temperature=get_temperaturegrid() \n",
    "print_temperaturegrid(temperature)\n",
    "plot_temperaturegrid(temperature)\n"
   ]
  },
  {
   "cell_type": "code",
   "execution_count": null,
   "metadata": {
    "collapsed": true
   },
   "outputs": [],
   "source": []
  }
 ],
 "metadata": {
  "kernelspec": {
   "display_name": "Python 3",
   "language": "python",
   "name": "python3"
  },
  "language_info": {
   "codemirror_mode": {
    "name": "ipython",
    "version": 3
   },
   "file_extension": ".py",
   "mimetype": "text/x-python",
   "name": "python",
   "nbconvert_exporter": "python",
   "pygments_lexer": "ipython3",
   "version": "3.5.2"
  }
 },
 "nbformat": 4,
 "nbformat_minor": 1
}
