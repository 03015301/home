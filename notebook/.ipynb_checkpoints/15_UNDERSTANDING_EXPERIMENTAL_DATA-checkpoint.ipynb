{
 "cells": [
  {
   "cell_type": "markdown",
   "metadata": {},
   "source": [
    "# 15 UNDERSTANDING EXPERIMENTAL DATA"
   ]
  },
  {
   "cell_type": "markdown",
   "metadata": {},
   "source": [
    "This chapter is all about <b>understanding experimental data</b>. \n",
    "\n",
    "We will make extensive use of plotting to visualize the data, and will return to the topic of what is and what is not a valid statistical conclusion. We will also talk about the interplay between physical and computational experiments."
   ]
  },
  {
   "cell_type": "markdown",
   "metadata": {},
   "source": [
    "## 15.1 The Behavior of Springs\n",
    "\n",
    "Springs are wonderful things. \n",
    "\n",
    "In 1676 the British physicist Robert Hooke formulated <b>Hooke’s law</b> of elasticity: Ut tensio, sic vis, in English,\n",
    "\n",
    "$F = -kx$\n",
    "\n",
    "All springs have an <b>elastic limit</b>, beyond which the law fails. \n",
    "\n",
    "The constant of proportionality, `k`, is called <b>the spring constant</b>.\n",
    "\n",
    "Knowing the <b>spring constant</b> of a particular spring can be <b>a matter of some import</b>\n",
    "\n",
    "Generations of physics students have learned to estimate spring constants using an experimental apparatus similar to that pictured here. \n",
    "\n",
    "The basic idea is toestimate the force stored in the spring by <b>measuring the displacement caused by exerting a known force on the spring</b>.\n",
    "\n",
    "<img src=\"./img/spring.PNG\"/> "
   ]
  },
  {
   "cell_type": "markdown",
   "metadata": {
    "collapsed": true
   },
   "source": [
    "The difference between the two distances then becomes the value of <b>x</b> in Hooke’s law.\n",
    "\n",
    "We know that the force, <b>F</b>, being exerted on the spring is equal to the mass, <b>m</b>, multiplied by the acceleration due to gravity, <b>g</b> (9.81 m/s2 is a pretty good approximation of g on this planet), \n",
    "so we substitute <b>m*g for F</b>. \n",
    "\n",
    "By simple algebra,we know that <b>k</b>:\n",
    "\n",
    "$k = -(m*g)/x$\n",
    "\n",
    "#### robust experiment\n",
    "\n",
    "A more <b>robust experiment</b> is to hang <b>a series of increasingly heavier weights</b> on the spring, measure the stretch of the spring each time, and plot the results.\n",
    "\n",
    "We ran such an experiment,and typed the results into a file named `./src/springData.txt`:\n"
   ]
  },
  {
   "cell_type": "code",
   "execution_count": 3,
   "metadata": {
    "collapsed": false
   },
   "outputs": [
    {
     "name": "stdout",
     "output_type": "stream",
     "text": [
      "Overwriting ./src/springData.txt\n"
     ]
    }
   ],
   "source": [
    "%%file ./src/springData.txt\n",
    "Distance (m) Mass (kg)\n",
    "0.0865 0.1\n",
    "0.1015 0.15\n",
    "0.1106 0.2\n",
    "0.1279 0.25\n",
    "0.1892 0.3\n",
    "0.2695 0.35\n",
    "0.2888 0.4\n",
    "0.2425 0.45\n",
    "0.3465 0.5\n",
    "0.3225 0.55\n",
    "0.3764 0.6\n",
    "0.4263 0.65\n",
    "0.4562 0.7\n",
    "0.4502 0.75\n",
    "0.4499 0.8\n",
    "0.4534 0.85\n",
    "0.4416 0.9\n",
    "0.4304 0.95\n",
    "0.437 1.0"
   ]
  },
  {
   "cell_type": "code",
   "execution_count": null,
   "metadata": {
    "collapsed": true
   },
   "outputs": [],
   "source": [
    "%load './src/springData.txt'"
   ]
  },
  {
   "cell_type": "code",
   "execution_count": 24,
   "metadata": {
    "collapsed": false
   },
   "outputs": [
    {
     "name": "stdout",
     "output_type": "stream",
     "text": [
      "Overwriting ./src/springData.csv\n"
     ]
    }
   ],
   "source": [
    "%%file ./src/springData.csv\n",
    "Distance(m),Mass(kg)\n",
    "0.0865,0.1\n",
    "0.1015,0.15\n",
    "0.1106,0.2\n",
    "0.1279,0.25\n",
    "0.1892,0.3\n",
    "0.2695,0.35\n",
    "0.2888,0.4\n",
    "0.2425,0.45\n",
    "0.3465,0.5\n",
    "0.3225,0.55\n",
    "0.3764,0.6\n",
    "0.4263,0.65\n",
    "0.4562,0.7\n",
    "0.4502,0.75\n",
    "0.4499,0.8\n",
    "0.4534,0.85\n",
    "0.4416,0.9\n",
    "0.4304,0.95\n",
    "0.437,1.0"
   ]
  },
  {
   "cell_type": "markdown",
   "metadata": {},
   "source": [
    "## Comma-separated values\n",
    "\n",
    "https://en.wikipedia.org/wiki/Comma-separated_values\n",
    "    \n",
    "In computing, a comma-separated values (**CSV**) file stores **tabular** data (numbers and text) in **plain text**.\n",
    "\n",
    "* Each **line** of the file is a data **record**\n",
    ". \n",
    "* Each **record** consists of one or more **fields**, separated by **commas**.    \n",
    "\n",
    "CSV is **a common data exchange format** that is widely supported by consumer, business, and scientific applications. \n",
    "\n",
    "For example, a user may need to transfer information from a **database** program that stores data in a proprietary format, to a **spreadsheet** that uses a completely different format. \n",
    "\n",
    "The database program most likely can export its data as \"CSV\"; the exported CSV file can then be imported by the spreadsheet program."
   ]
  },
  {
   "cell_type": "code",
   "execution_count": null,
   "metadata": {
    "collapsed": false
   },
   "outputs": [],
   "source": [
    "# %load './src/springData.csv'\n",
    "Distance(m),Mass(kg)\n",
    "0.0865,0.1\n",
    "0.1015,0.15\n",
    "0.1106,0.2\n",
    "0.1279,0.25\n",
    "0.1892,0.3\n",
    "0.2695,0.35\n",
    "0.2888,0.4\n",
    "0.2425,0.45\n",
    "0.3465,0.5\n",
    "0.3225,0.55\n",
    "0.3764,0.6\n",
    "0.4263,0.65\n",
    "0.4562,0.7\n",
    "0.4502,0.75\n",
    "0.4499,0.8\n",
    "0.4534,0.85\n",
    "0.4416,0.9\n",
    "0.4304,0.95\n",
    "0.437,1.0"
   ]
  },
  {
   "cell_type": "markdown",
   "metadata": {},
   "source": [
    "Extracting the data from a file and returns lists containing the distances and masses \n"
   ]
  },
  {
   "cell_type": "code",
   "execution_count": 26,
   "metadata": {
    "collapsed": true
   },
   "outputs": [],
   "source": [
    "#Page 209, Figure 15.1\n",
    "def getData(fileName):\n",
    "    dataFile = open(fileName, 'r')\n",
    "    distances = []\n",
    "    masses = []\n",
    "    discardHeader = dataFile.readline()\n",
    "    for line in dataFile:\n",
    "        #d, m = line.split(' ')\n",
    "        #d, m = line.split(',')\n",
    "        d, m = line.split()  # \n",
    "        distances.append(float(d))\n",
    "        masses.append(float(m))\n",
    "    dataFile.close()\n",
    "    return (masses, distances)"
   ]
  },
  {
   "cell_type": "code",
   "execution_count": 27,
   "metadata": {
    "collapsed": true
   },
   "outputs": [],
   "source": [
    "inputFile='./src/springData.txt'\n",
    "#inputFile='./src/springData.csv'\n",
    "masses, distances = getData(inputFile)"
   ]
  },
  {
   "cell_type": "markdown",
   "metadata": {
    "collapsed": true
   },
   "source": [
    "The function  `plotData` uses the experimental data from  the file and then plots it.\n"
   ]
  },
  {
   "cell_type": "code",
   "execution_count": 28,
   "metadata": {
    "collapsed": false
   },
   "outputs": [
    {
     "data": {
      "image/png": "[encoded data removed]",
      "text/plain": [
       "<matplotlib.figure.Figure at 0x7f04cedbe940>"
      ]
     },
     "metadata": {},
     "output_type": "display_data"
    }
   ],
   "source": [
    "%matplotlib inline\n",
    "\n",
    "import matplotlib.pyplot as plt\n",
    "import numpy as np\n",
    "\n",
    "#Page 209, Figure 15.2\n",
    "def plotData(masses, distances):\n",
    "    masses = np.array(masses)\n",
    "    distances = np.array(distances)\n",
    "    forces = masses*9.81\n",
    "    \n",
    "    plt.plot(forces, distances, 'bo')\n",
    "    plt.title('Measured Displacement of Spring')\n",
    "    plt.xlabel('|Force| (Newtons)')\n",
    "    plt.ylabel('Distance (meters)')\n",
    "\n",
    "plotData(masses, distances)"
   ]
  },
  {
   "cell_type": "markdown",
   "metadata": {},
   "source": [
    "This is not what Hooke’s law predicts\n",
    "\n",
    "Measurement error is to be expected, so we should expect the points to lie around a line rather than on it.\n",
    "\n",
    "It would be nice to see a line that represents <b>our best guess</b> of where the points would have been <b>if we had no measurement error</b>. \n",
    "\n",
    "This is to <b>fit a line to the data</b>.\n",
    "\n"
   ]
  },
  {
   "cell_type": "markdown",
   "metadata": {},
   "source": [
    "### 15.1.1 Using Linear Regression to Find a Fit\n",
    "\n",
    "<b>Objective function</b> provides a quantitative assessment of how well the curve fits the data.\n",
    "\n",
    "The most commonly used objective function is called <b>least squares</b>,The objective function is then defined as\n",
    "\n",
    "$\\sum_{i=0}^{len(observed)-1}(observed[i]-predicted[i])^2$\n",
    "\n",
    "####  numpy.polyfit\n",
    "\n",
    "http://docs.scipy.org/doc/numpy/reference/generated/numpy.polyfit.html\n",
    "\n",
    "`Numpy` provides a function, `polyfit`, that finds the best Least squares polynomial fit.\n",
    "\n",
    "Fit a polynomial\n",
    "\n",
    "$p(x) = p[0] * x**deg + ... + p[deg]$\n",
    "\n",
    "of degree deg to points (x, y). \n",
    "\n",
    "Returns a vector of coefficients p that minimises the squared error.\n",
    "\n",
    "```python\n",
    "\n",
    "numpy.polyfit(x, y, deg, rcond=None, full=False, w=None, cov=False)\n",
    "\n",
    "numpy.polyfit(observedXVals, observedYVals, n)\n",
    "\n",
    "numpy.polyfit(observedXVals, observedYVals, 1) # y = ax + b\n",
    "\n",
    "numpy.polyfit(observedXVals, observedYVals, 2) # y = ax^2 + bx+c\n",
    "```\n",
    "The algorithm used by polyfit is called <b>linear regression</b>.\n",
    "\n",
    "The function fitData in Figure 15.3 extends the `plotData` function in Figure 15.2 by adding a line that represents the best fit for the data.\n",
    "\n",
    "The function also computes the spring constant, `k`.\n",
    "\n",
    "There is an asymmetry in the way `forces` and `distance` are treated. \n",
    "\n",
    "The values in `forces` are treated as <b>independent</b>,and used to produce the values in <b>the dependent variable</b> `predictedDistances` (a prediction of the displacements produced by suspending the mass).\n"
   ]
  },
  {
   "cell_type": "code",
   "execution_count": null,
   "metadata": {
    "collapsed": false
   },
   "outputs": [],
   "source": [
    "import numpy as np\n",
    "\n",
    "x = np.array([0.0, 1.0, 2.0, 3.0,  4.0,  5.0])\n",
    "y = np.array([0.0, 0.8, 0.9, 0.1, -0.8, -1.0])\n",
    "z = np.polyfit(x, y, 3)\n",
    "z"
   ]
  },
  {
   "cell_type": "code",
   "execution_count": null,
   "metadata": {
    "collapsed": true
   },
   "outputs": [],
   "source": [
    "def linearfitData( masses, distances):\n",
    "    distances = np.array(distances)\n",
    "    masses = np.array(masses)\n",
    "    forces = masses*9.81\n",
    "    #find linear fit\n",
    "    a,b = np.polyfit(forces, distances, 1)\n",
    "    predictedDistances = a*np.array(forces) + b\n",
    "    \n",
    "    return a,b,predictedDistances"
   ]
  },
  {
   "cell_type": "code",
   "execution_count": null,
   "metadata": {
    "collapsed": false
   },
   "outputs": [],
   "source": [
    "%matplotlib inline\n",
    "\n",
    "import numpy as np\n",
    "import matplotlib.pyplot as plt\n",
    "\n",
    "def plotlinearfitData(a, masses, predictedDistance):\n",
    "    masses = np.array(masses)\n",
    "    forces = masses*9.81\n",
    "    # the spring constant, k\n",
    "    k = 1.0/a\n",
    "    \n",
    "    plt.plot(forces, predictedDistances,\n",
    "               label = 'Displacements predicted by\\nlinear fit, k = '\n",
    "               + str(round(k, 5)))\n",
    "   \n",
    "    plt.legend(loc = 'best')\n",
    "\n",
    "plotData(masses, distances)\n",
    "a,b,predictedDistances=linearfitData( masses, distances)\n",
    "plotlinearfitData(a,masses,predictedDistances)    "
   ]
  },
  {
   "cell_type": "markdown",
   "metadata": {},
   "source": [
    "It is interesting to observe that <b>very few points</b> actually lie on the least-squares fit.\n",
    "\n",
    "It doesn’t look like a great fit. Let’s try a `cubic fit` "
   ]
  },
  {
   "cell_type": "code",
   "execution_count": null,
   "metadata": {
    "collapsed": true
   },
   "outputs": [],
   "source": [
    "def cubfitData(masses, distances):\n",
    "    distances = np.array(distances)\n",
    "    masses = np.array(masses)\n",
    "    forces = masses*9.81\n",
    "\n",
    "    #add cubit fit\n",
    "    a,b,c,d = np.polyfit(forces, distances, 3)\n",
    "    predictedDistances = a*(forces**3) + b*forces**2 + c*forces + d\n",
    "    \n",
    "    return a,b,c,d,predictedDistances\n"
   ]
  },
  {
   "cell_type": "code",
   "execution_count": null,
   "metadata": {
    "collapsed": false
   },
   "outputs": [],
   "source": [
    "#Page 212, Figure 15.3\n",
    "import numpy as np\n",
    "import matplotlib.pyplot as plt\n",
    "\n",
    "def plotcubfitData(masses, distances):\n",
    "    masses = np.array(masses)\n",
    "    forces = masses*9.81\n",
    "    #add cubit fit\n",
    "  \n",
    "    plt.plot(forces, predictedDistances, 'b:', label = 'cubic fit')\n",
    "\n",
    "    plt.legend(loc = 'best')\n",
    "\n",
    "plotData(masses, distances)\n",
    "a,b,predictedDistances=linearfitData( masses, distances)\n",
    "plotlinearfitData(a,masses,predictedDistances)\n",
    "\n",
    "a,b,c,d,predictedDistances=cubfitData(masses, distances)\n",
    "plotcubfitData(masses, distances)"
   ]
  },
  {
   "cell_type": "markdown",
   "metadata": {},
   "source": [
    "The cubic fit <b>looks like</b> a much better model of the data, but is it? <b>Probably not</b>.\n",
    "\n",
    "The <b>raw data</b> merely an indication of <b>experimental error</b>. This can be dangerous.\n",
    "\n",
    "Recall that we started with a theory that there should be <b>a linear relationship</b> between the x and y values, not\n",
    "a cubic one.\n",
    "\n",
    "Let’s see what happens if we use our cubic fit to predict where the point corresponding to <b>1.5kg</b> would lie.\n"
   ]
  },
  {
   "cell_type": "code",
   "execution_count": null,
   "metadata": {
    "collapsed": false
   },
   "outputs": [],
   "source": [
    "#Page 212, Figure 15.3\n",
    "%matplotlib inline\n",
    "\n",
    "import numpy as np\n",
    "import matplotlib.pyplot as plt\n",
    "\n",
    "def outsidefitData(a,b,c,d,outsidepoints,masses, distances):\n",
    "    masses=masses+outsidepoints\n",
    "    masses = np.array(masses)\n",
    "    forces = masses*9.81\n",
    "    # predict where the point corresponding to 1.5kg would lie  \n",
    "    predictedDistances = a*(forces**3) + b*forces**2 + c*forces + d\n",
    "    plt.plot(forces, predictedDistances, 'b:', label = 'cubic fit')\n",
    "\n",
    "    plt.legend(loc = 'best')\n",
    "\n",
    "inputFile='./src/springData.txt'\n",
    "masses, distances = getData(inputFile)\n",
    "plotData(masses, distances)\n",
    "\n",
    "a,b,c,d,predictedDistances=cubfitData(masses, distances)\n",
    "# predict where the point corresponding to 1.5kg would lie  \n",
    "outsidepoints=[1.1,1.2,1.3,1.4,1.5]\n",
    "outsidefitData(a,b,c,d,outsidepoints,masses, distances)\n",
    "        "
   ]
  },
  {
   "cell_type": "markdown",
   "metadata": {},
   "source": [
    "we have is an example of <b>overfitting</b>.\n",
    "\n",
    "we recall that <b>Hooke’s law</b> holds only up to some <b>elastic limit</b>. \n",
    "\n",
    "Perhaps that limit is reached for this spring somewhere around <b>7N</b> (approximately 0.7kg).\n",
    "\n",
    "Let’s see what happens if we eliminate the last six points by replacing the second and third lines of fitData by\n",
    "\n",
    "```python\n",
    " distances[:-6]\n",
    "  masses[:-6]\n",
    "```\n"
   ]
  },
  {
   "cell_type": "code",
   "execution_count": null,
   "metadata": {
    "collapsed": false
   },
   "outputs": [],
   "source": [
    "#Page 212, Figure 15.3\n",
    "import numpy as np\n",
    "import matplotlib.pyplot as plt\n",
    "\n",
    "inputFile='./src/springData.txt'\n",
    "masses, distances = getData(inputFile)\n",
    "\n",
    "masses=masses[:-6]\n",
    "distances=distances[:-6]\n",
    "\n",
    "plotData(masses, distances)\n",
    "a,b,predictedDistances=linearfitData(masses, distances)\n",
    "plotlinearfitData(a,masses,predictedDistances)\n",
    "\n",
    "a,b,c,d,predictedDistances=cubfitData(masses, distances)\n",
    "plotcubfitData(masses, distances)"
   ]
  },
  {
   "cell_type": "markdown",
   "metadata": {},
   "source": [
    "Eliminating those points certainly makes a <b>difference</b>, e.g., k has dropped dramatically and the linear and cubic fits are almost  <b>indistinguishable</b>. \n",
    "\n",
    "But how do we know which of the two linear fits is a better representation of how our spring performs up to its elastic limit? \n",
    "\n",
    "One should never throw out experimental results <b>merely to get a better fit</b>. \n"
   ]
  },
  {
   "cell_type": "markdown",
   "metadata": {},
   "source": [
    "## 15.2 The Behavior of Projectiles"
   ]
  },
  {
   "cell_type": "markdown",
   "metadata": {
    "collapsed": true
   },
   "source": [
    "We decided to use one of our springs to build a device capable of launching a projectile.\n",
    "\n",
    "We measured <b>the height of the projectile at various distances from the launch point</b>.\n",
    "\n",
    "The data was stored in a file **'./src/projectileData.txt'** with the contents\n",
    "\n",
    "```\n",
    "      Distance trial1  trial2 trial3  trial4\n",
    "      1080     0        0      0       0\n",
    "      1044     2.25     3.25   4.5     6.5\n",
    "      \n",
    "      \n",
    "      0        0        0       0       0\n",
    "```\n"
   ]
  },
  {
   "cell_type": "code",
   "execution_count": null,
   "metadata": {
    "collapsed": true
   },
   "outputs": [],
   "source": [
    "# %load './src/projectileData.txt'\n",
    "Distance  \ttrial1\ttrial2\ttrial3\ttrial3\t\n",
    "1080\t  \t0.0\t    0.0\t\t0.0\t\t0.0\n",
    "1044\t\t2.25\t3.25\t4.5\t\t6.5\t\n",
    "1008\t\t5.25\t6.5\t\t6.5\t\t8.75\n",
    "972\t\t\t7.5\t\t7.75\t8.25\t9.25\n",
    "936\t\t\t8.75\t9.25\t9.5\t\t10.5\n",
    "900\t\t\t12.0\t12.25\t12.5\t14.75\n",
    "864\t\t\t13.75\t16.0\t16.6\t16.5\n",
    "828\t\t\t14.75\t15.25\t15.5\t17.5\n",
    "792\t\t\t15.5\t16.0\t16.6\t16.75\n",
    "756\t\t\t17.0\t17.0\t17.5\t19.25\n",
    "720\t\t\t17.5\t18.5\t18.5\t19.0\n",
    "540\t\t\t19.5\t18.5\t19.0\t19.0\n",
    "360\t\t\t18.5\t18.5\t19.0\t19.0\n",
    "180\t\t\t13.0\t13.0\t13.0\t13.0\n",
    "0\t\t\t0.0\t\t0.0\t\t0.0\t\t0.0\n"
   ]
  },
  {
   "cell_type": "markdown",
   "metadata": {},
   "source": [
    "The code in Figure 15.4 was used to plot the mean altitude of the projectile against the distance from the point of launch. It also plots the best linear and quadratic fits to the points."
   ]
  },
  {
   "cell_type": "code",
   "execution_count": 13,
   "metadata": {
    "collapsed": true
   },
   "outputs": [],
   "source": [
    "def getTrajectoryData(fileName):\n",
    "    dataFile = open(fileName, 'r')\n",
    "    distances = []\n",
    "    heights1, heights2, heights3, heights4 = [],[],[],[]\n",
    "    discardHeader = dataFile.readline()\n",
    "    for line in dataFile:\n",
    "        d, h1, h2, h3, h4 = line.split()\n",
    "        distances.append(float(d))\n",
    "        heights1.append(float(h1))\n",
    "        heights2.append(float(h2))\n",
    "        heights3.append(float(h3))\n",
    "        heights4.append(float(h4))\n",
    "    dataFile.close()\n",
    "    return (distances, [heights1, heights2, heights3, heights4])"
   ]
  },
  {
   "cell_type": "code",
   "execution_count": 14,
   "metadata": {
    "collapsed": true
   },
   "outputs": [],
   "source": [
    "fileName='./src/projectileData.txt'\n",
    "distances, heights = getTrajectoryData(fileName)"
   ]
  },
  {
   "cell_type": "code",
   "execution_count": 15,
   "metadata": {
    "collapsed": false
   },
   "outputs": [
    {
     "data": {
      "image/png": "[encoded data removed]",
      "text/plain": [
       "<matplotlib.figure.Figure at 0x7f04cef15630>"
      ]
     },
     "metadata": {},
     "output_type": "display_data"
    }
   ],
   "source": [
    "#Page 215, Figure 15.4\n",
    "%matplotlib inline\n",
    "\n",
    "import numpy as np\n",
    "import matplotlib.pyplot as plt\n",
    "\n",
    "def processTrajectories(distances, heights):\n",
    "    numTrials = len(heights)\n",
    "    distances = np.array(distances)\n",
    "    \n",
    "    #Get array containing mean height at each distance\n",
    "    totHeights =np.array([0]*len(distances))\n",
    "    for h in heights:\n",
    "        totHeights = totHeights +np.array(h)\n",
    "    meanHeights = totHeights/len(heights)\n",
    "    plt.title('Trajectory of Projectile (Mean of '\\\n",
    "                + str(numTrials) + ' Trials)')\n",
    "    plt.xlabel('Inches from Launch Point')\n",
    "    plt.ylabel('Inches Above Launch Point')\n",
    "    plt.plot(distances, meanHeights, 'bo')\n",
    "    \n",
    "    a,b = np.polyfit(distances, meanHeights, 1)\n",
    "    \n",
    "    altitudes = a*distances + b\n",
    "    plt.plot(distances, altitudes, 'b', label = 'Linear Fit')\n",
    "    \n",
    "    a,b,c = np.polyfit(distances, meanHeights, 2)\n",
    "    \n",
    "    altitudes = a*(distances**2) +  b*distances + c\n",
    "    plt.plot(distances, altitudes, 'b:', label = 'Quadratic Fit')\n",
    "    plt.legend()\n",
    "\n",
    "processTrajectories(distances, heights)"
   ]
  },
  {
   "cell_type": "markdown",
   "metadata": {},
   "source": [
    "A quick look at the plot on the right makes it quite clear that a quadratic fit is far better than a linear one\n",
    "\n",
    "#####  how bad a fit is the line and how good is the quadratic fit?"
   ]
  },
  {
   "cell_type": "markdown",
   "metadata": {},
   "source": [
    "### 15.2.1 Coefficient of Determination\n",
    "\n",
    "Asking about <b>the goodness of a fit</b> is equivalent to asking about the accuracy of these predictions.\n",
    "\n",
    "<b>The mean square error</b> is useful for comparing the <b>relative goodness</b> of two fits to the same data, \n",
    "\n",
    "it is <b>not particularly useful for getting a sense of the absolute goodness of a fit</b>.\n",
    "\n",
    "We can calculate <b>the absolute goodness of a fit</b> using the <b>coefficient of determination</b>, often written as $R^2$\n",
    "\n",
    "Let $y_i$ be the $i^{th}$ observed value, $p_i$ be the corresponding value predicted by model, and $\\mu$ be the mean of the observed values.\n",
    "\n",
    "$R^2=1-\\frac{\\sum_{i}(y_i-p_i)^2}{\\sum_{i}(y_i-\\mu)^2}$\n",
    "\n",
    "By comparing\n",
    "\n",
    "<b>the estimation errors</b> (<b>RSS: residual sum of squares</b>,the numerator) \n",
    "\n",
    "with\n",
    "\n",
    "<b>the variability of the original values</b> ( <b>TSS: total sum of squares</b>,the denominator), \n",
    "\n",
    "$R^2$ is intended to capture <b>the proportion of variability </b> in a data set that is accounted for by the statistical model provided by the fit.\n",
    "\n",
    "Its <b>compactness</b> stems from the expressiveness of the operations on <b>arrays</b>."
   ]
  },
  {
   "cell_type": "code",
   "execution_count": null,
   "metadata": {
    "collapsed": true
   },
   "outputs": [],
   "source": [
    "#Page 216, Figure 15.5\n",
    "def rSquared(measured, predicted):\n",
    "    \"\"\"Assumes measured a one-dimensional array of measured values\n",
    "               predicted a one-dimensional array of predicted values\n",
    "       Returns coefficient of determination\"\"\"\n",
    "    # RSS: residual sum of squares\n",
    "    estimateError = ((predicted - measured)**2).sum()\n",
    "    \n",
    "    meanOfMeasured = measured.sum()/float(len(measured))\n",
    "    \n",
    "    # TSS: total sum of squares\n",
    "    variability = ((measured - meanOfMeasured)**2).sum()\n",
    "    \n",
    "    return 1 - estimateError/variability"
   ]
  },
  {
   "cell_type": "code",
   "execution_count": null,
   "metadata": {
    "collapsed": false
   },
   "outputs": [],
   "source": [
    "#Page 215, Figure 15.4\n",
    "%matplotlib inline\n",
    "\n",
    "import numpy as np\n",
    "import matplotlib.pyplot as plt\n",
    "\n",
    "def processTrajectories(distances, heights):\n",
    "    \n",
    "    numTrials = len(heights)\n",
    "    distances = np.array(distances)\n",
    "    \n",
    "    #Get array containing mean height at each distance\n",
    "    totHeights = np.array([0]*len(distances))\n",
    "    for h in heights:\n",
    "        totHeights = totHeights + np.array(h)\n",
    "    \n",
    "    meanHeights = totHeights/len(heights)\n",
    "    \n",
    "    plt.title('Trajectory of Projectile (Mean of '\n",
    "                + str(numTrials) + ' Trials)')\n",
    "    plt.xlabel('Inches from Launch Point')\n",
    "    plt.ylabel('Inches Above Launch Point')\n",
    "    plt.plot(distances, meanHeights, 'bo')\n",
    "    \n",
    "    a,b = np.polyfit(distances, meanHeights, 1)\n",
    "    \n",
    "    altitudes = a*distances + b\n",
    "    \n",
    "    residuals1=rSquared(meanHeights, altitudes)\n",
    "    \n",
    "    plt.plot(distances, altitudes, 'b', label = 'Linear Fit, $R^2$='+str(residuals1))\n",
    "  \n",
    "    #      full=True\n",
    "    # Least-squares solution, residuals, rank, singular_values, rcond \n",
    "    solution,residuals,rank,s,rcond= np.polyfit(distances, meanHeights, 2,full=True)\n",
    "  \n",
    "    altitudes = solution[0]*(distances**2) +  solution[1]*distances + solution[2]\n",
    "    \n",
    "    r2quad=rSquared(meanHeights, altitudes)\n",
    "    \n",
    "    plt.plot(distances, altitudes, 'b:', label = 'Quadratic Fit, $R^2$='+str(r2quad))\n",
    "    \n",
    "    plt.legend()\n",
    "    \n",
    "processTrajectories(distances, heights)"
   ]
  },
  {
   "cell_type": "markdown",
   "metadata": {},
   "source": [
    "This tells us that \n",
    "\n",
    "1 less than 2% of the variation in the measured data can be explained by the linear model,\n",
    "\n",
    "2 more than 98% of the  variation can be explained by the quadratic model"
   ]
  },
  {
   "cell_type": "markdown",
   "metadata": {
    "collapsed": true
   },
   "source": [
    "### 15.2.2 Using a Computational Mode\n",
    "\n",
    "One interesting question is <b>the horizontal speed</b> at which the projectile is traveling when it hits the target. \n",
    "\n",
    "We might use the following train of thought to design <b>a computation</b> that answers this question:\n",
    "    \n",
    "\n",
    "1 Its <b>peak</b> occurs halfway  between the launch point and the target; call this value $xMid$. \n",
    "The peak height, \n",
    "\n",
    " $yPeak=a*xMid^2+b*xMid+c$\n",
    " \n",
    "2  we can compute <b>the amount of time</b> it takes for the projectile to <b>fall from $yPeak$ to\n",
    "the height of the target</b>, because that is purely a function of gravity. It is  given by the equation:\n",
    "\n",
    "$t=\\sqrt{\\frac{2*yPeak}{g}}$\n",
    "\n",
    "https://en.wikipedia.org/wiki/Equations_for_a_falling_body\n",
    "\n",
    "3 Given the time to go from $xMid$ to the target, we can easily compute the average horizontal speed of the projectile over that interval. \n",
    "we can use the average horizontal speed as an estimate of the horizontal speed when the projectile hits the target\n",
    "  "
   ]
  },
  {
   "cell_type": "code",
   "execution_count": null,
   "metadata": {
    "collapsed": true
   },
   "outputs": [],
   "source": [
    "#Page 218, Figure 15.6\n",
    "def getHorizontalSpeed(a, b, c, minX, maxX):\n",
    "    \"\"\"Assumes minX and maxX are distances in inches\n",
    "       Returns horizontal speed in feet per second\"\"\"\n",
    "    inchesPerFoot = 12.0\n",
    "    \n",
    "    xMid = (maxX - minX)/2.0\n",
    "    yPeak = a*xMid**2 + b*xMid + c\n",
    "    \n",
    "    g = 32.16*inchesPerFoot #accel. of gravity in inches/sec/sec\n",
    "    \n",
    "    t = (2*yPeak/g)**0.5\n",
    "    print('Horizontal speed =', int(xMid/(t*inchesPerFoot)), 'feet/sec')\n"
   ]
  },
  {
   "cell_type": "code",
   "execution_count": null,
   "metadata": {
    "collapsed": false
   },
   "outputs": [],
   "source": [
    "#Page 215, Figure 15.4\n",
    "%matplotlib inline\n",
    "\n",
    "import numpy as np\n",
    "import matplotlib.pyplot as plt\n",
    "\n",
    "def processTrajectories(distances, heights):\n",
    "\n",
    "    numTrials = len(heights)\n",
    "    distances = np.array(distances)\n",
    "    \n",
    "    #Get array containing mean height at each distance\n",
    "    totHeights = np.array([0]*len(distances))\n",
    "    for h in heights:\n",
    "        totHeights = totHeights + np.array(h)\n",
    "    meanHeights = totHeights/len(heights)\n",
    "    \n",
    "    plt.title('Trajectory of Projectile (Mean of '\\\n",
    "                + str(numTrials) + ' Trials)')\n",
    "    plt.xlabel('Inches from Launch Point')\n",
    "    plt.ylabel('Inches Above Launch Point')\n",
    "    plt.plot(distances, meanHeights, 'bo')\n",
    "    \n",
    "    a,b = np.polyfit(distances, meanHeights, 1)\n",
    "    \n",
    "    altitudes = a*distances + b\n",
    "    \n",
    "    r2linear=rSquared(meanHeights, altitudes)\n",
    "        \n",
    "    plt.plot(distances, altitudes, 'b', label = 'Linear Fit, $R^2$='+str(r2linear))\n",
    "    \n",
    "    a,b,c = np.polyfit(distances, meanHeights, 2)\n",
    "    altitudes = a*(distances**2) +  b*distances + c\n",
    "    \n",
    "    r2quad=rSquared(meanHeights, altitudes)\n",
    "        \n",
    "    plt.plot(distances, altitudes, 'b:', label = 'Quadratic Fit, $R^2$='+str(r2quad))\n",
    "    \n",
    "    plt.legend()\n",
    "    \n",
    "    getHorizontalSpeed(a, b, c, distances[-1],distances[0])\n",
    "    \n",
    "    \n",
    "processTrajectories(distances, heights)"
   ]
  },
  {
   "cell_type": "markdown",
   "metadata": {},
   "source": [
    "The sequence of steps we have just worked through follows <b>a common pattern</b> \n",
    "\n",
    "1.  We started by performing <b>an experiment</b> to get some data about <b>the behavior</b> of a physical system.\n",
    "\n",
    "2. We then used computation to <b>find</b> and <b>evaluate</b> the quality of <b>a model</b> of the behavior of the system.\n",
    "\n",
    "3. Finally, we used some <b>theory and analysis</b> to design a simple <b>computation</b> to derive an interesting <b>consequence of the model</b>."
   ]
  },
  {
   "cell_type": "markdown",
   "metadata": {},
   "source": [
    "## 15.3 Fitting Exponentially Distributed Data \n",
    "\n",
    "Polyfit uses linear regression to find a polynomial of a given degree that is the best least-squares fit for some data. \n",
    "\n",
    "But this is not always possible. Consider, for example, the simple <b>exponential growth function</b> $y = 2^x$.\n",
    "\n",
    "The code in Figure 15.7 fits a 4th-degree polynomial to the first ten points and plots the results."
   ]
  },
  {
   "cell_type": "code",
   "execution_count": null,
   "metadata": {
    "collapsed": false
   },
   "outputs": [],
   "source": [
    "#Page 218, Figure 15.7\n",
    "%matplotlib inline\n",
    "\n",
    "import numpy\n",
    "import matplotlib.pyplot as plt\n",
    "\n",
    "vals = []\n",
    "for i in range(10):\n",
    "    vals.append(2**i)\n",
    "plt.plot(vals,'bo', label = 'Actual points')\n",
    "\n",
    "xVals = np.arange(10)\n",
    "\n",
    "a,b,c,d,e = np.polyfit(xVals, vals, 4)\n",
    "\n",
    "yVals = a*(xVals**4) + b*(xVals**3) + c*(xVals**2)+ d*xVals + e\n",
    "\n",
    "plt.plot(yVals, 'bx', label = 'Predicted points', markersize = 20)\n",
    "plt.title('Fitting $y = 2^x$')\n",
    "plt.legend(loc='best')\n",
    "plt.show()"
   ]
  },
  {
   "cell_type": "markdown",
   "metadata": {},
   "source": [
    "The fit is clearly a good one, for these data points. However, let’s look at what  the model predicts for $2^{20}$"
   ]
  },
  {
   "cell_type": "code",
   "execution_count": null,
   "metadata": {
    "collapsed": false
   },
   "outputs": [],
   "source": [
    "pred2to20 = a*(20**4) + b*(20**3) + c*(20**2)+ d*20 + e\n",
    "print('Model predicts that 2**20 is roughly', round(pred2to20))\n",
    "print('Actual value of 2**20 is', 2**20)"
   ]
  },
  {
   "cell_type": "markdown",
   "metadata": {},
   "source": [
    "##### It is because no polynomial is a good fit for an exponential distribution.\n",
    "\n",
    "we can use polyfit to find a curve that fits the original independent values and the <b>log</b> of the dependent values\n",
    "\n",
    "If a function $y = f(x)$, exhibits exponential growth, the $log$ (to any base) of $f(x)$ grows linearly. \n",
    "\n",
    "This can be visualized by plotting an exponential function with a logarithmic y-axis."
   ]
  },
  {
   "cell_type": "code",
   "execution_count": null,
   "metadata": {
    "collapsed": false
   },
   "outputs": [],
   "source": [
    "%matplotlib inline\n",
    "import matplotlib.pyplot as plt\n",
    "\n",
    "xVals, yVals = [], []\n",
    "for i in range(10):\n",
    "    xVals.append(i)\n",
    "    yVals.append(2**i)\n",
    "plt.plot(xVals, yVals)\n",
    "plt.semilogy()\n",
    "plt.show()"
   ]
  },
  {
   "cell_type": "markdown",
   "metadata": {},
   "source": [
    "The fact that taking <b>the log of an exponential function</b> produces <b>a linear function</b> can be used to construct a model for an exponentially distributed set of data points."
   ]
  },
  {
   "cell_type": "code",
   "execution_count": null,
   "metadata": {
    "collapsed": false
   },
   "outputs": [],
   "source": [
    "#Page 220, Figure 15.8\n",
    "%matplotlib inline\n",
    "\n",
    "import math\n",
    "import numpy as np\n",
    "import matplotlib.pyplot as plt\n",
    "\n",
    "#define an arbitrary exponential function\n",
    "def f(x):\n",
    "    return 3*(2**(1.2*x))\n",
    "\n",
    "def createExpData(f, xVals):\n",
    "    \"\"\"Asssumes f is an exponential function of one argument\n",
    "                xVals is an array of suitable arguments for f\n",
    "       Returns array containing results of applying f to the\n",
    "               elements of xVals\"\"\"\n",
    "    yVals = []\n",
    "    for i in range(len(xVals)):\n",
    "        yVals.append(f(xVals[i]))\n",
    "    return np.array(xVals), np.array(yVals)\n",
    "\n",
    "def fitExpData(xVals, yVals):\n",
    "    \"\"\"Assumes xVals and yVals arrays of numbers such that\n",
    "         yVals[i] == f(xVals[i])\n",
    "       Returns a, b, base such that log(f(x), base) == ax + b\"\"\"\n",
    "    \n",
    "    logVals = []\n",
    "    for y in yVals:\n",
    "        logVals.append(math.log(y, 2.0)) #get log base 2\n",
    "    \n",
    "    a,b = np.polyfit(xVals, logVals, 1)\n",
    "    return a, b, 2.0\n",
    "\n",
    "xVals, yVals = createExpData(f, range(10))\n",
    "plt.plot(xVals, yVals, 'ro', label = 'Actual values')\n",
    "a, b, base = fitExpData(xVals, yVals)\n",
    "\n",
    "predictedYVals = []\n",
    "for x in xVals:\n",
    "    predictedYVals.append(base**(a*x + b))\n",
    "    \n",
    "plt.plot(xVals, predictedYVals, label = 'Predicted values')\n",
    "plt.title('Fitting an Exponential Function')\n",
    "plt.legend()\n",
    "\n",
    "#Look at a value for x not in original data\n",
    "print('f(20) =', f(20))\n",
    "print('Predicted f(20) =', base**(a*20 + b))\n"
   ]
  },
  {
   "cell_type": "markdown",
   "metadata": {},
   "source": [
    "This method of using `polyfit` to find a model for data works when the relationship can be described by an equation of the form:\n",
    "\n",
    "$y = base^{ax+b}$\n",
    "\n",
    " If used on  data that <b>cannot be described this way<b>, it will yield erroneous results"
   ]
  },
  {
   "cell_type": "code",
   "execution_count": null,
   "metadata": {
    "collapsed": false
   },
   "outputs": [],
   "source": [
    "#define an arbitrary exponential function\n",
    "# cannot be described y=b^(ax+b)\n",
    "%matplotlib inline\n",
    "\n",
    "import numpy as np\n",
    "import matplotlib.pyplot as plt\n",
    "\n",
    "def f(x):\n",
    "    return 3*(2**(1.2*x))+x\n",
    "\n",
    "def createExpData(f, xVals):\n",
    "    \"\"\"Asssumes f is an exponential function of one argument\n",
    "                xVals is an array of suitable arguments for f\n",
    "       Returns array containing results of applying f to the\n",
    "               elements of xVals\"\"\"\n",
    "    yVals = []\n",
    "    for i in range(len(xVals)):\n",
    "        yVals.append(f(xVals[i]))\n",
    "    return np.array(xVals), np.array(yVals)\n",
    "\n",
    "def fitExpData(xVals, yVals):\n",
    "    \"\"\"Assumes xVals and yVals arrays of numbers such that\n",
    "         yVals[i] == f(xVals[i])\n",
    "       Returns a, b, base such that log(f(x), base) == ax + b\"\"\"\n",
    "    \n",
    "    logVals = []\n",
    "    for y in yVals:\n",
    "        logVals.append(math.log(y, 2.0)) #get log base 2\n",
    "    \n",
    "    a,b = np.polyfit(xVals, logVals, 1)\n",
    "    return a, b, 2.0\n",
    "\n",
    "xVals, yVals = createExpData(f, range(10))\n",
    "plt.plot(xVals, yVals, 'ro', label = 'Actual values')\n",
    "a, b, base = fitExpData(xVals, yVals)\n",
    "\n",
    "predictedYVals = []\n",
    "for x in xVals:\n",
    "    predictedYVals.append(base**(a*x + b))\n",
    "\n",
    "plt.plot(xVals, predictedYVals, label = 'Predicted values')\n",
    "plt.title('Fitting an Exponential Function')\n",
    "plt.legend(loc = 'best')\n",
    "plt.show()\n",
    "\n",
    "#Look at a value for x not in original data\n",
    "print('f(20) =', f(20))\n",
    "print('Predicted f(20) =', base**(a*20 + b))"
   ]
  },
  {
   "cell_type": "markdown",
   "metadata": {},
   "source": [
    "## scipy.optimize.curve_fit\n",
    "\n",
    "http://docs.scipy.org/doc/scipy/reference/generated/scipy.optimize.curve_fit.html\n",
    "    \n",
    "    "
   ]
  },
  {
   "cell_type": "code",
   "execution_count": null,
   "metadata": {
    "collapsed": false
   },
   "outputs": [],
   "source": [
    "# scipy.optimize.curve_fit(f, xdata, ydata, p0=None, sigma=None, absolute_sigma=False, \n",
    "#            check_finite=True, bounds=(-inf, inf), method=None, **kwargs)[source]\n",
    "\n",
    "import numpy as np\n",
    "from scipy.optimize import curve_fit\n",
    "\n",
    "def func(x, a, b, c):\n",
    "    return a * np.exp(-b * x) + c\n",
    "\n",
    "xdata = np.linspace(0, 4, 50)\n",
    "ydata = func(xdata, 2.5, 1.3, 0.5)\n",
    "\n",
    "popt, pcov = curve_fit(func, xdata, ydata)\n",
    "\n",
    "print(popt,'\\n')\n",
    "print(pcov)"
   ]
  },
  {
   "cell_type": "code",
   "execution_count": null,
   "metadata": {
    "collapsed": false
   },
   "outputs": [],
   "source": [
    "def f(x,a,b,c):\n",
    "    return a*(b**(c*x))\n",
    "\n",
    "xdata = np.linspace(0, 9, 10)\n",
    "ydata = func(xdata, 3, 2, 1.2)\n",
    "\n",
    "popt, pcov = curve_fit(func, xdata, ydata)\n",
    "print(popt,'\\n')\n",
    "print(pcov)"
   ]
  },
  {
   "cell_type": "code",
   "execution_count": null,
   "metadata": {
    "collapsed": false
   },
   "outputs": [],
   "source": [
    "def f(x,a,b,c,d):\n",
    "    return a*(b**(c*x))+d*x\n",
    "\n",
    "xdata = np.linspace(0, 9, 10)\n",
    "ydata = f(xdata, 3, 2,1.2,1)\n",
    "\n",
    "popt, pcov = curve_fit(f, xdata, ydata)\n",
    "print(popt,'\\n')\n",
    "print(pcov)\n",
    "\n",
    "print(f(20,3,2,1.2,1))\n",
    "print(f(20,popt[0],popt[1],popt[2],popt[3]))"
   ]
  },
  {
   "cell_type": "markdown",
   "metadata": {},
   "source": [
    "## 15.4 When Theory Is Missing"
   ]
  },
  {
   "cell_type": "markdown",
   "metadata": {},
   "source": [
    "In an ideal world, we would run <b>a controlled experiment</b> (e.g., hang weights from a spring), study the results, and retrospectively formulate a model consistent\n",
    "with those results.\n",
    "\n",
    "Unfortunately, in many cases it is <b>impossible to run even one controlled experiment</b>\n",
    "\n",
    "In such situations, one can <b>simulate a set of experiments</b> by dividing the existing data into <b>a training set</b> and <b>a holdout set</b>.\n",
    "\n",
    "##### How does one choose the training set?\n",
    "\n",
    "1. One way to do this is to <b>randomly choose the samples</b> for the training set.\n",
    "\n",
    "2.  A related but slightly different way to check a model is to train on <b>many randomly selected subsets</b> of the original data, and see how similar the models are to one another. \n",
    "\n",
    "If they are quite similar, than we can feel pretty good. This  approach is known as <b>cross validation</b>. \n",
    "\n",
    "\n"
   ]
  }
 ],
 "metadata": {
  "kernelspec": {
   "display_name": "Python 3",
   "language": "python",
   "name": "python3"
  },
  "language_info": {
   "codemirror_mode": {
    "name": "ipython",
    "version": 3
   },
   "file_extension": ".py",
   "mimetype": "text/x-python",
   "name": "python",
   "nbconvert_exporter": "python",
   "pygments_lexer": "ipython3",
   "version": "3.5.2"
  }
 },
 "nbformat": 4,
 "nbformat_minor": 0
}
