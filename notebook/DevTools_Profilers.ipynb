{
 "cells": [
  {
   "cell_type": "markdown",
   "metadata": {
    "collapsed": true,
    "slideshow": {
     "slide_type": "slide"
    }
   },
   "source": [
    "# Profilers  \n",
    "\n",
    "* **27.4. The Python Profilers**  \n",
    "\n",
    "   https://docs.python.org/3/library/profile.html\n",
    "\n",
    "## 27.4.1. Introduction to the profilers\n",
    "\n",
    "**A profile is a set of statistics** that describes\n",
    "\n",
    "*  **how often** and for **how long** various parts of the program executed.\n",
    "\n",
    "These statistics can be formatted into **reports** via the **pstats** module.\n",
    "\n",
    "The Python standard library provides **two** different implementations of the same profiling interface:\n",
    "\n",
    "**cProfile** and **profile** \n",
    "\n",
    "provide deterministic profiling of Python programs. \n",
    "\n",
    "* **cProfile** is recommended for most users\n",
    "\n",
    "  * it’s a C extension with reasonable overhead that makes it suitable for profiling long-running programs. \n",
    "  \n",
    "  Based on `lsprof`, contributed by Brett Rosen and Ted Czotter.\n",
    "\n",
    "* **profile**, a pure Python module whose interface is imitated by cProfile, \n",
    "\n",
    "   * adds significant overhead to profiled programs.\n",
    "   \n",
    "   If you’re trying to extend the profiler in some way, the task might be easier with this module. \n",
    "   \n",
    "   Originally designed and written by Jim Roskind.\n",
    "\n",
    "### Profilers: Performance analysis of Python programs.\n",
    "\n",
    "* **cProfile or profile**: the raw profiling data  \n",
    "\n",
    "* **pstats**:  manipulating and printing data in the raw profiling results file"
   ]
  },
  {
   "cell_type": "markdown",
   "metadata": {
    "collapsed": true
   },
   "source": [
    "## 27.4.2. Instant User’s Manual:rapidly perform profiling\n",
    "\n",
    "This section is provided for users that “don’t want to read the manual.” \n",
    "\n",
    "It provides a very brief overview, and allows a user to rapidly perform profiling on an existing application.\n",
    "\n",
    "The most basic starting point in the profile module is \n",
    "\n",
    "```python\n",
    "   cProfile.run(argument:a string statement)\n",
    "```\n",
    "It takes **a string statement** as argument, \n",
    "\n",
    "and creates a **report** of the time spent executing different lines of code while running the statement. "
   ]
  },
  {
   "cell_type": "code",
   "execution_count": 1,
   "metadata": {},
   "outputs": [
    {
     "name": "stdout",
     "output_type": "stream",
     "text": [
      "         80 function calls in 0.001 seconds\n",
      "\n",
      "   Ordered by: standard name\n",
      "\n",
      "   ncalls  tottime  percall  cumtime  percall filename:lineno(function)\n",
      "        1    0.000    0.000    0.001    0.001 <string>:1(<module>)\n",
      "        2    0.000    0.000    0.000    0.000 _iapws.py:655(_Viscosity)\n",
      "        2    0.000    0.000    0.000    0.000 _iapws.py:692(<listcomp>)\n",
      "        2    0.000    0.000    0.000    0.000 _iapws.py:701(<listcomp>)\n",
      "        2    0.000    0.000    0.000    0.000 _iapws.py:745(_ThCond)\n",
      "        2    0.000    0.000    0.000    0.000 _iapws.py:782(<listcomp>)\n",
      "        2    0.000    0.000    0.000    0.000 _iapws.py:795(<listcomp>)\n",
      "        2    0.000    0.000    0.000    0.000 _iapws.py:819(<listcomp>)\n",
      "        1    0.000    0.000    0.000    0.000 _iapws.py:847(_Tension)\n",
      "        2    0.000    0.000    0.000    0.000 _iapws.py:885(_Dielectric)\n",
      "        2    0.000    0.000    0.000    0.000 _iapws.py:937(_Refractive)\n",
      "        1    0.000    0.000    0.000    0.000 _utils.py:10(getphase)\n",
      "       12    0.000    0.000    0.000    0.000 _utils.py:168(deriv_G)\n",
      "        1    0.000    0.000    0.000    0.000 iapws97.py:1040(Region2_cp0)\n",
      "        1    0.000    0.000    0.000    0.000 iapws97.py:320(_TSat_P)\n",
      "        1    0.000    0.000    0.000    0.000 iapws97.py:3794(_Bound_TP)\n",
      "        1    0.000    0.000    0.000    0.000 iapws97.py:4155(prop0)\n",
      "        1    0.000    0.000    0.001    0.001 iapws97.py:4304(__init__)\n",
      "        1    0.000    0.000    0.001    0.001 iapws97.py:4308(__call__)\n",
      "        1    0.000    0.000    0.000    0.000 iapws97.py:4316(calculable)\n",
      "        1    0.000    0.000    0.001    0.001 iapws97.py:4339(calculo)\n",
      "        2    0.000    0.000    0.000    0.000 iapws97.py:4631(fill)\n",
      "       12    0.000    0.000    0.000    0.000 iapws97.py:4676(derivative)\n",
      "        1    0.000    0.000    0.000    0.000 iapws97.py:696(_Region1)\n",
      "        1    0.000    0.000    0.001    0.001 {built-in method builtins.exec}\n",
      "        2    0.000    0.000    0.000    0.000 {built-in method builtins.round}\n",
      "       10    0.000    0.000    0.000    0.000 {built-in method builtins.sum}\n",
      "        6    0.000    0.000    0.000    0.000 {built-in method math.exp}\n",
      "        1    0.000    0.000    0.000    0.000 {built-in method math.log}\n",
      "        1    0.000    0.000    0.000    0.000 {built-in method math.sqrt}\n",
      "        1    0.000    0.000    0.000    0.000 {method 'copy' of 'dict' objects}\n",
      "        1    0.000    0.000    0.000    0.000 {method 'disable' of '_lsprof.Profiler' objects}\n",
      "        1    0.000    0.000    0.000    0.000 {method 'update' of 'dict' objects}\n",
      "\n",
      "\n"
     ]
    }
   ],
   "source": [
    "import cProfile\n",
    "import iapws.iapws97\n",
    "cProfile.run('iapws.iapws97.IAPWS97(P=16,T=320)')"
   ]
  },
  {
   "cell_type": "markdown",
   "metadata": {},
   "source": [
    "### Example: To profile a function :re.compile\n",
    "\n",
    "```python\n",
    "  re.compile()\n",
    "```\n",
    "that takes a single argument"
   ]
  },
  {
   "cell_type": "code",
   "execution_count": null,
   "metadata": {
    "collapsed": true
   },
   "outputs": [],
   "source": [
    "import cProfile\n",
    "import re\n",
    "cProfile.run('re.compile(\"foo|bar\")')"
   ]
  },
  {
   "cell_type": "markdown",
   "metadata": {},
   "source": [
    "### re — Regular expression operations\n",
    "   \n",
    "  https://docs.python.org/3.5/library/re.html\n",
    "  \n",
    "  This module provides <strong style=\"color:blue\">regular expression(RE)</strong> **matching operations** \n",
    "  \n",
    " **Regular Expression Syntax**\n",
    "\n",
    "   * **A regular expression** specifies **a set of strings** that matches it\n",
    "   \n",
    "   * The functions in this module let you check if a particular string matches a given regular expression\n",
    "   \n",
    "   or if a given regular expression matches a particular string\n",
    "\n",
    "\n",
    "** '|' ** \n",
    "\n",
    "* **A|B** :  where A and B can be arbitrary REs, creates a regular expression that will match either A or B\n",
    "   \n",
    "   * Regular Expressio: \"foo|bar\""
   ]
  },
  {
   "cell_type": "code",
   "execution_count": null,
   "metadata": {
    "collapsed": true
   },
   "outputs": [],
   "source": [
    "import re\n",
    "m = re.search(\"foo|bar\", 'abcfoo')\n",
    "m.group(0)"
   ]
  },
  {
   "cell_type": "markdown",
   "metadata": {},
   "source": [
    "* **re.compile(pattern, flags=0)**\n",
    "\n",
    "   * **Compile** a regular expression pattern into a regular expression object,\n",
    "    \n",
    "      which can be used for matching using its **match()** and **search()** methods,\n"
   ]
  },
  {
   "cell_type": "code",
   "execution_count": null,
   "metadata": {
    "collapsed": true
   },
   "outputs": [],
   "source": [
    "# a regular expression pattern: \"foo|bar\" to  a regular expression object pattern \n",
    "pattern = re.compile(\"foo|bar\")\n",
    "# using a regular expression object pattern \n",
    "m1=pattern.search(\"foo\")  \n",
    "m2=pattern.search(\"bar\")\n",
    "print(m1.group(0))\n",
    "print(m2.group(0))"
   ]
  },
  {
   "cell_type": "markdown",
   "metadata": {},
   "source": [
    "## To profile a function :re.compile"
   ]
  },
  {
   "cell_type": "code",
   "execution_count": null,
   "metadata": {
    "collapsed": true
   },
   "outputs": [],
   "source": [
    "import cProfile\n",
    "import re\n",
    "cProfile.run('re.compile(\"foo|bar\")')"
   ]
  },
  {
   "cell_type": "markdown",
   "metadata": {},
   "source": [
    "**The first line**\n",
    "\n",
    "<strong style=\"color:blue\">185 function calls (180 primitive calls) in 0.000 seconds</strong>\n",
    "   \n",
    "   * indicates that \n",
    "     \n",
    "      * 185 calls were monitored.\n",
    "   \n",
    "      * Of those calls, 180 were primitive, meaning that the call was not induced via **recursion**. \n",
    "\n",
    "**The next line**\n",
    "\n",
    "<strong style=\"color:blue\">Ordered by: standard name</strong> \n",
    "   \n",
    "   * indicates that\n",
    "   \n",
    "     * the text string in the far right column **filename of the module** was used to sort the output. \n",
    "\n",
    "** The column headings include:**\n",
    "```\n",
    "ncalls  tottime  percall  cumtime  percall filename:lineno(function)\n",
    "25/24    0.000    0.000    0.000    0.000 {built-in method builtins.len}\n",
    "```\n",
    "* <b>ncalls</b>: the number of calls in the given function\n",
    "   \n",
    "     * there are two numbers **3/1** in the the column \n",
    "     \n",
    "     ```\n",
    "     3/1    0.000    0.000    0.000    0.000 sre_compile.py:64(_compile)\n",
    "     3/1    0.000    0.000    0.000    0.000 sre_parse.py:167(getwidth)\n",
    "\n",
    "     ```\n",
    "     it means that the function **recursed**.\n",
    "     \n",
    "     The second value: **1** is the number of primitive calls \n",
    "     The former **3** : is the total number of calls. \n",
    "     \n",
    "     Note that when the function does not recurse, these two values are the same, and only the single figure is printed\n",
    "      ```\n",
    "        8    0.000    0.000    0.000    0.000 sre_parse.py:226(__next)\n",
    "      ```\n",
    "\n",
    "   \n",
    " * <b>tottime</b>: the total time spent in the given function (and **excluding** time made in calls to sub-functions)\n",
    "\n",
    " * <b>percall</b> is the quotient of tottime divided by **ncalls** :tottime/ncalls\n",
    "\n",
    " * <b>cumtime</b> is the cumulative time spent in **this and all subfunctions** (from invocation till exit). \n",
    "  \n",
    " * <b>percall</b> is the quotient of cumtime divided by **primitive calls** : cumtime/primitive calls\n",
    "\n",
    " * <b>filename:lineno(function)</b> provides the respective data of each function\n"
   ]
  },
  {
   "cell_type": "markdown",
   "metadata": {},
   "source": [
    "## The results to a file\n",
    "  \n",
    "<b>1 Save the results to a file</b>\n",
    " \n",
    "  * specifying a filename to the `run()` function:"
   ]
  },
  {
   "cell_type": "code",
   "execution_count": null,
   "metadata": {
    "collapsed": true
   },
   "outputs": [],
   "source": [
    "import cProfile\n",
    "import re\n",
    "#cProfile.run('re.compile(\"foo|bar\")')\n",
    "#'re_stats' a filename for the run() function:\n",
    "cProfile.run('re.compile(\"foo|bar\")','re_stats')"
   ]
  },
  {
   "cell_type": "markdown",
   "metadata": {},
   "source": [
    "*2 manipulating and printing the data** saved into a profile results file\n",
    "\n",
    "   **pstats**: saving and working with tatistics\n",
    "   \n",
    "    Reports of the raw profiling data from `run()` can be processed  separately with the `Stats` class from `pstats`.\n",
    "\n",
    "* **pstats.stats**\n",
    "\n",
    "   The `pstats` module’s `Stats` class  a variety of methods for manipulating and printing the data saved into a profile results file:\n",
    "   \n",
    "  "
   ]
  },
  {
   "cell_type": "code",
   "execution_count": null,
   "metadata": {
    "collapsed": true
   },
   "outputs": [],
   "source": [
    "import pstats\n",
    "p = pstats.Stats('re_stats')\n",
    "p.strip_dirs().sort_stats(-1).print_stats()"
   ]
  },
  {
   "cell_type": "markdown",
   "metadata": {},
   "source": [
    "* **strip_dirs()**：　removed the extraneous path from all the module names. \n",
    "\n",
    "* **sort_stats()**：　sorted all the entries according to the standard  <b>module/line/name</b> string that is printed.\n",
    "\n",
    "* **print_stats()**： method printed out all the statistics.\n",
    "\n",
    "#### You might try the following sort calls:\n",
    "\n",
    "* sort the list by function name"
   ]
  },
  {
   "cell_type": "code",
   "execution_count": null,
   "metadata": {
    "collapsed": true
   },
   "outputs": [],
   "source": [
    "p.sort_stats('name')\n",
    "p.print_stats()"
   ]
  },
  {
   "cell_type": "markdown",
   "metadata": {},
   "source": [
    "### The following are some interesting calls to experiment with:\n",
    "\n",
    "* 1  understand <b>what algorithms</b> are taking time.\n",
    "\n",
    "    This sorts the profile by <b>cumulative time</b> in a function, and then only prints <b>the ten most significant lines</b>. \n",
    "\n",
    "    * Ordered by: cumulative time"
   ]
  },
  {
   "cell_type": "code",
   "execution_count": null,
   "metadata": {
    "collapsed": true
   },
   "outputs": [],
   "source": [
    "p.sort_stats('cumulative').print_stats(10)"
   ]
  },
  {
   "cell_type": "markdown",
   "metadata": {},
   "source": [
    "\n",
    "* 2 looking to see **what functions** were looping a lot and taking a lot of time:\n",
    "\n",
    "   To sort according to time spent **within each function**, and then print the statistics for the top ten functions.\n",
    "   \n",
    "   * Ordered by: internal time "
   ]
  },
  {
   "cell_type": "code",
   "execution_count": null,
   "metadata": {
    "collapsed": true
   },
   "outputs": [],
   "source": [
    "p.sort_stats('time').print_stats(10)"
   ]
  },
  {
   "cell_type": "markdown",
   "metadata": {},
   "source": [
    "* 3 <b>sort all the statistics by file name</b>, \n",
    "\n",
    "   print out statistics for <b>only the class init methods</b> \n",
    "\n",
    "```python\n",
    "    __init__\n",
    "```"
   ]
  },
  {
   "cell_type": "code",
   "execution_count": null,
   "metadata": {
    "collapsed": true
   },
   "outputs": [],
   "source": [
    "p.sort_stats('filename').print_stats('__init__')"
   ]
  },
  {
   "cell_type": "markdown",
   "metadata": {},
   "source": [
    "* **4** This line sorts statistics with \n",
    "\n",
    "  * a **primary** key: internal time\n",
    " \n",
    "  * a **secondary** key: cumulative time\n",
    "\n",
    "and then prints out some of the statistics. \n",
    "\n",
    "To be specific, the list is first culled down to <b>50% (re: .5)</b> of its original size, \n",
    "\n",
    "then only lines containing <b>init</b> are maintained and that **sub-sub-list** is printed."
   ]
  },
  {
   "cell_type": "code",
   "execution_count": null,
   "metadata": {
    "collapsed": true
   },
   "outputs": [],
   "source": [
    "p.sort_stats('time', 'cumulative').print_stats(.5, 'init')"
   ]
  },
  {
   "cell_type": "markdown",
   "metadata": {},
   "source": [
    "## Profiling in module\n",
    "\n",
    "Example: iapws.iapws97 \n",
    "\n",
    "###  profiling data in file"
   ]
  },
  {
   "cell_type": "code",
   "execution_count": null,
   "metadata": {
    "collapsed": true
   },
   "outputs": [],
   "source": [
    "import cProfile\n",
    "import pstats\n",
    "from iapws.iapws97 import IAPWS97\n",
    "\n",
    "p = 16.10\n",
    "t = 535.10\n",
    "# 1 profiling \n",
    "pr = cProfile.Profile()\n",
    "\n",
    "pr.enable()\n",
    "\n",
    "steam = IAPWS97(P=p, T=t)\n",
    "\n",
    "pr.disable()\n",
    "\n",
    "#  2 profiling data in file\n",
    "profilingdatafile=open(\"iapws97_stats\", \"w\", encoding=\"utf-8\")\n",
    "\n",
    "sortby = 'cumulative'\n",
    "\n",
    "ps = pstats.Stats(pr, stream=profilingdatafile).sort_stats(sortby)  \n",
    "\n",
    "ps.print_stats()\n",
    "\n",
    "profilingdatafile.close()"
   ]
  },
  {
   "cell_type": "code",
   "execution_count": null,
   "metadata": {
    "collapsed": true
   },
   "outputs": [],
   "source": [
    "%load iapws97_stats"
   ]
  },
  {
   "cell_type": "markdown",
   "metadata": {},
   "source": [
    "### Profiling  data in memory-text"
   ]
  },
  {
   "cell_type": "code",
   "execution_count": null,
   "metadata": {
    "collapsed": true
   },
   "outputs": [],
   "source": [
    "import cProfile\n",
    "import pstats\n",
    "import io\n",
    "\n",
    "from iapws.iapws97 import IAPWS97\n",
    "\n",
    "p = 16.10\n",
    "t = 535.10\n",
    "# 1 profiling \n",
    "pr = cProfile.Profile()\n",
    "\n",
    "pr.enable()\n",
    "\n",
    "steam = IAPWS97(P=p, T=t)\n",
    "\n",
    "pr.disable()\n",
    "\n",
    "# 2 profiling data in  In-memory text stream\n",
    "profilingdata = io.StringIO() # 1 : In-memory text streams \n",
    "sortby = 'cumulative'\n",
    "ps = pstats.Stats(pr, stream=profilingdata).sort_stats(sortby) # 2 : Stats in In-memory text streams\n",
    "ps.print_stats()\n",
    "\n",
    "print(profilingdata.getvalue()) # 3: get In-memory text streams\n",
    "\n",
    "# 3 In-memory text stream to file\n",
    "\n",
    "#filename=\"CON\"\n",
    "filename=\"iapws97_stats_memory_text\"\n",
    "datafile=open(\"iapws97_stats_memory_text\", \"w\", encoding=\"utf-8\")\n",
    "print(profilingdata.getvalue(),file=datafile) # 3: get In-memory text streams\n",
    "datafile.close()"
   ]
  },
  {
   "cell_type": "code",
   "execution_count": null,
   "metadata": {
    "collapsed": true
   },
   "outputs": [],
   "source": [
    "%load iapws97_stats_memory_text"
   ]
  },
  {
   "cell_type": "markdown",
   "metadata": {},
   "source": [
    "### 6.2. io — Core tools for working with streams\n",
    "\n",
    "https://docs.python.org/3/library/io.html\n",
    "    \n",
    "The **io** module provides Python’s main facilities for dealing with various types of I/O.\n",
    "\n",
    "There are three main types of I/O: \n",
    "\n",
    "* text I/O\n",
    "\n",
    "* binary I/O\n",
    "\n",
    "* raw I/O    \n",
    "\n",
    "**In-memory text streams** are also available as **StringIO** objects:   "
   ]
  },
  {
   "cell_type": "code",
   "execution_count": null,
   "metadata": {
    "collapsed": true
   },
   "outputs": [],
   "source": [
    "f = io.StringIO(\"some initial text data\")\n",
    "f.getvalue()"
   ]
  },
  {
   "cell_type": "markdown",
   "metadata": {},
   "source": [
    "## Profiling Fibonacci and Decorators\n",
    " \n",
    "This <b>recursive</b> version of a <b>fibonacci</b> sequence calculator is especially useful for demonstrating the profile \n",
    "\n",
    "because we can **improve the performance so much**.\n",
    "\n",
    "The standard report format shows a summary and then details for each function executed.\n",
    "    "
   ]
  },
  {
   "cell_type": "code",
   "execution_count": null,
   "metadata": {
    "collapsed": true
   },
   "outputs": [],
   "source": [
    "import cProfile\n",
    "\n",
    "def fib(n):\n",
    "    # https://en.wikipedia.org/wiki/Fibonacci_number\n",
    "    # http://en.literateprograms.org/Fibonacci_numbers_(Python)\n",
    "    if n == 0 or n == 1:\n",
    "        return 1\n",
    "    else:\n",
    "        return fib(n-1) + fib(n-2)\n",
    "\n",
    "def fib_seq(n):\n",
    "    \n",
    "    seq = [ ]\n",
    "    if n > 0:\n",
    "        seq.extend(fib_seq(n-1))\n",
    "    seq.append(fib(n))\n",
    "    \n",
    "    return seq\n",
    "\n",
    "print('RAW Fibonacci \\n','=' * 80)\n",
    "cProfile.run('print(fib_seq(10))')"
   ]
  },
  {
   "cell_type": "markdown",
   "metadata": {},
   "source": [
    " ```\n",
    "    57381 function calls (91 primitive calls) in 0.022 seconds\n",
    "    \n",
    "    ncalls  tottime  percall  cumtime  percall filename:lineno(function)\n",
    "     21/1    0.000    0.000    0.029    0.029 <ipython-input-10-52bbc096ad96>:11(fib_seq)\n",
    " 57291/21    0.029    0.000    0.029    0.001 <ipython-input-10-52bbc096ad96>:3(fib)\n",
    "\n",
    "```    "
   ]
  },
  {
   "cell_type": "code",
   "execution_count": null,
   "metadata": {
    "collapsed": true
   },
   "outputs": [],
   "source": [
    "print('RAW Fibonacci \\n','=' * 80)\n",
    "cProfile.run('print(fib_seq(20))')"
   ]
  },
  {
   "cell_type": "markdown",
   "metadata": {},
   "source": [
    "* fib_seq(10)\n",
    "```\n",
    "513 function calls (61 primitive calls) in 0.000 seconds\n",
    "   ncalls  tottime  percall  cumtime  percall filename:lineno(function)\n",
    "     11/1    0.000    0.000    0.000    0.000 <ipython-input-13-040ebd920202>:11(fib_seq)\n",
    "   453/11    0.000    0.000    0.000    0.000 <ipython-input-13-040ebd920202>:3(fib)\n",
    "```\n",
    "* fib_seq(20)\n",
    "```\n",
    "  57381 function calls (91 primitive calls) in 0.022 seconds\n",
    "  ncalls  tottime  percall  cumtime  percall filename:lineno(function)\n",
    "     21/1    0.000    0.000    0.022    0.022 <ipython-input-13-040ebd920202>:11(fib_seq)\n",
    " 57291/21    0.022    0.000    0.022    0.001 <ipython-input-13-040ebd920202>:3(fib)\n",
    "```\n",
    "\n",
    "* ** 57381 function calls >>>513 function calls ** \n",
    "* ** 57381 function calls >>>  primitive calls ** \n",
    "\n",
    "Not surprisingly, most of the time here is spent calling <b>`fib()` repeatedly </b>. \n",
    "\n",
    "It’s a very **inefficient** algorithm: \n",
    "\n",
    "  * the amount of function calls increases <b>exponentially</b> for increasing values of <b>n</b>\n",
    "\n",
    "because the function calls values that it has already calculated again and again.\n",
    "\n",
    "<img src=\"./img/recursion_without_cache.png\"/> \n",
    "\n",
    "#### We needed to speed up a lot of my recursive algorithms.\n",
    "\n",
    "### ** Decorators**  really came to the rescue in the form of **memoization**\n",
    "\n",
    "* https://en.wikipedia.org/wiki/Memoization\n",
    "\n",
    "The easy way to optimize this would be to \n",
    "\n",
    "* **cache the values in a dictionary** \n",
    "\n",
    "* then,check to see if that value of <b>n</b> has been called previously. \n",
    "\n",
    "  * If it has, return it’s value in the dictionary, \n",
    "\n",
    "  * if not, proceed to call the function. \n",
    "  \n",
    "This is ** memoization **.\n"
   ]
  },
  {
   "cell_type": "code",
   "execution_count": null,
   "metadata": {
    "collapsed": true
   },
   "outputs": [],
   "source": [
    "class memoize:\n",
    "    \"\"\"\n",
    "      from http://avinashv.net/2008/04/python-decorators-syntactic-sugar/\n",
    "    \"\"\"\n",
    "    def __init__(self, function):\n",
    "        self.function = function\n",
    "       \n",
    "       #　a dictionary, ｀self.memoized｀, that acts as our cache\n",
    "        self.memoized = {}\n",
    "\n",
    "    def __call__(self, *args):\n",
    "        try:\n",
    "            return self.memoized[args]   \n",
    "        except KeyError:\n",
    "            self.memoized[args] = self.function(*args)\n",
    "            return self.memoized[args]"
   ]
  },
  {
   "cell_type": "markdown",
   "metadata": {},
   "source": [
    "### `__call__`\n",
    "\n",
    "built-in **function call** operator."
   ]
  },
  {
   "cell_type": "code",
   "execution_count": null,
   "metadata": {
    "collapsed": true
   },
   "outputs": [],
   "source": [
    "class foo:\n",
    "    def __init__(self,*args):\n",
    "        print('__Init__',*args)\n",
    "        \n",
    "    def __call__(self, *args):\n",
    "        print('__call__',*args)\n",
    "\n",
    "f = foo(4,5,6)\n",
    "f(1,2,3) "
   ]
  },
  {
   "cell_type": "markdown",
   "metadata": {},
   "source": [
    "There is now a dictionary, **self.memoized**, that acts as our **cache**, and a change in the **exception handling** that looks for **KeyError**, which throws an error if a key doesn’t exist in a dictionary. \n",
    "\n",
    "This class is generalized and will work for **any recursive function** that could benefit from memoization.\n",
    "\n",
    "### A Memoize Decorator\n",
    "\n",
    "We can add <b>a memoize decorator</b> to reduce the number of recursive calls "
   ]
  },
  {
   "cell_type": "code",
   "execution_count": null,
   "metadata": {
    "collapsed": true
   },
   "outputs": [],
   "source": [
    "import cProfile\n",
    "\n",
    "@memoize\n",
    "def fib(n):\n",
    "    \"\"\"\n",
    "    from http://en.literateprograms.org/Fibonacci_numbers_(Python)\n",
    "    \"\"\"\n",
    "    if n == 0 or n == 1:\n",
    "        return 1\n",
    "    else:\n",
    "        return fib(n-1) + fib(n-2)\n",
    "\n",
    "def fib_seq(n):\n",
    "    seq = [ ]\n",
    "    if n > 0:\n",
    "        seq.extend(fib_seq(n-1))\n",
    "    seq.append(fib(n))\n",
    "    return seq\n",
    "\n",
    "print('MEMOIZED Fibonacci')\n",
    "print('=' * 80)\n",
    "cProfile.run('print(fib_seq(20))')\n"
   ]
  },
  {
   "cell_type": "markdown",
   "metadata": {},
   "source": [
    "```\n",
    "170 function calls (112 primitive calls) in 0.000 seconds\n",
    "\n",
    "   Ordered by: standard name\n",
    "\n",
    "   ncalls  tottime  percall  cumtime  percall filename:lineno(function)\n",
    "    59/21    0.000    0.000    0.000    0.000 <ipython-input-16-2cf0dfdc9e5d>:11(__call__)\n",
    "     21/1    0.000    0.000    0.000    0.000 <ipython-input-17-d7b926d0b05b>:11(fib_seq)\n",
    "       21    0.000    0.000    0.000    0.000 <ipython-input-17-d7b926d0b05b>:3(fib)\n",
    "```"
   ]
  },
  {
   "cell_type": "markdown",
   "metadata": {},
   "source": [
    "**A big impact on the performance** of this function.\n",
    "\n",
    "```\n",
    "57381 function calls (91 primitive calls) in 0.022 seconds\n",
    " \n",
    "170 function calls (112 primitive calls) in 0.000 seconds\n",
    "```\n",
    "\n",
    "By remembering the <b>Fibonacci</b> value at each level we can avoid most of the recursion\n",
    "\n",
    "the **ncalls** count for **fib()** shows that it never recurses.\n",
    "```\n",
    "ncalls  tottime  percall  cumtime  percall filename:lineno(function)\n",
    "21    0.000    0.000    0.000    0.000 <ipython-input-17-d7b926d0b05b>:3(fib)\n",
    "```\n"
   ]
  },
  {
   "cell_type": "markdown",
   "metadata": {},
   "source": [
    "###  Decorators\n",
    "\n",
    "A decorator is any callable Python object that is used to modify the definition of \n",
    "\n",
    "* function\n",
    "\n",
    "* method \n",
    "\n",
    "* class \n",
    "\n",
    "A decorator is passed the <b>original object</b> being defined and <b>returns a modified object</b>, \n"
   ]
  },
  {
   "cell_type": "code",
   "execution_count": null,
   "metadata": {
    "collapsed": true
   },
   "outputs": [],
   "source": [
    "# square sum\n",
    "def square_sum(a, b):\n",
    "    return a**2 + b**2\n",
    "\n",
    "# square diff\n",
    "def square_diff(a, b):\n",
    "    return a**2 - b**2\n",
    "print(square_sum(3, 4))\n",
    "print(square_diff(3, 4))"
   ]
  },
  {
   "cell_type": "markdown",
   "metadata": {},
   "source": [
    "###  modify: print input"
   ]
  },
  {
   "cell_type": "code",
   "execution_count": null,
   "metadata": {
    "collapsed": true
   },
   "outputs": [],
   "source": [
    "# modify: print input\n",
    "\n",
    "# square sum\n",
    "def square_sum(a, b):\n",
    "    print(\"intput:\", a, b)\n",
    "    return a**2 + b**2\n",
    "\n",
    "#  square diff\n",
    "def square_diff(a, b):\n",
    "    print(\"input\", a, b)\n",
    "    return a**2 - b**2\n",
    "\n",
    "\n",
    "print(square_sum(3, 4))\n",
    "print(square_diff(3, 4))\n"
   ]
  },
  {
   "cell_type": "code",
   "execution_count": null,
   "metadata": {
    "collapsed": true
   },
   "outputs": [],
   "source": [
    "def printinput(func):\n",
    "    def new_func(a, b):\n",
    "        print(\"input\", a, b)\n",
    "        return func(a, b)\n",
    "    return new_func\n",
    "\n",
    "# square sum\n",
    "@printinput\n",
    "def square_sum(a, b):\n",
    "    return a**2 + b**2\n",
    "\n",
    "# square diff\n",
    "@printinput\n",
    "def square_diff(a, b):\n",
    "    return a**2 - b**2\n",
    "\n",
    "print(square_sum(3, 4))\n",
    "print(square_diff(3, 4))"
   ]
  },
  {
   "cell_type": "markdown",
   "metadata": {},
   "source": [
    "## Property and Decorator \n",
    " \n",
    "### See Also： \n",
    "\n",
    "* [8.1.2 Using Classes to Keep Track of Students and Faculty](./08_CLASSES_AND_OBJECT-ORIENTED_PROGRAMMING.ipynb#8.1.2-Using-Classes-to-Keep-Track-of-Students-and-Faculty)\n",
    "\n",
    "   * (2) One can then access information about these instances using the methods associated with them: \n",
    "   \n",
    "    *  **him.getLastName() will return 'Obama'.**\n",
    "\n",
    "** Data encapsulation** : the bundling of data with the methods that operate on these data.\n",
    "\n",
    "  * These methods are of course the \n",
    "    \n",
    "    * **getter** for retrieving the data and \n",
    "    \n",
    "    * **setter**  for changing the data\n",
    "\n",
    "Python has a great concept called **property** which makes the life of an object oriented programmer much simpler.\n",
    "\n",
    "* https://docs.python.org/3/library/functions.html#property\n",
    "```python\n",
    "class property(fget=None, fset=None, fdel=None, doc=None)\n",
    "```\n",
    "Return a property attribute.\n",
    "\n",
    "* fget: a function for getting an attribute value.\n",
    "* fset: a function for setting an attribute value.\n",
    "* fdel:  a function for deleting an attribute value. \n",
    "* doc: a docstring for the attribute.\n",
    "\n",
    "A typical use is to define a managed attribute x:"
   ]
  },
  {
   "cell_type": "code",
   "execution_count": null,
   "metadata": {
    "collapsed": true
   },
   "outputs": [],
   "source": [
    "class C:\n",
    "    def __init__(self):\n",
    "        self._x = None\n",
    "\n",
    "    def getx(self):\n",
    "        return self._x\n",
    "\n",
    "    def setx(self, value):\n",
    "        self._x = value\n",
    "\n",
    "    def delx(self):\n",
    "        del self._x\n",
    "    \n",
    "    x = property(getx, setx, delx, \"I'm the 'x' property.\")"
   ]
  },
  {
   "cell_type": "code",
   "execution_count": null,
   "metadata": {
    "collapsed": true
   },
   "outputs": [],
   "source": [
    "c1=C()\n",
    "c1.setx(1)\n",
    "c1.getx()\n",
    "print(c1.getx())\n",
    "#c1.delx()\n",
    "print(c1.getx())"
   ]
  },
  {
   "cell_type": "code",
   "execution_count": null,
   "metadata": {
    "collapsed": true
   },
   "outputs": [],
   "source": [
    "c1=C()\n",
    "c1.x=2\n",
    "print(c1.x)\n",
    "del c1.x\n",
    "print(c1.x)"
   ]
  },
  {
   "cell_type": "markdown",
   "metadata": {},
   "source": [
    "### _x\n",
    "\n",
    "A single underscore before a name is used to specify that the name is to be treated as ** “private” by a programmer.** \n",
    "\n",
    "It’s kind of  a convention so that the next person (or yourself) using your code knows that a name starting with ** _  ** is for internal use\n",
    "\n",
    "* https://docs.python.org/3.5/tutorial/classes.html#tut-private"
   ]
  },
  {
   "cell_type": "code",
   "execution_count": null,
   "metadata": {
    "collapsed": true
   },
   "outputs": [],
   "source": [
    "c1._x"
   ]
  },
  {
   "cell_type": "markdown",
   "metadata": {},
   "source": [
    "This makes it possible to create read-only properties easily using **property()** as **a decorator**\n",
    "\n",
    "A property object has getter, setter, and deleter methods usable as decorators that create a copy of the property with the corresponding accessor function set to the decorated function. \n",
    "\n",
    "This is best explained with an example:"
   ]
  },
  {
   "cell_type": "code",
   "execution_count": null,
   "metadata": {
    "collapsed": true
   },
   "outputs": [],
   "source": [
    "class C:\n",
    "    def __init__(self):\n",
    "        self._x = None\n",
    "\n",
    "    @property\n",
    "    def x(self):\n",
    "        \"\"\"I'm the 'x' property.\"\"\"\n",
    "        return self._x\n",
    "\n",
    "    @x.setter\n",
    "    def x(self, value):\n",
    "        self._x = value\n",
    "\n",
    "    @x.deleter\n",
    "    def x(self):\n",
    "        del self._x"
   ]
  },
  {
   "cell_type": "code",
   "execution_count": null,
   "metadata": {
    "collapsed": true
   },
   "outputs": [],
   "source": [
    "c1=C()\n",
    "c1.x=2\n",
    "print(c1.x)\n",
    "del c1.x\n",
    "print(c1.x)"
   ]
  },
  {
   "cell_type": "raw",
   "metadata": {},
   "source": [
    "## Water Properites with IF97"
   ]
  },
  {
   "cell_type": "code",
   "execution_count": null,
   "metadata": {
    "collapsed": true
   },
   "outputs": [],
   "source": [
    "import seuif97 as if97\n",
    "\n",
    "class water(object):\n",
    "    \"\"\" water properites\"\"\"\n",
    "    \n",
    "    def __init__(self):\n",
    "        self.p = None\n",
    "        self.t = None\n",
    "        self.x = None\n",
    "        self.h = None\n",
    "        self.s = None\n",
    "        self.v = None\n",
    " \n",
    "    def pt(self):\n",
    "        self.h = if97.pt2h(self.p, self.t)\n",
    "        self.s = if97.pt2s(self.p, self.t)\n",
    "        self.v = if97.pt2v(self.p, self.t)\n",
    "        self.x = if97.pt2x(self.p, self.t)\n",
    "\n",
    "   \n",
    "    def calState(self):\n",
    "        if self.p !=None and self.t!=None:\n",
    "            self.pt()\n",
    "\n",
    "    def __str__(self):\n",
    "        result=('{:6.3f}\\t {:6.2f}\\t {:7.2f}\\t {:5.2f} \\t {:6.3f}\\t {:5.3}'.format\n",
    "                (self.p,self.t,self.h,self.s,self.v, self.x))\n",
    "        return  result       \n",
    "   "
   ]
  },
  {
   "cell_type": "code",
   "execution_count": null,
   "metadata": {
    "collapsed": true
   },
   "outputs": [],
   "source": [
    "w1=water()\n",
    "w1.p=16\n",
    "w1.t=535\n",
    "w1.pt()\n",
    "print(w1)\n",
    "\n",
    "# but\n",
    "w1.t=600\n",
    "print(w1)\n"
   ]
  },
  {
   "cell_type": "markdown",
   "metadata": {},
   "source": [
    "### Using @property decorator\n"
   ]
  },
  {
   "cell_type": "code",
   "execution_count": null,
   "metadata": {
    "collapsed": true
   },
   "outputs": [],
   "source": [
    "import seuif97 as if97\n",
    "\n",
    "class pwater(object):\n",
    "    \"\"\" water properites\"\"\"\n",
    "    \n",
    "    def __init__(self):\n",
    "        self._p = None\n",
    "        self._t = None\n",
    "        self._x = None\n",
    "        self.h = None\n",
    "        self.s = None\n",
    "        self.v = None\n",
    "    \n",
    "    @property\n",
    "    def p(self):\n",
    "        return self._p\n",
    "\n",
    "    @p.setter\n",
    "    def p(self, value):\n",
    "         self._p = value\n",
    "         self.calState()\n",
    "\n",
    "    @property\n",
    "    def t(self):\n",
    "        return self._t\n",
    "\n",
    "    @t.setter\n",
    "    def t(self, value):\n",
    "        self._t = value\n",
    "        self.calState()    \n",
    "  \n",
    "    def pt(self):\n",
    "        self.h = if97.pt2h(self._p, self._t)\n",
    "        self.s = if97.pt2s(self._p, self._t)\n",
    "        self.v = if97.pt2v(self._p, self._t)\n",
    "        self._x = if97.pt2x(self._p, self._t)\n",
    "\n",
    "   \n",
    "    def calState(self):\n",
    "        if self._p !=None and self._t!=None:\n",
    "            self.pt()\n",
    "\n",
    "    def __str__(self):\n",
    "        result=('{:6.3f}\\t {:6.2f}\\t {:7.2f}\\t {:5.2f} \\t {:6.3f}\\t {:5.3}'.format\n",
    "                (self._p,self._t,self.h,self.s,self.v, self._x))\n",
    "        return  result       \n",
    "   "
   ]
  },
  {
   "cell_type": "code",
   "execution_count": null,
   "metadata": {
    "collapsed": true
   },
   "outputs": [],
   "source": [
    "w1=pwater()\n",
    "w1.p=16.2\n",
    "w1.t=535.2\n",
    "print(w1)\n",
    "# but\n",
    "w1.t=600\n",
    "print(w1)"
   ]
  },
  {
   "cell_type": "markdown",
   "metadata": {},
   "source": [
    "## Furthe Reading \n",
    "\n",
    "### A 18.1 Fibonacci Sequences, Revisited\n",
    "\n",
    "http://localhost:8888/notebooks/18_DYNAMIC_PROGRAMMING.ipynb\n",
    "\n",
    "  * The function **`fastFib`** has a parameter, **`memo`**, that it uses to keep track of the numbers it has already evaluated."
   ]
  },
  {
   "cell_type": "code",
   "execution_count": null,
   "metadata": {
    "collapsed": true
   },
   "outputs": [],
   "source": [
    "#Page 254, Figure 18.3\n",
    "def fastFib(n, memo = {}):\n",
    "    \"\"\"Assumes n is an int >= 0, memo used only by recursive calls\n",
    "       Returns Fibonacci of n\"\"\"\n",
    "    if n == 0 or n == 1:\n",
    "        return 1\n",
    "    try:\n",
    "        return memo[n]\n",
    "    except KeyError:\n",
    "        result = fastFib(n-1, memo) + fastFib(n-2, memo)\n",
    "        memo[n] = result\n",
    "        return result\n"
   ]
  },
  {
   "cell_type": "code",
   "execution_count": null,
   "metadata": {
    "collapsed": true
   },
   "outputs": [],
   "source": [
    "import profile\n",
    "\n",
    "def fib_seq(n):\n",
    "    seq = [ ]\n",
    "    if n > 0:\n",
    "        seq.extend(fib_seq(n-1))\n",
    "    seq.append(fastFib(n))\n",
    "    return seq\n",
    "\n",
    "print('MEMOIZED')\n",
    "print('=' * 80)\n",
    "profile.run('print(fib_seq(20))')"
   ]
  },
  {
   "cell_type": "markdown",
   "metadata": {},
   "source": [
    "## B pstats: Saving and Working With Statistics\n",
    "\n",
    "The standard report created by the profile functions is not very flexible. \n",
    "\n",
    "If it doesn’t meet your needs, you can produce your own reports by saving the raw profiling data from `run()` and processing it separately with the `Stats` class from `pstats`.\n",
    "\n",
    "For example, to run several iterations of the same test and combine the results, you could do something like this:\n",
    "\n"
   ]
  },
  {
   "cell_type": "code",
   "execution_count": null,
   "metadata": {
    "collapsed": true
   },
   "outputs": [],
   "source": [
    "import profile\n",
    "import pstats\n",
    "\n",
    "# from profile_fibonacci_memoized import fib, fib_seq\n",
    "\n",
    "# 1 Create 5 set of stats\n",
    "filenames = []\n",
    "for i in range(5):\n",
    "    filename ='profile_stats_%d.stats' % i\n",
    "    profile.run('print(\"%d \" % i,fib_seq(20))', filename)\n",
    "\n",
    "# 2 Read all 5 stats files into a single object\n",
    "stats = pstats.Stats('profile_stats_0.stats')\n",
    "for i in range(1, 5):\n",
    "    stats.add('profile_stats_%d.stats' % i)\n",
    "\n",
    "# 3 Clean up filenames for the report\n",
    "stats.strip_dirs()\n",
    "\n",
    "# 4 Sort the statistics by the cumulative time spent in the function\n",
    "stats.sort_stats('cumulative')\n",
    "stats.print_stats()\n"
   ]
  },
  {
   "cell_type": "markdown",
   "metadata": {
    "collapsed": true
   },
   "source": [
    "The output report is sorted in descending order of cumulative time spent in the function and the directory names are\n",
    "removed from the printed filenames to conserve horizontal space."
   ]
  },
  {
   "cell_type": "markdown",
   "metadata": {},
   "source": [
    "### 24.1.4 Limiting Report Contents\n",
    "\n",
    "Since we are studying the performance of `fib()` and `fib_seq()`, we can also restrict the output report to only\n",
    "include those functions using a regular expression to match the `filename:lineno(function)` values we want.\n"
   ]
  },
  {
   "cell_type": "code",
   "execution_count": null,
   "metadata": {
    "collapsed": true
   },
   "outputs": [],
   "source": [
    "import profile\n",
    "import pstats\n",
    "\n",
    "#from profile_fibonacci_memoized import fib, fib_seq\n",
    "\n",
    "# 1 Read all 5 stats files into a single object\n",
    "stats = pstats.Stats('profile_stats_0.stats')\n",
    "for i in range(1, 5):\n",
    "    stats.add('profile_stats_%d.stats' % i)\n",
    "\n",
    "stats.strip_dirs()\n",
    "stats.sort_stats('cumulative')\n",
    "\n",
    "# 2 limit output to lines with \"(fib\" in them\n",
    "stats.print_stats('\\(fib')\n"
   ]
  },
  {
   "cell_type": "markdown",
   "metadata": {},
   "source": [
    "The regular expression includes a literal left paren (() to match against the function name portion of the location value."
   ]
  },
  {
   "cell_type": "markdown",
   "metadata": {},
   "source": [
    "### 24.1.5 Caller / Callee Graphs\n",
    "\n",
    "Stats also includes methods for printing the **callers** and **callees** of functions"
   ]
  },
  {
   "cell_type": "code",
   "execution_count": null,
   "metadata": {
    "collapsed": true
   },
   "outputs": [],
   "source": [
    "import cProfile as profile\n",
    "import pstats\n",
    "\n",
    "#from profile_fibonacci_memoized import fib, fib_seq\n",
    "\n",
    "# Read all 5 stats files into a single object\n",
    "stats = pstats.Stats('profile_stats_0.stats')\n",
    "for i in range(1, 5):\n",
    "    stats.add('profile_stats_%d.stats' % i)\n",
    "\n",
    "stats.strip_dirs()\n",
    "stats.sort_stats('cumulative')\n",
    "\n",
    "print('INCOMING CALLERS:')\n",
    "stats.print_callers('\\(fib')\n",
    "\n",
    "print('OUTGOING CALLEES:')\n",
    "stats.print_callees('\\(fib')\n"
   ]
  },
  {
   "cell_type": "markdown",
   "metadata": {},
   "source": [
    "### C 27.4.7.  Calibration for profile module\n",
    "\n",
    "profile:  a pure Python module whose interface  \n",
    "\n",
    "* calibrate\n",
    "\n",
    "   The profiler of the profile module <b>subtracts a constant</b> from each event handling time \n",
    "  \n",
    "   to compensate for  the **overhead of calling** the time function\n",
    "\n",
    "By default, the constant is 0.\n",
    "\n",
    "The following procedure can be used to obtain a better constant for a given platform.\n"
   ]
  },
  {
   "cell_type": "code",
   "execution_count": null,
   "metadata": {
    "collapsed": true
   },
   "outputs": [],
   "source": [
    "import profile\n",
    "pr = profile.Profile()\n",
    "your_computed_bias=pr.calibrate(10000)\n",
    "print(your_computed_bias)\n",
    "    "
   ]
  },
  {
   "cell_type": "markdown",
   "metadata": {},
   "source": [
    "The method executes the number of Python calls given by the argument, \n",
    "\n",
    "* <b>directly> under the profiler</b>\n",
    "\n",
    "It then computes the hidden overhead per profiler event, and returns that as a float. \n",
    "\n",
    "The object of this exercise is to get a fairly consistent result.  \n",
    "If your computer is very fast, or your timer function has poor resolution, you might have to pass 100000, or even 1000000, to get consistent results.\n",
    "\n",
    "#### When you have a consistent answer, there are <b>three ways</b> you can use it:\n"
   ]
  },
  {
   "cell_type": "code",
   "execution_count": null,
   "metadata": {
    "collapsed": true
   },
   "outputs": [],
   "source": [
    "import profile\n",
    "\n",
    "# 1. Apply computed bias to all Profile instances created hereafter.\n",
    "profile.Profile.bias = your_computed_bias\n",
    "\n",
    "# 2. Apply computed bias to a specific Profile instance.\n",
    "pr = profile.Profile()\n",
    "pr.bias = your_computed_bias\n",
    "\n",
    "# 3. Specify computed bias in instance constructor.\n",
    "pr = profile.Profile(bias=your_computed_bias)"
   ]
  },
  {
   "cell_type": "code",
   "execution_count": null,
   "metadata": {
    "collapsed": true
   },
   "outputs": [],
   "source": []
  }
 ],
 "metadata": {
  "kernelspec": {
   "display_name": "Python 3",
   "language": "python",
   "name": "python3"
  },
  "language_info": {
   "codemirror_mode": {
    "name": "ipython",
    "version": 3
   },
   "file_extension": ".py",
   "mimetype": "text/x-python",
   "name": "python",
   "nbconvert_exporter": "python",
   "pygments_lexer": "ipython3",
   "version": "3.5.2"
  }
 },
 "nbformat": 4,
 "nbformat_minor": 1
}
