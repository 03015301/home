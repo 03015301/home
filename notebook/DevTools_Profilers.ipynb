{
 "cells": [
  {
   "cell_type": "markdown",
   "metadata": {
    "collapsed": true,
    "slideshow": {
     "slide_type": "slide"
    }
   },
   "source": [
    "# Profilers  \n",
    "\n",
    "27.4. The Python Profilers  \n",
    "\n",
    "https://docs.python.org/3/library/profile.html\n",
    "\n",
    "**Source Codes**\n",
    "\n",
    "https://hg.python.org/cpython/file/3.5/Lib/profile.py\n",
    "\n",
    "https://hg.python.org/cpython/file/3.5/Lib/pstats.py\n",
    "\n",
    "## 27.4.1. Introduction to the profilers\n",
    "\n",
    "**A profile is a set of statistics** \n",
    "\n",
    "that describes **how often** and for **how long** various parts of the program executed.\n",
    "\n",
    "These statistics can be formatted into reports via the **pstats** module.\n",
    "\n",
    "The Python standard library provides **two** different implementations of the same profiling interface:\n",
    "\n",
    "**cProfile** and **profile** provide deterministic profiling of Python programs. \n",
    "\n",
    "* **cProfile** is recommended for most users\n",
    "\n",
    "  it’s a C extension with reasonable overhead that makes it suitable for profiling long-running programs. \n",
    "  \n",
    "  Based on `lsprof`, contributed by Brett Rosen and Ted Czotter.\n",
    "\n",
    "\n",
    "* **profile**, a pure Python module whose interface is imitated by cProfile, \n",
    "\n",
    "   but which adds significant overhead to profiled programs.\n",
    "   \n",
    "   If you’re trying to extend the profiler in some way, the task might be easier with this module. \n",
    "   \n",
    "   Originally designed and written by Jim Roskind.\n",
    "\n",
    "<b>Profilers: profile, cProfile, and pstats</b> – Performance analysis of Python programs."
   ]
  },
  {
   "cell_type": "markdown",
   "metadata": {
    "collapsed": true
   },
   "source": [
    "## 27.4.2. Instant User’s Manual\n",
    "\n",
    "This section is provided for users that “don’t want to read the manual.” \n",
    "\n",
    "It provides a very brief overview, and allows a user to rapidly perform profiling on an existing application.\n",
    "\n",
    "The most basic starting point in the profile module is \n",
    "\n",
    "**run()**\n",
    "\n",
    "It takes <b>a string statement</b> as argument, \n",
    "\n",
    "and creates a **report** of the time spent executing different lines of code while running the statement.   \n",
    "\n",
    "To profile a function\n",
    "\n",
    "`re.compile()`\n",
    "\n",
    "that takes a single argument"
   ]
  },
  {
   "cell_type": "code",
   "execution_count": null,
   "metadata": {},
   "outputs": [],
   "source": [
    "import cProfile\n",
    "import re\n",
    "cProfile.run('re.compile(\"foo|bar\")')"
   ]
  },
  {
   "cell_type": "markdown",
   "metadata": {},
   "source": [
    "### re — Regular expression operations**\n",
    "   \n",
    "  https://docs.python.org/3.5/library/re.html\n",
    "  \n",
    "  This module provides regular expression matching operations \n",
    "  \n",
    "  **Regular Expression Syntax**\n",
    "\n",
    "   A regular expression (or RE) specifies **a set of strings** that matches it;\n",
    "   \n",
    "   the functions in this module let you check if a particular string matches a given regular expression\n",
    "   \n",
    "   or if a given regular expression matches a particular string\n",
    "\n",
    "\n",
    "** '|' ** \n",
    "\n",
    "A|B, where A and B can be arbitrary REs, creates a regular expression that will match either A or B\n",
    "\n"
   ]
  },
  {
   "cell_type": "code",
   "execution_count": null,
   "metadata": {
    "collapsed": true
   },
   "outputs": [],
   "source": [
    "import re\n",
    "m = re.search(\"foo|bar\", 'abcfoo')\n",
    "m.group(0)"
   ]
  },
  {
   "cell_type": "markdown",
   "metadata": {},
   "source": [
    "* **re.compile(pattern, flags=0)**\n",
    "\n",
    "    Compile a regular expression pattern into a regular expression object,\n",
    "    \n",
    "    which can be used for matching using its match() and search() methods,\n"
   ]
  },
  {
   "cell_type": "code",
   "execution_count": null,
   "metadata": {
    "collapsed": true
   },
   "outputs": [],
   "source": [
    "pattern = re.compile(\"foo|bar\")\n",
    "m1=pattern.search(\"foo\")  \n",
    "m2=pattern.search(\"bar\")\n",
    "print(m1.group(0))\n",
    "print(m2.group(0))"
   ]
  },
  {
   "cell_type": "code",
   "execution_count": null,
   "metadata": {},
   "outputs": [],
   "source": [
    "import cProfile\n",
    "import re\n",
    "cProfile.run('re.compile(\"foo|bar\")')"
   ]
  },
  {
   "cell_type": "markdown",
   "metadata": {},
   "source": [
    "* **The first line**\n",
    "   \n",
    "   indicates that 197 calls were monitored.\n",
    "   \n",
    "   Of those calls, 192 were primitive, meaning that the call was not induced via recursion. \n",
    "\n",
    "\n",
    "* **The next line**\n",
    "\n",
    "   Ordered by: standard name, \n",
    "   \n",
    "   indicates that the text string in the far right column was used to sort the output. \n",
    "\n",
    "\n",
    "* ** The column headings include:**\n",
    "\n",
    "   * <b>ncalls</b>: the number of calls,\n",
    "   \n",
    "     When there are two numbers in the the column \n",
    "   \n",
    "     **3/1**\n",
    "     \n",
    "     it means that the function recursed.\n",
    "     \n",
    "     The second value is the number of primitive calls and the former is the total number of calls. \n",
    "     \n",
    "     Note that when the function does not recurse, these two values are the same, and only the single figure is printed\n",
    "\n",
    "   \n",
    "   * <b>tottime</b>: the total time spent in the given function (and excluding time made in calls to sub-functions)\n",
    "\n",
    "   * <b>percall</b> is the quotient of tottime divided by ncalls\n",
    "\n",
    "   * <b>cumtime</b> is the cumulative time spent in this and all <b>subfunctions</b> (from invocation till exit). \n",
    "  \n",
    "   * <b>percall</b> is the quotient of cumtime divided by primitive calls\n",
    "\n",
    "   * <b>filename:lineno(function)</b> provides the respective data of each function\n",
    "\n",
    "### The results to a file\n",
    "  \n",
    "<b>1 Save the results to a file</b>\n",
    "\n",
    "by specifying a filename to the `run()` function:"
   ]
  },
  {
   "cell_type": "code",
   "execution_count": null,
   "metadata": {
    "collapsed": true
   },
   "outputs": [],
   "source": [
    "import cProfile\n",
    "import re\n",
    "cProfile.run('re.compile(\"foo|bar\")', 'restats')"
   ]
  },
  {
   "cell_type": "markdown",
   "metadata": {},
   "source": [
    "2 **manipulating and printing the data** saved into a profile results file\n",
    "\n",
    "* **The `pstats` module’s `Stats` class **\n",
    "\n",
    "    a variety of methods for manipulating and printing the data saved into a profile results file:"
   ]
  },
  {
   "cell_type": "code",
   "execution_count": null,
   "metadata": {},
   "outputs": [],
   "source": [
    "import pstats\n",
    "p = pstats.Stats('restats')\n",
    "p.strip_dirs().sort_stats(-1).print_stats()"
   ]
  },
  {
   "cell_type": "markdown",
   "metadata": {},
   "source": [
    "* **strip_dirs()**：　removed the extraneous path from all the module names. \n",
    "\n",
    "* **sort_stats()**：　sorted all the entries according to the standard \n",
    "  　　\n",
    "   <b>module/line/name</b>\n",
    "    \n",
    "   string that is printed.\n",
    "\n",
    "* **print_stats()**： method printed out all the statistics.\n",
    "\n",
    "#### You might try the following sort calls:"
   ]
  },
  {
   "cell_type": "code",
   "execution_count": null,
   "metadata": {},
   "outputs": [],
   "source": [
    "p.sort_stats('name')\n",
    "p.print_stats()"
   ]
  },
  {
   "cell_type": "markdown",
   "metadata": {},
   "source": [
    "The first call will actually sort the list by function name,\n",
    "\n",
    "The second call will print out the statistics. \n",
    "\n",
    "#### The following are some interesting calls to experiment with:\n",
    "\n",
    "1  understand what <b>algorithms are taking time</b>.\n",
    "\n",
    "This sorts the profile by <b>cumulative time</b> in a function, and then only prints <b>the ten most significant lines</b>. \n"
   ]
  },
  {
   "cell_type": "code",
   "execution_count": null,
   "metadata": {},
   "outputs": [],
   "source": [
    "p.sort_stats('cumulative').print_stats(10)"
   ]
  },
  {
   "cell_type": "markdown",
   "metadata": {},
   "source": [
    "2 looking to see <b>what functions were looping a lot</b>, and taking a lot of time:\n",
    "\n",
    "to sort according to time spent within each function, and then print the statistics for the top ten functions."
   ]
  },
  {
   "cell_type": "code",
   "execution_count": null,
   "metadata": {},
   "outputs": [],
   "source": [
    "p.sort_stats('time').print_stats(10)"
   ]
  },
  {
   "cell_type": "markdown",
   "metadata": {},
   "source": [
    "3 <b>sort all the statistics by file name</b>, \n",
    "\n",
    "and then print out statistics for <b>only the class init methods</b> (they are spelled with __init__ in them)."
   ]
  },
  {
   "cell_type": "code",
   "execution_count": null,
   "metadata": {},
   "outputs": [],
   "source": [
    "p.sort_stats('file').print_stats('__init__')"
   ]
  },
  {
   "cell_type": "markdown",
   "metadata": {},
   "source": [
    "**4** This line sorts statistics with \n",
    "\n",
    " <b>a primary key of time</b>\n",
    " \n",
    " <b>a secondary key of cumulative time</b>, \n",
    "\n",
    "and then prints out some of the statistics. \n",
    "\n",
    "To be specific, the list is \n",
    "\n",
    "first culled down to <b>50% (re: .5)</b> of its original size, \n",
    "\n",
    "then only lines containing <b>init</b> are maintained, \n",
    "\n",
    "and that sub-sub-list is printed."
   ]
  },
  {
   "cell_type": "code",
   "execution_count": null,
   "metadata": {},
   "outputs": [],
   "source": [
    "p.sort_stats('time', 'cumulative').print_stats(.5, 'init')"
   ]
  },
  {
   "cell_type": "markdown",
   "metadata": {},
   "source": [
    "## 27.4.7. Calibration\n",
    "\n",
    "The profiler of the <b>profile</b> module <b>subtracts a constant</b> \n",
    "\n",
    "from each event handling time to compensate for \n",
    "\n",
    "the overhead of calling the time function\n",
    "\n",
    "By default, the constant is 0.\n",
    "\n",
    "The following procedure can be used to obtain a better constant for a given platform.\n"
   ]
  },
  {
   "cell_type": "code",
   "execution_count": null,
   "metadata": {},
   "outputs": [],
   "source": [
    "import profile\n",
    "pr = profile.Profile()\n",
    "\n",
    "your_computed_bias=pr.calibrate(10000)\n",
    "\n",
    "print(your_computed_bias)\n",
    "    "
   ]
  },
  {
   "cell_type": "markdown",
   "metadata": {},
   "source": [
    "The method executes the number of Python calls given by the argument, \n",
    "\n",
    "<b>directly</b> \n",
    "\n",
    "<b>under the profiler</b>\n",
    "\n",
    "   measuring the time for both. \n",
    "\n",
    "It then computes the hidden overhead per profiler event, and returns that as a float. \n",
    "\n",
    "The object of this exercise is to get a fairly consistent result. \n",
    "\n",
    "If your computer is very fast, or your timer function has poor resolution, you might have to pass 100000, or even 1000000, to get consistent results.\n",
    "\n",
    "#### When you have a consistent answer, there are <b>three ways</b> you can use it:\n"
   ]
  },
  {
   "cell_type": "code",
   "execution_count": null,
   "metadata": {
    "collapsed": true
   },
   "outputs": [],
   "source": [
    "import profile\n",
    "\n",
    "# 1. Apply computed bias to all Profile instances created hereafter.\n",
    "profile.Profile.bias = your_computed_bias\n",
    "\n",
    "# 2. Apply computed bias to a specific Profile instance.\n",
    "pr = profile.Profile()\n",
    "pr.bias = your_computed_bias\n",
    "\n",
    "# 3. Specify computed bias in instance constructor.\n",
    "pr = profile.Profile(bias=your_computed_bias)"
   ]
  },
  {
   "cell_type": "markdown",
   "metadata": {},
   "source": [
    "## Example: profiling seuif97"
   ]
  },
  {
   "cell_type": "code",
   "execution_count": null,
   "metadata": {},
   "outputs": [],
   "source": [
    "# -*- coding: utf-8 -*-\n",
    "\n",
    "import seuif97\n",
    "import cProfile\n",
    "import pstats\n",
    "import io\n",
    "\n",
    "p = 16.10\n",
    "t = 535.10\n",
    "\n",
    "pr = cProfile.Profile()\n",
    "pr.enable()\n",
    "\n",
    "h = seuif97.pt2h(p, t)\n",
    "s = seuif97.pt2s(p, t)\n",
    "\n",
    "pr.disable()\n",
    "\n",
    "s = io.StringIO() # 1 n-memory text streams \n",
    "\n",
    "sortby = 'cumulative'\n",
    "\n",
    "ps = pstats.Stats(pr, stream=s).sort_stats(sortby) # 2 Stats in In-memory text streams\n",
    "\n",
    "ps.print_stats()\n",
    "\n",
    "print(s.getvalue()) # 3 get In-memory text streams\n"
   ]
  },
  {
   "cell_type": "markdown",
   "metadata": {},
   "source": [
    "### 6.2. io — Core tools for working with streams\n",
    "\n",
    "https://docs.python.org/3/library/io.html\n",
    "    \n",
    "The io module provides Python’s main facilities for dealing with various types of I/O.\n",
    "\n",
    "There are three main types of I/O: **text I/O, binary I/O and raw I/O**    \n",
    "\n",
    "**In-memory text streams** are also available as **StringIO** objects:\n",
    "   "
   ]
  },
  {
   "cell_type": "code",
   "execution_count": null,
   "metadata": {},
   "outputs": [],
   "source": [
    "f = io.StringIO(\"some initial text data\")\n",
    "f.getvalue()"
   ]
  },
  {
   "cell_type": "markdown",
   "metadata": {},
   "source": [
    "## Example: profiling fibonacci\n",
    " \n",
    "This <b>recursive</b> version of a <b>fibonacci</b> sequence calculator\n",
    "\n",
    "is especially useful for demonstrating the profile \n",
    "\n",
    "because we can improve the performance so much.\n",
    "\n",
    "The standard report format shows a summary and then details for each function executed.\n",
    "    "
   ]
  },
  {
   "cell_type": "code",
   "execution_count": null,
   "metadata": {},
   "outputs": [],
   "source": [
    "import cProfile\n",
    "\n",
    "def fib(n):\n",
    "    # https://en.wikipedia.org/wiki/Fibonacci_number\n",
    "    # http://en.literateprograms.org/Fibonacci_numbers_(Python)\n",
    "    if n == 0 or n == 1:\n",
    "        return 1\n",
    "    else:\n",
    "        return fib(n-1) + fib(n-2)\n",
    "\n",
    "def fib_seq(n):\n",
    "    \n",
    "    seq = [ ]\n",
    "    if n > 0:\n",
    "        seq.extend(fib_seq(n-1))\n",
    "    seq.append(fib(n))\n",
    "    \n",
    "    return seq\n",
    "\n",
    "print('RAW')\n",
    "print('=' * 80)\n",
    "cProfile.run('print(fib_seq(20)); print')\n"
   ]
  },
  {
   "cell_type": "markdown",
   "metadata": {},
   "source": [
    "Not surprisingly, most of the time here is spent calling <b>`fib()` repeatedly </b>. \n",
    "\n",
    "<img src=\"./img/recursion_without_cache.png\"/> \n",
    "\n",
    "\n",
    "It’s a very **inefficient** algorithm: \n",
    "\n",
    "the amount of function calls increases <b>exponentially</b> for increasing values of <b>n</b>\n",
    "\n",
    "because the function calls values that it has already calculated again and again.\n",
    "\n",
    "We needed to speed up a lot of my recursive algorithms.\n",
    "\n",
    "### ** Decorators**  really came to the rescue in the form of **memoization**\n",
    "\n",
    "https://en.wikipedia.org/wiki/Memoization\n",
    "\n",
    "The easy way to optimize this would be to \n",
    "\n",
    "* **cache the values in a dictionary** \n",
    "\n",
    "\n",
    "* check to see if that value of <b>n</b> has been called previously. \n",
    "\n",
    "  * If it has, return it’s value in the dictionary, \n",
    "\n",
    "  * if not, proceed to call the function. \n",
    "  \n",
    "This is ** memoization **.\n"
   ]
  },
  {
   "cell_type": "code",
   "execution_count": null,
   "metadata": {
    "collapsed": true
   },
   "outputs": [],
   "source": [
    "class memoize:\n",
    "    \n",
    "    # from http://avinashv.net/2008/04/python-decorators-syntactic-sugar/\n",
    "    def __init__(self, function):\n",
    "        self.function = function\n",
    "       \n",
    "       #　a dictionary, ｀self.memoized｀, that acts as our cache\n",
    "        self.memoized = {}\n",
    "\n",
    "    def __call__(self, *args):\n",
    "        \n",
    "        try:\n",
    "           \n",
    "           return self.memoized[args]  # \n",
    "        \n",
    "        except KeyError:\n",
    "            self.memoized[args] = self.function(*args)\n",
    "            return self.memoized[args]"
   ]
  },
  {
   "cell_type": "markdown",
   "metadata": {},
   "source": [
    "There is now a dictionary, **self.memoized**, that acts as our cache, \n",
    "\n",
    "and a change in the exception handling that looks for ｀KeyError｀, \n",
    "\n",
    "which throws an error if a key doesn’t exist in a dictionary. \n",
    "\n",
    "Again, this class is generalized, and will work for any recursive function that could benefit from memoization.\n",
    "\n",
    "### a memoize decorator\n",
    "\n",
    "We can add <b>a memoize decorator</b> to reduce the number of recursive calls \n",
    "\n",
    "and have a big impact on the performance of this function."
   ]
  },
  {
   "cell_type": "code",
   "execution_count": null,
   "metadata": {},
   "outputs": [],
   "source": [
    "import cProfile\n",
    "\n",
    "@memoize\n",
    "def fib(n):\n",
    "    # from http://en.literateprograms.org/Fibonacci_numbers_(Python)\n",
    "    if n == 0 or n == 1:\n",
    "        return 1\n",
    "    else:\n",
    "        return fib(n-1) + fib(n-2)\n",
    "\n",
    "def fib_seq(n):\n",
    "    seq = [ ]\n",
    "    if n > 0:\n",
    "        seq.extend(fib_seq(n-1))\n",
    "    seq.append(fib(n))\n",
    "    return seq\n",
    "\n",
    "print('MEMOIZED')\n",
    "print('=' * 80)\n",
    "cProfile.run('print(fib_seq(20)); print')\n"
   ]
  },
  {
   "cell_type": "markdown",
   "metadata": {},
   "source": [
    "By remembering the <b>Fibonacci</b> value at each level we can avoid most of the recursion\n",
    "\n",
    "the **ncalls** count for **fib()** shows that it never recurses."
   ]
  },
  {
   "cell_type": "markdown",
   "metadata": {},
   "source": [
    "###  Decorators\n",
    "\n",
    "A decorator is any callable Python object that is used to modify a function, method or class definition. \n",
    "\n",
    "A decorator is passed the <b>original object</b> being defined and <b>returns a modified object</b>, \n",
    "\n"
   ]
  },
  {
   "cell_type": "code",
   "execution_count": null,
   "metadata": {},
   "outputs": [],
   "source": [
    "# get square sum\n",
    "def square_sum(a, b):\n",
    "    return a**2 + b**2\n",
    "\n",
    "# get square diff\n",
    "def square_diff(a, b):\n",
    "    return a**2 - b**2\n",
    "\n",
    "\n",
    "print(square_sum(3, 4))\n",
    "print(square_diff(3, 4))\n"
   ]
  },
  {
   "cell_type": "markdown",
   "metadata": {},
   "source": [
    "###  modify: print input"
   ]
  },
  {
   "cell_type": "code",
   "execution_count": null,
   "metadata": {},
   "outputs": [],
   "source": [
    "# modify: print input\n",
    "\n",
    "# get square sum\n",
    "def square_sum(a, b):\n",
    "    print(\"intput:\", a, b)\n",
    "    return a**2 + b**2\n",
    "\n",
    "# get square diff\n",
    "def square_diff(a, b):\n",
    "    print(\"input\", a, b)\n",
    "    return a**2 - b**2\n",
    "\n",
    "\n",
    "print(square_sum(3, 4))\n",
    "print(square_diff(3, 4))\n"
   ]
  },
  {
   "cell_type": "code",
   "execution_count": null,
   "metadata": {},
   "outputs": [],
   "source": [
    "def decorator(func):\n",
    "   \n",
    "    def new_func(a, b):\n",
    "        print(\"input\", a, b)\n",
    "        return func(a, b)\n",
    "    \n",
    "    return new_func\n",
    "\n",
    "# get square sum\n",
    "@decorator\n",
    "def square_sum(a, b):\n",
    "    return a**2 + b**2\n",
    "\n",
    "# get square diff\n",
    "@decorator\n",
    "def square_diff(a, b):\n",
    "    return a**2 - b**2\n",
    "\n",
    "print(square_sum(3, 4))\n",
    "print(square_diff(3, 4))"
   ]
  },
  {
   "cell_type": "markdown",
   "metadata": {},
   "source": [
    "## Property and Decorator \n",
    " \n",
    "### See Also： \n",
    "\n",
    "* [8.1.2 Using Classes to Keep Track of Students and Faculty](./08_CLASSES_AND_OBJECT-ORIENTED_PROGRAMMING.ipynb#8.1.2-Using-Classes-to-Keep-Track-of-Students-and-Faculty)\n",
    "\n",
    "   * (2) One can then access information about these instances using the methods associated with them: \n",
    "```python\n",
    "him.getLastName() will return 'Obama'.\n",
    "```python \n",
    "\n",
    "** Data encapsulation** : the bundling of data with the methods that operate on these data.\n",
    "\n",
    "  * These methods are of course the \n",
    "    \n",
    "    * **getter** for retrieving the data and \n",
    "    \n",
    "    * **setter**  for changing the data\n",
    "\n",
    "Python has a great concept called **property** which makes the life of an object oriented programmer much simpler.\n",
    "\n",
    "* https://docs.python.org/3/library/functions.html#property\n",
    "```python\n",
    "class property(fget=None, fset=None, fdel=None, doc=None)\n",
    "```\n",
    "Return a property attribute.\n",
    "\n",
    "* fget: a function for getting an attribute value.\n",
    "* fset: a function for setting an attribute value.\n",
    "* fdel:  a function for deleting an attribute value. \n",
    "* doc: a docstring for the attribute.\n",
    "\n",
    "A typical use is to define a managed attribute x:"
   ]
  },
  {
   "cell_type": "code",
   "execution_count": 24,
   "metadata": {},
   "outputs": [],
   "source": [
    "class C:\n",
    "    def __init__(self):\n",
    "        self._x = None\n",
    "\n",
    "    def getx(self):\n",
    "        return self._x\n",
    "\n",
    "    def setx(self, value):\n",
    "        self._x = value\n",
    "\n",
    "    def delx(self):\n",
    "        del self._x\n",
    "    \n",
    "    x = property(getx, setx, delx, \"I'm the 'x' property.\")"
   ]
  },
  {
   "cell_type": "code",
   "execution_count": 25,
   "metadata": {},
   "outputs": [
    {
     "name": "stdout",
     "output_type": "stream",
     "text": [
      "1\n",
      "1\n"
     ]
    }
   ],
   "source": [
    "c1=C()\n",
    "c1.setx(1)\n",
    "c1.getx()\n",
    "print(c1.getx())\n",
    "#c1.delx()\n",
    "print(c1.getx())"
   ]
  },
  {
   "cell_type": "code",
   "execution_count": 23,
   "metadata": {},
   "outputs": [
    {
     "name": "stdout",
     "output_type": "stream",
     "text": [
      "2\n"
     ]
    },
    {
     "ename": "AttributeError",
     "evalue": "'C' object has no attribute '_x'",
     "output_type": "error",
     "traceback": [
      "\u001b[1;31m---------------------------------------------------------------------------\u001b[0m",
      "\u001b[1;31mAttributeError\u001b[0m                            Traceback (most recent call last)",
      "\u001b[1;32m<ipython-input-23-66bd4c51824b>\u001b[0m in \u001b[0;36m<module>\u001b[1;34m()\u001b[0m\n\u001b[0;32m      3\u001b[0m \u001b[0mprint\u001b[0m\u001b[1;33m(\u001b[0m\u001b[0mc1\u001b[0m\u001b[1;33m.\u001b[0m\u001b[0mx\u001b[0m\u001b[1;33m)\u001b[0m\u001b[1;33m\u001b[0m\u001b[0m\n\u001b[0;32m      4\u001b[0m \u001b[1;32mdel\u001b[0m \u001b[0mc1\u001b[0m\u001b[1;33m.\u001b[0m\u001b[0mx\u001b[0m\u001b[1;33m\u001b[0m\u001b[0m\n\u001b[1;32m----> 5\u001b[1;33m \u001b[0mprint\u001b[0m\u001b[1;33m(\u001b[0m\u001b[0mc1\u001b[0m\u001b[1;33m.\u001b[0m\u001b[0mx\u001b[0m\u001b[1;33m)\u001b[0m\u001b[1;33m\u001b[0m\u001b[0m\n\u001b[0m",
      "\u001b[1;32m<ipython-input-5-6ed9067568d5>\u001b[0m in \u001b[0;36mgetx\u001b[1;34m(self)\u001b[0m\n\u001b[0;32m      4\u001b[0m \u001b[1;33m\u001b[0m\u001b[0m\n\u001b[0;32m      5\u001b[0m     \u001b[1;32mdef\u001b[0m \u001b[0mgetx\u001b[0m\u001b[1;33m(\u001b[0m\u001b[0mself\u001b[0m\u001b[1;33m)\u001b[0m\u001b[1;33m:\u001b[0m\u001b[1;33m\u001b[0m\u001b[0m\n\u001b[1;32m----> 6\u001b[1;33m         \u001b[1;32mreturn\u001b[0m \u001b[0mself\u001b[0m\u001b[1;33m.\u001b[0m\u001b[0m_x\u001b[0m\u001b[1;33m\u001b[0m\u001b[0m\n\u001b[0m\u001b[0;32m      7\u001b[0m \u001b[1;33m\u001b[0m\u001b[0m\n\u001b[0;32m      8\u001b[0m     \u001b[1;32mdef\u001b[0m \u001b[0msetx\u001b[0m\u001b[1;33m(\u001b[0m\u001b[0mself\u001b[0m\u001b[1;33m,\u001b[0m \u001b[0mvalue\u001b[0m\u001b[1;33m)\u001b[0m\u001b[1;33m:\u001b[0m\u001b[1;33m\u001b[0m\u001b[0m\n",
      "\u001b[1;31mAttributeError\u001b[0m: 'C' object has no attribute '_x'"
     ]
    }
   ],
   "source": [
    "c1=C()\n",
    "c1.x=2\n",
    "print(c1.x)\n",
    "del c1.x\n",
    "print(c1.x)"
   ]
  },
  {
   "cell_type": "markdown",
   "metadata": {},
   "source": [
    "### _x\n",
    "\n",
    "A single underscore before a name is used to specify that the name is to be treated as ** “private” by a programmer.** \n",
    "\n",
    "It’s kind of  a convention so that the next person (or yourself) using your code knows that a name starting with ** _  ** is for internal use\n",
    "\n",
    "* https://docs.python.org/3.5/tutorial/classes.html#tut-private"
   ]
  },
  {
   "cell_type": "code",
   "execution_count": 26,
   "metadata": {},
   "outputs": [
    {
     "data": {
      "text/plain": [
       "1"
      ]
     },
     "execution_count": 26,
     "metadata": {},
     "output_type": "execute_result"
    }
   ],
   "source": [
    "c1._x"
   ]
  },
  {
   "cell_type": "markdown",
   "metadata": {},
   "source": [
    "This makes it possible to create read-only properties easily using **property()** as **a decorator**\n",
    "\n",
    "A property object has getter, setter, and deleter methods usable as decorators that create a copy of the property with the corresponding accessor function set to the decorated function. \n",
    "\n",
    "This is best explained with an example:"
   ]
  },
  {
   "cell_type": "code",
   "execution_count": null,
   "metadata": {
    "collapsed": true
   },
   "outputs": [],
   "source": [
    "class C:\n",
    "    def __init__(self):\n",
    "        self._x = None\n",
    "\n",
    "    @property\n",
    "    def x(self):\n",
    "        \"\"\"I'm the 'x' property.\"\"\"\n",
    "        return self._x\n",
    "\n",
    "    @x.setter\n",
    "    def x(self, value):\n",
    "        self._x = value\n",
    "\n",
    "    @x.deleter\n",
    "    def x(self):\n",
    "        del self._x"
   ]
  },
  {
   "cell_type": "code",
   "execution_count": null,
   "metadata": {},
   "outputs": [],
   "source": [
    "c1=C()\n",
    "c1.x=2\n",
    "print(c1.x)\n",
    "del c1.x\n",
    "print(c1.x)"
   ]
  },
  {
   "cell_type": "markdown",
   "metadata": {},
   "source": [
    "## Node Class in Rankine"
   ]
  },
  {
   "cell_type": "code",
   "execution_count": null,
   "metadata": {
    "collapsed": true
   },
   "outputs": [],
   "source": [
    "import seuif97 as if97\n",
    "\n",
    "class Node(object):\n",
    "    \"\"\" water/steam nodes\"\"\"\n",
    "    \n",
    "    def __init__(self):\n",
    "        self.p = None\n",
    "        self.t = None\n",
    "        self.x = None\n",
    "        self.h = None\n",
    "        self.s = None\n",
    "        self.v = None\n",
    " \n",
    "    def pt(self):\n",
    "        self.h = if97.pt2h(self.p, self.t)\n",
    "        self.s = if97.pt2s(self.p, self.t)\n",
    "        self.v = if97.pt2v(self.p, self.t)\n",
    "        self.x = if97.pt2x(self.p, self.t)\n",
    "\n",
    "   \n",
    "    def px(self):\n",
    "        self.t = if97.px2t(self.p, self.x)\n",
    "        self.h = if97.px2h(self.p, self.x)\n",
    "        self.s = if97.px2s(self.p, self.x)\n",
    "        self.v = if97.px2v(self.p, self.x)\n",
    "\n",
    "    def tx(self):\n",
    "        self.p = if97.tx2p(self.t, self.x)\n",
    "        self.h = if97.tx2h(self.t, self.x)\n",
    "        self.s = if97.tx2s(self.t, self.x)\n",
    "        self.v = if97.tx2v(self.t, self.x)\n",
    "   \n",
    "    def calState(self):\n",
    "        if self.p !=None and self.t!=None:\n",
    "            self.pt()\n",
    "        elif self.p !=None and self.x !=None:\n",
    "             self.px()\n",
    "        elif self.t !=None and self.x !=None:\n",
    "             self.tx()\n",
    "\n",
    "    def __str__(self):\n",
    "        result=('{:6.3f}\\t {:6.2f}\\t {:7.2f}\\t {:5.2f} \\t {:6.3f}\\t {:5.3}'.format\n",
    "                (self.p,self.t,self.h,self.s,self.v, self.x))\n",
    "        return  result       \n",
    "   "
   ]
  },
  {
   "cell_type": "code",
   "execution_count": null,
   "metadata": {},
   "outputs": [],
   "source": [
    "n1=Node()\n",
    "n1.p=61\n",
    "n1.t=535\n",
    "n1.pt()\n",
    "print(n1)\n",
    "# but\n",
    "n1.t=534\n",
    "print(n1)\n"
   ]
  },
  {
   "cell_type": "markdown",
   "metadata": {},
   "source": [
    "### Using @property decorator\n"
   ]
  },
  {
   "cell_type": "code",
   "execution_count": null,
   "metadata": {
    "collapsed": true
   },
   "outputs": [],
   "source": [
    "import seuif97 as if97\n",
    "\n",
    "class pNode(object):\n",
    "    \"\"\" water/steam nodes\"\"\"\n",
    "    \n",
    "    def __init__(self):\n",
    "        self._p = None\n",
    "        self._t = None\n",
    "        self._x = None\n",
    "        self.h = None\n",
    "        self.s = None\n",
    "        self.v = None\n",
    "    \n",
    "    @property\n",
    "    def p(self):\n",
    "        return self._p\n",
    "\n",
    "    @p.setter\n",
    "    def p(self, value):\n",
    "         self._p = value\n",
    "         self.calState()\n",
    "\n",
    "    @property\n",
    "    def t(self):\n",
    "        return self._t\n",
    "\n",
    "    @t.setter\n",
    "    def t(self, value):\n",
    "        self._t = value\n",
    "        self.calState()    \n",
    "\n",
    "    @property\n",
    "    def x(self):\n",
    "        return self._x\n",
    "\n",
    "    @x.setter\n",
    "    def x(self, value):\n",
    "        self._x = value\n",
    "        self.calState() \n",
    "  \n",
    "    def pt(self):\n",
    "        self.h = if97.pt2h(self._p, self._t)\n",
    "        self.s = if97.pt2s(self._p, self._t)\n",
    "        self.v = if97.pt2v(self._p, self._t)\n",
    "        self._x = if97.pt2x(self._p, self._t)\n",
    "\n",
    "    def px(self):\n",
    "        self._t = if97.px2t(self._p, self._x)\n",
    "        self.h = if97.px2h(self._p, self._x)\n",
    "        self.s = if97.px2s(self._p, self._x)\n",
    "        self.v = if97.px2v(self._p, self._x)\n",
    "\n",
    "    def tx(self):\n",
    "        self._p = if97.tx2p(self._t, self._x)\n",
    "        self.h = if97.tx2h(self._t, self._x)\n",
    "        self.s = if97.tx2s(self._t, self._x)\n",
    "        self.v = if97.tx2v(self._t, self._x)\n",
    "   \n",
    "    def calState(self):\n",
    "        if self._p !=None and self._t!=None:\n",
    "            self.pt()\n",
    "        elif self._p !=None and self._x !=None:\n",
    "             self.px()\n",
    "        elif self._t !=None and self._x !=None:\n",
    "             self.tx()\n",
    "\n",
    "    def __str__(self):\n",
    "        result=('{:6.3f}\\t {:6.2f}\\t {:7.2f}\\t {:5.2f} \\t {:6.3f}\\t {:5.3}'.format\n",
    "                (self._p,self._t,self.h,self.s,self.v, self._x))\n",
    "        return  result       \n",
    "   "
   ]
  },
  {
   "cell_type": "code",
   "execution_count": null,
   "metadata": {},
   "outputs": [],
   "source": [
    "n1=pNode()\n",
    "n1.p=61.2\n",
    "n1.t=535.2\n",
    "n1.pt()\n",
    "print(n1)\n",
    "# but\n",
    "n1.t=534.2\n",
    "print(n1)"
   ]
  },
  {
   "cell_type": "markdown",
   "metadata": {},
   "source": [
    "### See Also： \n",
    "\n",
    "* [18.1 Fibonacci Sequences, Revisited](./http://localhost:8888/notebooks/18_DYNAMIC_PROGRAMMING.ipynb)\n",
    "\n",
    "  * The function **`fastFib`** has a parameter, **`memo`**, that it uses to keep track of the numbers it has already evaluated."
   ]
  },
  {
   "cell_type": "code",
   "execution_count": null,
   "metadata": {
    "collapsed": true
   },
   "outputs": [],
   "source": [
    "#Page 254, Figure 18.3\n",
    "def fastFib(n, memo = {}):\n",
    "    \"\"\"Assumes n is an int >= 0, memo used only by recursive calls\n",
    "       Returns Fibonacci of n\"\"\"\n",
    "    if n == 0 or n == 1:\n",
    "        return 1\n",
    "    try:\n",
    "        return memo[n]\n",
    "    except KeyError:\n",
    "        result = fastFib(n-1, memo) + fastFib(n-2, memo)\n",
    "        memo[n] = result\n",
    "        return result\n"
   ]
  },
  {
   "cell_type": "code",
   "execution_count": null,
   "metadata": {
    "collapsed": true
   },
   "outputs": [],
   "source": [
    "import profile\n",
    "\n",
    "def fib_seq(n):\n",
    "    seq = [ ]\n",
    "    if n > 0:\n",
    "        seq.extend(fib_seq(n-1))\n",
    "    seq.append(fastFib(n))\n",
    "    return seq\n",
    "\n",
    "print('MEMOIZED')\n",
    "print('=' * 80)\n",
    "profile.run('print(fib_seq(20)); print')"
   ]
  },
  {
   "cell_type": "markdown",
   "metadata": {},
   "source": [
    "## pstats: Saving and Working With Statistics\n",
    "\n",
    "The standard report created by the profile functions is not very flexible. \n",
    "\n",
    "If it doesn’t meet your needs, you can produce your own reports by saving the raw profiling data from `run()` and processing it separately with the `Stats` class from `pstats`.\n",
    "\n",
    "For example, to run several iterations of the same test and combine the results, you could do something like this:\n",
    "\n"
   ]
  },
  {
   "cell_type": "code",
   "execution_count": null,
   "metadata": {
    "collapsed": true
   },
   "outputs": [],
   "source": [
    "import profile\n",
    "import pstats\n",
    "\n",
    "# from profile_fibonacci_memoized import fib, fib_seq\n",
    "\n",
    "# Create 5 set of stats\n",
    "filenames = []\n",
    "for i in range(5):\n",
    "    filename ='profile_stats_%d.stats' % i\n",
    "    profile.run('print(\"%d \" % i,fib_seq(20))', filename)\n",
    "\n",
    "# Read all 5 stats files into a single object\n",
    "stats = pstats.Stats('profile_stats_0.stats')\n",
    "for i in range(1, 5):\n",
    "    stats.add('profile_stats_%d.stats' % i)\n",
    "\n",
    "# Clean up filenames for the report\n",
    "stats.strip_dirs()\n",
    "\n",
    "# Sort the statistics by the cumulative time spent in the function\n",
    "stats.sort_stats('cumulative')\n",
    "stats.print_stats()\n"
   ]
  },
  {
   "cell_type": "markdown",
   "metadata": {
    "collapsed": true
   },
   "source": [
    "The output report is sorted in descending order of cumulative time spent in the function and the directory names are\n",
    "removed from the printed filenames to conserve horizontal space."
   ]
  },
  {
   "cell_type": "markdown",
   "metadata": {},
   "source": [
    "### 24.1.4 Limiting Report Contents\n",
    "\n",
    "Since we are studying the performance of `fib()` and `fib_seq()`, we can also restrict the output report to only\n",
    "include those functions using a regular expression to match the `filename:lineno(function)` values we want.\n"
   ]
  },
  {
   "cell_type": "code",
   "execution_count": null,
   "metadata": {
    "collapsed": true
   },
   "outputs": [],
   "source": [
    "import profile\n",
    "import pstats\n",
    "\n",
    "#from profile_fibonacci_memoized import fib, fib_seq\n",
    "\n",
    "# Read all 5 stats files into a single object\n",
    "stats = pstats.Stats('profile_stats_0.stats')\n",
    "for i in range(1, 5):\n",
    "    stats.add('profile_stats_%d.stats' % i)\n",
    "\n",
    "stats.strip_dirs()\n",
    "stats.sort_stats('cumulative')\n",
    "\n",
    "# limit output to lines with \"(fib\" in them\n",
    "stats.print_stats('\\(fib')\n"
   ]
  },
  {
   "cell_type": "markdown",
   "metadata": {},
   "source": [
    "The regular expression includes a literal left paren (() to match against the function name portion of the location value."
   ]
  },
  {
   "cell_type": "markdown",
   "metadata": {},
   "source": [
    "### 24.1.5 Caller / Callee Graphs\n",
    "\n",
    "Stats also includes methods for printing the callers and callees of functions"
   ]
  },
  {
   "cell_type": "code",
   "execution_count": null,
   "metadata": {},
   "outputs": [],
   "source": [
    "import cProfile as profile\n",
    "import pstats\n",
    "\n",
    "#from profile_fibonacci_memoized import fib, fib_seq\n",
    "\n",
    "# Read all 5 stats files into a single object\n",
    "stats = pstats.Stats('profile_stats_0.stats')\n",
    "for i in range(1, 5):\n",
    "    stats.add('profile_stats_%d.stats' % i)\n",
    "\n",
    "stats.strip_dirs()\n",
    "stats.sort_stats('cumulative')\n",
    "\n",
    "print('INCOMING CALLERS:')\n",
    "stats.print_callers('\\(fib')\n",
    "\n",
    "print('OUTGOING CALLEES:')\n",
    "stats.print_callees('\\(fib')\n"
   ]
  },
  {
   "cell_type": "code",
   "execution_count": null,
   "metadata": {
    "collapsed": true
   },
   "outputs": [],
   "source": []
  }
 ],
 "metadata": {
  "kernelspec": {
   "display_name": "Python 3",
   "language": "python",
   "name": "python3"
  },
  "language_info": {
   "codemirror_mode": {
    "name": "ipython",
    "version": 3
   },
   "file_extension": ".py",
   "mimetype": "text/x-python",
   "name": "python",
   "nbconvert_exporter": "python",
   "pygments_lexer": "ipython3",
   "version": "3.5.2"
  }
 },
 "nbformat": 4,
 "nbformat_minor": 1
}
