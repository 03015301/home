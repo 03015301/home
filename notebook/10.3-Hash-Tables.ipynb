{
 "cells": [
  {
   "cell_type": "markdown",
   "metadata": {},
   "source": [
    "# 10.3 Hash Tables\n",
    "\n",
    "If we put merge sort together with binary search, we have a nice way to search lists.\n",
    "\n",
    "we can still ask, is logarithmic **the best** that we can do for  search when we are willing to do some\n",
    "\n",
    "<font color=\"blue\">Preprocessing</font>\n",
    "\n",
    "###  When we introduced the type <font color=\"blue\">dict</font> in Chapter 5 \n",
    "\n",
    "* dictionaries use a technique called <b>hashing</b> to do <b>the lookup in time</b> \n",
    "\n",
    "  that is <b>nearly independent of the size of the dictionary</b>."
   ]
  },
  {
   "cell_type": "code",
   "execution_count": null,
   "metadata": {
    "collapsed": true
   },
   "outputs": [],
   "source": [
    "import timeit\n",
    "\n",
    "query_lst = [-600,-60,-6,-70,-6,0,6,70,6,60,600]\n",
    "\n",
    "lst = []\n",
    "dic = {}\n",
    "\n",
    "# search space :lst,dic\n",
    "size=10000\n",
    "for i in range(size):\n",
    "    lst.append(i)\n",
    "    dic[i] = i \n",
    "\n",
    "ls=\"\"\"\n",
    "for v in query_lst:\n",
    "    if v in lst:\n",
    "        continue\n",
    "\"\"\"\n",
    "   \n",
    "t_querylst=timeit.Timer(stmt=ls,globals=globals())\n",
    "lst_time=t_querylst.timeit(10)\n",
    "print('Linear search time : ',lst_time/10)\n",
    "\n",
    "bls=\"\"\"\n",
    "for v in query_lst:\n",
    "    if search(lst, v):\n",
    "       continue\n",
    "\"\"\"\n",
    "t_querylst=timeit.Timer(stmt=bls,globals=globals())\n",
    "bst_time=t_querylst.timeit(10)\n",
    "print('Binary search time : ',bst_time/10)\n",
    "\n",
    "ds=\"\"\"\n",
    "for v in query_lst:\n",
    "    if v in dic:\n",
    "        continue\n",
    "\"\"\"\n",
    "t_querydic=timeit.Timer(stmt=ds,globals=globals())\n",
    "dict_time=t_querydic.timeit(10)\n",
    "print('dict search time : ',dict_time/10)"
   ]
  },
  {
   "cell_type": "markdown",
   "metadata": {},
   "source": [
    "### A hash table \n",
    "\n",
    "The basic idea behind **a hash table** is\n",
    "\n",
    "* **convert the key to an integer, and then use that integer to index into a list**\n",
    "\n",
    "  which can be done in constant time.\n",
    "\n",
    "  In principle, values of any immutable type can be easily converted to an integer through **Hash functions**.\n",
    "\n",
    "\n",
    "### Hash functions\n",
    "\n",
    "**Hash functions** can be used to convert \n",
    "\n",
    "* <b>a large space of keys</b>  to  <b>a smaller space of integer indices</b>.\n",
    "\n",
    "Since the space of possible outputs is**smaller** than the space of possible inputs, \n",
    "\n",
    "a hash function is a  <b>many-to-one mapping</b>,\n",
    "\n",
    "multiple different inputs may be mapped to the same output. \n",
    "\n",
    "When two inputs are mapped to the same output, \n",
    "\n",
    "it is called a <b>collision</b>. \n",
    "\n",
    "A good hash function produces \n",
    "\n",
    "<b>a uniform distribution</b>\n",
    "\n",
    "every output in the range is equally probable, which <b>minimizes the probability of collisions</b>.\n",
    "\n",
    "**Designing good hash functions** is surprisingly challenging.\n",
    "\n",
    "The problem is that one wants the outputs to be uniformly distributed given the expected distribution of inputs\n",
    "\n",
    "## hash bucket\n",
    "\n",
    "**class intDict(object)**  uses a simple hash function \n",
    "\n",
    "```python\n",
    "# i%j returns the remainder when the integer i is divided by the integer j \n",
    "\n",
    "hashBucket = self.buckets[dictKey%self.numBuckets]\n",
    "``` \n",
    "\n",
    "to implement a dictionary with integers as keys.\n",
    "\n",
    "The basic idea is to represent \n",
    "\n",
    "**an instance of class intDict**\n",
    "\n",
    "by a list of <b>hash buckets</b>, \n",
    "\n",
    "where **each bucket** is a list of **key/value** pairs. \n",
    "\n",
    "<b>By making each bucket a list, \n",
    "\n",
    "we handle collisions by storing all of the values that hash to the same bucket in the list</b>. \n",
    "\n",
    "The <b>hash table</b> works as follows: \n",
    "\n",
    "*  **1 def __init__(self, numBuckets):**\n",
    "\n",
    "   The instance variable <b>buckets</b> is initialized to \n",
    "\n",
    "   <b>a list</b> of  <b>numBuckets</b> <b>empty lists</b>.\n",
    "\n",
    "```python\n",
    "        self.buckets = []\n",
    "        self.numBuckets = numBuckets\n",
    "        for i in range(numBuckets):\n",
    "            self.buckets.append([]) \n",
    "```\n",
    "   \n",
    "* **2 def addEntry(self, dictKey, dictVal):**\n",
    "\n",
    "   To store or look up an entry with key **dictKey**, \n",
    "\n",
    "```python   \n",
    "        hashBucket = self.buckets[dictKey%self.numBuckets]\n",
    "        for i in range(len(hashBucket)):\n",
    "            if hashBucket[i][0] == dictKey:\n",
    "                hashBucket[i] = (dictKey, dictVal) #if one was found,replace\n",
    "                return\n",
    "        hashBucket.append((dictKey, dictVal)) # append a new entry to the bucket if none was found.\n",
    "```      \n",
    "   \n",
    "we use <b>the hash function i%j to convert dictKey into an integer</b>, \n",
    "```python  \n",
    "    hashBucket = self.buckets[dictKey%self.numBuckets\n",
    "```    \n",
    "and use that integer to index into buckets \n",
    "```python\n",
    "   hashBucket[i]\n",
    "```\n",
    "to find the hash bucket associated with **dictKey**\n",
    "\n",
    "If <b>a value is to be stored</b>,then  \n",
    "\n",
    "if one was found:  <b>replace</b> the value in the existing entry, if one was found, \n",
    "\n",
    "if none was found: <b>append</b> a new entry to the bucket\n",
    "\n",
    "### separate chaining(分离链接法)\n",
    "\n",
    "In the method known as separate chaining, each bucket is independent, and has some sort of list of entries with the same index. \n",
    "\n",
    "![](./img/Hashcollisionbyseparatechaining.jpg)\n",
    "\n",
    "* **3 def getValue(self, dictKey):**\n",
    "\n",
    "We then search that bucket (which is a list) linearly to see if there is an entry with the key dictKey.\n",
    "\n",
    "```python \n",
    " for e in hashBucket:\n",
    "            if e[0] == dictKey: // key\n",
    "                return e[1]     // valu\n",
    "```\n",
    "\n",
    "If we are doing <b>a lookup</b> and there is an entry with the key, we simply return the value stored with that key. \n",
    "\n",
    "If there is no entry with that key, we return None. \n",
    "\n",
    "\n"
   ]
  },
  {
   "cell_type": "code",
   "execution_count": 48,
   "metadata": {
    "collapsed": true
   },
   "outputs": [],
   "source": [
    "#Page 139, Figure 10.6\n",
    "\n",
    "class intDict(object):\n",
    "    \"\"\"A dictionary with integer keys\"\"\"\n",
    "    \n",
    "    def __init__(self, numBuckets):\n",
    "        \"\"\"Create an empty dictionary\"\"\"\n",
    "        \n",
    "        ## buckets is initialized to a list of numBuckets empty lists.\n",
    "        \n",
    "        self.buckets = []\n",
    "        self.numBuckets = numBuckets\n",
    "        for i in range(numBuckets):\n",
    "            self.buckets.append([]) # empty list\n",
    "            \n",
    "    def addEntry(self, dictKey, dictVal):\n",
    "        \"\"\"Assumes dictKey an int.  Adds an entry.\"\"\"\n",
    "        hashBucket = self.buckets[dictKey%self.numBuckets]\n",
    "        for i in range(len(hashBucket)):\n",
    "            if hashBucket[i][0] == dictKey:\n",
    "                hashBucket[i] = (dictKey, dictVal) #if one was found,replace\n",
    "                return\n",
    "        hashBucket.append((dictKey, dictVal)) # append a new entry to the bucket if none was found.\n",
    "        \n",
    "    def getValue(self, dictKey):\n",
    "        \"\"\"Assumes dictKey an int.  Returns entry associated\n",
    "           with the key dictKey\"\"\"\n",
    "        hashBucket = self.buckets[dictKey%self.numBuckets]\n",
    "        for e in hashBucket:\n",
    "            if e[0] == dictKey: # key\n",
    "                return e[1]     # value \n",
    "        return None\n",
    "    \n",
    "    def __str__(self):\n",
    "        result = '{'\n",
    "        for b in self.buckets:\n",
    "            for e in b:\n",
    "                result = result + str(e[0]) + ':' + str(e[1]) + ','\n",
    "        return result[:-1] + '}' #result[:-1] omits the last comma\n",
    "\n"
   ]
  },
  {
   "cell_type": "markdown",
   "metadata": {},
   "source": [
    "The following code first constructs an **intDict** with twenty entries. \n",
    "\n",
    "The values of the entries are the integers 0 to 19.\n",
    "\n",
    "The **keys** are chosen at random from <b>integers in the range 0 to 10^5 - 1<b>."
   ]
  },
  {
   "cell_type": "markdown",
   "metadata": {},
   "source": [
    "## Twenty entries"
   ]
  },
  {
   "cell_type": "code",
   "execution_count": 59,
   "metadata": {},
   "outputs": [
    {
     "name": "stdout",
     "output_type": "stream",
     "text": [
      "The Entrys (key,i)is:\n",
      "(17611, 0)\n",
      "(74606, 1)\n",
      "(8271, 2)\n",
      "(33432, 3)\n",
      "(15455, 4)\n",
      "(64937, 5)\n",
      "(99740, 6)\n",
      "(58915, 7)\n",
      "(61898, 8)\n",
      "(85405, 9)\n",
      "(49756, 10)\n",
      "(27519, 11)\n",
      "(12302, 12)\n",
      "(63944, 13)\n",
      "(3715, 14)\n",
      "(51093, 15)\n",
      "(56723, 16)\n",
      "(79618, 17)\n",
      "(99913, 18)\n",
      "(276, 19)\n"
     ]
    }
   ],
   "source": [
    "import random #a standard library module\n",
    "Entrys=[]\n",
    "NumEntry=20\n",
    "\n",
    "random.seed(1)\n",
    "\n",
    "for i in range(NumEntry):\n",
    "    #choose a random int between 0 and 10**5\n",
    "    key = random.randint(0, 10**5)\n",
    "    Entrys.append((key,i))\n",
    "\n",
    "print('The Entrys (key,i)is:')\n",
    "for entry in Entrys:\n",
    "    print(entry)"
   ]
  },
  {
   "cell_type": "markdown",
   "metadata": {},
   "source": [
    "### Search key->value in <font color=\"blue\">list</font> of Entrys"
   ]
  },
  {
   "cell_type": "code",
   "execution_count": 74,
   "metadata": {},
   "outputs": [],
   "source": [
    "def searchintListbyKey(Entrys,key):\n",
    "    value=None\n",
    "    for item in Entrys:\n",
    "        if (key==item[0]):\n",
    "            value=item[1] \n",
    "            break\n",
    "    return value"
   ]
  },
  {
   "cell_type": "code",
   "execution_count": 75,
   "metadata": {},
   "outputs": [
    {
     "name": "stdout",
     "output_type": "stream",
     "text": [
      "49756 10\n"
     ]
    }
   ],
   "source": [
    "value=searchintListbyKey(Entrys,Entrys[10][0])\n",
    "print(Entrys[10][0],value)"
   ]
  },
  {
   "cell_type": "code",
   "execution_count": 67,
   "metadata": {},
   "outputs": [
    {
     "name": "stdout",
     "output_type": "stream",
     "text": [
      "1.56 µs ± 29.9 ns per loop (mean ± std. dev. of 7 runs, 1000000 loops each)\n"
     ]
    }
   ],
   "source": [
    "%timeit searchEntryListbyKey(Entrys,Entrys[10][0])"
   ]
  },
  {
   "cell_type": "markdown",
   "metadata": {},
   "source": [
    "## Put entrys into <font color=\"blue\">intDict</font>\n",
    "\n",
    "* numBuckets =29"
   ]
  },
  {
   "cell_type": "code",
   "execution_count": 39,
   "metadata": {},
   "outputs": [
    {
     "name": "stdout",
     "output_type": "stream",
     "text": [
      "The intDict is:\n",
      "{85405:9,3715:14,8271:2,64937:5,12302:12,17611:0,99913:18,99740:6,61898:8,79618:17,276:19,58915:7,74606:1,49756:10,33432:3,51093:15,15455:4,27519:11,63944:13,56723:16}\n",
      "\n",
      " The hase buckets are:\n",
      "BucketID 0    [(85405, 9)]\n",
      "BucketID 1    []\n",
      "BucketID 2    []\n",
      "BucketID 3    [(3715, 14)]\n",
      "BucketID 4    []\n",
      "BucketID 5    []\n",
      "BucketID 6    [(8271, 2), (64937, 5), (12302, 12)]\n",
      "BucketID 7    []\n",
      "BucketID 8    [(17611, 0), (99913, 18)]\n",
      "BucketID 9    [(99740, 6)]\n",
      "BucketID 10    []\n",
      "BucketID 11    []\n",
      "BucketID 12    [(61898, 8)]\n",
      "BucketID 13    [(79618, 17)]\n",
      "BucketID 14    []\n",
      "BucketID 15    [(276, 19)]\n",
      "BucketID 16    [(58915, 7)]\n",
      "BucketID 17    []\n",
      "BucketID 18    [(74606, 1)]\n",
      "BucketID 19    []\n",
      "BucketID 20    []\n",
      "BucketID 21    [(49756, 10)]\n",
      "BucketID 22    []\n",
      "BucketID 23    []\n",
      "BucketID 24    [(33432, 3), (51093, 15)]\n",
      "BucketID 25    []\n",
      "BucketID 26    []\n",
      "BucketID 27    [(15455, 4), (27519, 11)]\n",
      "BucketID 28    [(63944, 13), (56723, 16)]\n"
     ]
    }
   ],
   "source": [
    "numBuckets =29\n",
    "# numBuckets 29  >entries 20 <<< the range of key （0，100000）\n",
    "D = intDict(numBuckets)\n",
    "for item in Entrys:\n",
    "    D.addEntry(item[0],item[1])\n",
    "\n",
    "print('The intDict is:' )\n",
    "print(D)\n",
    "\n",
    "print('\\n', 'The hase buckets are:')\n",
    "i=0\n",
    "for hashBucket in D.buckets:\n",
    "    print('BucketID',i,'  ', hashBucket)\n",
    "    i=i+1"
   ]
  },
  {
   "cell_type": "markdown",
   "metadata": {},
   "source": [
    "we see that many of the hash buckets are **empty**. \n",
    "\n",
    "Others contain **one, two, or three tuples** depending upon <b>the number of collisions</b> that occurred"
   ]
  },
  {
   "cell_type": "code",
   "execution_count": 68,
   "metadata": {},
   "outputs": [],
   "source": [
    "def getIntDictByKey(key):\n",
    "    return D.getValue(key)"
   ]
  },
  {
   "cell_type": "code",
   "execution_count": 71,
   "metadata": {},
   "outputs": [
    {
     "name": "stdout",
     "output_type": "stream",
     "text": [
      "49756 10\n"
     ]
    }
   ],
   "source": [
    "value=getIntDictByKey(Entrys[10][0])   \n",
    "print(Entrys[10][0],value)"
   ]
  },
  {
   "cell_type": "code",
   "execution_count": 72,
   "metadata": {},
   "outputs": [
    {
     "name": "stdout",
     "output_type": "stream",
     "text": [
      "1.1 µs ± 13.7 ns per loop (mean ± std. dev. of 7 runs, 1000000 loops each)\n"
     ]
    }
   ],
   "source": [
    "%timeit getIntDictByKey(Entrys[10][0])   "
   ]
  },
  {
   "cell_type": "markdown",
   "metadata": {},
   "source": [
    "### What is the complexity of **getValue**? "
   ]
  },
  {
   "cell_type": "markdown",
   "metadata": {},
   "source": [
    "If there were <b>no collisions</b> it would be <b>O(1)</b>,  because each hash bucket would be of length 0 or 1.\n",
    "\n",
    "there might be <b>collisions</b>. \n",
    "\n",
    "If everything hashed to the same bucket,\n",
    "\n",
    "it would be <b>O(n)</b> where n is the number of entries in the dictionary,\n",
    "\n",
    "because the code would perform a linear search on that hash bucket.\n",
    "\n",
    "### By making the <b>hash table large enough</b>, \n",
    "\n",
    "we can <b>reduce the number of collisions</b> sufficiently to allow us to treat <b>the complexity as O(1)</b>."
   ]
  },
  {
   "cell_type": "markdown",
   "metadata": {},
   "source": [
    "### hash table small , more collisions\n",
    "\n",
    "* numBucket=5"
   ]
  },
  {
   "cell_type": "code",
   "execution_count": 76,
   "metadata": {},
   "outputs": [
    {
     "name": "stdout",
     "output_type": "stream",
     "text": [
      "The value of the intDict is:\n",
      "{15455:4,99740:6,58915:7,85405:9,3715:14,17611:0,74606:1,8271:2,49756:10,276:19,33432:3,64937:5,12302:12,61898:8,51093:15,56723:16,79618:17,99913:18,27519:11,63944:13}\n",
      "\n",
      " The buckets are:\n",
      "   [(15455, 4), (99740, 6), (58915, 7), (85405, 9), (3715, 14)]\n",
      "   [(17611, 0), (74606, 1), (8271, 2), (49756, 10), (276, 19)]\n",
      "   [(33432, 3), (64937, 5), (12302, 12)]\n",
      "   [(61898, 8), (51093, 15), (56723, 16), (79618, 17), (99913, 18)]\n",
      "   [(27519, 11), (63944, 13)]\n"
     ]
    }
   ],
   "source": [
    "import random #a standard library module\n",
    "\n",
    "# hash table small , more collisions\n",
    "numBuckets=5\n",
    "D = intDict(numBuckets) # numBuckets < entries\n",
    "\n",
    "for item in Entrys:\n",
    "    D.addEntry(item[0],item[1])\n",
    "\n",
    "print('The value of the intDict is:')\n",
    "print(D)\n",
    "\n",
    "print('\\n', 'The buckets are:')\n",
    "for hashBucket in D.buckets: #violates abstraction barrier\n",
    "    print('  ', hashBucket)\n"
   ]
  },
  {
   "cell_type": "code",
   "execution_count": 77,
   "metadata": {},
   "outputs": [
    {
     "name": "stdout",
     "output_type": "stream",
     "text": [
      "1.37 µs ± 30.4 ns per loop (mean ± std. dev. of 7 runs, 1000000 loops each)\n"
     ]
    }
   ],
   "source": [
    "%timeit getIntDictByKey(Entrys[10][0])"
   ]
  },
  {
   "cell_type": "markdown",
   "metadata": {},
   "source": [
    "### hash table large , less collisions\n",
    "\n",
    "* numBucket=50"
   ]
  },
  {
   "cell_type": "code",
   "execution_count": null,
   "metadata": {
    "collapsed": true
   },
   "outputs": [],
   "source": [
    "import random #a standard library module\n",
    "\n",
    "# hash table large , less collisions\n",
    "numBucket=50\n",
    "\n",
    "D = intDict(numBucket) # numBuckets >> entries\n",
    "\n",
    "for item in Entrys:\n",
    "    D.addEntry(item[0],item[1])\n",
    "    \n",
    "print('The value of the intDict is:')\n",
    "print(D)\n",
    "\n",
    "print('\\n', 'The buckets are:')\n",
    "for hashBucket in D.buckets: #violates abstraction barrier\n",
    "    print('  ', hashBucket)"
   ]
  },
  {
   "cell_type": "code",
   "execution_count": 78,
   "metadata": {},
   "outputs": [
    {
     "name": "stdout",
     "output_type": "stream",
     "text": [
      "1.34 µs ± 7.86 ns per loop (mean ± std. dev. of 7 runs, 1000000 loops each)\n"
     ]
    }
   ],
   "source": [
    "%timeit getIntDictByKey(Entrys[10][0])"
   ]
  },
  {
   "cell_type": "markdown",
   "metadata": {
    "collapsed": true
   },
   "source": [
    "##  Note: \n",
    "\n",
    "### hash table: a series of buckets\n",
    "\n",
    "* **bucket** : a list of key/value pairs. storing all of the values that hash to the same bucket in the list \n",
    "\n",
    "* **hash each element to bucket**: an address that is derived form the key value by applying the hash function\n",
    "    \n",
    "*  **search:**\n",
    "\n",
    "    * key -> the hash function -> an address of bucket in the hash table -> get valve in bucket"
   ]
  },
  {
   "cell_type": "markdown",
   "metadata": {},
   "source": [
    "## intDict in C\n",
    "\n",
    "* intDict.h/c\n",
    "\n",
    "* mainintDict.c"
   ]
  },
  {
   "cell_type": "code",
   "execution_count": 15,
   "metadata": {},
   "outputs": [
    {
     "name": "stdout",
     "output_type": "stream",
     "text": [
      "Overwriting ./code/ds/intDict.h\n"
     ]
    }
   ],
   "source": [
    "%%file ./code/ds/intDict.h\n",
    "\n",
    "#ifndef INTDICTH\n",
    "#define INTDICTH\n",
    "\n",
    "typedef struct _node\n",
    "{\n",
    "\tint key;\n",
    "\tint value;\n",
    "\tstruct _node *next;\n",
    "} Node;\n",
    "\n",
    "typedef struct _hashtable\n",
    "{ \n",
    "\tint   numBuckets;\n",
    "\tNode **buckets; //the linked list stack \n",
    "} Hashtable;\n",
    "\n",
    "// Create hash table\n",
    "Hashtable *createHash(int numBuckets);\n",
    "\n",
    "// free hash table\n",
    "void *freeHash(Hashtable *hTable);\n",
    "\n",
    "// hash function for int keys\n",
    "int inthash(int key,int  numBuckets);\n",
    "\n",
    "// Add Entry to table - keyed by int\n",
    "void addEntry(Hashtable *hTable, int key,int value);\n",
    "\n",
    "// Lookup  by int key\n",
    "Node *searchEntry(Hashtable *hTable, int key);\n",
    "\n",
    "// Get by int key\n",
    "int getValue(Hashtable *hTable, int key);\n",
    "\n",
    "#endif"
   ]
  },
  {
   "cell_type": "code",
   "execution_count": 19,
   "metadata": {},
   "outputs": [
    {
     "name": "stdout",
     "output_type": "stream",
     "text": [
      "Overwriting ./code/ds/intDict.c\n"
     ]
    }
   ],
   "source": [
    "%%file ./code/ds/intDict.c\n",
    "\n",
    "#include <stdio.h>\n",
    "#include <stdlib.h>\n",
    "#include \"intDict.h\"\n",
    "\n",
    "\n",
    "// Create hash table\n",
    "Hashtable *createHash(int numBuckets)\n",
    "{\n",
    "    Hashtable *table=(Hashtable*)malloc(sizeof(Hashtable*));\n",
    "    if(!table) {\n",
    "\t\treturn NULL;\n",
    "\t}\n",
    "    \n",
    "    table->buckets=(Node**)malloc(sizeof(Node)*numBuckets);\n",
    "    if(!table->buckets) {\n",
    "\t\tfree(table);\n",
    "\t\treturn NULL;\n",
    "\t}\n",
    "\t\n",
    "    table->numBuckets=numBuckets;\n",
    "\t// initialize the head pointer of the bucket stack to NULL\n",
    "\tfor(int i=0;i<table->numBuckets;i++)\n",
    "\t\ttable->buckets[i] = NULL;\n",
    "   \n",
    "    return table;\n",
    "}\n",
    "\n",
    "void *freeHash(Hashtable *hTable)\n",
    "{\n",
    "   \tNode *b,*p;\n",
    "\tfor(int i=0;i<hTable->numBuckets;i++)\n",
    "\t{\n",
    "       b = hTable->buckets[i];\n",
    "\t   while(b!=NULL)\n",
    "\t   { \n",
    "         p=b->next;\n",
    "\t     free(b);\n",
    "\t\t b=p;\n",
    "\t   }\t \n",
    "\t}\n",
    "\tfree(hTable->buckets);\n",
    "\tfree(hTable);\n",
    "}\n",
    "\n",
    "// hash function for int keys\n",
    "int inthash(int key,int  numBuckets)\n",
    "{\n",
    "    return key % numBuckets;\n",
    "}\n",
    "\n",
    "// Lookup  by int key\n",
    "Node *searchEntry(Hashtable *hTable, int key)\n",
    "{\n",
    "\tNode *p;\n",
    "\tint addr = inthash(key, hTable->numBuckets);\n",
    "\tp = hTable->buckets[addr];\n",
    "\n",
    "\twhile(p && p->key !=key)\n",
    "\t\tp = p->next;\n",
    "\n",
    "\treturn p;\n",
    "}\n",
    "\n",
    "// Add Entry to table - keyed by int\n",
    "void addEntry(Hashtable *hTable, int key,int value)\n",
    "{\n",
    "\tint addr;\n",
    "\tNode *p,*entry;\n",
    "\tp = searchEntry(hTable,key);\n",
    "\tif(p)\n",
    "\t{\n",
    "\t\treturn;\n",
    "\t}\n",
    "\telse\n",
    "\t{   /*\n",
    "          add a new item on the top of the linked list stack \n",
    "          and a pointer to the top element.  \n",
    "       */\n",
    "\t\taddr =  inthash(key, hTable->numBuckets);\n",
    "\t\tentry=(Node*)malloc(sizeof(Node));\n",
    "\t  \tentry->key = key;\n",
    "\t\tentry->value=value;\n",
    "\t\tentry->next =hTable->buckets[addr];\n",
    "\t\thTable->buckets[addr] = entry;\n",
    "\t}\n",
    "}\n",
    "\n",
    "// Get by int\n",
    "int getValue(Hashtable *hTable, int key)\n",
    "{   \n",
    "\tNode *p;\n",
    "\tp = searchEntry(hTable,key);\n",
    "\tif (p)\n",
    "\t{\n",
    "      return p->value;\n",
    "\t}\n",
    "}\n"
   ]
  },
  {
   "cell_type": "code",
   "execution_count": 20,
   "metadata": {},
   "outputs": [
    {
     "name": "stdout",
     "output_type": "stream",
     "text": [
      "Overwriting ./code/ds/mainintDict.c\n"
     ]
    }
   ],
   "source": [
    "%%file ./code/ds/mainintDict.c\n",
    "\n",
    "#include <stdio.h>\n",
    "#include <stdlib.h>\n",
    "#include <time.h>\n",
    "#include \"intDict.h\"\n",
    "\n",
    "int main()\n",
    "{\n",
    "\tint numBuckets=5;\n",
    "    int numEntries=20;\n",
    "    Hashtable *hTable;\n",
    "\tint *key;\n",
    "\tint *value;\n",
    "\t\n",
    "    hTable=createHash(numBuckets);\n",
    "   \n",
    "\tprintf(\"The value of the intDict is:\\n\");\n",
    "    printf(\"(key value)\\n\");\n",
    "    \n",
    "    key=(int*)malloc(sizeof(int)*numEntries);\n",
    "\tvalue=(int*)malloc(sizeof(int)*numEntries);\n",
    "\tsrand(time(NULL));\n",
    "\tfor(int i=0;i<numEntries;i++)\n",
    "\t{\n",
    "\t  \tkey[i] = rand() % 100000;\n",
    "\t\tvalue[i]=i;\n",
    "\n",
    "\t\taddEntry(hTable,key[i],value[i]);\n",
    "\t\tprintf(\"(%d %d)\\n\",key[i],value[i]);\n",
    "\t}\n",
    "\n",
    "    printf(\"The buckets(the linked list stack) are: \\n\");\n",
    "\tfor(int i=0;i<hTable->numBuckets;i++)\n",
    "\t{\n",
    "       Node *b,*p;\n",
    "\t   b = hTable->buckets[i];\n",
    "\t   printf(\"bucket %d :\",i);\n",
    "\t   if (b)\n",
    "\t   {\n",
    "\t     for(p=b; p!=NULL; p=p->next)\n",
    "\t        printf(\" (%d %d) \",p->key,p->value);\n",
    "\t     printf(\"\\n\"); \t\t\n",
    "\t   }\n",
    "\t   else\n",
    "\t    \tprintf(\"\\n\"); \t   \n",
    "\t}\n",
    "\n",
    "    printf(\"Hash search(even):\\n\");\n",
    "    printf(\"(key value) : key -> value:\\n\");\n",
    "\tfor(int i=0;i< numEntries;i++)\n",
    "\t{\n",
    "      if (i%2==0)\n",
    "      {\n",
    "        int val=getValue(hTable,key[i]);\n",
    "        printf(\"(%d  %d): -> %d \\n\",key[i],value[i],val);\n",
    "      } \n",
    "\t}\n",
    "  \n",
    "    free(key);\n",
    "    free(value);\n",
    "    \n",
    "    freeHash(hTable);\n",
    "    \n",
    "  \treturn 0;\n",
    "}"
   ]
  },
  {
   "cell_type": "code",
   "execution_count": 21,
   "metadata": {},
   "outputs": [],
   "source": [
    "!gcc -o ./code/ds/mainintDict ./code/ds/mainintDict.c ./code/ds/intDict.c"
   ]
  },
  {
   "cell_type": "code",
   "execution_count": 22,
   "metadata": {},
   "outputs": [
    {
     "name": "stdout",
     "output_type": "stream",
     "text": [
      "The value of the intDict is:\n",
      "(key value)\n",
      "(28210 0)\n",
      "(30816 1)\n",
      "(9557 2)\n",
      "(1261 3)\n",
      "(6127 4)\n",
      "(23037 5)\n",
      "(12615 6)\n",
      "(26363 7)\n",
      "(5972 8)\n",
      "(17751 9)\n",
      "(9175 10)\n",
      "(7600 11)\n",
      "(17220 12)\n",
      "(24477 13)\n",
      "(20487 14)\n",
      "(10326 15)\n",
      "(29933 16)\n",
      "(22542 17)\n",
      "(14252 18)\n",
      "(4801 19)\n",
      "The buckets(the linked list stack) are: \n",
      "bucket 0 : (17220 12)  (7600 11)  (9175 10)  (12615 6)  (28210 0) \n",
      "bucket 1 : (4801 19)  (10326 15)  (17751 9)  (1261 3)  (30816 1) \n",
      "bucket 2 : (14252 18)  (22542 17)  (20487 14)  (24477 13)  (5972 8)  (23037 5)  (6127 4)  (9557 2) \n",
      "bucket 3 : (29933 16)  (26363 7) \n",
      "bucket 4 :\n",
      "Hash search(even):\n",
      "(key value) : key -> value:\n",
      "(28210  0): -> 0 \n",
      "(9557  2): -> 2 \n",
      "(6127  4): -> 4 \n",
      "(12615  6): -> 6 \n",
      "(5972  8): -> 8 \n",
      "(9175  10): -> 10 \n",
      "(17220  12): -> 12 \n",
      "(20487  14): -> 14 \n",
      "(29933  16): -> 16 \n",
      "(14252  18): -> 18 \n"
     ]
    }
   ],
   "source": [
    "!.\\code\\ds\\intDict "
   ]
  },
  {
   "cell_type": "markdown",
   "metadata": {
    "collapsed": true
   },
   "source": [
    "## Further Reading\n",
    "\n",
    "* 严蔚敏，李冬梅，吴伟民. 数据结构（C语言版），人民邮电出版社（第2版）,2015年2月  \n",
    "\n",
    "\n",
    "* Mark Allen Weiss. Data Structures and Algorithm Analysis in C\n",
    "\n",
    "\n",
    "* GNU C Library: Searching and Sorting : http://www.gnu.org/software/libc/manual/html_node/Searching-and-Sorting.html\n",
    "\n",
    "\n",
    "* Hash table https://en.wikipedia.org/wiki/Hash_table"
   ]
  }
 ],
 "metadata": {
  "kernelspec": {
   "display_name": "Python 3",
   "language": "python",
   "name": "python3"
  },
  "language_info": {
   "codemirror_mode": {
    "name": "ipython",
    "version": 3
   },
   "file_extension": ".py",
   "mimetype": "text/x-python",
   "name": "python",
   "nbconvert_exporter": "python",
   "pygments_lexer": "ipython3",
   "version": "3.5.2"
  }
 },
 "nbformat": 4,
 "nbformat_minor": 1
}
