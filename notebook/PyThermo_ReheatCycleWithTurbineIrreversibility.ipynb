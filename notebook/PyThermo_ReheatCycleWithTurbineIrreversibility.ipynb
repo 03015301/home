{
 "cells": [
  {
   "cell_type": "markdown",
   "metadata": {
    "deletable": true,
    "editable": true
   },
   "source": [
    "# Chapter 8 : Vapour Power Systems"
   ]
  },
  {
   "cell_type": "markdown",
   "metadata": {
    "deletable": true,
    "editable": true
   },
   "source": [
    "### Example 8.4: Evaluating Performance of a Reheat Cycle with Turbine Irreversibility Page451\n",
    "\n",
    "Reconsider the reheat cycle of Example8.4, which include in the analysis that each turbine stage has the same isentropic efficiency. \n",
    "\n",
    "<img src=\"./img/vps-fig83.png\"/> \n",
    "\n",
    "<img src=\"./img/vps-fig84a.png\"/> \n",
    "\n",
    "### SOLUTION\n",
    "\n",
    "* **Known:** A reheat cycle operates with steam as the working fluid. Operating pressures and temperatures are specified. Each turbine stage has the same isentropic efficiency.\n",
    "\n",
    "* **Find:**\n",
    "  \n",
    "  * If $\\eta_t=85$%, determine the thermal efficiency.\n",
    "\n",
    "  * plot the thermal efficiency versus turbine stage isentropic efficiency ranging from 85 to 100%.\n"
   ]
  },
  {
   "cell_type": "code",
   "execution_count": 1,
   "metadata": {
    "collapsed": false,
    "deletable": true,
    "editable": true
   },
   "outputs": [
    {
     "name": "stdout",
     "output_type": "stream",
     "text": [
      "The thermal efficiency is:   0.3521833715191451\n"
     ]
    },
    {
     "data": {
      "image/png": "[encoded data removed]",
      "text/plain": [
       "<matplotlib.figure.Figure at 0x17c2ca8eeb8>"
      ]
     },
     "metadata": {},
     "output_type": "display_data"
    }
   ],
   "source": [
    "%matplotlib inline\n",
    "from seuif97 import *\n",
    "\n",
    "# Fix the states\n",
    "\n",
    "# Given :-\n",
    "# Part (a)\n",
    "etat = 0.85                                                                      # given efficiency\n",
    "# From the solution to Example 8.3, the following specific enthalpy values are known, in kJ/kg\n",
    "t1=480\n",
    "p1=8\n",
    "h1 =pt2h(p1,t1)\n",
    "s1=pt2s(p1,t1)\n",
    "\n",
    "p2=0.7\n",
    "s2=s1\n",
    "h2s =ps2h(p2,s2)\n",
    "etat1=0.85\n",
    "h2=h1-etat1*(h1-h2s)\n",
    " \n",
    "t3=440\n",
    "p3=p2\n",
    "h3 =pt2h(p3,t3)\n",
    "s3 =pt2s(p3,t3)\n",
    "\n",
    "p4=0.008\n",
    "s4=s3\n",
    "h4s =ps2h(p4,s4)\n",
    "\n",
    "etat2=etat1\n",
    "h4=h3-etat2*(h3-h4s)\n",
    "\n",
    "p5=p4\n",
    "h5=px2h(p5,0)\n",
    "v5=px2v(p5,0)\n",
    "\n",
    "p6=p1\n",
    "h6=h5+v5*(p6-p5)*100\n",
    "\n",
    "# Calculations\n",
    "                                                   # The specific enthalpy at the exit of the second-stage turbine in kj/kg\n",
    "eta = ((h1-h2)+(h3-h4)-(h6-h5))/((h1-h6)+(h3-h2)) \n",
    "\n",
    "# Result\n",
    "print('The thermal efficiency is:  ',eta)\n",
    "\n",
    "# Part (b)\n",
    "from numpy import linspace\n",
    "import matplotlib.pyplot as plt\n",
    "\n",
    "y  = []\n",
    "etaxList = linspace(0.85,1,50)\n",
    "for etax in etaxList:\n",
    "    h2 = h1 - etax*(h1 - h2s) # The specific enthalpy at the exit of the first-stage turbine in kj/kg\n",
    "    h4 = h3 - etax*(h3-h4s)   # The specific enthalpy at the exit of the second-stage turbine in kj/kg\n",
    "    yi  = ((h1-h2)+(h3-h4)-(h6-h5))/((h1-h6)+(h3-h2)) \n",
    "    y.append(yi)\n",
    "\n",
    "plt.plot(etaxList,y)\n",
    "plt.xlabel('isentropic turbine efficiency')\n",
    "plt.ylabel('cycle thermal efficiency')\n",
    "plt.show()"
   ]
  },
  {
   "cell_type": "code",
   "execution_count": null,
   "metadata": {
    "collapsed": true
   },
   "outputs": [],
   "source": []
  }
 ],
 "metadata": {
  "kernelspec": {
   "display_name": "Python 3",
   "language": "python",
   "name": "python3"
  },
  "language_info": {
   "codemirror_mode": {
    "name": "ipython",
    "version": 3
   },
   "file_extension": ".py",
   "mimetype": "text/x-python",
   "name": "python",
   "nbconvert_exporter": "python",
   "pygments_lexer": "ipython3",
   "version": "3.5.2"
  }
 },
 "nbformat": 4,
 "nbformat_minor": 0
}
