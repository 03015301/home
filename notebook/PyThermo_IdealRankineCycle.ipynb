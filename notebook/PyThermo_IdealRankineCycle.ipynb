{
 "cells": [
  {
   "cell_type": "markdown",
   "metadata": {
    "deletable": true,
    "editable": true
   },
   "source": [
    "# Chapter 8 : Vapour Power Systems\n",
    "\n",
    "* Michael J . Mora. Fundamentals of Engineering Thermodynamics(7th Edition). John Wiley & Sons, Inc. 2011\n"
   ]
  },
  {
   "cell_type": "markdown",
   "metadata": {
    "deletable": true,
    "editable": true
   },
   "source": [
    "## Example 8.1:Analyzing an Ideal Rankine Cycle Page 438\n",
    "\n",
    "Steam is the working fluid in an ideal Rankine cycle. \n",
    "\n",
    "Saturated vapor enters the turbine at 8.0 MPa and saturated liquid exits the condenser at a pressure of 0.008 MPa. \n",
    "\n",
    "The net power output of the cycle is 100 MW.\n",
    "\n",
    "<img src=\"./img/vps-fig81.png\"/> \n",
    "\n",
    "\n",
    "* **Process 1–2:** **Isentropic expansion** of the working fluid through the turbine from saturated vapor at state 1 to the condenser pressure.\n",
    "* **Process 2–3:** Heat transfer from the working fluid as it flows at **constant pressure**\n",
    "through the condenser with saturated liquid at state 3.\n",
    "* **Process 3–4:** **Isentropic compression** in the pump to state 4 in the compressed liquid region.\n",
    "* **Process 4–1:** Heat transfer to the working fluid as it flows at **constant pressure** through the boiler to complete the cycle.\n",
    "\n",
    "\n",
    "Determine for the cycle\n",
    "\n",
    "(a) the thermal efficiency,\n",
    "\n",
    "(b) the back work ratio, \n",
    "\n",
    "(c) the mass flow rate of the steam,in kg/h,\n",
    "\n",
    "(d) the rate of heat transfer, Qin, into the working fluid as it passes through the boiler, in MW,\n",
    "\n",
    "(e) the rate of heat transfer, Qout, from the condensing steam as it passes through the condenser, in MW,\n",
    "\n",
    "(f) the mass flow rate of the condenser cooling water, in kg/h, if cooling water enters the condenser at 15C and exits at 35C.\n"
   ]
  },
  {
   "cell_type": "markdown",
   "metadata": {
    "deletable": true,
    "editable": true
   },
   "source": [
    "### Engineering Model:\n",
    "\n",
    "* 1 Each component of the cycle is analyzed as a control volume at steady state. The control volumes are shown on the accompanying sketch by dashed lines.\n",
    "* 2 All processes of the working fluid are internally reversible.\n",
    "* 3 The turbine and pump operate adiabatically.\n",
    "* 4 Kinetic and potential energy effects are negligible.\n",
    "* 5 Saturated vapor enters the turbine. Condensate exits the condenser as saturated liquid."
   ]
  },
  {
   "cell_type": "markdown",
   "metadata": {
    "deletable": true,
    "editable": true
   },
   "source": [
    "## Analysis:\n",
    "\n",
    "To begin the analysis, we fix each of **the principal states（1，2，3，4)** located on the accompanying schematic and **T–s** diagrams."
   ]
  },
  {
   "cell_type": "code",
   "execution_count": 1,
   "metadata": {
    "collapsed": false,
    "deletable": true,
    "editable": true
   },
   "outputs": [],
   "source": [
    "from seuif97 import *\n",
    "\n",
    "# Given:-\n",
    "p1 = 8.0               #  in MPa\n",
    "p3 = 0.008             # pressure of saturated liquid exiting the condenser in MPa\n",
    "Wcycledot = 100.00     # the net power output of the cycle in MW\n",
    "\n",
    "# Analysis\n",
    "\n",
    "# State  1\n",
    "h1=px2h(p1,1)          # h1 = 2758.0    From table A-3  kj/kg\n",
    "s1=px2s(p1,1)          # s1 = 5.7432    From table A-3  kj/kg.k\n",
    "\n",
    "# State  2\n",
    "s2 = s1\n",
    "\n",
    "# quality at state 2\n",
    "sf=px2s(p3,0)         # sf = 0.5926   kj/kg.k\n",
    "sg=px2s(p3,1)         # sg = 8.2287   kj/kg.k\n",
    "x2=(s2-sf)/(sg-sf)\n",
    "\n",
    "hf=px2h(p3,0)         # hf = 173.88    kj/kg\n",
    "hg=px2h(p3,1)         \n",
    "h2 = hf + x2*(hg-hf)      #  hfg = 2403.1   kj/kg\n",
    "\n",
    "# State 3 is saturated liquid at 0.008 MPa, so\n",
    "h3 = hf                                         #  kj/kg\n",
    "v3 =px2v(p3,0)                #1.0084e-3  m^3/kg\n",
    "\n",
    "#State 4 \n",
    "p4 = p1\n",
    "h4 = h3 + v3*(p4-p3)*10**6*10**-3    # kj/kg"
   ]
  },
  {
   "cell_type": "markdown",
   "metadata": {
    "deletable": true,
    "editable": true
   },
   "source": [
    "### (a) The thermal efficiency\n",
    "\n",
    "The net power developed by the cycle is\n",
    "\n",
    "$\\dot{W}_{cycle}=\\dot{W}_t-\\dot{W}_p$\n",
    "\n",
    "Mass and energy rate balances for control volumes around the turbine and pump give,respectively\n",
    "\n",
    "$\\frac{\\dot{W}_t}{\\dot{m}}=h_1-h_2$  \n",
    "$\\frac{\\dot{W}_p}{\\dot{m}}=h_4-h_3$\n",
    "\n",
    "where $\\dot{m}$ is the mass flow rate of the steam. The rate of heat transfer to the working fluid as it passes through the boiler is determined using mass and energy rate balances as\n",
    "\n",
    "$\\frac{\\dot{Q}_{in}}{\\dot{m}}=h_1-h_4$\n",
    "\n",
    "The thermal efficiency is then\n",
    "\n",
    "\n",
    "$\\eta=\\frac{\\dot{W}_t-\\dot{W}_p}{\\dot{Q}_{in}}=\\frac{(h_1-h_2)-(h_4-h_3)}{h_1-h_4}$\n"
   ]
  },
  {
   "cell_type": "code",
   "execution_count": 2,
   "metadata": {
    "collapsed": false,
    "deletable": true,
    "editable": true
   },
   "outputs": [
    {
     "name": "stdout",
     "output_type": "stream",
     "text": [
      "(a) The thermal efficiency for the cycle is  0.371\n"
     ]
    }
   ],
   "source": [
    "# Part(a)\n",
    "# Mass and energy rate balances for control volumes \n",
    "# around the turbine and pump give, respectively\n",
    "\n",
    "# turbine\n",
    "wtdot = h1 - h2\n",
    "# pump\n",
    "wpdot = h4-h3\n",
    "\n",
    "# The rate of heat transfer to the working fluid as it passes \n",
    "# through the boiler is determined using mass and energy rate balances as\n",
    "qindot = h1-h4\n",
    "\n",
    "# thermal efficiency\n",
    "eta = (wtdot-wpdot)/qindot   \n",
    "\n",
    "# Result for part a\n",
    "print('(a) The thermal efficiency for the cycle is ',round(eta,3))"
   ]
  },
  {
   "cell_type": "code",
   "execution_count": 8,
   "metadata": {
    "collapsed": false,
    "deletable": true,
    "editable": true
   },
   "outputs": [
    {
     "name": "stdout",
     "output_type": "stream",
     "text": [
      "(b) The back work ratio is  0.8 %\n",
      "(c) The mass flow rate of the steam is 376776.21 kg/h.\n",
      "(d) The rate of heat transfer,Qindot , into the working fluid as       it passes through the boiler, is 269.68 MW.\n",
      "(e) The rate of heat transfer,Qoutdot from the condensing steam as       it passes through the condenser, is 169.68 MW.\n",
      "(f) The mass flow rate of the condenser cooling water is 7301347.42 kg/h.\n"
     ]
    }
   ],
   "source": [
    "# Part(b)\n",
    "# back work ratio：bwr, defined as the ratio of the pump work input to the work \n",
    "# developed by the turbine.\n",
    "bwr = wpdot/wtdot                                    # \n",
    "\n",
    "# Result\n",
    "print('(b) The back work ratio is ',round(bwr,3)*100,'%')\n",
    "\n",
    "# Part(c)\n",
    "mdot = (Wcycledot*10**3*3600)/((h1-h2)-(h4-h3))       # mass flow rate in kg/h\n",
    "\n",
    "# Result \n",
    "print('(c) The mass flow rate of the steam is',round(mdot,2),'kg/h.')\n",
    " \n",
    "# Part(d)\n",
    "Qindot = mdot*qindot/(3600*10**3)                     # in MW\n",
    "\n",
    "# Results\n",
    "print('(d) The rate of heat transfer,Qindot , into the working fluid as \\\n",
    "      it passes through the boiler, is',round(Qindot,2),'MW.')\n",
    "\n",
    "# Part(e)\n",
    "Qoutdot = mdot*(h2-h3)/(3600*10**3)                   # in MW\n",
    "\n",
    "# Results\n",
    "print('(e) The rate of heat transfer,Qoutdot from the condensing steam as \\\n",
    "      it passes through the condenser, is',round(Qoutdot,2),'MW.')\n",
    "\n",
    "# Part(f)\n",
    "# Given: \n",
    "tcwin=15\n",
    "tcwout=35\n",
    "\n",
    "hcwout=tx2h(tcwout,0)   # From table A-2,hcwout= 146.68  kj/kg  \n",
    "\n",
    "hcwin= tx2h(tcwin,0)    # hcwin 62.99  \n",
    "mcwdot= (Qoutdot*10**3*3600)/(hcwout-hcwin)          # in kg/h\n",
    "\n",
    "# Results\n",
    "print('(f) The mass flow rate of the condenser cooling water is',round(mcwdot,2),'kg/h.')"
   ]
  },
  {
   "cell_type": "code",
   "execution_count": 11,
   "metadata": {
    "collapsed": false,
    "deletable": true,
    "editable": true
   },
   "outputs": [
    {
     "data": {
      "image/png": "[encoded data removed]",
      "text/plain": [
       "<matplotlib.figure.Figure at 0x24196e58d68>"
      ]
     },
     "metadata": {},
     "output_type": "display_data"
    }
   ],
   "source": [
    "%matplotlib inline\n",
    "\n",
    "import matplotlib.pyplot as plt\n",
    "import numpy as np\n",
    "\n",
    "plt.figure()\n",
    "\n",
    "# saturated vapor and liquid entropy lines \n",
    "npt = np.linspace(10,647.096-273.15,200) # range of temperatures\n",
    "svap = [s for s in [tx2s(t, 1) for t in npt]]\n",
    "sliq = [s for s in [tx2s(t, 0) for t in npt]]\n",
    "plt.plot(svap, npt, 'r-')\n",
    "plt.plot(sliq, npt, 'b-')\n",
    "\n",
    "# Rankine T-S\n",
    "t1=px2t(p1,1)\n",
    "t2=px2t(p3,0)\n",
    "\n",
    "t3=t2\n",
    "s3=tx2s(t3,0)\n",
    "\n",
    "s4=s3\n",
    "t4=ps2t(p4,s4) # t4稍高于t3 图不明显\n",
    "\n",
    "t5=px2t(p1,0)\n",
    "s5=px2s(p1,0)\n",
    "\n",
    "tt=[t1,t2,t3,t4,t5,t1] \n",
    "ss=[s1,s2,s3,s4,s5,s1]\n",
    "\n",
    "plt.plot(ss, tt, 'g-')\n",
    "\n",
    "plt.xlabel('Entropy (kJ/(kg K)')\n",
    "plt.ylabel('Temperature (C)')\n",
    "plt.grid()\n",
    "plt.show()"
   ]
  },
  {
   "cell_type": "markdown",
   "metadata": {
    "collapsed": true,
    "deletable": true,
    "editable": true
   },
   "source": [
    "# Modeling and Simulation of Industrial Process\n",
    "\n",
    "* **Algorithms + Data Structures = Programs**\n",
    "\n",
    "  is a 1976 book written by **Niklaus Wirth** covering some of the fundamental topics of computer programming, particularly that algorithms and data structures are inherently related. \n",
    "\n",
    "https://en.wikipedia.org/wiki/Algorithms_%2B_Data_Structures_%3D_Programs\n",
    "\n",
    "The Turbo Pascal compiler written by **Anders Hejlsberg** was largely inspired by the \"Tiny Pascal\" compiler in **Niklaus Wirth**'s book.\n",
    "\n",
    "**Data Structures+ Algorithms = Programs**\n"
   ]
  },
  {
   "cell_type": "markdown",
   "metadata": {
    "deletable": true,
    "editable": true
   },
   "source": [
    "The ideal rankine cycle:\n",
    "```\n",
    "   \n",
    "    ----Node 0---Turbine---Node 1----\n",
    "    |                               |\n",
    "  Boiler                          Condenser\n",
    "    |                               |\n",
    "    ----Node 3---Pump------Node 2---- \n",
    "```\n",
    "\n",
    "Objects in the ideal rankine cycle：\n",
    "\n",
    "* Node\n",
    "\n",
    "* Boiler，Turbine，Condenser，Pump\n"
   ]
  },
  {
   "cell_type": "code",
   "execution_count": 11,
   "metadata": {
    "collapsed": true,
    "deletable": true,
    "editable": true
   },
   "outputs": [],
   "source": [
    "import seuif97 as if97\n",
    "\n",
    "class Node(object):\n",
    "\n",
    "    def __init__(self):\n",
    "        self.p = None\n",
    "        self.t = None\n",
    "        self.h = None\n",
    "        self.s = None\n",
    "        self.v = None\n",
    "        self.x = None\n",
    "\n",
    "    def pt(self):\n",
    "        self.h = if97.pt2h(self.p, self.t)\n",
    "        self.s = if97.pt2s(self.p, self.t)\n",
    "        self.v = if97.pt2v(self.p, self.t)\n",
    "        self.x = None\n",
    "\n",
    "    def ph(self):\n",
    "        self.t = if97.ph2t(self.p, self.h)\n",
    "        self.s = if97.ph2s(self.p, self.h)\n",
    "        self.v = if97.ph2v(self.p, self.h)\n",
    "        self.x = if97.ph2x(self.p, self.h)\n",
    "\n",
    "    def ps(self):\n",
    "        self.t = if97.ps2t(self.p, self.s)\n",
    "        self.h = if97.ps2h(self.p, self.s)\n",
    "        self.v = if97.ps2v(self.p, self.s)\n",
    "        self.x = if97.ps2x(self.p, self.s)\n",
    "\n",
    "    def hs(self):\n",
    "        self.t = if97.hs2t(self.h, self.s)\n",
    "        self.p = if97.hs2p(self.h, self.s)\n",
    "        self.v = if97.hs2v(self.h, self.s)\n",
    "        self.x = if97.hs2x(self.h, self.s)\n",
    "\n",
    "    def px(self):\n",
    "        self.t = if97.px2t(self.p, self.x)\n",
    "        self.h = if97.px2h(self.p, self.x)\n",
    "        self.s = if97.px2s(self.p, self.x)\n",
    "        self.v = if97.px2v(self.p, self.x)\n",
    "\n",
    "    def tx(self):\n",
    "        self.p = if97.tx2p(self.t, self.x)\n",
    "        self.h = if97.tx2h(self.t, self.x)\n",
    "        self.s = if97.tx2s(self.t, self.x)\n",
    "        self.v = if97.tx2v(self.t, self.x)\n"
   ]
  },
  {
   "cell_type": "code",
   "execution_count": 7,
   "metadata": {
    "collapsed": false,
    "deletable": true,
    "editable": true
   },
   "outputs": [],
   "source": [
    "class Boiler:\n",
    "    \"\"\"\n",
    "    The boiler class\n",
    "    \"\"\"\n",
    "\n",
    "    def __init__(self,inletNode, exitNode):\n",
    "        \"\"\"\n",
    "        Initializes the boiler with nodes\n",
    "        \"\"\"\n",
    "        self.inletNode = inletNode\n",
    "        self.exitNode = exitNode\n",
    "\n",
    "    def simulate(self,nodes,mdot):\n",
    "        \"\"\"\n",
    "        Simulates the Boiler and tries to get the exit temperature down\n",
    "        to the desiredOutletTemp. This is done by continuously adding h\n",
    "        while keeping the P constant.\n",
    "        \"\"\"\n",
    "        self.heatAdded = nodes[self.exitNode].h - nodes[self.inletNode].h\n",
    "        self.Qindot = mdot*self.heatAdded/(3600*1000)   "
   ]
  },
  {
   "cell_type": "code",
   "execution_count": 8,
   "metadata": {
    "collapsed": false,
    "deletable": true,
    "editable": true
   },
   "outputs": [],
   "source": [
    "class Turbine():\n",
    "\n",
    "    \"\"\"\n",
    "    Turbine class\n",
    "\n",
    "    Represents a turbine in the Rankine cycle\n",
    "    \"\"\"\n",
    "\n",
    "    def __init__(self, inletNode,exitNode):\n",
    "        \"\"\"\n",
    "        Initializes the turbine with nodes\n",
    "        \"\"\"\n",
    "        self.inletNode = inletNode\n",
    "        self.exitNode=exitNode\n",
    "    \n",
    "    def simulate(self,nodes):\n",
    "        \"\"\"\n",
    "        Simulates the turbine \n",
    "        \"\"\"\n",
    "        nodes[self.exitNode].s=nodes[self.inletNode].s\n",
    "        nodes[self.exitNode].ps()\n",
    "      \n",
    "        self.workExtracted = nodes[self.inletNode].h- nodes[self.exitNode].h \n"
   ]
  },
  {
   "cell_type": "code",
   "execution_count": 16,
   "metadata": {
    "collapsed": true,
    "deletable": true,
    "editable": true
   },
   "outputs": [],
   "source": [
    "class Pump():\n",
    "\n",
    "    \"\"\"\n",
    "    Pump class\n",
    "\n",
    "    Represents a pump in the Rankine cycle\n",
    "    \"\"\"\n",
    "\n",
    "    def __init__(self,inletNode, exitNode):\n",
    "        \"\"\"\n",
    "        Initializes the pump with nodes\n",
    "        \"\"\"\n",
    "        self.inletNode = inletNode\n",
    "        self.exitNode = exitNode\n",
    "\n",
    "    def simulate(self,nodes):\n",
    "        \"\"\"\n",
    "        Simulates the pump \n",
    "        \"\"\"\n",
    "        nodes[self.exitNode].s = nodes[self.inletNode].s\n",
    "        nodes[self.exitNode].h=nodes[self.inletNode].h+nodes[self.inletNode].v*(nodes[self.exitNode].p-nodes[self.inletNode].p)*1000\n",
    "        nodes[self.exitNode].hs()\n",
    "    \n",
    "        self.workRequired = nodes[self.exitNode].h - nodes[self.inletNode].h\n"
   ]
  },
  {
   "cell_type": "code",
   "execution_count": 9,
   "metadata": {
    "collapsed": true,
    "deletable": true,
    "editable": true
   },
   "outputs": [],
   "source": [
    "class Condenser:\n",
    "    \"\"\"\n",
    "    The Condenser class\n",
    "    \"\"\"\n",
    "\n",
    "    def __init__(self,inletNode, exitNode, inletNodeW,exitNodeW):\n",
    "        \"\"\"\n",
    "        Initializes the condenser with nodes\n",
    "        \"\"\"\n",
    "        self.inletNode = inletNode\n",
    "        self.exitNode = exitNode\n",
    "        self.inletNodeW = inletNodeW\n",
    "        self.exitNodeW = exitNodeW\n",
    "\n",
    "    def simulate(self,nodes,nodew,mdot):\n",
    "        \"\"\"\n",
    "        Simulates the Condenser \n",
    "        \"\"\"\n",
    "        self.heatExtracted = nodes[self.inletNode].h - nodes[self.exitNode].h\n",
    "        self.Qoutdot = mdot* self.heatExtracted /(3600*1000) \n",
    "        self.mcwdot= (self.Qoutdot*1000*3600)/(nodew[self.exitNodeW].h-nodew[self.inletNodeW].h) \n"
   ]
  },
  {
   "cell_type": "code",
   "execution_count": 19,
   "metadata": {
    "collapsed": false,
    "deletable": true,
    "editable": true
   },
   "outputs": [
    {
     "name": "stdout",
     "output_type": "stream",
     "text": [
      "Boiler Pressure:  8.0 MPa\n",
      "Condenser Pressure:  0.008 MPa\n",
      "The net power output of the cycle:  100.0 MW\n",
      "Cooling water enters the condenser T 15 C\n",
      "Cooling water exits  the condenser T 35 C\n",
      " \n",
      " --------------------------------------------------\n",
      "Efficiency:  37.08 %\n",
      "The back work ratio:  0.84 %\n",
      "The mass flow rate:  376776.21 %\n",
      "The rate of heat transfer as the fluid passes the boiler:  269.68 MW\n",
      "The rate of heat transfer from the condensing steam:  169.68 MW\n",
      "The mass flow rate of the condenser cooling water:  7301347.42 kg/h\n"
     ]
    }
   ],
   "source": [
    "\"\"\"\n",
    "PyRankine is a simple simulator of the ideal rankine cycle as \n",
    "   \n",
    "    ----Node 0---Turbine---Node 1----\n",
    "    |                               |\n",
    "  Boiler                          Condenser\n",
    "    |                               |\n",
    "    ----Node 3---Pump------Node 2---- \n",
    "\n",
    "\"\"\"\n",
    "\n",
    "def RankineCycle():\n",
    "    boilerPressure = 8.0\n",
    "    condenserPressure = 0.008\n",
    "    Wcycledot = 100.00\n",
    "\n",
    "    # 1 init nodes\n",
    "    nodes = []\n",
    "    for i in range(4):\n",
    "        nodes.append(Node())\n",
    "\n",
    "    nodes[0].p = boilerPressure\n",
    "    nodes[0].x = 1\n",
    "\n",
    "    nodes[1].p = condenserPressure\n",
    "\n",
    "    nodes[2].p = condenserPressure\n",
    "    nodes[2].x = 0\n",
    "\n",
    "    nodes[3].p = boilerPressure\n",
    "\n",
    "    nodes[0].px()\n",
    "    nodes[2].px()\n",
    "\n",
    "    # 2 connect device\n",
    "    t = Turbine(0, 1)\n",
    "    p = Pump(2, 3)\n",
    "    b = Boiler(3, 0)\n",
    "\n",
    "    # 3 simulate\n",
    "    t.simulate(nodes)\n",
    "    p.simulate(nodes)\n",
    "\n",
    "    bwr = p.workRequired / t.workExtracted\n",
    "    mdot = Wcycledot * 1000.0* 3600.0 / (t.workExtracted - p.workRequired)\n",
    "\n",
    "    b.simulate(nodes, mdot)                  # in MW\n",
    "    efficiency = (t.workExtracted - p.workRequired) / \\\n",
    "        (b.heatAdded)                # in MW\n",
    "\n",
    "   # 4 condenser\n",
    "    nodew = []\n",
    "    for i in range(2):\n",
    "        nodew.append(Node())\n",
    "\n",
    "    nodew[0].t = 15\n",
    "    nodew[0].x = 0\n",
    "    nodew[1].t = 35\n",
    "    nodew[1].x = 0\n",
    "    nodew[0].tx()\n",
    "    nodew[1].tx()\n",
    "\n",
    "    c =Condenser(1, 2, 0, 1)\n",
    "    c.simulate(nodes, nodew, mdot)\n",
    "\n",
    "    print(\"Boiler Pressure: \", boilerPressure, \"MPa\")\n",
    "    print(\"Condenser Pressure: \", condenserPressure, \"MPa\")\n",
    "    print(\"The net power output of the cycle: \", Wcycledot, \"MW\")\n",
    "    print(\"Cooling water enters the condenser T\", nodew[0].t, \"C\")\n",
    "    print(\"Cooling water exits  the condenser T\", nodew[1].t, \"C\")\n",
    "    print(\" \\n --------------------------------------------------\")\n",
    "    print(\"Efficiency: \", '%.2f' % (efficiency * 100), \"%\")\n",
    "    print(\"The back work ratio: \", '%.2f' % (bwr * 100), \"%\")\n",
    "    print(\"The mass flow rate: \",  '%.2f' % mdot, \"%\")\n",
    "    print('The rate of heat transfer as the fluid passes the boiler: ',\n",
    "          '%.2f' % b.Qindot, 'MW')\n",
    "    print('The rate of heat transfer from the condensing steam: ',\n",
    "          '%.2f' % c.Qoutdot, 'MW')\n",
    "    print('The mass flow rate of the condenser cooling water: ', '%.2f' %\n",
    "          c.mcwdot, 'kg/h')\n",
    "\n",
    "\n",
    "if __name__ == '__main__':\n",
    "    RankineCycle()\n"
   ]
  },
  {
   "cell_type": "markdown",
   "metadata": {
    "deletable": true,
    "editable": true
   },
   "source": [
    "## Reference\n",
    "\n",
    "* R Sinha, Christiaan J. J. Paredis. etc. Modeling and Simulation Methods for Design of Engineering Systems. Transactions of the ASME[J]. 2001.03(1):84-91\n",
    "\n",
    "* ASCEND4: The ASCEND Modelling and Simulation Environment  http://ascend4.org/ \n",
    "\n",
    "* OpenMDAO: An open-source MDAO framework written in Python  http://openmdao.org/\n",
    "\n",
    "* OpenModelica: An open-source Modelica-based modeling and simulation environment https://openmodelica.org/\n",
    "\n",
    "* Jeffrey Kantor: Introduction to Chemical Engineering Analysis https://github.com/jckantor/CBE20255\n",
    "\n"
   ]
  }
 ],
 "metadata": {
  "kernelspec": {
   "display_name": "Python 3",
   "language": "python",
   "name": "python3"
  },
  "language_info": {
   "codemirror_mode": {
    "name": "ipython",
    "version": 3
   },
   "file_extension": ".py",
   "mimetype": "text/x-python",
   "name": "python",
   "nbconvert_exporter": "python",
   "pygments_lexer": "ipython3",
   "version": "3.5.2"
  }
 },
 "nbformat": 4,
 "nbformat_minor": 0
}
