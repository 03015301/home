{
 "cells": [
  {
   "cell_type": "markdown",
   "metadata": {
    "collapsed": true
   },
   "source": [
    "# Measure execution time of small code snippets  \n",
    "\n",
    "27.5. timeit — Measure execution time of small code snippets  \n",
    "\n",
    "https://docs.python.org/3/library/timeit.html\n",
    "\n",
    "This module provides a simple way to\n",
    "\n",
    "**time small bits of Python code** . \n",
    "\n",
    "It has\n",
    "\n",
    "* a Command-Line Interface\n",
    "\n",
    "* a callable one. \n",
    "\n",
    "\n",
    "    "
   ]
  },
  {
   "cell_type": "markdown",
   "metadata": {
    "collapsed": true
   },
   "source": [
    "## 27.5.1. Basic Examples"
   ]
  },
  {
   "cell_type": "markdown",
   "metadata": {},
   "source": [
    "### 1 Jupyter Magic \n",
    "\n",
    "%timeit：Time execution of a Python statement or expression"
   ]
  },
  {
   "cell_type": "code",
   "execution_count": 7,
   "metadata": {},
   "outputs": [
    {
     "name": "stdout",
     "output_type": "stream",
     "text": [
      "6.46 µs ± 84.1 ns per loop (mean ± std. dev. of 7 runs, 100000 loops each)\n"
     ]
    }
   ],
   "source": [
    "import seuif97\n",
    "%timeit seuif97.pt(15,535,4)"
   ]
  },
  {
   "cell_type": "code",
   "execution_count": 19,
   "metadata": {},
   "outputs": [],
   "source": [
    "import seuif97\n",
    "\n",
    "def testseuif97_pt():\n",
    "    h=seuif97.pt(15,535,4)\n",
    "    s=seuif97.pt(15,535,5)\n",
    "    v=seuif97.pt(15,535,3)\n",
    "    return h,s,v   "
   ]
  },
  {
   "cell_type": "code",
   "execution_count": 13,
   "metadata": {},
   "outputs": [
    {
     "name": "stdout",
     "output_type": "stream",
     "text": [
      "21.1 µs ± 1.31 µs per loop (mean ± std. dev. of 7 runs, 10000 loops each)\n"
     ]
    }
   ],
   "source": [
    "%timeit testseuif97_pt()"
   ]
  },
  {
   "cell_type": "code",
   "execution_count": 16,
   "metadata": {},
   "outputs": [
    {
     "name": "stdout",
     "output_type": "stream",
     "text": [
      "690 µs ± 13.9 µs per loop (mean ± std. dev. of 7 runs, 1000 loops each)\n"
     ]
    }
   ],
   "source": [
    "from iapws.iapws97 import IAPWS97\n",
    "%timeit IAPWS97(P=16.10,T=535.10).h"
   ]
  },
  {
   "cell_type": "code",
   "execution_count": 17,
   "metadata": {
    "collapsed": true
   },
   "outputs": [],
   "source": [
    "from iapws.iapws97 import IAPWS97\n",
    "def testiapws_pt():\n",
    "    ws=IAPWS97(P=16.10,T=535.10)\n",
    "    return ws  "
   ]
  },
  {
   "cell_type": "code",
   "execution_count": 18,
   "metadata": {},
   "outputs": [
    {
     "name": "stdout",
     "output_type": "stream",
     "text": [
      "728 µs ± 98.9 µs per loop (mean ± std. dev. of 7 runs, 1000 loops each)\n"
     ]
    }
   ],
   "source": [
    "%timeit testiapws_pt()"
   ]
  },
  {
   "cell_type": "markdown",
   "metadata": {},
   "source": [
    "### 2 Python Command-Line "
   ]
  },
  {
   "cell_type": "code",
   "execution_count": 20,
   "metadata": {
    "collapsed": true
   },
   "outputs": [],
   "source": [
    "d={}\n",
    "for i in range(1000):\n",
    "    d[str(i)] = i"
   ]
  },
  {
   "cell_type": "code",
   "execution_count": 21,
   "metadata": {},
   "outputs": [
    {
     "name": "stdout",
     "output_type": "stream",
     "text": [
      "1000 loops, best of 3: 563 usec per loop\n"
     ]
    }
   ],
   "source": [
    "!python -m timeit \"d={}\" \"for i in range(1000):\" \"  d[str(i)] = i\""
   ]
  },
  {
   "cell_type": "markdown",
   "metadata": {
    "collapsed": true
   },
   "source": [
    "### 3 Python Interface\n",
    "\n",
    "import timeit\n",
    "\n",
    "```python\n",
    "timeit.timeit(stmt='pass', setup='pass', timer=<default timer>, number=1000000, globals=None)\n",
    "```\n",
    "\n",
    "* timeit.default_timer()\n",
    "   \n",
    "   The default timer, which is always **time.perf_counter()**.\n",
    "   \n",
    ">time.perf_counter()\n",
    "\n",
    "> * Return the value (in fractional seconds) of a performance counter, i.e. a clock with **the highest available resolution** to measure a short duration. \n",
    "\n",
    ">It does include time elapsed during sleep and is system-wide. \n",
    "\n",
    "> The reference point of the returned value is undefined, so that only the **difference** between the results of consecutive calls is valid.\n",
    "\n",
    "> New in version 3.3.   \n"
   ]
  },
  {
   "cell_type": "code",
   "execution_count": null,
   "metadata": {
    "collapsed": true
   },
   "outputs": [],
   "source": [
    "import timeit"
   ]
  },
  {
   "cell_type": "code",
   "execution_count": null,
   "metadata": {
    "collapsed": true
   },
   "outputs": [],
   "source": [
    "timeit.timeit('\"d={}\" \"for i in range(1000):\" \"  d[str(i)] = i\"', number=10000)"
   ]
  },
  {
   "cell_type": "code",
   "execution_count": null,
   "metadata": {
    "collapsed": true
   },
   "outputs": [],
   "source": [
    "timeit.timeit('\"d={}\" \"for i in range(1000):\" \"  d[str(i)] = i\"', number=1000)"
   ]
  },
  {
   "cell_type": "markdown",
   "metadata": {},
   "source": [
    "The same can be done using the **Timer** class and its methods:"
   ]
  },
  {
   "cell_type": "code",
   "execution_count": null,
   "metadata": {
    "collapsed": true
   },
   "outputs": [],
   "source": [
    "import timeit\n",
    "\n",
    "t = timeit.Timer('\"d={}\" \"for i in range(1000):\" \"  d[str(i)] = i\"')\n",
    "\n",
    "t.timeit()"
   ]
  },
  {
   "cell_type": "code",
   "execution_count": null,
   "metadata": {
    "collapsed": true
   },
   "outputs": [],
   "source": [
    "t.repeat(2) # repeat(repeat=3, number=1000000)"
   ]
  },
  {
   "cell_type": "markdown",
   "metadata": {},
   "source": [
    "When **repeat()** is used, it calls timeit() severeal times (3 in this case) and all of the responses are returned in a list."
   ]
  },
  {
   "cell_type": "markdown",
   "metadata": {},
   "source": [
    "### Give the **timeit** module access to **functions**\n",
    "\n",
    "you can pass a **setup** parameter which contains an **import** statement:\n",
    "\n",
    "```python\n",
    "setup=\"from __main__ import test\"\n",
    "```"
   ]
  },
  {
   "cell_type": "code",
   "execution_count": 29,
   "metadata": {},
   "outputs": [
    {
     "name": "stdout",
     "output_type": "stream",
     "text": [
      "6.944231336803796\n"
     ]
    }
   ],
   "source": [
    "import timeit\n",
    "\n",
    "def test():\n",
    "    L = [i for i in range(100)]\n",
    "\n",
    "if __name__ == '__main__':\n",
    "    print(timeit.timeit(\"test()\", setup=\"from __main__ import test\"))"
   ]
  },
  {
   "cell_type": "markdown",
   "metadata": {},
   "source": [
    "Another option is to pass **globals()** to the globals parameter\n",
    "```python\n",
    " globals=globals()\n",
    "```\n",
    "*   will cause the code to be executed within your current global namespace. T\n",
    "\n",
    "his can be more convenient than individually specifying imports:\n"
   ]
  },
  {
   "cell_type": "code",
   "execution_count": 31,
   "metadata": {},
   "outputs": [
    {
     "name": "stdout",
     "output_type": "stream",
     "text": [
      "6.527494877859908\n"
     ]
    }
   ],
   "source": [
    "import timeit\n",
    "print(timeit.timeit('test()', globals=globals()))"
   ]
  },
  {
   "cell_type": "markdown",
   "metadata": {},
   "source": [
    "## Example IAPWS-IF97"
   ]
  },
  {
   "cell_type": "code",
   "execution_count": 33,
   "metadata": {},
   "outputs": [
    {
     "name": "stdout",
     "output_type": "stream",
     "text": [
      "Time(s)= 0.011239622052471532\n"
     ]
    }
   ],
   "source": [
    "import timeit\n",
    "import seuif97\n",
    "\n",
    "t = timeit.Timer(\"seuif97.pt2h(16.10,535.10)\",setup=\"from __main__ import seuif97\")\n",
    "if97time=t.timeit(1000)\n",
    "\n",
    "print('Time(s)=',if97time)"
   ]
  },
  {
   "cell_type": "code",
   "execution_count": 32,
   "metadata": {},
   "outputs": [
    {
     "name": "stdout",
     "output_type": "stream",
     "text": [
      "Time(s)= 0.7449730312375777\n"
     ]
    }
   ],
   "source": [
    "import timeit\n",
    "import iapws.iapws97\n",
    "\n",
    "t = timeit.Timer(\"iapws.iapws97.IAPWS97(P=16.10,T=535.10).h\", globals=globals())\n",
    "if97time=t.timeit(1000)\n",
    "\n",
    "print('Time(s)=',if97time)"
   ]
  },
  {
   "cell_type": "markdown",
   "metadata": {},
   "source": [
    "### Further Reading:\n",
    "\n",
    "Tim Peters’ introduction to the “Algorithms” chapter in the Python Cookbook, published by O’Reilly.\n",
    "\n",
    "   http://python3-cookbook.readthedocs.org/zh_CN/latest/\n",
    "\n",
    " \n",
    "Doug Hellmann'S Python Module of the Week\n",
    "\n",
    "The Python Module of the Week series, or PyMOTW, is a tour of the Python standard library through short examples.\n",
    "\n",
    "   https://pymotw.com/2/timeit/index.html\n",
    "\n",
    "16.3. time — Time access and conversions\n",
    "\n",
    "  https://docs.python.org/3/library/time.html"
   ]
  },
  {
   "cell_type": "code",
   "execution_count": null,
   "metadata": {
    "collapsed": true
   },
   "outputs": [],
   "source": []
  }
 ],
 "metadata": {
  "kernelspec": {
   "display_name": "Python 3",
   "language": "python",
   "name": "python3"
  },
  "language_info": {
   "codemirror_mode": {
    "name": "ipython",
    "version": 3
   },
   "file_extension": ".py",
   "mimetype": "text/x-python",
   "name": "python",
   "nbconvert_exporter": "python",
   "pygments_lexer": "ipython3",
   "version": "3.5.2"
  }
 },
 "nbformat": 4,
 "nbformat_minor": 1
}
