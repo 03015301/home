{
 "cells": [
  {
   "cell_type": "markdown",
   "metadata": {
    "deletable": true,
    "editable": true
   },
   "source": [
    "# 5 STRUCTURED TYPES, MUTABILITY, AND HIGHERORDER FUNCTIONS\n",
    "\n",
    "In this chapter, we introduce three structured types: \n",
    "<ul>\n",
    "<li><b style=\"color:blue\">tuple</b>, is a rather <b>simple generalization of str</b>. \n",
    "<li><b style=\"color:blue\">list and dict</b>, are more interesting — in part because they are <b style=\"color:blue\">mutable</b>.\n",
    "</ul>\n"
   ]
  },
  {
   "cell_type": "markdown",
   "metadata": {
    "deletable": true,
    "editable": true
   },
   "source": [
    "## 5.1 Tuples\n",
    "\n",
    "tuples are <b style=\"color:blue\">ordered sequences</b> of elements. \n",
    "\n",
    "The difference is that the elements of a tuple need not be characters.\n",
    "\n",
    "The individual elements can be of <b style=\"color:blue\">any type</b>, \n",
    "\n",
    "and need <b style=\"color:blue\"> not be of the same type</b> as each other.\n",
    "\n",
    "Literals of type tuple are written by enclosing a <b style=\"color:blue\">comma-separated</b> list of elements <b style=\"color:blue\">within parentheses</b>"
   ]
  },
  {
   "cell_type": "code",
   "execution_count": 1,
   "metadata": {
    "collapsed": false,
    "deletable": true,
    "editable": true,
    "scrolled": true
   },
   "outputs": [
    {
     "name": "stdout",
     "output_type": "stream",
     "text": [
      "()\n",
      "(1, 'two', 3)\n"
     ]
    }
   ],
   "source": [
    "t1 = () # empty tuple\n",
    "t2 = (1, 'two', 3) #  1 any type; 2 not be of the same type as each other.\n",
    "print(t1)\n",
    "print(t2)"
   ]
  },
  {
   "cell_type": "markdown",
   "metadata": {
    "collapsed": true,
    "deletable": true,
    "editable": true
   },
   "source": [
    "Since parentheses are used to <b style=\"color:blue\">group expressions</b>,\n",
    "\n",
    "<b  style=\"color:blue\">(10)</b> is merely a verbose way to write the integer 10. \n",
    "\n",
    "<p>To denote <b  style=\"color:blue\">the singleton tuple</b> containing this value, we write (10 <strong  style=\"color:red\">,</strong>)"
   ]
  },
  {
   "cell_type": "code",
   "execution_count": 2,
   "metadata": {
    "collapsed": false,
    "deletable": true,
    "editable": true
   },
   "outputs": [
    {
     "name": "stdout",
     "output_type": "stream",
     "text": [
      "10\n",
      "<class 'int'>\n",
      "\n",
      "The singleton tuple containing this value\n",
      "(10,)\n",
      "<class 'tuple'>\n"
     ]
    }
   ],
   "source": [
    "\n",
    "only1=(10)\n",
    "\n",
    "tsingleton=(10,)  # comma-separated \n",
    "\n",
    "print(only1)\n",
    "print(type(only1))\n",
    "\n",
    "print('\\nThe singleton tuple containing this value')\n",
    "print(tsingleton)\n",
    "print(type(tsingleton))"
   ]
  },
  {
   "cell_type": "markdown",
   "metadata": {
    "deletable": true,
    "editable": true
   },
   "source": [
    "<b>Like string</b> ,Tuples can be <b style=\"color:blue\">concatenated</b>, <b style=\"color:blue\">indexed</b>, and <b style=\"color:blue\">sliced</b>.(indexing <strong style=\"color:blue\">starts at 0</strong>)"
   ]
  },
  {
   "cell_type": "code",
   "execution_count": 3,
   "metadata": {
    "collapsed": false,
    "deletable": true,
    "editable": true
   },
   "outputs": [
    {
     "name": "stdout",
     "output_type": "stream",
     "text": [
      "t2= ((1, 'two', 3), 3.25)\n",
      "t1+t2= (1, 'two', 3, (1, 'two', 3), 3.25)\n",
      "(t1 + t2)[3]= (1, 'two', 3)\n",
      "(t1 + t2)[2:5]= (3, (1, 'two', 3), 3.25)\n"
     ]
    }
   ],
   "source": [
    "t1 = (1, 'two', 3)\n",
    "\n",
    "t2 = (t1, 3.25)   #  any type,tuples can contain tuples\n",
    "\n",
    "print('t2=',t2)\n",
    "\n",
    "print('t1+t2=',t1 + t2)  # + concatenated\n",
    "\n",
    "print('(t1 + t2)[3]=',(t1 + t2)[3]) # [3] indexed -tuple as always in Python, indexing starts at 0\n",
    "\n",
    "print('(t1 + t2)[2:5]=',(t1 + t2)[2:5]) # [2:5] sliced"
   ]
  },
  {
   "cell_type": "markdown",
   "metadata": {
    "deletable": true,
    "editable": true
   },
   "source": [
    "A <b  style=\"color:blue\">for</b> statement can be used to <b style=\"color:blue\">iterate over the elements</b> of a tuple."
   ]
  },
  {
   "cell_type": "code",
   "execution_count": 4,
   "metadata": {
    "collapsed": false,
    "deletable": true,
    "editable": true
   },
   "outputs": [
    {
     "name": "stdout",
     "output_type": "stream",
     "text": [
      "common divisors: (1, 2, 4, 5, 10, 20)\n",
      "sum:  42\n"
     ]
    }
   ],
   "source": [
    "def findDivisors (n1, n2):\n",
    "    \"\"\"Assumes that n1 and n2 are positive ints\n",
    "       Returns a tuple containing all common divisors of n1 & n2\"\"\"\n",
    "    \n",
    "    divisors = () #the empty tuple\n",
    "    \n",
    "    for i in range(1, min (n1, n2) + 1):\n",
    "        if n1%i == 0 and n2%i == 0:      # common divisors\n",
    "            divisors = divisors + (i,)  # Note：1) comma-（i,)-Tuple; 2) +  concatenated \n",
    "    \n",
    "    return divisors\n",
    "\n",
    "divisors = findDivisors(20, 100)\n",
    "print('common divisors:',divisors)\n",
    "total = 0\n",
    "\n",
    "---#  iterate over the elements of a tuple :in \n",
    "    total += d\n",
    "\n",
    "print('sum: ',total)"
   ]
  },
  {
   "cell_type": "markdown",
   "metadata": {
    "deletable": true,
    "editable": true
   },
   "source": [
    "### 5.1.1 Sequences and Multiple Assignment\n",
    "\n",
    "If you know the <b>length of a sequence</b> (e.g., a tuple or a string),\n",
    "\n",
    "it can be convenient to use Python’s <b>multiple assignment</b> statement to extract the individual elements."
   ]
  },
  {
   "cell_type": "code",
   "execution_count": 5,
   "metadata": {
    "collapsed": false,
    "deletable": true,
    "editable": true
   },
   "outputs": [
    {
     "name": "stdout",
     "output_type": "stream",
     "text": [
      "x= 3  y= 4\n",
      "a= x  b= y  c= z\n"
     ]
    }
   ],
   "source": [
    "x, y ,z= (3, 4,5)\n",
    "a, b, c = 'xyz'\n",
    "\n",
    "print('x=',x,' y=',y)\n",
    "print('a=',a,' b=',b,' c=',c)"
   ]
  },
  {
   "cell_type": "markdown",
   "metadata": {
    "deletable": true,
    "editable": true
   },
   "source": [
    "This mechanism is particularly convenient when used in <b>conjunction with functions that return fixed-size sequences</b>."
   ]
  },
  {
   "cell_type": "code",
   "execution_count": 6,
   "metadata": {
    "collapsed": true,
    "deletable": true,
    "editable": true
   },
   "outputs": [],
   "source": [
    "def findExtremeDivisors(n1, n2):\n",
    "    \"\"\"Assumes that n1 and n2 are positive ints\n",
    "       Returns a tuple containing the smallest common\n",
    "       divisor > 1 and the largest common divisor of n1\n",
    "       and n2\n",
    "    \"\"\"\n",
    "    minVal, maxVal = None, None #multiple assignment statement\n",
    "    for i in range(2, min(n1, n2) + 1):\n",
    "        if n1%i == 0 and n2%i == 0:\n",
    "            if minVal == None or i < minVal:\n",
    "                minVal = i\n",
    "            if maxVal == None or i > maxVal:\n",
    "                maxVal = i\n",
    "    return (minVal, maxVal)  #   return fixed-size sequences:tuple"
   ]
  },
  {
   "cell_type": "code",
   "execution_count": 7,
   "metadata": {
    "collapsed": false,
    "deletable": true,
    "editable": true,
    "scrolled": true
   },
   "outputs": [
    {
     "name": "stdout",
     "output_type": "stream",
     "text": [
      "minDivisor= 2\n",
      "maxDivisor= 100\n"
     ]
    }
   ],
   "source": [
    "# multiple assignment statement conjunction with functions that return fixed-size sequences.\n",
    "minDivisor, maxDivisor = findExtremeDivisors(100, 200)  \n",
    "print('minDivisor=',minDivisor)\n",
    "print('maxDivisor=',maxDivisor)"
   ]
  },
  {
   "cell_type": "code",
   "execution_count": null,
   "metadata": {
    "collapsed": false,
    "deletable": true,
    "editable": true
   },
   "outputs": [],
   "source": [
    "def findExtremeDivisors(n1, n2):\n",
    "    \"\"\"Assumes that n1 and n2 are positive ints\n",
    "       Returns a tuple containing the smallest common\n",
    "       divisor > 1 and the largest common divisor of n1\n",
    "       and n2\n",
    "    \"\"\"\n",
    "    minVal, maxVal = None, None #multiple assignment statement\n",
    "    for i in range(2, min(n1, n2) + 1):\n",
    "        if n1%i == 0 and n2%i == 0:\n",
    "            if minVal == None or i < minVal:\n",
    "                minVal = i\n",
    "            if maxVal == None or i > maxVal:\n",
    "                maxVal = i\n",
    "    \n",
    "    divisors = (minVal,maxVal)\n",
    "    return  divisors  #   return fixed-size sequences\n"
   ]
  },
  {
   "cell_type": "code",
   "execution_count": null,
   "metadata": {
    "collapsed": false,
    "deletable": true,
    "editable": true
   },
   "outputs": [],
   "source": [
    "# tuple \n",
    "divisors = findExtremeDivisors(100, 200)  \n",
    "print(divisors)\n",
    "print('minDivisor=', divisors[0])\n",
    "print('maxDivisor=', divisors[1])"
   ]
  },
  {
   "cell_type": "markdown",
   "metadata": {
    "deletable": true,
    "editable": true
   },
   "source": [
    "## 5.2 Lists and Mutability\n",
    "\n",
    "A list is an <b>ordered sequence</b> of values, where each value is <b>identified by an index </b>. \n",
    "\n",
    "The syntax for expressing literals of type list is similar to that used for tuples; \n",
    "\n",
    "the difference is that we use <b>square brackets []</b> rather than parentheses(). \n"
   ]
  },
  {
   "cell_type": "code",
   "execution_count": 8,
   "metadata": {
    "collapsed": false,
    "deletable": true,
    "editable": true
   },
   "outputs": [
    {
     "name": "stdout",
     "output_type": "stream",
     "text": [
      "I did it all\n",
      "4\n",
      "love\n"
     ]
    }
   ],
   "source": [
    "L = ['I did it all', 4, 'love']  # square brackets\n",
    "for i in range(len(L)):\n",
    "    print(L[i])"
   ]
  },
  {
   "cell_type": "markdown",
   "metadata": {
    "deletable": true,
    "editable": true
   },
   "source": [
    "The <b>empty list</b> is written as <b>[]</b>\n",
    "\n",
    "<p> <b>Singleton lists</b> are written <b>without comma</b> before the closing bracket."
   ]
  },
  {
   "cell_type": "code",
   "execution_count": 9,
   "metadata": {
    "collapsed": false,
    "deletable": true,
    "editable": true
   },
   "outputs": [
    {
     "name": "stdout",
     "output_type": "stream",
     "text": [
      "empty list: []\n",
      "<class 'list'>\n",
      "[10]\n"
     ]
    }
   ],
   "source": [
    "Lempty=[]   #empty list\n",
    "\n",
    "Lonly1=[10] # singleton list: without comma\n",
    "\n",
    "print('empty list:',Lempty)\n",
    "\n",
    "print(type(Lonly1))\n",
    "print(Lonly1)"
   ]
  },
  {
   "cell_type": "markdown",
   "metadata": {
    "deletable": true,
    "editable": true
   },
   "source": [
    "Square brackets  $[]$ are used for \n",
    "<ol>\n",
    "<li>literals of type list\n",
    "<li>indexing into lists, and\n",
    "<li>slicing lists\n",
    "</ol>\n",
    "<p>can lead to some visual confusion. For example:"
   ]
  },
  {
   "cell_type": "code",
   "execution_count": 10,
   "metadata": {
    "collapsed": false,
    "deletable": true,
    "editable": true
   },
   "outputs": [
    {
     "name": "stdout",
     "output_type": "stream",
     "text": [
      "[1, 2, 3, 4]\n",
      "[2, 3]\n",
      "3\n"
     ]
    }
   ],
   "source": [
    "print([1,2,3,4])  # list\n",
    "\n",
    "print([1,2,3,4][1:3]) # slicing list\n",
    "\n",
    "print([1,2,3,4][1:3][1]) # licing list,then indexing into sliced list"
   ]
  },
  {
   "cell_type": "markdown",
   "metadata": {
    "deletable": true,
    "editable": true
   },
   "source": [
    "<hr style=\"height:2px;color:blue\"/>\n",
    "## lists are mutable\n",
    "\n",
    "<p>Lists differ from tuples in one hugely important way:\n",
    "\n",
    "<b style=\"color:blue\">lists are mutable</b>\n",
    "\n",
    "<p><b>tuples and strings</b> are immutable\n",
    "\n",
    "<p>objects of immutable types cannot be modified.\n",
    "<p>objects of mutable types can be modified after they are created."
   ]
  },
  {
   "cell_type": "markdown",
   "metadata": {
    "collapsed": true,
    "deletable": true,
    "editable": true
   },
   "source": [
    "The distinction between <b>mutating an object</b> and <b>assigning an object to a variable</b>"
   ]
  },
  {
   "cell_type": "code",
   "execution_count": null,
   "metadata": {
    "collapsed": false,
    "deletable": true,
    "editable": true
   },
   "outputs": [],
   "source": [
    "Techs = ['MIT', 'Caltech']\n",
    "Ivys = ['Harvard', 'Yale', 'Brown']"
   ]
  },
  {
   "cell_type": "code",
   "execution_count": null,
   "metadata": {
    "collapsed": true,
    "deletable": true,
    "editable": true
   },
   "outputs": [],
   "source": [
    "Univs = [Techs, Ivys]\n",
    "Univs1 = [['MIT', 'Caltech'], ['Harvard', 'Yale', 'Brown']]"
   ]
  },
  {
   "cell_type": "markdown",
   "metadata": {
    "deletable": true,
    "editable": true
   },
   "source": [
    "The three print statements"
   ]
  },
  {
   "cell_type": "code",
   "execution_count": null,
   "metadata": {
    "collapsed": false,
    "deletable": true,
    "editable": true
   },
   "outputs": [],
   "source": [
    "print('Univs =', Univs) \n",
    "print('Univs1 =', Univs1)\n",
    "print(Univs == Univs1)"
   ]
  },
  {
   "cell_type": "markdown",
   "metadata": {
    "deletable": true,
    "editable": true
   },
   "source": [
    "It appears as if Univs and Univs1 are bound to <b style=\"color:blue\">the same value</b>. \n",
    "\n",
    "But appearances can be deceiving. \n",
    "\n",
    "As the following picture illustrates, Univs and Univs1 are bound to quite different values.\n",
    "<img src=\"./img/fig52.PNG\"/> \n",
    "\n",
    "That Univs and Univs1 are bound to different objects can be verified using the built-in Python function \n",
    "\n",
    "<b style=\"color:blue\">id</b>,\n",
    "\n",
    "which <b style=\"color:blue\">returns a unique integer identifier</b> for an object. \n",
    "\n",
    "<p>This function allows us to <b>test for object equality</b>."
   ]
  },
  {
   "cell_type": "code",
   "execution_count": null,
   "metadata": {
    "collapsed": false,
    "deletable": true,
    "editable": true
   },
   "outputs": [],
   "source": [
    "print(Univs == Univs1) # test value equality\n",
    "\n",
    "print(id(Univs) == id(Univs1)) #test object equality\n",
    "\n",
    "print('Id of Univs =', id(Univs))\n",
    "\n",
    "print('Id of Univs1 =', id(Univs1))"
   ]
  },
  {
   "cell_type": "markdown",
   "metadata": {
    "deletable": true,
    "editable": true
   },
   "source": [
    "The <b>elements of Univs</b> are <b>not copies of the lists</b> to which Techs and Ivys are bound, but are rather the <b> themselves</b>.\n",
    "<p>The <b>elements of Univs1</b> are lists that contain <b>the same elements</b> as the lists in Univs,but they are <b>not the same lists</b>."
   ]
  },
  {
   "cell_type": "code",
   "execution_count": null,
   "metadata": {
    "collapsed": false,
    "deletable": true,
    "editable": true
   },
   "outputs": [],
   "source": [
    "print('Ids of Techs, Univs[0]', id(Techs), id(Univs[0]))\n",
    "\n",
    "print('Ids of Ivys, Univs[1]', id(Ivys), id(Univs[1]))\n",
    "\n",
    "print('Ids of Univs[0] and Univs[1]', id(Univs[0]), id(Univs[1]))\n",
    "\n",
    "print('Ids of Univs1[0] and Univs1[1]', id(Univs1[0]), id(Univs1[1]))"
   ]
  },
  {
   "cell_type": "markdown",
   "metadata": {
    "deletable": true,
    "editable": true
   },
   "source": [
    "### Why does this matter? It matters because lists are mutable"
   ]
  },
  {
   "cell_type": "code",
   "execution_count": null,
   "metadata": {
    "collapsed": true,
    "deletable": true,
    "editable": true
   },
   "outputs": [],
   "source": [
    "# Techs = ['MIT', 'Caltech']\n",
    "\n",
    "Techs.append('RPI') #through the variable Techs "
   ]
  },
  {
   "cell_type": "markdown",
   "metadata": {
    "collapsed": true,
    "deletable": true,
    "editable": true
   },
   "source": [
    "The append method has a side effect. \n",
    "\n",
    "Rather than create a new list, it <b>mutates the existing list Techs</b> by adding a new element, \n",
    "\n",
    "the string 'RPI', \n",
    "\n",
    "to the end of it.\n",
    "<img src=\"./img/fig53.PNG\"/> \n"
   ]
  },
  {
   "cell_type": "markdown",
   "metadata": {
    "deletable": true,
    "editable": true
   },
   "source": [
    "**Univs** still contains the same two lists,but the contents of one of those lists has been changed\n",
    "\n",
    "There are two distinct paths to the same list object：<b>Techs</b>.\n",
    "\n",
    "* One path is through the variable <b>Techs</b> and\n",
    "\n",
    "* the other through <b>the first element</b> of the list object to which Univs is bound：**Univs[0]**. \n",
    "\n",
    "<p>One can mutate the object via either path, and the effect of the mutation will be visible through both paths. "
   ]
  },
  {
   "cell_type": "code",
   "execution_count": 2,
   "metadata": {
    "collapsed": false,
    "deletable": true,
    "editable": true
   },
   "outputs": [
    {
     "name": "stdout",
     "output_type": "stream",
     "text": [
      "Univs = [['MIT', 'Caltech'], ['Harvard', 'Yale', 'Brown']]\n",
      "Univs after Techs.append  = [['MIT', 'Caltech', 'RPI'], ['Harvard', 'Yale', 'Brown']]\n",
      "Univs after Univs[0].append  = [['MIT', 'Caltech', 'RPI', 'NIT'], ['Harvard', 'Yale', 'Brown']]\n",
      "Techs after Univs[0].append  = ['MIT', 'Caltech', 'RPI', 'NIT']\n"
     ]
    }
   ],
   "source": [
    "Techs = ['MIT', 'Caltech']\n",
    "Ivys = ['Harvard', 'Yale', 'Brown']\n",
    "\n",
    "Univs=[Techs,Ivys]\n",
    "print('Univs =', Univs) \n",
    "\n",
    "Techs.append('RPI') #through the variable Techs \n",
    "print('Univs after Techs.append  =', Univs)\n",
    "\n",
    "Univs[0].append('NIT')# the other through the first element of the list object： Techs\n",
    "\n",
    "print('Univs after Univs[0].append  =', Univs)\n",
    "\n",
    "print('Techs after Univs[0].append  =',Techs)\n"
   ]
  },
  {
   "cell_type": "markdown",
   "metadata": {
    "deletable": true,
    "editable": true
   },
   "source": [
    "What we have here is something called **aliasing**. \n",
    "\n",
    "<p>This can be convenient, but it can also be treacherous. \n",
    "\n",
    "* **Unintentional aliasing leads to programming errors that are often enormously hard to track down**."
   ]
  },
  {
   "cell_type": "markdown",
   "metadata": {
    "deletable": true,
    "editable": true
   },
   "source": [
    "`for` statement can be used to iterate over the elements of a list.</h4>"
   ]
  },
  {
   "cell_type": "code",
   "execution_count": 4,
   "metadata": {
    "collapsed": false,
    "deletable": true,
    "editable": true
   },
   "outputs": [
    {
     "name": "stdout",
     "output_type": "stream",
     "text": [
      "Univs contains ['MIT', 'Caltech', 'RPI', 'NIT']\n",
      "   which contains\n",
      "     MIT\n",
      "     Caltech\n",
      "     RPI\n",
      "     NIT\n",
      "Univs contains ['Harvard', 'Yale', 'Brown']\n",
      "   which contains\n",
      "     Harvard\n",
      "     Yale\n",
      "     Brown\n"
     ]
    }
   ],
   "source": [
    "for e in Univs:\n",
    "    print('Univs contains', e) # list \n",
    "    print('   which contains')\n",
    "    for u in e:\n",
    "        print('    ', u)   # the elements of a list."
   ]
  },
  {
   "cell_type": "markdown",
   "metadata": {
    "collapsed": true,
    "deletable": true,
    "editable": true
   },
   "source": [
    "### append VS concatenation(+) or extend"
   ]
  },
  {
   "cell_type": "code",
   "execution_count": 28,
   "metadata": {
    "collapsed": false,
    "deletable": true,
    "editable": true
   },
   "outputs": [
    {
     "name": "stdout",
     "output_type": "stream",
     "text": [
      "L3 = [1, 2, 3, 4, 5, 6]\n",
      "id L1= 1981632510472\n",
      "id L2= 1981632719816\n",
      "id L3= 1981611518472\n",
      "L1 = [1, 2, 3, 4, 5, 6]\n",
      "id L1.extend(L2)= 1981632510472\n",
      "L1 = [1, 2, 3, 4, 5, 6, [4, 5, 6]]\n",
      "id L1.append(L2)= 1981632510472\n"
     ]
    }
   ],
   "source": [
    "L1 = [1,2,3]\n",
    "L2 = [4,5,6]\n",
    "L3 = L1 + L2\n",
    "print('L3 =', L3)\n",
    "\n",
    "print('id L1=',id(L1))\n",
    "print('id L2=',id(L2))\n",
    "print('id L3=',id(L3))\n",
    "\n",
    "L1.extend(L2) # add items in the list L2 to the end of list L1\n",
    "print('L1 =', L1)\n",
    "print('id L1.extend(L2)=',id(L1))\n",
    "\n",
    "L1.append(L2) # add objects e to the end of L1\n",
    "print('L1 =', L1)\n",
    "print('id L1.append(L2)=',id(L1))\n",
    "\n",
    "\n"
   ]
  },
  {
   "cell_type": "markdown",
   "metadata": {
    "deletable": true,
    "editable": true
   },
   "source": [
    "Notice that:\n",
    "\n",
    "* the operator(concatenation): **+** does not have a side effect. It creates **a new list** and returns it. \n",
    "\n",
    "* **extend** and **append** each **mutated** L1. \n"
   ]
  },
  {
   "cell_type": "markdown",
   "metadata": {
    "deletable": true,
    "editable": true
   },
   "source": [
    "The list data type has some more methods. Here are all of the methods of list objects:\n",
    "\n",
    "https://docs.python.org/3/tutorial/datastructures.html#more-on-lists\n",
    "\n",
    "Note that\n",
    "* all of these except <b style=\"color:blue\">count</b> and <b style=\"color:blue\">index</b> mutate the list.\n",
    "\n",
    "<img src=\"./img/fig54.PNG\"/> "
   ]
  },
  {
   "cell_type": "code",
   "execution_count": 52,
   "metadata": {
    "collapsed": false
   },
   "outputs": [
    {
     "data": {
      "text/plain": [
       "[1, 2, 3, 3]"
      ]
     },
     "execution_count": 52,
     "metadata": {},
     "output_type": "execute_result"
    }
   ],
   "source": [
    "L = [1,2,3]\n",
    "#L.append([3]) \n",
    "L.append(3) \n",
    "L"
   ]
  },
  {
   "cell_type": "code",
   "execution_count": 53,
   "metadata": {
    "collapsed": false
   },
   "outputs": [
    {
     "data": {
      "text/plain": [
       "[1, 2, 3, 3]"
      ]
     },
     "execution_count": 53,
     "metadata": {},
     "output_type": "execute_result"
    }
   ],
   "source": [
    "L = [1,2,3]\n",
    "#L.extend(3) \n",
    "L.extend([3]) \n",
    "L"
   ]
  },
  {
   "cell_type": "code",
   "execution_count": 54,
   "metadata": {
    "collapsed": false
   },
   "outputs": [
    {
     "data": {
      "text/plain": [
       "2"
      ]
     },
     "execution_count": 54,
     "metadata": {},
     "output_type": "execute_result"
    }
   ],
   "source": [
    "L.count(3)"
   ]
  },
  {
   "cell_type": "code",
   "execution_count": 55,
   "metadata": {
    "collapsed": false
   },
   "outputs": [
    {
     "data": {
      "text/plain": [
       "[1, 3, 2, 3, 3]"
      ]
     },
     "execution_count": 55,
     "metadata": {},
     "output_type": "execute_result"
    }
   ],
   "source": [
    "L.insert(1,3)\n",
    "L"
   ]
  },
  {
   "cell_type": "code",
   "execution_count": 56,
   "metadata": {
    "collapsed": false
   },
   "outputs": [
    {
     "data": {
      "text/plain": [
       "[1, 2, 3, 3]"
      ]
     },
     "execution_count": 56,
     "metadata": {},
     "output_type": "execute_result"
    }
   ],
   "source": [
    "L.remove(3)\n",
    "L"
   ]
  },
  {
   "cell_type": "code",
   "execution_count": 57,
   "metadata": {
    "collapsed": false
   },
   "outputs": [
    {
     "data": {
      "text/plain": [
       "2"
      ]
     },
     "execution_count": 57,
     "metadata": {},
     "output_type": "execute_result"
    }
   ],
   "source": [
    "L.index(3)"
   ]
  },
  {
   "cell_type": "code",
   "execution_count": 58,
   "metadata": {
    "collapsed": false
   },
   "outputs": [
    {
     "data": {
      "text/plain": [
       "2"
      ]
     },
     "execution_count": 58,
     "metadata": {},
     "output_type": "execute_result"
    }
   ],
   "source": [
    "L.pop(1)"
   ]
  },
  {
   "cell_type": "code",
   "execution_count": 59,
   "metadata": {
    "collapsed": false
   },
   "outputs": [
    {
     "data": {
      "text/plain": [
       "[1, 3, 3]"
      ]
     },
     "execution_count": 59,
     "metadata": {},
     "output_type": "execute_result"
    }
   ],
   "source": [
    "L"
   ]
  },
  {
   "cell_type": "code",
   "execution_count": 64,
   "metadata": {
    "collapsed": false
   },
   "outputs": [
    {
     "data": {
      "text/plain": [
       "[1, 3, 3]"
      ]
     },
     "execution_count": 64,
     "metadata": {},
     "output_type": "execute_result"
    }
   ],
   "source": [
    "L.sort()\n",
    "L"
   ]
  },
  {
   "cell_type": "code",
   "execution_count": 65,
   "metadata": {
    "collapsed": false
   },
   "outputs": [
    {
     "data": {
      "text/plain": [
       "[3, 3, 1]"
      ]
     },
     "execution_count": 65,
     "metadata": {},
     "output_type": "execute_result"
    }
   ],
   "source": [
    "L.reverse()\n",
    "L"
   ]
  },
  {
   "cell_type": "markdown",
   "metadata": {
    "deletable": true,
    "editable": true
   },
   "source": [
    "## 5.2.1 Cloning\n",
    "\n",
    "It is usually prudent to <b>avoid mutating a list over which one is iterating</b>."
   ]
  },
  {
   "cell_type": "code",
   "execution_count": 72,
   "metadata": {
    "collapsed": false,
    "deletable": true,
    "editable": true
   },
   "outputs": [
    {
     "name": "stdout",
     "output_type": "stream",
     "text": [
      "Current Item= 1\n",
      "Current len(L1)= 4\n",
      "L1= [1, 2, 3, 4] \n",
      "\n",
      "Current Item= 3\n",
      "Current len(L1)= 3\n",
      "L1= [2, 3, 4] \n",
      "\n",
      "Current Item= 4\n",
      "Current len(L1)= 3\n",
      "L1= [2, 3, 4] \n",
      "\n",
      "\n",
      " removeDups L1 = [2, 3, 4]\n"
     ]
    }
   ],
   "source": [
    "#Page 63-64\n",
    "def removeDups(L1, L2):\n",
    "    \"\"\"Assumes that L1 and L2 are lists.\n",
    "       Removes any element from L1 that also occurs in L2\"\"\"\n",
    "    for e1 in L1:\n",
    "       \n",
    "        # display mutation：L1.remove(e1)\n",
    "        print('Current Item=',e1) \n",
    "        print('Current len(L1)=',len(L1))  \n",
    "       \n",
    "        print('L1=',L1,'\\n')\n",
    "        \n",
    "        if e1 in L2:\n",
    "            L1.remove(e1) # mutation：L1.remove(e1)\n",
    "\n",
    "L1 = [1,2,3,4]\n",
    "L2 = [1,2,5,6]\n",
    "\n",
    "removeDups(L1, L2)\n",
    "# 1,2\n",
    "# L1=[3,4]\n",
    "print('\\n removeDups L1 =', L1)"
   ]
  },
  {
   "cell_type": "markdown",
   "metadata": {
    "deletable": true,
    "editable": true
   },
   "source": [
    "#### 1 One way to <b>avoid this kind of problem is to use slicing to clone</b> \n",
    "\n",
    "     make a copy of the list and write \n",
    "     \n",
    "```python     \n",
    "     for e1 in L1[:]:\n",
    "```"
   ]
  },
  {
   "cell_type": "code",
   "execution_count": 73,
   "metadata": {
    "collapsed": false,
    "deletable": true,
    "editable": true
   },
   "outputs": [
    {
     "name": "stdout",
     "output_type": "stream",
     "text": [
      "Current Item= 1\n",
      "Current len(L1)= 4\n",
      "L1= [1, 2, 3, 4] \n",
      "\n",
      "Current Item= 2\n",
      "Current len(L1)= 3\n",
      "L1= [2, 3, 4] \n",
      "\n",
      "Current Item= 3\n",
      "Current len(L1)= 2\n",
      "L1= [3, 4] \n",
      "\n",
      "Current Item= 4\n",
      "Current len(L1)= 2\n",
      "L1= [3, 4] \n",
      "\n",
      "\n",
      " removeDups L1 = [3, 4]\n"
     ]
    }
   ],
   "source": [
    "#Page 63-64\n",
    "def removeDups(L1, L2):\n",
    "    \"\"\"Assumes that L1 and L2 are lists.\n",
    "       Removes any element from L1 that also occurs in L2\"\"\"\n",
    " \n",
    "    for e1 in L1[:]: # use slicing to clone\n",
    "        \n",
    "        print('Current Item=',e1) \n",
    "        print('Current len(L1)=',len(L1))  \n",
    "       \n",
    "        print('L1=',L1,'\\n')\n",
    "        \n",
    "        if e1 in L2:\n",
    "            L1.remove(e1)\n",
    "\n",
    "L1 = [1,2,3,4]\n",
    "L2 = [1,2,5,6]\n",
    "removeDups(L1, L2)\n",
    "print('\\n removeDups L1 =', L1)"
   ]
  },
  {
   "cell_type": "markdown",
   "metadata": {
    "deletable": true,
    "editable": true
   },
   "source": [
    "* <b>newL1 = L1</b> merely have introduced <b>a new name for L1</b>\n",
    "\n",
    "  * Assignment statements in Python do not copy objects, they create bindings between a target and an object."
   ]
  },
  {
   "cell_type": "code",
   "execution_count": 74,
   "metadata": {
    "collapsed": false,
    "deletable": true,
    "editable": true
   },
   "outputs": [
    {
     "name": "stdout",
     "output_type": "stream",
     "text": [
      "4\n",
      "L1= [1, 2, 3, 4]\n",
      "3\n",
      "L1= [2, 3, 4]\n",
      "3\n",
      "L1= [2, 3, 4]\n",
      "\n",
      " removeDups L1 = [2, 3, 4]\n"
     ]
    }
   ],
   "source": [
    "#Page 63-64\n",
    "def removeDups(L1, L2):\n",
    "    \"\"\"Assumes that L1 and L2 are lists.\n",
    "       Removes any element from L1 that also occurs in L2\"\"\"\n",
    "    \n",
    "    newL1=L1  # Assignment statements in Python do not copy objects, \n",
    "              # they create bindings between a target and an object.\n",
    "    \n",
    "    for e1 in newL1:\n",
    "        \n",
    "        print(len(L1))  # display mutation\n",
    "        print('L1=',L1)\n",
    "        \n",
    "        if e1 in L2:\n",
    "            L1.remove(e1)\n",
    "\n",
    "L1 = [1,2,3,4]\n",
    "L2 = [1,2,5,6]\n",
    "removeDups(L1, L2)\n",
    "print('\\n removeDups L1 =', L1)"
   ]
  },
  {
   "cell_type": "markdown",
   "metadata": {
    "deletable": true,
    "editable": true
   },
   "source": [
    "#### 2  The expression <b>list(l)</b> returns a copy of the list l. "
   ]
  },
  {
   "cell_type": "code",
   "execution_count": 76,
   "metadata": {
    "collapsed": false,
    "deletable": true,
    "editable": true
   },
   "outputs": [
    {
     "name": "stdout",
     "output_type": "stream",
     "text": [
      "4\n",
      "L1= [1, 2, 3, 4]\n",
      "3\n",
      "L1= [2, 3, 4]\n",
      "2\n",
      "L1= [3, 4]\n",
      "2\n",
      "L1= [3, 4]\n",
      "\n",
      " removeDups L1 = [3, 4]\n"
     ]
    }
   ],
   "source": [
    "#Page 63-64\n",
    "def removeDups(L1, L2):\n",
    "    \"\"\"Assumes that L1 and L2 are lists.\n",
    "       Removes any element from L1 that also occurs in L2\"\"\"\n",
    "    \n",
    "    newL1=list(L1)  # a copy of the list L1\n",
    "    \n",
    "    for e1 in newL1:\n",
    "        \n",
    "        print(len(L1))  # display mutation\n",
    "        print('L1=',L1)\n",
    "        \n",
    "        if e1 in L2:\n",
    "            L1.remove(e1)\n",
    "\n",
    "L1 = [1,2,3,4]\n",
    "L2 = [1,2,5,6]\n",
    "removeDups(L1, L2)\n",
    "print('\\n removeDups L1 =', L1)"
   ]
  },
  {
   "cell_type": "markdown",
   "metadata": {
    "deletable": true,
    "editable": true
   },
   "source": [
    "## Further Reading\n",
    "\n",
    "<b>1 Python 8.10 copy — Shallow and deep copy operations</b>\n",
    "\n",
    "https://docs.python.org/3/library/copy.html\n",
    "\n",
    "For collections that are mutable or contain mutable items, \n",
    "\n",
    "a copy is sometimes needed so one can change one copy without changing the other.\n",
    "\n",
    "This module provides generic shallow and deep copy operations (explained below).\n",
    "\n",
    "<p>Interface summary:\n",
    "<ul>\n",
    "<li>copy.copy(x): Return a shallow copy of x.\n",
    "<li>copy.deepcopy(x): Return a deep copy of x.\n",
    "</ul>\n",
    "\n",
    "* A shallow copy constructs a new compound object and then (to the extent possible) inserts references into it to the objects found in the original.\n",
    "* A deep copy constructs a new compound object and then, recursively, inserts copies into it of the objects found in the original.\n",
    "\n",
    "<p><b>2. The Python Standard Library by Example 2.8 copy—Duplicate Objects"
   ]
  },
  {
   "cell_type": "code",
   "execution_count": null,
   "metadata": {
    "collapsed": false,
    "deletable": true,
    "editable": true
   },
   "outputs": [],
   "source": [
    "#Page 63-64\n",
    "import copy\n",
    "\n",
    "def removeDups(L1, L2):\n",
    "    \"\"\"Assumes that L1 and L2 are lists.\n",
    "       Removes any element from L1 that also occurs in L2\"\"\"\n",
    "    \n",
    "    newL1=copy.deepcopy(L1)  # a copy of the list L1\n",
    "    \n",
    "    for e1 in newL1:\n",
    "        \n",
    "        print(len(L1))  # display mutation\n",
    "        print('L1=',L1)\n",
    "        \n",
    "        if e1 in L2:\n",
    "            L1.remove(e1)\n",
    "\n",
    "L1 = [1,2,3,4]\n",
    "L2 = [1,2,5,6]\n",
    "removeDups(L1, L2)\n",
    "print('\\n removeDups L1 =', L1)"
   ]
  },
  {
   "cell_type": "markdown",
   "metadata": {
    "deletable": true,
    "editable": true
   },
   "source": [
    "## <b style=\"color:blue\">Cloning Methods<b>\n",
    "\n",
    "* slicing：L1[:]\n",
    "* List(L1)\n",
    "* copy.copy(L1),copy.deepcopy(L1)"
   ]
  },
  {
   "cell_type": "markdown",
   "metadata": {
    "deletable": true,
    "editable": true
   },
   "source": [
    "### 5.2.2 List Comprehension\n",
    "\n",
    "List comprehension provides a concise way to apply an operation to the values in a sequence.\n",
    "\n",
    "It creates a new list in which each element is the result of applying a given operation to a value from a sequence "
   ]
  },
  {
   "cell_type": "code",
   "execution_count": null,
   "metadata": {
    "collapsed": false,
    "deletable": true,
    "editable": true
   },
   "outputs": [],
   "source": [
    "L = [x**2 for x in range(1,7)]\n",
    "print(L)"
   ]
  },
  {
   "cell_type": "code",
   "execution_count": null,
   "metadata": {
    "collapsed": false,
    "deletable": true,
    "editable": true
   },
   "outputs": [],
   "source": [
    "L =[]\n",
    "for x in range(1,7):\n",
    "    L.append(x**2)\n",
    "print(L)"
   ]
  },
  {
   "cell_type": "markdown",
   "metadata": {
    "deletable": true,
    "editable": true
   },
   "source": [
    "The `for` clause in a list comprehension can be <b>followed</b> by one or more \n",
    "\n",
    "* <b>if </b> statements \n",
    "\n",
    "* <b>for</b> statements \n",
    "\n",
    "that are applied to the values produced by the `for` clause."
   ]
  },
  {
   "cell_type": "markdown",
   "metadata": {},
   "source": [
    "* `if` statements"
   ]
  },
  {
   "cell_type": "code",
   "execution_count": 77,
   "metadata": {
    "collapsed": false,
    "deletable": true,
    "editable": true
   },
   "outputs": [
    {
     "name": "stdout",
     "output_type": "stream",
     "text": [
      "[1, 4, 9]\n"
     ]
    }
   ],
   "source": [
    "mixed = [1, 2, 'a', 3, 4.0]\n",
    "print([x**2 for x in mixed if type(x) == int])"
   ]
  },
  {
   "cell_type": "markdown",
   "metadata": {
    "deletable": true,
    "editable": true
   },
   "source": [
    "* `for` statements "
   ]
  },
  {
   "cell_type": "code",
   "execution_count": 78,
   "metadata": {
    "collapsed": false,
    "deletable": true,
    "editable": true
   },
   "outputs": [
    {
     "name": "stdout",
     "output_type": "stream",
     "text": [
      "[1, 2, 3, 2, 4, 6, 3, 6, 9]\n"
     ]
    }
   ],
   "source": [
    "print([x*y for x in [1,2,3] for y in  [1,2,3]])"
   ]
  },
  {
   "cell_type": "markdown",
   "metadata": {
    "deletable": true,
    "editable": true
   },
   "source": [
    "Remember that somebody else may need to read your code\n",
    "\n",
    "* **subtle** is not usually a desirable property "
   ]
  },
  {
   "cell_type": "markdown",
   "metadata": {
    "deletable": true,
    "editable": true
   },
   "source": [
    "Further Reading：Python Tutorial\n",
    "\n",
    "* 5.1.3 List Comprehensions https://docs.python.org/3/tutorial/datastructures.html#list-comprehensions\n",
    "\n",
    "* 5.1.4 Nested List Comprehensions https://docs.python.org/3/tutorial/datastructures.html#nested-list-comprehensions\n"
   ]
  },
  {
   "cell_type": "markdown",
   "metadata": {
    "deletable": true,
    "editable": true
   },
   "source": [
    "## 5.3 Functions as Objects\n",
    "\n",
    "In Python, functions are first-class objects"
   ]
  },
  {
   "cell_type": "code",
   "execution_count": 79,
   "metadata": {
    "collapsed": false,
    "deletable": true,
    "editable": true
   },
   "outputs": [
    {
     "data": {
      "text/plain": [
       "builtin_function_or_method"
      ]
     },
     "execution_count": 79,
     "metadata": {},
     "output_type": "execute_result"
    }
   ],
   "source": [
    "type(abs)"
   ]
  },
  {
   "cell_type": "code",
   "execution_count": 5,
   "metadata": {
    "collapsed": false,
    "deletable": true,
    "editable": true
   },
   "outputs": [
    {
     "ename": "NameError",
     "evalue": "name 'removeDups' is not defined",
     "output_type": "error",
     "traceback": [
      "\u001b[1;31m---------------------------------------------------------------------------\u001b[0m",
      "\u001b[1;31mNameError\u001b[0m                                 Traceback (most recent call last)",
      "\u001b[1;32m<ipython-input-5-b71a1bc5e531>\u001b[0m in \u001b[0;36m<module>\u001b[1;34m()\u001b[0m\n\u001b[1;32m----> 1\u001b[1;33m \u001b[0mtype\u001b[0m\u001b[1;33m(\u001b[0m\u001b[0mremoveDups\u001b[0m\u001b[1;33m)\u001b[0m\u001b[1;33m\u001b[0m\u001b[0m\n\u001b[0m",
      "\u001b[1;31mNameError\u001b[0m: name 'removeDups' is not defined"
     ]
    }
   ],
   "source": [
    "type(removeDups)"
   ]
  },
  {
   "cell_type": "markdown",
   "metadata": {
    "deletable": true,
    "editable": true
   },
   "source": [
    "Using <b>functions as arguments</b> can be particularly convenient in conjunction with lists. \n",
    "\n",
    "It allows a style of coding called <b>higher-order programming</b>\n",
    "\n",
    "* higher-order programming -> functions as arguments"
   ]
  },
  {
   "cell_type": "code",
   "execution_count": 80,
   "metadata": {
    "collapsed": false
   },
   "outputs": [
    {
     "name": "stdout",
     "output_type": "stream",
     "text": [
      "Overwriting functionsFromChapter4.py\n"
     ]
    }
   ],
   "source": [
    "%%file functionsFromChapter4.py\n",
    "\n",
    "#Page 45, Figure 4.6\n",
    "def factI(n):\n",
    "   \"\"\"Assumes that n is an int > 0\n",
    "      Returns n!\"\"\"\n",
    "   result = 1\n",
    "   while n > 1:\n",
    "      result = result * n\n",
    "      n -= 1\n",
    "   return result\n",
    "   \n",
    "def factR(n):\n",
    "   \"\"\"Assumes that n is an int > 0\n",
    "      Returns n!\"\"\"\n",
    "   if n == 1:\n",
    "      return n\n",
    "   else:\n",
    "       return n*factR(n - 1)\n",
    "\n",
    "#Page 47, Figure 4.7\n",
    "def fib(n):\n",
    "    \"\"\"Assumes n an int >= 0\n",
    "       Returns Fibonacci of n\"\"\"\n",
    "    if n == 0 or n == 1:\n",
    "        return 1\n",
    "    else:\n",
    "        return fib(n-1) + fib(n-2)\n",
    "\n"
   ]
  },
  {
   "cell_type": "code",
   "execution_count": 81,
   "metadata": {
    "collapsed": false,
    "deletable": true,
    "editable": true
   },
   "outputs": [
    {
     "name": "stdout",
     "output_type": "stream",
     "text": [
      "L = [1, -2, 3.33]\n",
      "\n",
      "Apply abs to each element of L.\n",
      "L = [1, 2, 3.33]\n",
      "\n",
      "Apply int to each element of [1, 2, 3.33]\n",
      "L = [1, 2, 3]\n",
      "\n",
      "Apply factorial to each element of [1, 2, 3]\n",
      "L = [1, 2, 6]\n",
      "\n",
      "Apply Fibonnaci to each element of [1, 2, 6]\n",
      "L = [1, 2, 13]\n"
     ]
    }
   ],
   "source": [
    "#Page 64, Figure 5.5\n",
    "\n",
    "from functionsFromChapter4 import *\n",
    "\n",
    "def applyToEach(L, func):\n",
    "    \"\"\"Assumes L is a list, func a function\n",
    "       Mutates L by replacing each element, e, of L by f(e)\"\"\"\n",
    "    for i in range(len(L)):\n",
    "        L[i] = func(L[i])\n",
    "      \n",
    "L = [1, -2, 3.33]\n",
    "print('L =', L)\n",
    "print('\\nApply abs to each element of L.')\n",
    "\n",
    "applyToEach(L, abs)\n",
    "\n",
    "print('L =', L)\n",
    "\n",
    "print('\\nApply int to each element of', L)\n",
    "\n",
    "applyToEach(L, int)\n",
    "\n",
    "print('L =', L)\n",
    "\n",
    "print('\\nApply factorial to each element of', L)\n",
    "\n",
    "applyToEach(L, factR)\n",
    "\n",
    "print('L =', L)\n",
    "\n",
    "print('\\nApply Fibonnaci to each element of', L)\n",
    "\n",
    "applyToEach(L, fib)\n",
    "\n",
    "print('L =', L)"
   ]
  },
  {
   "cell_type": "markdown",
   "metadata": {
    "deletable": true,
    "editable": true
   },
   "source": [
    "## map: a built-in higher-order function in Python\n",
    "\n",
    "* the <b>simplest form</b> ：\n",
    "\n",
    "  * the first argument to `map` is <b>a unary function</b>, a function that has only <b>one parameter</b> \n",
    "  * the second argument is any ordered collection of values  suitable as arguments to the first argument."
   ]
  },
  {
   "cell_type": "code",
   "execution_count": 82,
   "metadata": {
    "collapsed": false,
    "deletable": true,
    "editable": true
   },
   "outputs": [
    {
     "data": {
      "text/plain": [
       "[1, 2, 6]"
      ]
     },
     "execution_count": 82,
     "metadata": {},
     "output_type": "execute_result"
    }
   ],
   "source": [
    "list(map(factR, [1, 2, 3]))"
   ]
  },
  {
   "cell_type": "code",
   "execution_count": 8,
   "metadata": {
    "collapsed": false,
    "deletable": true,
    "editable": true
   },
   "outputs": [
    {
     "data": {
      "text/plain": [
       "[1, 2, 6]"
      ]
     },
     "execution_count": 8,
     "metadata": {},
     "output_type": "execute_result"
    }
   ],
   "source": [
    "l=[]\n",
    "for i in [1,2,3]:\n",
    "   l.append(factR(i))\n",
    "l"
   ]
  },
  {
   "cell_type": "markdown",
   "metadata": {
    "deletable": true,
    "editable": true
   },
   "source": [
    "* **More generally** \n",
    "\n",
    "  * the first argument to `map` can be of <b>function of n arguments</b>, in which case it must be followed by <b>n subsequent ordered collections</b>"
   ]
  },
  {
   "cell_type": "code",
   "execution_count": 9,
   "metadata": {
    "collapsed": false,
    "deletable": true,
    "editable": true
   },
   "outputs": [
    {
     "name": "stdout",
     "output_type": "stream",
     "text": [
      "Help on built-in function min in module builtins:\n",
      "\n",
      "min(...)\n",
      "    min(iterable, *[, default=obj, key=func]) -> value\n",
      "    min(arg1, arg2, *args, *[, key=func]) -> value\n",
      "    \n",
      "    With a single iterable argument, return its smallest item. The\n",
      "    default keyword-only argument specifies an object to return if\n",
      "    the provided iterable is empty.\n",
      "    With two or more arguments, return the smallest argument.\n",
      "\n"
     ]
    }
   ],
   "source": [
    "help(min)"
   ]
  },
  {
   "cell_type": "code",
   "execution_count": 83,
   "metadata": {
    "collapsed": false,
    "deletable": true,
    "editable": true
   },
   "outputs": [
    {
     "name": "stdout",
     "output_type": "stream",
     "text": [
      "[1, 28, 9]\n"
     ]
    }
   ],
   "source": [
    "#Page 64\n",
    "L1 = [1, 28, 36]\n",
    "L2 = [2, 57, 9]\n",
    "\n",
    "print(list(map(min, L1, L2)))  # min"
   ]
  },
  {
   "cell_type": "code",
   "execution_count": 11,
   "metadata": {
    "collapsed": false,
    "deletable": true,
    "editable": true
   },
   "outputs": [
    {
     "name": "stdout",
     "output_type": "stream",
     "text": [
      "[1, 28, 9]\n"
     ]
    }
   ],
   "source": [
    "L1 = [1, 28, 36]\n",
    "L2 = [2, 57, 9]\n",
    "lmin=[]\n",
    "for i in range(3):\n",
    "    lmin.append(min(L1[i],L2[i]))\n",
    "print(lmin)"
   ]
  },
  {
   "cell_type": "markdown",
   "metadata": {
    "deletable": true,
    "editable": true
   },
   "source": [
    "## Further Reading\n",
    "\n",
    "The Python Standard Library:2. Built-in Functions\n",
    "\n",
    "https://docs.python.org/3/library/functions.html#map\n"
   ]
  },
  {
   "cell_type": "code",
   "execution_count": 12,
   "metadata": {
    "collapsed": false,
    "deletable": true,
    "editable": true
   },
   "outputs": [
    {
     "name": "stdout",
     "output_type": "stream",
     "text": [
      "Help on class map in module builtins:\n",
      "\n",
      "class map(object)\n",
      " |  map(func, *iterables) --> map object\n",
      " |  \n",
      " |  Make an iterator that computes the function using arguments from\n",
      " |  each of the iterables.  Stops when the shortest iterable is exhausted.\n",
      " |  \n",
      " |  Methods defined here:\n",
      " |  \n",
      " |  __getattribute__(self, name, /)\n",
      " |      Return getattr(self, name).\n",
      " |  \n",
      " |  __iter__(self, /)\n",
      " |      Implement iter(self).\n",
      " |  \n",
      " |  __new__(*args, **kwargs) from builtins.type\n",
      " |      Create and return a new object.  See help(type) for accurate signature.\n",
      " |  \n",
      " |  __next__(self, /)\n",
      " |      Implement next(self).\n",
      " |  \n",
      " |  __reduce__(...)\n",
      " |      Return state information for pickling.\n",
      "\n"
     ]
    }
   ],
   "source": [
    "help(map)"
   ]
  },
  {
   "cell_type": "markdown",
   "metadata": {
    "collapsed": true,
    "deletable": true,
    "editable": true
   },
   "source": [
    "## 5.4 Strings, Tuples, and Lists\n",
    "\n",
    "We have looked at three different <b>sequence</b> types: \n",
    "\n",
    "* str\n",
    "\n",
    "* tuple\n",
    "\n",
    "* list.\n",
    "\n",
    "<p>Common operations on sequence types\n",
    "<img src=\"./img/fig56.PNG\"/>"
   ]
  },
  {
   "cell_type": "markdown",
   "metadata": {
    "deletable": true,
    "editable": true
   },
   "source": [
    " <p>Some of their other similarities and differences are summarized in Figure 5.7.\n",
    "<img src=\"./img/fig57.PNG\"/>\n",
    "\n",
    "<p>Python programmers tend to use <b style=\"color:blue\">lists</b> far more <b style=\"color:blue\">often</b> than <b>tuples</b>. \n",
    "\n",
    "Since lists are **mutable**, they can be **constructed incrementally** during a computation."
   ]
  },
  {
   "cell_type": "code",
   "execution_count": null,
   "metadata": {
    "collapsed": false,
    "deletable": true,
    "editable": true
   },
   "outputs": [],
   "source": [
    "#Page 66\n",
    "L=[1, -2, 3.33]\n",
    "evenElems = []\n",
    "for e in L:\n",
    "    if e%2 == 0:\n",
    "        evenElems.append(e)\n",
    "        \n",
    "print(evenElems)"
   ]
  },
  {
   "cell_type": "markdown",
   "metadata": {
    "deletable": true,
    "editable": true
   },
   "source": [
    "<hr style=\"height:1px;color:blue\"/>\n",
    "Since strings can contain only characters, \n",
    "\n",
    "there are <b>many built-in methods</b> that make life easy\n",
    "\n",
    "Keep in mind that since strings are immutable these all return values and have no side effect.\n",
    "<p>\n",
    "<img src=\"./img/fig58.PNG\"/>"
   ]
  },
  {
   "cell_type": "code",
   "execution_count": 13,
   "metadata": {
    "collapsed": false,
    "deletable": true,
    "editable": true
   },
   "outputs": [
    {
     "data": {
      "text/plain": [
       "0"
      ]
     },
     "execution_count": 13,
     "metadata": {},
     "output_type": "execute_result"
    }
   ],
   "source": [
    "s='David Guttag plays basketball David'\n",
    "s.find('David')"
   ]
  },
  {
   "cell_type": "code",
   "execution_count": 14,
   "metadata": {
    "collapsed": false,
    "deletable": true,
    "editable": true
   },
   "outputs": [
    {
     "data": {
      "text/plain": [
       "30"
      ]
     },
     "execution_count": 14,
     "metadata": {},
     "output_type": "execute_result"
    }
   ],
   "source": [
    "s.rfind('David')"
   ]
  },
  {
   "cell_type": "code",
   "execution_count": 15,
   "metadata": {
    "collapsed": false,
    "deletable": true,
    "editable": true
   },
   "outputs": [
    {
     "data": {
      "text/plain": [
       "'David Guttag plays basketball'"
      ]
     },
     "execution_count": 15,
     "metadata": {},
     "output_type": "execute_result"
    }
   ],
   "source": [
    "s=\"David Guttag plays basketball     \"  # trailing whitespace space\n",
    "s.rstrip()"
   ]
  },
  {
   "cell_type": "code",
   "execution_count": 16,
   "metadata": {
    "collapsed": false,
    "deletable": true,
    "editable": true
   },
   "outputs": [
    {
     "data": {
      "text/plain": [
       "['David', 'Guttag', 'plays', 'basketball']"
      ]
     },
     "execution_count": 16,
     "metadata": {},
     "output_type": "execute_result"
    }
   ],
   "source": [
    "s='David*Guttag*plays*basketball'\n",
    "s.split('*')"
   ]
  },
  {
   "cell_type": "code",
   "execution_count": 17,
   "metadata": {
    "collapsed": false,
    "deletable": true,
    "editable": true
   },
   "outputs": [
    {
     "data": {
      "text/plain": [
       "'David*Guttag*plays*basketball'"
      ]
     },
     "execution_count": 17,
     "metadata": {},
     "output_type": "execute_result"
    }
   ],
   "source": [
    "s"
   ]
  },
  {
   "cell_type": "code",
   "execution_count": 18,
   "metadata": {
    "collapsed": false,
    "deletable": true,
    "editable": true
   },
   "outputs": [
    {
     "data": {
      "text/plain": [
       "['David', 'Guttag', 'plays', 'basketball']"
      ]
     },
     "execution_count": 18,
     "metadata": {},
     "output_type": "execute_result"
    }
   ],
   "source": [
    "#  whitespace  characters:\n",
    "#\n",
    "# space,tab,newline,return,and formfeed(A page break)\n",
    "#       \\t    \\n      \\r          \\f\n",
    " \n",
    "s='David\\t Guttag \\n plays\\r basketball\\f'\n",
    "s.split()   "
   ]
  },
  {
   "cell_type": "code",
   "execution_count": 19,
   "metadata": {
    "collapsed": false,
    "deletable": true,
    "editable": true
   },
   "outputs": [
    {
     "data": {
      "text/plain": [
       "'David\\t Guttag \\n plays\\r basketball\\x0c'"
      ]
     },
     "execution_count": 19,
     "metadata": {},
     "output_type": "execute_result"
    }
   ],
   "source": [
    "s"
   ]
  },
  {
   "cell_type": "code",
   "execution_count": null,
   "metadata": {
    "collapsed": true,
    "deletable": true,
    "editable": true
   },
   "outputs": [],
   "source": [
    "\"\"\"\n",
    "Distance (m) Mass (kg)\n",
    "0.0865 0.1\n",
    "0.1015 0.15\n",
    "0.1106 0.2\n",
    "0.1279 0.25\n",
    "\"\"\"\n",
    "\n",
    "#Page 209, Figure 15.1\n",
    "def getData(fileName):\n",
    "    dataFile = open(fileName, 'r')\n",
    "    distances = []\n",
    "    masses = []\n",
    "    discardHeader = dataFile.readline()\n",
    "    for line in dataFile:\n",
    "        \n",
    "        #d, m = line.split(' ')\n",
    "        d, m = line.split(' ')\n",
    "        \n",
    "        distances.append(float(d))\n",
    "        masses.append(float(m))\n",
    "    dataFile.close()\n",
    "    return (masses, distances)"
   ]
  },
  {
   "cell_type": "markdown",
   "metadata": {
    "deletable": true,
    "editable": true
   },
   "source": [
    "<hr style=\"height:2px;color:blue\"/>\n",
    "## 5.5 Dictionaries\n",
    "Think of a dictionary as a set of\n",
    "\n",
    "<b>key/value</b>\n",
    "\n",
    "pairs.\n",
    "\n",
    "Literals of type dict are enclosed in  <b style=\"color:blue\">curly braces  {}  </b>, \n",
    "\n",
    "and each element is written as a key followed by <b style=\"color:blue\">a colon :</b> followed by a value.\n",
    "\n",
    "<b style=\"color:blue\">Keys</b> can be values of <b>any immutable type</b>.\n",
    "\n",
    "The **entries** in a dict are <b>unordered</b> and cannot be accessed with an index\n",
    "\n",
    "**Tuples** are immutable,<b style=\"color:blue\">aliasing is never a worry</b>.can be used as<b> keys in dictionaries."
   ]
  },
  {
   "cell_type": "code",
   "execution_count": 20,
   "metadata": {
    "collapsed": false,
    "deletable": true,
    "editable": true
   },
   "outputs": [
    {
     "name": "stdout",
     "output_type": "stream",
     "text": [
      "The Mar is the 3 month \n",
      "\n",
      "The third month is Mar \n",
      "\n",
      "Apr and Jan are 3 months apart\n"
     ]
    }
   ],
   "source": [
    "monthNumbers = {'Jan':1, 'Feb':2, 'Mar':3, 'Apr':4, 'May':5,\n",
    "1:'Jan', 2:'Feb', 3:'Mar', 4:'Apr', 5:'May'}\n",
    "\n",
    "# The entries in a dict are unordered and cannot be accessed with an index\n",
    "# get value from key\n",
    "\n",
    "print('The Mar is the', format(monthNumbers['Mar']),'month \\n')\n",
    "\n",
    "print('The third month is ' + monthNumbers[3],'\\n')  \n",
    "\n",
    "dist = monthNumbers['Apr'] - monthNumbers['Jan'] \n",
    "print('Apr and Jan are', dist, 'months apart')"
   ]
  },
  {
   "cell_type": "markdown",
   "metadata": {
    "deletable": true,
    "editable": true
   },
   "source": [
    "The method <b>keys</b> returns a list containing the keys of a dictionary. "
   ]
  },
  {
   "cell_type": "code",
   "execution_count": 21,
   "metadata": {
    "collapsed": false,
    "deletable": true,
    "editable": true
   },
   "outputs": [
    {
     "name": "stdout",
     "output_type": "stream",
     "text": [
      "dict_keys([3, 'Apr', 2, 'Jan', 4, 5, 1, 'Feb', 'Mar', 'May'])\n"
     ]
    }
   ],
   "source": [
    "print(monthNumbers.keys()) # The order in which the keys appear is not defined."
   ]
  },
  {
   "cell_type": "markdown",
   "metadata": {
    "deletable": true,
    "editable": true
   },
   "source": [
    "When a \n",
    "\n",
    "<b>for statement</b> \n",
    "\n",
    "is used to iterate over a dictionary, \n",
    "\n",
    "<b>the value</b> assigned to the iteration variable is a <b>key</b>, not a key/value pair."
   ]
  },
  {
   "cell_type": "code",
   "execution_count": 22,
   "metadata": {
    "collapsed": false,
    "deletable": true,
    "editable": true
   },
   "outputs": [
    {
     "name": "stdout",
     "output_type": "stream",
     "text": [
      "[3, 'Apr', 2, 'Jan', 4, 5, 1, 'Feb', 'Mar', 'May']\n"
     ]
    }
   ],
   "source": [
    "keys = []\n",
    "for e in monthNumbers:\n",
    "    keys.append(e) # the value s a key， not a key/value pair.\n",
    "print(keys)"
   ]
  },
  {
   "cell_type": "markdown",
   "metadata": {
    "collapsed": true,
    "deletable": true,
    "editable": true
   },
   "source": [
    "<h3>Dictionaries are one of  <b style=\"color:blue\">the great things</b> about Python. </h3>\n",
    "\n",
    "\n",
    "<h3>They  <b style=\"color:blue\">greatly reduce </b> the difficulty of writing a variety of programs.</h3>"
   ]
  },
  {
   "cell_type": "code",
   "execution_count": 23,
   "metadata": {
    "collapsed": false,
    "deletable": true,
    "editable": true
   },
   "outputs": [
    {
     "name": "stdout",
     "output_type": "stream",
     "text": [
      "Je bois \"good\" rouge vin, et mange pain. \n",
      "I drink of wine red. \n"
     ]
    }
   ],
   "source": [
    "#Page 68, Figure 5.9\n",
    "\n",
    "# Enligh <-> France\n",
    "\n",
    "EtoF = {'bread':'pain', 'wine':'vin', 'with':'avec', 'I':'Je',\n",
    "        'eat':'mange', 'drink':'bois', 'John':'Jean',\n",
    "        'friends':'amis', 'and': 'et', 'of':'du','red':'rouge'}\n",
    "\n",
    "FtoE = {'pain':'bread', 'vin':'wine', 'avec':'with', 'Je':'I',\n",
    "        'mange':'eat', 'bois':'drink', 'Jean':'John',\n",
    "        'amis':'friends', 'et':'and', 'du':'of', 'rouge':'red'}\n",
    "\n",
    "dicts = {'English to French':EtoF, 'French to English':FtoE}\n",
    "\n",
    "def translateWord(word, dictionary):\n",
    "    if word in list(dictionary.keys()):\n",
    "        return dictionary[word]\n",
    "    elif word != '':\n",
    "        return '\"' + word + '\"'\n",
    "    return word\n",
    "    \n",
    "def translate(phrase, dicts, direction):\n",
    "    UCLetters = 'ABCDEFGHIJKLMNOPQRSTUVWXYZ'\n",
    "    LCLetters = 'abcdefghijklmnopqrstuvwxyz'\n",
    "    letters = UCLetters + LCLetters\n",
    "    \n",
    "    dictionary = dicts[direction]\n",
    "    \n",
    "    translation = ''\n",
    "    word = ''\n",
    "    \n",
    "    for c in phrase:\n",
    "        if c in letters:\n",
    "            word = word + c\n",
    "        else:\n",
    "            translation = (translation\n",
    "                          + translateWord(word, dictionary) + c)\n",
    "            word = ''\n",
    "    return translation + ' ' + translateWord(word, dictionary)\n",
    "\n",
    "print(translate('I drink good red wine, and eat bread.',\n",
    "                dicts,'English to French'))\n",
    "\n",
    "print(translate('Je bois du vin rouge.',\n",
    "                dicts, 'French to English'))"
   ]
  },
  {
   "cell_type": "markdown",
   "metadata": {
    "deletable": true,
    "editable": true
   },
   "source": [
    "<h3>Dictionaries are mutable</h3>"
   ]
  },
  {
   "cell_type": "code",
   "execution_count": 24,
   "metadata": {
    "collapsed": false,
    "deletable": true,
    "editable": true
   },
   "outputs": [
    {
     "name": "stdout",
     "output_type": "stream",
     "text": [
      "I drink of wine red. \n",
      "I wood of wine red. \n",
      "I drink of wine red. \n"
     ]
    }
   ],
   "source": [
    "#Page 69\n",
    "FtoE['bois'] = 'drink'  \n",
    "print(translate('Je bois du vin rouge.', dicts, 'French to English'))\n",
    "\n",
    "FtoE['bois'] = 'wood' \n",
    "print(translate('Je bois du vin rouge.', dicts, 'French to English'))\n",
    "\n",
    "FtoE['bois'] = 'drink'  \n",
    "print(translate('Je bois du vin rouge.', dicts, 'French to English'))"
   ]
  },
  {
   "cell_type": "markdown",
   "metadata": {
    "deletable": true,
    "editable": true
   },
   "source": [
    "We <b>add elements</b> to a dictionary by <b>assigning a value to an unused key</b>,\n",
    "\n",
    "key: 'blanc'\n",
    "\n",
    "value:'white'"
   ]
  },
  {
   "cell_type": "code",
   "execution_count": 25,
   "metadata": {
    "collapsed": false,
    "deletable": true,
    "editable": true
   },
   "outputs": [
    {
     "name": "stdout",
     "output_type": "stream",
     "text": [
      "{'mange': 'eat', 'du': 'of', 'blanc': 'white', 'vin': 'wine', 'pain': 'bread', 'rouge': 'red', 'Je': 'I', 'amis': 'friends', 'bois': 'drink', 'Jean': 'John', 'et': 'and', 'avec': 'with'} \n",
      "\n",
      "white\n"
     ]
    }
   ],
   "source": [
    "FtoE['blanc'] = 'white'\n",
    "print(FtoE,'\\n')\n",
    "print(FtoE['blanc'])"
   ]
  },
  {
   "cell_type": "markdown",
   "metadata": {
    "deletable": true,
    "editable": true
   },
   "source": [
    "Objects of any immutable type, e.g., type tuple, may be used as dictionary keys.\n",
    "\n",
    "Imagine for example using a tuple of the form \n",
    "```python\n",
    "(flightNumber, day) \n",
    "```\n",
    "\n",
    "to represent airline flights. \n",
    "\n",
    "It would then be easy to use such tuples as keys in a dictionary\n",
    "\n",
    "implementing a mapping from flights to arrival times."
   ]
  },
  {
   "cell_type": "code",
   "execution_count": 26,
   "metadata": {
    "collapsed": false,
    "deletable": true,
    "editable": true
   },
   "outputs": [
    {
     "name": "stdout",
     "output_type": "stream",
     "text": [
      "Airline_Flight1_Arrival_Time: 2013-05-21 09:50:35 \n",
      "\n",
      "Airline_Flight2_Arrival_Time: 2013-05-21 10:50:35\n"
     ]
    }
   ],
   "source": [
    "# tuple\n",
    "Airline_Flight1=('C1208','2013-05-21')\n",
    "Airline_Flight2=('C1230','2013-05-22')\n",
    " \n",
    "# tuple as dictionary keys.\n",
    "Arrival_Times={Airline_Flight1:'2013-05-21 09:50:35',Airline_Flight2:'2013-05-21 10:50:35'}\n",
    "\n",
    "\n",
    "Airline_Flight1_Arrival_Time=Arrival_Times[Airline_Flight1]\n",
    "print('Airline_Flight1_Arrival_Time:',Airline_Flight1_Arrival_Time,'\\n')\n",
    "\n",
    "Airline_Flight2_Arrival_Time=Arrival_Times[Airline_Flight2]\n",
    "print('Airline_Flight2_Arrival_Time:',Airline_Flight2_Arrival_Time)\n"
   ]
  },
  {
   "cell_type": "markdown",
   "metadata": {
    "deletable": true,
    "editable": true
   },
   "source": [
    "### Some common operations on dicts\n",
    "<img src=\"./img/fig510.PNG\"/> "
   ]
  },
  {
   "cell_type": "code",
   "execution_count": 27,
   "metadata": {
    "collapsed": false,
    "deletable": true,
    "editable": true
   },
   "outputs": [
    {
     "data": {
      "text/plain": [
       "'white'"
      ]
     },
     "execution_count": 27,
     "metadata": {},
     "output_type": "execute_result"
    }
   ],
   "source": [
    "FtoE.get('blanc')"
   ]
  },
  {
   "cell_type": "code",
   "execution_count": 28,
   "metadata": {
    "collapsed": false,
    "deletable": true,
    "editable": true
   },
   "outputs": [
    {
     "data": {
      "text/plain": [
       "'none'"
      ]
     },
     "execution_count": 28,
     "metadata": {},
     "output_type": "execute_result"
    }
   ],
   "source": [
    "FtoE.get('blan999ccc','none')"
   ]
  },
  {
   "cell_type": "markdown",
   "metadata": {
    "deletable": true,
    "editable": true
   },
   "source": [
    "Most programming languages do not contain a built-in type that provides \n",
    "\n",
    "a mapping from keys to values.\n",
    "\n",
    "<p><b>Ref: Python Library: 4.10 Mapping Types — dict</b>\n",
    "\n",
    "<p>A mapping object maps hashable values to arbitrary objects. Mappings are mutable objects. There is currently\n",
    "only one standard mapping type, the dictionary"
   ]
  },
  {
   "cell_type": "markdown",
   "metadata": {
    "collapsed": true,
    "deletable": true,
    "editable": true
   },
   "source": [
    "## Notes:\n",
    "\n",
    "* Tuple，List，Dict\n",
    "\n",
    "* Mutaing:List，Dict\n",
    "\n",
    "* Cloning: aliasing\n",
    "\n",
    "* Higher-order function"
   ]
  },
  {
   "cell_type": "code",
   "execution_count": null,
   "metadata": {
    "collapsed": true
   },
   "outputs": [],
   "source": []
  }
 ],
 "metadata": {
  "kernelspec": {
   "display_name": "Python 3",
   "language": "python",
   "name": "python3"
  },
  "language_info": {
   "codemirror_mode": {
    "name": "ipython",
    "version": 3
   },
   "file_extension": ".py",
   "mimetype": "text/x-python",
   "name": "python",
   "nbconvert_exporter": "python",
   "pygments_lexer": "ipython3",
   "version": "3.5.2"
  }
 },
 "nbformat": 4,
 "nbformat_minor": 0
}
