{
 "cells": [
  {
   "cell_type": "markdown",
   "metadata": {},
   "source": [
    "# 10  SOME SIMPLE ALGORITHMS AND DATA STRUCTURES\n",
    "\n",
    "The goal of this chapter is to help you develop some general intuitions about\n",
    "\n",
    "* <b>how to approach questions of efficiency</b>.\n",
    "\n",
    "The major point was that the key to efficiency is\n",
    "\n",
    "* a <b>good algorithm</b>,\n",
    "\n",
    "* not <b>clever coding tricks</b>.\n",
    "\n",
    "What we do instead is learn to <b>reduce</b> the most complex aspects of the problems with which we are faced <b>to previously solved problems</b>. \n",
    "\n",
    "More specifically, we:\n",
    "\n",
    "* Develop an <b>understanding of the inherent complexity</b> of the problem with which we are faced,\n",
    "\n",
    "* Think about how to **break** that problem up <b>into subproblems</b> \n",
    "\n",
    "* Relate those subproblems to other problems for which <b>efficient algorithms already exist</b>\n",
    "\n",
    "**Keep in mind ：**\n",
    "\n",
    "* The **most efficient** algorithm is **not always** the algorithm of **choice.**\n",
    "\n",
    "* A program that does everything in the most efficient possible way is often\n",
    "\n",
    "   * <b>needlessly difficult to understand</b>.\n",
    "\n",
    "It is often **a good strategy** to :\n",
    "   \n",
    "* **start** by solving the problem at hand in the most **straightforward manner possible**\n",
    "\n",
    "* instrument it to **find** any computational **bottlenecks**\n",
    "\n",
    "* look for ways to <b>improve</b> the computational complexity of those parts of the program contributing to the bottlenecks.\n",
    " \n"
   ]
  },
  {
   "cell_type": "markdown",
   "metadata": {},
   "source": [
    "## 10.1 Search Algorithms\n",
    "\n",
    "A search algorithm is a method for finding an item or group of items with specific properties within a collection of items. \n",
    "\n",
    "We refer to the collection of items as a <b>search space</b>. \n",
    "\n",
    "The search space might be something concrete, such as a set of electronic medical records, or something abstract, such as the set of all integers.\n",
    "\n",
    "In this section, we will examine two algorithms for searching a list. \n",
    "\n",
    "Each meets **the specification:**\n",
    "\n",
    "```python\n",
    "def search(L, e):\n",
    "\"\"\"Assumes L is a list.\n",
    "   Returns True if e is in L and False otherwise\"\"\"\n",
    "```\n",
    "\n",
    "The astute reader might wonder if this is not semantically equivalent to the Python expression\n",
    "```python\n",
    "e in L\n",
    "``` \n",
    "The answer is yes, it is. \n",
    "\n",
    "If one is unconcerned about the efficiency of discovering whether **e is in L**, one should simply write that expression.\n",
    "\n",
    "### 10.1.1 Linear Search and Using <font color='blue'>Indirection</font> to Access Elements\n",
    "\n",
    "Python uses the following algorithm to determine if an element is in a list\n",
    "```python\n",
    "def search(L, e):\n",
    "    for i in range(len(L)): # O(len(L))\n",
    "        if L[i] == e:\n",
    "            return True\n",
    "    return False\n",
    "```\n",
    "\n",
    "If the element **e** is not in the list the algorithm will perform <b>O(len(L))</b> tests\n",
    "\n",
    "* the complexity is <b>at best linear</b> in the length of L.\n",
    "\n",
    "** Why “at best” linear? **\n",
    "\n",
    "It will be linear **only if** : each operation **inside the loop can be **done** in **constant time**.\n",
    "\n",
    "Let’s start by considering the simple case:\n",
    "\n",
    "*  each element of the list is an **integer**\n",
    "\n",
    "In this case the **address** in memory of the ith element of the list is simply\n",
    "\n",
    "* $start + 4i$\n",
    "\n",
    "where **start** is the address of the start of the list, integer variable occupy 4 bytes. \n",
    "\n",
    "Therefore we can assume that Python could compute the address of the ith element of a list of integers in constant time\n",
    "\n",
    "In Python, a **list** is represented as a **length** (the number of objects in the list) and a sequence of **fixed-size pointers** to **objects**.\n",
    "\n",
    "The Figure illustrates the use of these pointers.\n",
    "\n",
    "* The shaded region represents a list containing four elements.\n",
    "\n",
    "* <font color=\"red\">The leftmost shaded box</font> contains a pointer to an integer indicating the length of the list.\n",
    "\n",
    "* <font color=\"blue\"><b>Each of the other shaded boxes</font> contains a pointer to an **object** in the list.\n",
    "\n",
    "<img src=\"./img/10.1.1.PNG\"/>\n",
    "\n",
    "**IF** \n",
    "\n",
    "* the length field is four units of memory\n",
    "\n",
    "* each pointer (address) occupies four units of memory\n",
    "\n",
    "the address of the ith element of the list is stored at the address\n",
    "\n",
    "$start + 4 + 4i$\n",
    "\n",
    "this address can be found in constant time, and then the value stored at that address can be used to access the ith element. This access too is a constant-time operation.\n",
    "\n",
    "This example illustrates one of the most important implementation techniques  used in computing: \n",
    "\n",
    "* <b>indirection</b>\n",
    "  \n",
    "   * Generally speaking, indirection involves accessing something by \n",
    "   \n",
    "     **first accessing something else** that contains <b>a reference</b> to the thing initially sought.\n",
    "     \n",
    "This is what happens each time we use a variable to refer to the object to which that variable is bound. \n",
    "\n",
    "When we use a variable to **access a list** and then a reference stored in that list to **access another object**, we are going through two levels of indirection.\n"
   ]
  },
  {
   "cell_type": "code",
   "execution_count": 1,
   "metadata": {},
   "outputs": [
    {
     "name": "stdout",
     "output_type": "stream",
     "text": [
      "Overwriting ./code/ds/LinearSearch.c\n"
     ]
    }
   ],
   "source": [
    "%%file ./code/ds/LinearSearch.c\n",
    "\n",
    "/* Search an array for the given key using Linear Search (LinearSearch.c) */\n",
    "#include <stdio.h>\n",
    "#include <stdlib.h> \n",
    "\n",
    "int linearSearch(const int a[], int size, int key);\n",
    "\n",
    "// Search the array for the given key\n",
    "// If found, return array index [0, size-1]; otherwise, return size\n",
    "int linearSearch(const int a[], int size, int key) {\n",
    "   for (int i = 0; i < size; ++i) {\n",
    "      if (a[i] == key) return i;\n",
    "   }\n",
    "   return size;\n",
    "}\n",
    " \n",
    "\n",
    "int main() {\n",
    "   const int SIZE = 8;\n",
    "   int a1[8] = {8, 4, 5, 3, 2, 9, 4, 1};\n",
    " \n",
    "   int keys[3]={8,4,99};\n",
    "   for(int i=0; i<3; i++) \n",
    "       printf(\"%d's index is: %d \\n\",keys[i],linearSearch(a1,SIZE, keys[i]));\n",
    "   \n",
    "   return 0; \n",
    " }\n",
    " \n"
   ]
  },
  {
   "cell_type": "code",
   "execution_count": 2,
   "metadata": {
    "collapsed": true
   },
   "outputs": [],
   "source": [
    "!gcc -o ./code/ds/LinearSearch.exe ./code/ds/LinearSearch.c"
   ]
  },
  {
   "cell_type": "code",
   "execution_count": 3,
   "metadata": {},
   "outputs": [
    {
     "name": "stdout",
     "output_type": "stream",
     "text": [
      "8's index is: 0 \n",
      "4's index is: 1 \n",
      "99's index is: 8 \n"
     ]
    }
   ],
   "source": [
    "!.\\code\\ds\\LinearSearch.exe "
   ]
  },
  {
   "cell_type": "markdown",
   "metadata": {
    "collapsed": true
   },
   "source": [
    "### 10.1.2 Binary Search and Exploiting Assumptions\n",
    "\n",
    "Getting back to the problem of implementing \n",
    "\n",
    "**search(L, e)**, is **O(len(L))**。\n",
    "\n",
    "The best we can do? Yes!\n",
    "\n",
    "* If we know <b>nothing about the relationship of the values</b> of the elements in the list and the order in which they are stored.\n",
    "\n",
    "But suppose we **know** something about the **order** in which elements are stored, \n",
    "\n",
    "  * we have a list of integers stored in <b>ascending order</b>.\n",
    "\n",
    "We could change the implementation so that the search stops when it reaches a number larger than the number for which it is searching:\n",
    "\n",
    "```python\n",
    "def search(L, e):\n",
    "    \"\"\"Assumes L is a list, the elements of which are in\n",
    "       ascending order.\n",
    "       Returns True if e is in L and False otherwise\"\"\"\n",
    "    for i in range(len(L)):\n",
    "        if L[i] == e:\n",
    "            return True\n",
    "        if L[i] > e:  # ascending order\n",
    "            return False\n",
    "    return False\n",
    "```\n",
    "\n",
    "This would improve the average running time. \n",
    "\n",
    "However, it would **not change** the **worst-case complexity** of the algorithm:\n",
    "\n",
    "  * in the worst case each element of **L** is examined.\n",
    "\n",
    "### <font color=\"blue\">Binary search</font>\n",
    "\n",
    "We can get a considerable **improvement** in the **worst-case complexity** by using an algorithm, \n",
    "\n",
    "* <b>binary search</b>,\n",
    "\n",
    "Here we rely on the **assumption** that the list is **ordered**.\n",
    "\n",
    "The idea is simple:\n",
    "\n",
    "* Pick an index, i, that divides the list L <b>roughly in half</b>.\n",
    "\n",
    "* Ask if L[i] == e.\n",
    "\n",
    "* If not, ask whether **L[i]** is larger or smaller than **e**.\n",
    "\n",
    "* Depending upon the answer, search either <b>the left or right half</b> of **L** for **e**.\n"
   ]
  },
  {
   "cell_type": "code",
   "execution_count": 7,
   "metadata": {
    "collapsed": true
   },
   "outputs": [],
   "source": [
    "# #Page 129, Figure 10.2\n",
    "def search(L, e):\n",
    "    \"\"\"Assumes L is a list, the elements of which are in\n",
    "          ascending order.\n",
    "       Returns True if e is in L and False otherwise\"\"\"\n",
    "    \n",
    "    def bSearch(L, e, low, high):\n",
    "        #Decrements high - low\n",
    "        if high == low:\n",
    "            return L[low] == e\n",
    "        mid = (low + high)//2  #  i roughly in half of list. \n",
    "        if L[mid] == e:\n",
    "            return True\n",
    "        elif L[mid] > e:\n",
    "            if low == mid: #nothing left to search\n",
    "                return False\n",
    "            else:\n",
    "                return bSearch(L, e, low, mid - 1)# left\n",
    "        else:\n",
    "            return bSearch(L, e, mid + 1, high)  # right\n",
    "        \n",
    "    if len(L) == 0:\n",
    "        return False\n",
    "    else:\n",
    "        return bSearch(L, e, 0, len(L) - 1)"
   ]
  },
  {
   "cell_type": "markdown",
   "metadata": {},
   "source": [
    "The specification says that the implementation may assume that\n",
    "\n",
    "* **L** is <b>sorted in ascending order</b>"
   ]
  },
  {
   "cell_type": "markdown",
   "metadata": {},
   "source": [
    "### The complexity of **bSearch.** \n",
    "\n",
    "The complexity of **bSearch** depends only upon \n",
    "\n",
    "* <b>the number of <font color='blue'>recursive</font> calls</b>.\n",
    "\n",
    "The question is \n",
    "\n",
    "* **how many times** can the value of **high–low** be cut in half before **high–low == 0?**\n",
    "\n",
    "$2^?=high-low$\n",
    "\n",
    "then:\n",
    "\n",
    "$?=\\log_2 ^{(high-low)}$\n",
    "\n",
    "so, <b>high–low</b> can be cut in half at most <b>$\\log_2^{(high–low)}$</b> times before it reaches 0.\n",
    "\n",
    "The complexity of search is <b>O(log(len(L)))</b>."
   ]
  },
  {
   "cell_type": "code",
   "execution_count": 31,
   "metadata": {},
   "outputs": [
    {
     "name": "stdout",
     "output_type": "stream",
     "text": [
      "True\n",
      "True\n",
      "True\n",
      "False\n"
     ]
    }
   ],
   "source": [
    "L1 = [1, 4, 5, 8, 12, 19, 24, 31, 43, 55]\n",
    "print(search(L1, 8))\n",
    "print(search(L1, 12))\n",
    "print(search(L1, 24))\n",
    "# \n",
    "print(search(L1, 21))"
   ]
  },
  {
   "cell_type": "markdown",
   "metadata": {},
   "source": [
    "### Binary Search in C"
   ]
  },
  {
   "cell_type": "code",
   "execution_count": 26,
   "metadata": {},
   "outputs": [
    {
     "name": "stdout",
     "output_type": "stream",
     "text": [
      "Overwriting ./code/ds/bSearch.h\n"
     ]
    }
   ],
   "source": [
    "%%file ./code/ds/bSearch.h\n",
    "\n",
    "/* Search an array for a key using Binary Search */\n",
    "\n",
    "#ifndef BSEARCH_H\n",
    "#define BSEARCH_H\n",
    "\n",
    "\n",
    "int bSearch(const int a[], int size, int key);\n",
    "\n",
    "#endif"
   ]
  },
  {
   "cell_type": "code",
   "execution_count": 34,
   "metadata": {},
   "outputs": [
    {
     "name": "stdout",
     "output_type": "stream",
     "text": [
      "Overwriting ./code/ds/bSearch.c\n"
     ]
    }
   ],
   "source": [
    "%%file ./code/ds/bSearch.c\n",
    "\n",
    "/* Search an array for a key using Binary Search (BinarySearch.c) */\n",
    "\n",
    "#include \"bSearch.h\"\n",
    "#include <stdio.h>\n",
    " \n",
    "int binarySearch(const int a[], int iLeft, int iRight, int key);\n",
    "void print(const int a[], int iLeft, int iRight);\n",
    "  \n",
    "// Search the array for the given key\n",
    "// If found, return array index; otherwise, return -1\n",
    "int bSearch(const int a[], int size, int key) {\n",
    "   // Call recursive helper function\n",
    "   return binarySearch(a, 0, size-1, key);\n",
    "}\n",
    " \n",
    "// Recursive helper function for binarySearch\n",
    "int binarySearch(const int a[], int iLeft, int iRight, int key) {\n",
    "  \n",
    "   // For tracing the algorithm\n",
    "   print(a, iLeft, iRight);\n",
    " \n",
    "   // Test for empty list\n",
    "   if (iLeft > iRight) return -1;\n",
    " \n",
    "   // Compare with middle element\n",
    "   int mid = (iRight + iLeft) / 2;  // truncate\n",
    "   if (key == a[mid]) {\n",
    "      return mid;\n",
    "   } else if (key < a[mid]) {\n",
    "      // Recursively search the lower half\n",
    "      binarySearch(a, iLeft, mid - 1, key);\n",
    "   } else {\n",
    "      // Recursively search the upper half\n",
    "      binarySearch(a, mid + 1, iRight, key);\n",
    "   }\n",
    "}\n",
    "\n",
    "// Print the contents of the given array from iLeft to iRight (inclusive)\n",
    "void print(const int a[], int iLeft, int iRight) {\n",
    "   printf(\"{\");\n",
    "   for (int i = iLeft; i <= iRight; ++i) {\n",
    "      printf(\"%d\",a[i]);\n",
    "      if (i < iRight) printf(\",\");\n",
    "   }\n",
    "   printf(\"} \\n\");\n",
    "}"
   ]
  },
  {
   "cell_type": "code",
   "execution_count": 4,
   "metadata": {},
   "outputs": [
    {
     "name": "stdout",
     "output_type": "stream",
     "text": [
      "Overwriting ./code/ds/DemobSearch.c\n"
     ]
    }
   ],
   "source": [
    "%%file ./code/ds/DemobSearch.c\n",
    "\n",
    "#include <stdio.h>\n",
    "#include <stdlib.h> \n",
    "#include \"bSearch.h\" \n",
    "\n",
    "int main() {\n",
    "   const int SIZE = 10;\n",
    "   int a1[10] = {1, 4, 5, 8, 12, 19, 24, 31, 43, 55}; // sorted\n",
    " \n",
    "   int keys[4]={8,12,24,21};\n",
    "   for(int i=0; i<4; i++) \n",
    "       printf(\"%d's index is: %d \\n\",keys[i],bSearch(a1,  SIZE, keys[i]));\n",
    "   \n",
    "   return 0; \n",
    "}"
   ]
  },
  {
   "cell_type": "code",
   "execution_count": 5,
   "metadata": {
    "collapsed": true
   },
   "outputs": [],
   "source": [
    "!gcc -c ./code/ds/DemobSearch.c ./code/ds/bSearch.c\n",
    "!gcc -o ./code/ds/DemobSearch.exe DemobSearch.o bSearch.o"
   ]
  },
  {
   "cell_type": "code",
   "execution_count": 6,
   "metadata": {},
   "outputs": [
    {
     "name": "stdout",
     "output_type": "stream",
     "text": [
      "{1,4,5,8,12,19,24,31,43,55} \n",
      "{1,4,5,8} \n",
      "{5,8} \n",
      "{8} \n",
      "8's index is: 3 \n",
      "{1,4,5,8,12,19,24,31,43,55} \n",
      "12's index is: 4 \n",
      "{1,4,5,8,12,19,24,31,43,55} \n",
      "{19,24,31,43,55} \n",
      "{19,24} \n",
      "{24} \n",
      "24's index is: 6 \n",
      "{1,4,5,8,12,19,24,31,43,55} \n",
      "{19,24,31,43,55} \n",
      "{19,24} \n",
      "{24} \n",
      "{} \n",
      "21's index is: -1 \n"
     ]
    }
   ],
   "source": [
    "!.\\code\\ds\\DemobSearch.exe"
   ]
  },
  {
   "cell_type": "code",
   "execution_count": 26,
   "metadata": {},
   "outputs": [
    {
     "name": "stdout",
     "output_type": "stream",
     "text": [
      "Overwriting makefile\n"
     ]
    }
   ],
   "source": [
    "%%file makefile\n",
    "\n",
    "all: DemobSearch.exe\n",
    "\n",
    "DemobSearch.exe: bSearchobjs\n",
    "\t gcc -o ./code/ds/DemobSearch.exe DemobSearch.o bSearch.o\n",
    "\t del DemobSearch.o\n",
    "    \n",
    "bSearchobjs: \n",
    "\t gcc -c -I./code/ds ./code/ds/DemobSearch.c ./code/ds/bSearch.c\n",
    "     \n",
    "clean:\n",
    "\t del .\\code\\ds\\DemobSearch.exe"
   ]
  },
  {
   "cell_type": "code",
   "execution_count": 27,
   "metadata": {},
   "outputs": [
    {
     "name": "stdout",
     "output_type": "stream",
     "text": [
      "gcc -c -I./code/ds ./code/ds/DemobSearch.c ./code/ds/bSearch.c\n",
      "gcc -o ./code/ds/DemobSearch.exe DemobSearch.o bSearch.o\n",
      "del DemobSearch.o\n"
     ]
    }
   ],
   "source": [
    "!make"
   ]
  },
  {
   "cell_type": "code",
   "execution_count": 28,
   "metadata": {},
   "outputs": [
    {
     "name": "stdout",
     "output_type": "stream",
     "text": [
      "8's index is: 3 \n",
      "12's index is: 4 \n",
      "24's index is: 6 \n",
      "21's index is: -1 \n"
     ]
    }
   ],
   "source": [
    "!.\\code\\ds\\DemobSearch.exe"
   ]
  },
  {
   "cell_type": "markdown",
   "metadata": {},
   "source": [
    "### GNU C Linrary : Array Search Function\n",
    "\n",
    "http://www.gnu.org/software/libc/manual/html_node/Array-Search-Function.html#Array-Search-Function\n",
    "\n",
    "The GNU C Library contains functions to perform **linear** search. The prototypes for the following two functions can be found in **search.h**. \n",
    "```c\n",
    "void * lfind (const void *key, const void *base, size_t *nmemb, size_t size, comparison_fn_t compar)\n",
    "void * lsearch (const void *key, void *base, size_t *nmemb, size_t size, comparison_fn_t compar)\n",
    "```\n",
    "\n",
    "The **lfind()** function shall be equivalent to lsearch(), except that if the entry is **not found**, it is not added to the table. Instead, a **null pointer** is returned.\n",
    "\n",
    "The **lsearch()** function shall linearly search the table and return a pointer into the table for the matching entry. If the entry does **not occur**, it shall be **added** at the end of the table,it **increments** the value of <b>*nmemb</b> to reflect this addition. \n",
    "\n",
    "To do this, you supply **a comparison function** to compare two elements of the array\n",
    "\n",
    "This type is a GNU extension\n",
    "```c\n",
    "int comparison_fn_t (const void *, const void *);\n",
    "```"
   ]
  },
  {
   "cell_type": "code",
   "execution_count": 164,
   "metadata": {},
   "outputs": [
    {
     "name": "stdout",
     "output_type": "stream",
     "text": [
      "Overwriting ./code/ds/gnulsearch.c\n"
     ]
    }
   ],
   "source": [
    "%%file ./code/ds/gnulsearch.c\n",
    "\n",
    "/* linear searching an array using The GNU C Library ：lsearch (gnulsearch.c) */\n",
    "\n",
    "#include <stdio.h>\n",
    "#include <stdlib.h> \n",
    "#include <search.h> \n",
    "\n",
    "int compare_ints (const void *a, const void *b)\n",
    "{\n",
    "   return (*(int*)a - *(int*)b);  \n",
    "}\n",
    "\n",
    "int main() {\n",
    "   unsigned int SIZE = 8;\n",
    "   int values[8] = {8, 4, 5, 3, 2, 9, 4, 1};\n",
    "   int keys[3]={8,4,99};\n",
    "   int *pItem; \n",
    "   int i;\n",
    "   for(i=0; i<3; i++) \n",
    "   { \n",
    "      pItem = (int*)lfind(&keys[i],&values[0],&SIZE,sizeof(int),compare_ints);\n",
    "      if (pItem!=NULL)\n",
    "         printf(\"%d is in the array \\n\",*pItem);\n",
    "      else  \n",
    "        printf (\"%d is not in the array \\n\",keys[i]);  \n",
    "   }\n",
    "   int rawSIZE=SIZE; \n",
    "   for(i=0; i<3; i++) \n",
    "   { \n",
    "      pItem = (int*)lsearch(&keys[i],&values[0],&SIZE,sizeof(int),compare_ints);\n",
    "      if (SIZE>rawSIZE)\n",
    "      {\n",
    "         printf(\"%d is added into the array \\n\",*pItem);\n",
    "         rawSIZE=SIZE;\n",
    "      }    \n",
    "      else \n",
    "        printf(\"%d is in the array \\n\",*pItem);\n",
    "   }\n",
    "   return 0;\n",
    "}\n",
    "    "
   ]
  },
  {
   "cell_type": "code",
   "execution_count": 162,
   "metadata": {
    "collapsed": true
   },
   "outputs": [],
   "source": [
    "!gcc -o ./code/ds/gnulsearch.exe ./code/ds/gnulsearch.c"
   ]
  },
  {
   "cell_type": "code",
   "execution_count": 163,
   "metadata": {},
   "outputs": [
    {
     "name": "stdout",
     "output_type": "stream",
     "text": [
      "8 is in the array \n",
      "4 is in the array \n",
      "99 is not in the array \n",
      "8 is inthe array \n",
      "4 is inthe array \n",
      "99 is added into the array \n"
     ]
    }
   ],
   "source": [
    "!.\\code\\ds\\gnulsearch.exe"
   ]
  },
  {
   "cell_type": "markdown",
   "metadata": {},
   "source": [
    "### GNU C Library: bsearch\n",
    "\n",
    "To search a sorted array for an element matching the key, use the **bsearch** function. The prototype for this function is in the header file **stdlib.h** \n",
    "```c\n",
    "void * bsearch (const void *key, const void *array, size_t count, size_t size, comparison_fn_t compare)\n",
    "```\n",
    "The return value is a pointer to the matching array element, or a null pointer if no match is found. If the array contains more than one element that matches, the one that is returned is unspecified."
   ]
  },
  {
   "cell_type": "code",
   "execution_count": 132,
   "metadata": {},
   "outputs": [
    {
     "name": "stdout",
     "output_type": "stream",
     "text": [
      "Overwriting ./code/ds/gnubsearch.c\n"
     ]
    }
   ],
   "source": [
    "%%file ./code/ds/gnubsearch.c\n",
    "\n",
    "/* binary searching an array using The GNU C Library ：bsearch (gnubsearch.c) */\n",
    "\n",
    "#include <stdio.h>  \n",
    "#include <stdlib.h>  \n",
    "  \n",
    "int compare_ints (const void * a, const void * b)  \n",
    "{  \n",
    "  return ( *(int*)a - *(int*)b );  \n",
    "}  \n",
    "  \n",
    "int main ()  \n",
    "{  \n",
    "  int values[] = { 10, 20, 25, 40, 90, 100 };  \n",
    "  int * pItem;  \n",
    "  int key = 400;  \n",
    "  pItem = (int*) bsearch (&key, values, 6, sizeof (int), compare_ints);  \n",
    "  if (pItem!=NULL)  \n",
    "    printf (\"%d is in the array.\\n\",*pItem);  \n",
    "  else  \n",
    "    printf (\"%d is not in the array.\\n\",key);  \n",
    "  return 0;  \n",
    "}  "
   ]
  },
  {
   "cell_type": "code",
   "execution_count": 133,
   "metadata": {
    "collapsed": true
   },
   "outputs": [],
   "source": [
    "!gcc -o ./code/ds/gnubsearch.exe ./code/ds/gnubsearch.c"
   ]
  },
  {
   "cell_type": "code",
   "execution_count": 134,
   "metadata": {},
   "outputs": [
    {
     "name": "stdout",
     "output_type": "stream",
     "text": [
      "400 is not in the array.\n"
     ]
    }
   ],
   "source": [
    "!.\\code\\ds\\gnubsearch.exe"
   ]
  },
  {
   "cell_type": "markdown",
   "metadata": {},
   "source": [
    "## 10.2 Sorting Algorithms\n",
    "\n",
    "the standard implementation of sorting in most Python implementations runs in roughly $O(n*log(n))$ time, where n is the length of the list.\n",
    "\n",
    "In most cases, the right thing to do is to use either Python’s built-in sort method:\n",
    "\n",
    "```python\n",
    "L.sort()\n",
    "``` \n",
    "\n",
    "sorts the list L(ascending sort)\n"
   ]
  },
  {
   "cell_type": "code",
   "execution_count": 34,
   "metadata": {},
   "outputs": [
    {
     "name": "stdout",
     "output_type": "stream",
     "text": [
      "sorted L [1, 2, 5, 7, 34, 90]\n",
      "reversed L [90, 34, 7, 5, 2, 1]\n"
     ]
    }
   ],
   "source": [
    "L=[1,34,5,7,90,2]\n",
    "L.sort()\n",
    "print('sorted L',L)\n",
    "L.reverse()\n",
    "print('reversed L',L)"
   ]
  },
  {
   "cell_type": "code",
   "execution_count": 36,
   "metadata": {},
   "outputs": [
    {
     "name": "stdout",
     "output_type": "stream",
     "text": [
      "[1, 34, 5, 7, 90, 2]\n",
      "[90, 34, 7, 5, 2, 1]\n"
     ]
    }
   ],
   "source": [
    "L =[1,34,5,7,90,2]\n",
    "L1 = L[ : ]\n",
    "# descending sorts\n",
    "L1.sort(reverse = True)\n",
    "print(L)\n",
    "print(L1)"
   ]
  },
  {
   "cell_type": "markdown",
   "metadata": {},
   "source": [
    "its built-in function ```sorted(L)``` returns a **new** list with same elements as L, but <b>does not mutate L</b>"
   ]
  },
  {
   "cell_type": "code",
   "execution_count": 38,
   "metadata": {},
   "outputs": [
    {
     "name": "stdout",
     "output_type": "stream",
     "text": [
      "[1, 34, 5, 7, 90, 2]\n",
      "[1, 2, 5, 7, 34, 90]\n"
     ]
    }
   ],
   "source": [
    "L=[1,34,5,7,90,2]\n",
    "# returns a new list with same elements as L\n",
    "L1=sorted(L)\n",
    "print(L)\n",
    "print(L1)"
   ]
  },
  {
   "cell_type": "code",
   "execution_count": null,
   "metadata": {
    "collapsed": true
   },
   "outputs": [],
   "source": [
    "L=[1,34,5,7,90,2]\n",
    "L1=sorted(L,reverse = True)\n",
    "print(L)\n",
    "print(L1)"
   ]
  },
  {
   "cell_type": "markdown",
   "metadata": {},
   "source": [
    "present sorting algorithms here primarily to provide some practice in thinking about algorithm design and complexity analysis"
   ]
  },
  {
   "cell_type": "markdown",
   "metadata": {},
   "source": [
    "### Selection sort \n",
    "\n",
    "**Selection sort** works by maintaining the **loop invariant** that, given a partitioning of the list into \n",
    "\n",
    "* <b>a prefix (L[0:i])</b> \n",
    "\n",
    "* <b>a suffix (L[i+1:len(L)])</b>,\n",
    "\n",
    "the prefix is sorted and no element in the prefix is larger than <b>the smallest element</b> in the suffix.\n",
    "\n",
    "We use induction to reason about **loop invariants**.\n",
    "\n",
    "* **Base case**: At the **start** of the first iteration, the **prefix** is **empty**, i.e., the\n",
    "**suffix** is the **entire list**. The invariant is (trivially) true.\n",
    "\n",
    "\n",
    "* **Induction step**: At each step of the algorithm, we move one element from the suffix to the prefix. We do this by appending a minimum element of the suffix to the end of the prefix. Because the invariant held before we moved the element, we know that after we append the element the prefix is still sorted. We also know that since we removed the smallest element in the suffix, no element in the prefix is larger than the smallest element in the suffix.\n",
    "\n",
    "\n",
    "* When **the loop is exited**, the **prefix** includes the **entire list**, and the **suffix**\n",
    "is **empty**.\n",
    "\n",
    "\n",
    "Therefore, the entire list is now sorted in ascending order."
   ]
  },
  {
   "cell_type": "code",
   "execution_count": 40,
   "metadata": {
    "collapsed": true
   },
   "outputs": [],
   "source": [
    "#Page 132, Figure 10.3\n",
    "def selSort(L):\n",
    "    \"\"\"Assumes that L is a list of elements that can be\n",
    "         compared using >.\n",
    "       Sorts L in ascending order\"\"\"\n",
    "    suffixStart = 0\n",
    "    while suffixStart != len(L):\n",
    "        #look at each element in suffix\n",
    "        for i in range(suffixStart, len(L)):\n",
    "            if L[i] < L[suffixStart]:\n",
    "                #swap position of elements\n",
    "                L[suffixStart], L[i] = L[i], L[suffixStart]\n",
    "        suffixStart += 1"
   ]
  },
  {
   "cell_type": "code",
   "execution_count": 41,
   "metadata": {},
   "outputs": [
    {
     "name": "stdout",
     "output_type": "stream",
     "text": [
      "[1, 2, 5, 7, 34, 90]\n"
     ]
    }
   ],
   "source": [
    "L=[1,34,5,7,90,2]\n",
    "selSort(L)\n",
    "print(L)"
   ]
  },
  {
   "cell_type": "markdown",
   "metadata": {},
   "source": [
    "Unfortunately, it is rather inefficient\n",
    "\n",
    "* The complexity of the inner loop is $O(len(L))$\n",
    "\n",
    "* The complexity of the outer loop is also $O(len(L))$.\n",
    "\n",
    "The complexity of the entire function is $O(len(L)^2)$. I.e., it is **quadratic** in the length of L."
   ]
  },
  {
   "cell_type": "code",
   "execution_count": 7,
   "metadata": {},
   "outputs": [
    {
     "name": "stdout",
     "output_type": "stream",
     "text": [
      "Overwriting ./code/ds/SelectionSort.c\n"
     ]
    }
   ],
   "source": [
    "%%file ./code/ds/SelectionSort.c\n",
    "\n",
    "/* Sorting an array using Selection Sort (SelectionSort.c) */\n",
    "\n",
    "#include <stdio.h>\n",
    "#include <stdlib.h> \n",
    "\n",
    "void selectionSort(int a[], int size);\n",
    "void print(const int a[], int iMin, int iMax);\n",
    "\n",
    "// Sort the given array of size using selection sort\n",
    "void selectionSort(int a[], int size) {\n",
    "   int temp; // for swaping\n",
    "   for (int i = 0; i < size - 1; ++i) {\n",
    "      // for tracing\n",
    "      print(a, 0, i - 1);\n",
    "      print(a, i, size - 1);\n",
    " \n",
    "      // [0, i-1] already sort\n",
    "      // Search for the smallest element in [i, size-1]\n",
    "      //  and swap with a[i]\n",
    "      int minIndex = i;  // assume fist element is the smallest\n",
    "      for (int j = i + 1; j < size; ++j) {\n",
    "         if (a[j] < a[minIndex]) minIndex = j;\n",
    "      }\n",
    "      if (minIndex != i) {  // swap\n",
    "         temp = a[i];\n",
    "         a[i] = a[minIndex];\n",
    "         a[minIndex] = temp;\n",
    "      }\n",
    " \n",
    "      // for tracing\n",
    "      printf(\"=> \");\n",
    "      print(a, 0, i - 1);\n",
    "      print(a, i, size - 1);\n",
    "      printf(\"\\n\");\n",
    "   }\n",
    "}\n",
    " \n",
    "// Print the contents of the array in [iMin, iMax]\n",
    "void print(const int a[], int iMin, int iMax) {\n",
    "   printf(\"{\");\n",
    "   for (int i = iMin; i <= iMax; ++i) {\n",
    "      printf(\"%d\",a[i]);\n",
    "      if (i < iMax)  printf(\",\");\n",
    "   }\n",
    "   printf(\"}\");\n",
    "}\n",
    " \n",
    "int main() {\n",
    "   const int SIZE = 8;\n",
    "   int a[8] = {8, 4, 5, 3, 2, 9, 4, 1};\n",
    "   print(a, 0, SIZE - 1);\n",
    "   printf(\"\\n\"); \n",
    "   selectionSort(a, SIZE);\n",
    "   print(a, 0, SIZE - 1);\n",
    "   printf(\"\\n\"); \n",
    "  \n",
    "   return 0;\n",
    "}\n"
   ]
  },
  {
   "cell_type": "code",
   "execution_count": 8,
   "metadata": {
    "collapsed": true
   },
   "outputs": [],
   "source": [
    "!gcc -o ./code/ds/SelectionSort.exe ./code/ds/SelectionSort.c"
   ]
  },
  {
   "cell_type": "code",
   "execution_count": 9,
   "metadata": {},
   "outputs": [
    {
     "name": "stdout",
     "output_type": "stream",
     "text": [
      "{8,4,5,3,2,9,4,1}\n",
      "{}{8,4,5,3,2,9,4,1}=> {}{1,4,5,3,2,9,4,8}\n",
      "{1}{4,5,3,2,9,4,8}=> {1}{2,5,3,4,9,4,8}\n",
      "{1,2}{5,3,4,9,4,8}=> {1,2}{3,5,4,9,4,8}\n",
      "{1,2,3}{5,4,9,4,8}=> {1,2,3}{4,5,9,4,8}\n",
      "{1,2,3,4}{5,9,4,8}=> {1,2,3,4}{4,9,5,8}\n",
      "{1,2,3,4,4}{9,5,8}=> {1,2,3,4,4}{5,9,8}\n",
      "{1,2,3,4,4,5}{9,8}=> {1,2,3,4,4,5}{8,9}\n",
      "{1,2,3,4,4,5,8,9}\n"
     ]
    }
   ],
   "source": [
    "!.\\code\\ds\\SelectionSort.exe"
   ]
  },
  {
   "cell_type": "markdown",
   "metadata": {},
   "source": [
    "### 10.2.1 Merge Sort\n",
    "\n",
    "Merge sort is a prototypical <b>divide-and-conquer algorithm</b>. It was invented in 1945, by John von Neumann, and is still widely used.\n",
    "\n",
    "In general, a divide-and-conquer algorithm is characterized by\n",
    "\n",
    "* 1 A **threshold input size**, below which the problem is **not subdivided**\n",
    "\n",
    "* 2 The size and number of **sub-instances** into which an instance is **split**,\n",
    "\n",
    "* 3 The algorithm used to **combine** sub-solutions.\n",
    "\n",
    "\n",
    "The threshold is sometimes called the **recursive base**. For item 2 it is usual to consider the ratio of initial problem size to sub-instance size. In most of the examples we’ve seen so far, the ratio was 2.\n",
    "\n",
    "Like many divide-and-conquer algorithms it is most easily described recursively:\n",
    "\n",
    "* If the list is of **length 0 or 1**, it is **already** sorted.  \n",
    " \n",
    "     A **threshold input size**\n",
    "     \n",
    "\n",
    "* If the list has more than one element, **split the list** into two lists, and use **merge sort** to sort each of them.\n",
    "\n",
    "    The size and number of **sub-instances** into which an instance is **split**,\n",
    "\n",
    "\n",
    "\n",
    "* **Merge** the results.\n",
    "\n",
    "   The algorithm used to **combine** sub-solutions.\n",
    "\n",
    "\n",
    "<font color='blue'>**The idea**</font> is: \n",
    "\n",
    ">look at the **first** element of each list, and move the **smaller of the two** to the **end** of the result list.\n",
    ">\n",
    ">When one of the lists is empty, all that remains is to copy the remaining items from the other list.\n",
    "\n",
    "Consider, for example, merging the two lists\n",
    "```\n",
    " [1,5,12,18,19,20]\n",
    " [2,3,4,17]\n",
    "```\n",
    "<img src=\"./img/mergesort.PNG\"/>"
   ]
  },
  {
   "cell_type": "markdown",
   "metadata": {},
   "source": [
    "### What is the complexity of the merge process? \n",
    "\n",
    "It involves two constant-time operations： \n",
    "\n",
    "* 1 comparing the values of elements \n",
    "\n",
    "* 2 copying elements from one list to another. \n",
    "\n",
    "The number of comparisons is **O(len(L))**, where L is the **longer** of the two lists. \n",
    "\n",
    "The number of copy operations is **O(len(L1) + len(L2))**, because each element gets copied exactly once. \n",
    "\n",
    "Therefore, merging two sorted lists is linear in **the length of the lists**"
   ]
  },
  {
   "cell_type": "code",
   "execution_count": 1,
   "metadata": {
    "collapsed": true
   },
   "outputs": [],
   "source": [
    "#Page 134, Figure 10.4\n",
    "def merge(left, right, compare):\n",
    "    \"\"\"Assumes left and right are sorted lists and\n",
    "         compare defines an ordering on the elements.\n",
    "       Returns a new sorted (by compare) list containing the\n",
    "         same elements as (left + right) would contain.\"\"\"\n",
    "    \n",
    "    result = []\n",
    "    i,j = 0, 0\n",
    "    while i < len(left) and j < len(right):\n",
    "        if compare(left[i], right[j]):\n",
    "            result.append(left[i])\n",
    "            i += 1\n",
    "        else:\n",
    "            result.append(right[j])\n",
    "            j += 1\n",
    "    while (i < len(left)):\n",
    "        result.append(left[i])\n",
    "        i += 1\n",
    "    while (j < len(right)):\n",
    "        result.append(right[j])\n",
    "        j += 1\n",
    "    return result\n",
    "\n",
    "import operator\n",
    "#  compare = operator.lt\n",
    "def mergeSort(L, compare = operator.lt):\n",
    "    \"\"\"Assumes L is a list, compare defines an ordering\n",
    "         on elements of L\n",
    "       Returns a new sorted list containing the same elements as L\"\"\"\n",
    "    if len(L) < 2:\n",
    "        return L[:]\n",
    "    else:\n",
    "        middle = len(L)//2\n",
    "        left = mergeSort(L[:middle], compare)\n",
    "        right = mergeSort(L[middle:], compare)\n",
    "        return merge(left, right, compare)"
   ]
  },
  {
   "cell_type": "code",
   "execution_count": 2,
   "metadata": {},
   "outputs": [
    {
     "name": "stdout",
     "output_type": "stream",
     "text": [
      "[20, 19, 18, 17, 12, 5, 4, 3, 2, 1]\n"
     ]
    }
   ],
   "source": [
    "L=[1,5,12,18,19,20,2,3,4,17]\n",
    "L1=mergeSort(L,operator.gt)\n",
    "print(L1)"
   ]
  },
  {
   "cell_type": "markdown",
   "metadata": {},
   "source": [
    "#### Let’s analyze the complexity of mergeSort. \n",
    "\n",
    "We already know that the time complexity of merge is $O(len(L))$. At each level of recursion the total number of elements to be merged is $len(L)$. \n",
    "\n",
    "Therefore, the time complexity of mergeSort is\n",
    "\n",
    "* $O(len(L))$ multiplied by the number of levels of recursion. \n",
    "\n",
    "Since mergeSort divides the list <b>in half</b> each time, we know that the number of levels of recursion is $O(log(len(L))$. \n",
    "  \n",
    "Therefore, the time complexity of mergeSort is $O(n*log(n))</b>$, where n is len(L).\n",
    "                                                                                                             \n",
    "This improvement in time complexity comes with a price. \n",
    "\n",
    "<b>Selection sort</b> is an example of an <b>in-place</b> sorting algorithm. Because it works by swapping the place of elements within the list, it uses only <b>a constant amount of extra storage</b> (one element in our implementation). \n",
    "\n",
    "In contrast, the <b>merge sort</b> algorithm  involves making<b> copies of the list</b>. This means that its space complexity is $O(len(L))$.                                                                                                             "
   ]
  },
  {
   "cell_type": "markdown",
   "metadata": {},
   "source": [
    "**A merge sort** works as follows:\n",
    "\n",
    "* Divide the unsorted list into n sublists, each containing 1 element (a list of 1 element is considered sorted).\n",
    "\n",
    "* Repeatedly merge sublists to produce new sorted sublists until there is only 1 sublist remaining. This will be the sorted list."
   ]
  },
  {
   "cell_type": "code",
   "execution_count": 41,
   "metadata": {},
   "outputs": [
    {
     "name": "stdout",
     "output_type": "stream",
     "text": [
      "Overwriting ./code/ds/MergeSort.c\n"
     ]
    }
   ],
   "source": [
    "%%file ./code/ds/MergeSort.c\n",
    "\n",
    "/* Sorting an array using Merge Sort (MergeSort.c) */\n",
    "#include <stdio.h>\n",
    "#include <stdlib.h>\n",
    " \n",
    "void mSort(int a[], int size);\n",
    "void mergeSort(int a[], int iLeft, int iRight, int work[]);\n",
    "void merge(int a[], int iLeftHalfLeft, int iLeftHalfRight,\n",
    "           int iRightHalfLeft, int iRightHalfRight, int work[]);\n",
    "void print(const int a[], int iLeft, int iRight);\n",
    "\n",
    " \n",
    "// Sort the given array of size\n",
    "void mSort(int a[], int size) {\n",
    "   int work[size];  // work space\n",
    "   mergeSort(a, 0, size - 1, work);\n",
    "}\n",
    " \n",
    "// Sort the given array in [iLeft, iRight]\n",
    "void mergeSort(int a[], int iLeft, int iRight, int work[]) {\n",
    "   if ((iRight - iLeft) >= 1) {   // more than 1 elements, divide and sort\n",
    "      // Divide into left and right half\n",
    "      int iLeftHalfLeft = iLeft;\n",
    "      int iLeftHalfRight = (iRight + iLeft) / 2;   // truncate\n",
    "      int iRightHalfLeft = iLeftHalfRight + 1;\n",
    "      int iRightHalfRight = iRight;\n",
    " \n",
    "      // Recursively sort each half\n",
    "      mergeSort(a, iLeftHalfLeft, iLeftHalfRight, work);\n",
    "      mergeSort(a, iRightHalfLeft, iRightHalfRight, work);\n",
    " \n",
    "      // Merge two halves\n",
    "      merge(a, iLeftHalfLeft, iLeftHalfRight, iRightHalfLeft, iRightHalfRight, work);\n",
    "   }\n",
    "}\n",
    " \n",
    "// Merge two halves in [iLeftHalfLeft, iLeftHalfRight] and [iRightHalfLeft, iRightHalfRight]\n",
    "// Assume that iLeftHalfRight + 1 = iRightHalfLeft\n",
    "void merge(int a[], int iLeftHalfLeft, int iLeftHalfRight,\n",
    "           int iRightHalfLeft, int iRightHalfRight, int work[]) {\n",
    "   int size = iRightHalfRight - iLeftHalfLeft + 1;\n",
    "   int iResult = 0;\n",
    "   int iLeft = iLeftHalfLeft;\n",
    "   int iRight = iRightHalfLeft;\n",
    "   while (iLeft <= iLeftHalfRight && iRight <= iRightHalfRight) {\n",
    "      if (a[iLeft] <= a[iRight]) {\n",
    "         work[iResult++] = a[iLeft++];\n",
    "      } else {\n",
    "         work[iResult++] = a[iRight++];\n",
    "      }\n",
    "   }\n",
    "   // Copy the remaining left or right into work\n",
    "   while (iLeft <= iLeftHalfRight) work[iResult++] = a[iLeft++];\n",
    "   while (iRight <= iRightHalfRight) work[iResult++] = a[iRight++];\n",
    " \n",
    "   // for tracing\n",
    "   print(a, iLeftHalfLeft, iLeftHalfRight);\n",
    "   print(a, iRightHalfLeft, iRightHalfRight);\n",
    "   printf(\"=> \");\n",
    "   print(work, 0, size - 1);\n",
    "   printf(\"\\n\");\n",
    " \n",
    "   // Copy the work back to the original array\n",
    "   for (iResult = 0, iLeft = iLeftHalfLeft; iResult < size; ++iResult, ++iLeft) {\n",
    "      a[iLeft] = work[iResult];\n",
    "   }\n",
    "}\n",
    " \n",
    "// Print the contents of the given array from iLeft to iRight (inclusive)\n",
    "void print(const int a[], int iLeft, int iRight) {\n",
    "   printf(\"{\");\n",
    "   for (int i = iLeft; i <= iRight; ++i) {\n",
    "      printf(\"%d\", a[i]);\n",
    "      if (i < iRight) printf(\",\");\n",
    "   }\n",
    "   printf(\"} \");\n",
    "}\n",
    "\n",
    " \n",
    "int main() {\n",
    "   // Test 1\n",
    "   const int SIZE_1 = 8;\n",
    "   int a1[8] = {8, 4, 5, 3, 2, 9, 4, 1};\n",
    " \n",
    "   print(a1, 0, SIZE_1 - 1);\n",
    "   printf(\"\\n\");\n",
    "   mSort(a1, SIZE_1);\n",
    "   print(a1, 0, SIZE_1 - 1);\n",
    "   printf(\"\\n \\n\");\n",
    " \n",
    "   // Test 2\n",
    "   const int SIZE_2 = 13;\n",
    "   int a2[13] = {8, 4, 5, 3, 2, 9, 4, 1, 9, 1, 2, 4, 5};\n",
    " \n",
    "   print(a2, 0, SIZE_2 - 1);\n",
    "   printf(\"\\n\");\n",
    "   mSort(a2, SIZE_2);\n",
    "   print(a2, 0, SIZE_2 - 1);\n",
    "   printf(\"\\n \\n\");\n",
    "    \n",
    "   return 0;\n",
    "}"
   ]
  },
  {
   "cell_type": "code",
   "execution_count": 42,
   "metadata": {
    "collapsed": true
   },
   "outputs": [],
   "source": [
    "!gcc -o ./code/ds/MergeSort.exe ./code/ds/MergeSort.c"
   ]
  },
  {
   "cell_type": "code",
   "execution_count": 43,
   "metadata": {},
   "outputs": [
    {
     "name": "stdout",
     "output_type": "stream",
     "text": [
      "{8,4,5,3,2,9,4,1} \n",
      "{8} {4} => {4,8} \n",
      "{5} {3} => {3,5} \n",
      "{4,8} {3,5} => {3,4,5,8} \n",
      "{2} {9} => {2,9} \n",
      "{4} {1} => {1,4} \n",
      "{2,9} {1,4} => {1,2,4,9} \n",
      "{3,4,5,8} {1,2,4,9} => {1,2,3,4,4,5,8,9} \n",
      "{1,2,3,4,4,5,8,9} \n",
      " \n",
      "{8,4,5,3,2,9,4,1,9,1,2,4,5} \n",
      "{8} {4} => {4,8} \n",
      "{5} {3} => {3,5} \n",
      "{4,8} {3,5} => {3,4,5,8} \n",
      "{2} {9} => {2,9} \n",
      "{2,9} {4} => {2,4,9} \n",
      "{3,4,5,8} {2,4,9} => {2,3,4,4,5,8,9} \n",
      "{1} {9} => {1,9} \n",
      "{1,9} {1} => {1,1,9} \n",
      "{2} {4} => {2,4} \n",
      "{2,4} {5} => {2,4,5} \n",
      "{1,1,9} {2,4,5} => {1,1,2,4,5,9} \n",
      "{2,3,4,4,5,8,9} {1,1,2,4,5,9} => {1,1,2,2,3,4,4,4,5,5,8,9,9} \n",
      "{1,1,2,2,3,4,4,4,5,5,8,9,9} \n",
      " \n"
     ]
    }
   ],
   "source": [
    "!.\\code\\ds\\MergeSort.exe"
   ]
  },
  {
   "cell_type": "markdown",
   "metadata": {},
   "source": [
    "### The GNU C Library: Array Sort Function\n",
    "\n",
    "http://www.gnu.org/software/libc/manual/html_node/Array-Sort-Function.html\n",
    "\n",
    "To sort an array using an arbitrary comparison function, use the **qsort** function. The prototype for this function is in **stdlib.h**. \n",
    "\n",
    "Function:\n",
    "\n",
    "```c\n",
    "void qsort (void *array, size_t count, size_t size, comparison_fn_t compare)\n",
    "```\n",
    "To do this, you supply **a comparison function** to compare two elements of the array\n",
    "\n",
    "This type is a GNU extension\n",
    "```c\n",
    "int comparison_fn_t (const void *, const void *);\n",
    "```"
   ]
  },
  {
   "cell_type": "code",
   "execution_count": 165,
   "metadata": {},
   "outputs": [
    {
     "name": "stdout",
     "output_type": "stream",
     "text": [
      "Overwriting ./code/ds/gccqsort.c\n"
     ]
    }
   ],
   "source": [
    "%%file ./code/ds/gccqsort.c\n",
    "\n",
    "/* Sorting an array using The GNU C Library ：Sort (gccqsort.c) */\n",
    "\n",
    "#include <stdio.h>\n",
    "#include <stdlib.h> \n",
    "\n",
    "int compare_ints (const void * a, const void * b)  \n",
    "{  \n",
    "  return ( *(int*)a - *(int*)b );  \n",
    "}  \n",
    "\n",
    "int main() {\n",
    "   const int SIZE = 8;\n",
    "   int a[8] = {8, 4, 5, 3, 2, 9, 4, 1};\n",
    "   qsort(a, SIZE, sizeof(int),compare_ints);\n",
    "   \n",
    "   for(int i = 0; i <SIZE; i++) \n",
    "      printf(\"%d \", a[i]);\n",
    "   \n",
    "  return 0;\n",
    "}\n",
    "    "
   ]
  },
  {
   "cell_type": "code",
   "execution_count": 166,
   "metadata": {
    "collapsed": true
   },
   "outputs": [],
   "source": [
    "!gcc -o ./code/ds/gccqsort.exe ./code/ds/gccqsort.c"
   ]
  },
  {
   "cell_type": "code",
   "execution_count": 167,
   "metadata": {},
   "outputs": [
    {
     "name": "stdout",
     "output_type": "stream",
     "text": [
      "1 2 3 4 4 5 8 9 \n"
     ]
    }
   ],
   "source": [
    "!.\\code\\ds\\gccqsort.exe"
   ]
  },
  {
   "cell_type": "markdown",
   "metadata": {
    "collapsed": true
   },
   "source": [
    "\n",
    "### 10.2.2 Exploiting Functions as Parameters\n",
    "\n",
    "Suppose we want to sort a list of names written as firstName lastName, e.g.,\n",
    "\n",
    "the list ['Chris Terman', 'Tom Brady', 'Eric Grimson', 'Gisele Bundchen'].\n",
    "\n",
    "Figure 10.5 defines two ordering functions, and then uses these to sort a list in two different ways."
   ]
  },
  {
   "cell_type": "code",
   "execution_count": null,
   "metadata": {
    "collapsed": true
   },
   "outputs": [],
   "source": [
    "#Page 135, Figure 10.5\n",
    "def lastNameFirstName(name1, name2):\n",
    "    name1 = name1.split(' ')\n",
    "    name2 = name2.split(' ')\n",
    "    if name1[1] != name2[1]:\n",
    "        return name1[1] < name2[1]\n",
    "    else: #last names the same, sort by first name\n",
    "        return name1[0] < name2[0]\n",
    "\n",
    "def firstNameLastName(name1, name2):\n",
    "    # If that argument is omitted \n",
    "    #  the string is split using arbitrary strings of whitespace characters\n",
    "    #  space, tab, newline, return, and formfeed).\n",
    "    name1 = name1.split()\n",
    "    name2 = name2.split()\n",
    "    if name1[0] != name2[0]:\n",
    "        return name1[0] < name2[0]\n",
    "    else: #first names the same, sort by last name\n",
    "        return name1[1] < name2[1]\n"
   ]
  },
  {
   "cell_type": "code",
   "execution_count": null,
   "metadata": {
    "collapsed": true
   },
   "outputs": [],
   "source": [
    "L = ['Chris Terman', 'Tom Brady', 'Eric Grimson', 'Gisele Bundchen']\n",
    "newL = mergeSort(L, lastNameFirstName)\n",
    "print('Sorted by last name =', newL)\n",
    "newL = mergeSort(L, firstNameLastName)\n",
    "print('Sorted by first name =', newL)"
   ]
  },
  {
   "cell_type": "markdown",
   "metadata": {},
   "source": [
    "### 10.2.3 Sorting in Python\n",
    "\n",
    "The sorting algorithm used in most Python implementations is called \n",
    "\n",
    "* <b>Timsort</b> ： https://en.wikipedia.org/wiki/Timsort\n",
    "\n",
    "The key idea is to take advantage of the fact that in a lot of data sets the data is <b>already partially sorted</b>. \n",
    "\n",
    "**Timsort**’s worst-case performance is the same as merge sort’s, but on average it performs considerably better."
   ]
  },
  {
   "cell_type": "markdown",
   "metadata": {},
   "source": [
    "The Python method <b>list.sort</b> takes a list as its first argument and modifies that list\n",
    "    \n",
    "The Python function \n",
    "\n",
    "**sorted** takes an iterable object (e.g., a list or a dictionary) as its first argument and returns a new sorted list."
   ]
  },
  {
   "cell_type": "code",
   "execution_count": null,
   "metadata": {
    "collapsed": true
   },
   "outputs": [],
   "source": [
    "L = [3,5,2]\n",
    "D = {'a':12, 'c':5, 'b':'dog'}\n",
    "print(sorted(L))\n",
    "print(L)\n",
    "L.sort()\n",
    "print(L)\n",
    "print(sorted(D))\n",
    "D.sort()"
   ]
  },
  {
   "cell_type": "markdown",
   "metadata": {},
   "source": [
    "Both the list.sort method and the sorted function can have two additional parameters.\n",
    "\n",
    "The <b>key</b> parameter plays the same role as compare in our implementation of merge sort: it is used to <b>supply the comparison function</b> to be\n",
    "used.\n",
    "\n",
    "The <b>reverse</b> parameter specifies whether the list is to be sorted in <b>ascending or descending order</b>."
   ]
  },
  {
   "cell_type": "code",
   "execution_count": null,
   "metadata": {
    "collapsed": true
   },
   "outputs": [],
   "source": [
    "L = [[1,2,3], (3,2,1,0), 'abc']\n",
    "print(sorted(L, key = len, reverse = True))"
   ]
  },
  {
   "cell_type": "code",
   "execution_count": null,
   "metadata": {
    "collapsed": true
   },
   "outputs": [],
   "source": [
    "def getlastNameFirstName(name):\n",
    "    name = name.split(' ')\n",
    "    return name[1]\n",
    "\n",
    "def getfirstNameLastName(name):\n",
    "    name = name.split()\n",
    "    return name[0]"
   ]
  },
  {
   "cell_type": "code",
   "execution_count": null,
   "metadata": {
    "collapsed": true
   },
   "outputs": [],
   "source": [
    "L = ['Chris Terman', 'Tom Brady', 'Eric Grimson', 'Gisele Bundchen']\n",
    "newL = sorted(L, key=getlastNameFirstName)\n",
    "print('Sorted by last name =', newL)\n",
    "newL =sorted(L, key=getfirstNameLastName)\n",
    "print('Sorted by first name =', newL)"
   ]
  },
  {
   "cell_type": "markdown",
   "metadata": {},
   "source": [
    "Both the list.sort method and the sorted function provide <b>stable sorts</b>. \n",
    "\n",
    "This means that if two elements are equal with respect to the comparison used in the sort, <b>their relative ordering</b> in the original list (or other iterable object) is <b>preserved<b> in the final list.\n",
    "\n"
   ]
  },
  {
   "cell_type": "markdown",
   "metadata": {},
   "source": [
    "## 10.3 Hash Tables\n",
    "\n",
    "If we put merge sort together with binary search, we have a nice way to search lists.\n",
    "\n",
    "we can still ask, is logarithmic **the best** that we can do for  search when we are willing to do some\n",
    "\n",
    "<b>preprocessing</b>\n",
    "\n",
    "###  When we introduced the type <font color=\"blue\">dict</font> in Chapter 5 \n",
    "\n",
    "* dictionaries use a technique called <b>hashing</b> to do <b>the lookup in time</b> \n",
    "\n",
    "  that is <b>nearly independent of the size of the dictionary</b>."
   ]
  },
  {
   "cell_type": "code",
   "execution_count": 14,
   "metadata": {},
   "outputs": [
    {
     "name": "stdout",
     "output_type": "stream",
     "text": [
      "Linear search time :  0.0015883946883832323\n",
      "Binary search time :  0.00013653307782988123\n",
      "dict search time :  1.2832056199840736e-06\n"
     ]
    }
   ],
   "source": [
    "import timeit\n",
    "\n",
    "query_lst = [-600,-60,-6,-70,-6,0,6,70,6,60,600]\n",
    "\n",
    "lst = []\n",
    "dic = {}\n",
    "\n",
    "# search space :lst,dic\n",
    "size=10000\n",
    "for i in range(size):\n",
    "    lst.append(i)\n",
    "    dic[i] = i \n",
    "\n",
    "ls=\"\"\"\n",
    "for v in query_lst:\n",
    "    if v in lst:\n",
    "        continue\n",
    "\"\"\"\n",
    "   \n",
    "t_querylst=timeit.Timer(stmt=ls,globals=globals())\n",
    "lst_time=t_querylst.timeit(10)\n",
    "print('Linear search time : ',lst_time/10)\n",
    "\n",
    "bls=\"\"\"\n",
    "for v in query_lst:\n",
    "    if search(lst, v):\n",
    "       continue\n",
    "\"\"\"\n",
    "t_querylst=timeit.Timer(stmt=bls,globals=globals())\n",
    "bst_time=t_querylst.timeit(10)\n",
    "print('Binary search time : ',bst_time/10)\n",
    "\n",
    "ds=\"\"\"\n",
    "for v in query_lst:\n",
    "    if v in dic:\n",
    "        continue\n",
    "\"\"\"\n",
    "t_querydic=timeit.Timer(stmt=ds,globals=globals())\n",
    "dict_time=t_querydic.timeit(10)\n",
    "print('dict search time : ',dict_time/10)"
   ]
  },
  {
   "cell_type": "markdown",
   "metadata": {},
   "source": [
    "### A hash table \n",
    "\n",
    "The basic idea behind **a hash table** is\n",
    "\n",
    "* **convert the key to an integer, and then use that integer to index into a list**\n",
    "\n",
    "  which can be done in constant time.\n",
    "\n",
    "  In principle, values of any immutable type can be easily converted to an integer through **Hash functions**.\n",
    "\n",
    "\n",
    "### Hash functions\n",
    "\n",
    "**Hash functions** can be used to convert \n",
    "\n",
    "* <b>a large space of keys</b>  to  <b>a smaller space of integer indices</b>.\n",
    "\n",
    "Since the space of possible outputs is smaller than the space of possible inputs, \n",
    "\n",
    "a hash function is a \n",
    "\n",
    "<b>many-to-one mapping</b>,\n",
    "\n",
    "multiple different inputs may be mapped to the same output. \n",
    "\n",
    "When two inputs are mapped to the same output, \n",
    "\n",
    "it is called a <b>collision</b>. \n",
    "\n",
    "A good hash function produces \n",
    "\n",
    "<b>a uniform distribution</b>\n",
    "\n",
    "every output in the range is equally probable, which <b>minimizes the probability of collisions</b>.\n",
    "\n",
    "Designing good hash functions is surprisingly challenging.\n",
    "\n",
    "The problem is that one wants the outputs to be uniformly distributed given the expected distribution of inputs\n",
    "\n",
    "## hash bucket\n",
    "\n",
    "**class intDict(object)**  uses a simple hash function \n",
    "\n",
    "```python\n",
    "# i%j returns the remainder when the integer i is divided by the integer j \n",
    "\n",
    "hashBucket = self.buckets[dictKey%self.numBuckets]\n",
    "``` \n",
    "\n",
    "to implement a dictionary with integers as keys.\n",
    "\n",
    "The basic idea is to represent \n",
    "\n",
    "**an instance of class intDict**\n",
    "\n",
    "by a list of <b>hash buckets</b>, \n",
    "\n",
    "where **each bucket** is a list of **key/value** pairs. \n",
    "\n",
    "<b>By making each bucket a list, \n",
    "\n",
    "we handle collisions by storing all of the values that hash to the same bucket in the list</b>. \n",
    "\n",
    "The <b>hash table</b> works as follows: \n",
    "\n",
    "*  **1 def __init__(self, numBuckets):**\n",
    "\n",
    "   The instance variable <b>buckets</b> is initialized to \n",
    "\n",
    "   <b>a list</b> of  <b>numBuckets</b> <b>empty lists</b>.\n",
    "\n",
    "```python\n",
    "        self.buckets = []\n",
    "        self.numBuckets = numBuckets\n",
    "        for i in range(numBuckets):\n",
    "            self.buckets.append([]) \n",
    "```\n",
    "   \n",
    "* **2 def addEntry(self, dictKey, dictVal):**\n",
    "\n",
    "   To store or look up an entry with key **dictKey**, \n",
    "\n",
    "```python   \n",
    "        hashBucket = self.buckets[dictKey%self.numBuckets]\n",
    "        for i in range(len(hashBucket)):\n",
    "            if hashBucket[i][0] == dictKey:\n",
    "                hashBucket[i] = (dictKey, dictVal) #if one was found,replace\n",
    "                return\n",
    "        hashBucket.append((dictKey, dictVal)) # append a new entry to the bucket if none was found.\n",
    "```      \n",
    "   \n",
    "we use <b>the hash function i%j to convert dictKey into an integer</b>, \n",
    "```python  \n",
    "    hashBucket = self.buckets[dictKey%self.numBuckets\n",
    "```    \n",
    "and use that integer to index into buckets \n",
    "```python\n",
    "   hashBucket[i]\n",
    "```\n",
    "to find the hash bucket associated with **dictKey**\n",
    "\n",
    "If <b>a value is to be stored</b>,then  \n",
    "\n",
    "if one was found:  <b>replace</b> the value in the existing entry, if one was found, \n",
    "\n",
    "if none was found: <b>append</b> a new entry to the bucket \n",
    "\n",
    "* **3 def getValue(self, dictKey):**\n",
    "\n",
    "We then search that bucket (which is a list) linearly to see if there is an entry with the key dictKey.\n",
    "\n",
    "```python \n",
    " for e in hashBucket:\n",
    "            if e[0] == dictKey: // key\n",
    "                return e[1]     // valu\n",
    "```\n",
    "\n",
    "If we are doing <b>a lookup</b> and there is an entry with the key, we simply return the value stored with that key. \n",
    "\n",
    "If there is no entry with that key, we return None. \n",
    "\n",
    "\n"
   ]
  },
  {
   "cell_type": "code",
   "execution_count": null,
   "metadata": {
    "collapsed": true
   },
   "outputs": [],
   "source": [
    "#Page 139, Figure 10.6\n",
    "\n",
    "class intDict(object):\n",
    "    \"\"\"A dictionary with integer keys\"\"\"\n",
    "    \n",
    "    def __init__(self, numBuckets):\n",
    "        \"\"\"Create an empty dictionary\"\"\"\n",
    "        \n",
    "        ## buckets is initialized to a list of numBuckets empty lists.\n",
    "        \n",
    "        self.buckets = []\n",
    "        self.numBuckets = numBuckets\n",
    "        for i in range(numBuckets):\n",
    "            self.buckets.append([]) # empty list\n",
    "            \n",
    "    def addEntry(self, dictKey, dictVal):\n",
    "        \"\"\"Assumes dictKey an int.  Adds an entry.\"\"\"\n",
    "        hashBucket = self.buckets[dictKey%self.numBuckets]\n",
    "        for i in range(len(hashBucket)):\n",
    "            if hashBucket[i][0] == dictKey:\n",
    "                hashBucket[i] = (dictKey, dictVal) #if one was found,replace\n",
    "                return\n",
    "        hashBucket.append((dictKey, dictVal)) # append a new entry to the bucket if none was found.\n",
    "        \n",
    "    def getValue(self, dictKey):\n",
    "        \"\"\"Assumes dictKey an int.  Returns entry associated\n",
    "           with the key dictKey\"\"\"\n",
    "        hashBucket = self.buckets[dictKey%self.numBuckets]\n",
    "        for e in hashBucket:\n",
    "            if e[0] == dictKey: # key\n",
    "                return e[1]     # value \n",
    "        return None\n",
    "    \n",
    "    def __str__(self):\n",
    "        result = '{'\n",
    "        for b in self.buckets:\n",
    "            for e in b:\n",
    "                result = result + str(e[0]) + ':' + str(e[1]) + ','\n",
    "        return result[:-1] + '}' #result[:-1] omits the last comma\n",
    "\n"
   ]
  },
  {
   "cell_type": "markdown",
   "metadata": {},
   "source": [
    "The following code first constructs an **intDict** with twenty entries. \n",
    "\n",
    "The values of the entries are the integers 0 to 19.\n",
    "\n",
    "The **keys** are chosen at random from <b>integers in the range 0 to 10^5 - 1<b>."
   ]
  },
  {
   "cell_type": "markdown",
   "metadata": {},
   "source": [
    "## Twenty entries"
   ]
  },
  {
   "cell_type": "code",
   "execution_count": null,
   "metadata": {
    "collapsed": true
   },
   "outputs": [],
   "source": [
    "import random #a standard library module\n",
    "Entrys=[]\n",
    "NumEntry=20\n",
    "\n",
    "random.seed(1)\n",
    "for i in range(NumEntry):\n",
    "    #choose a random int between 0 and 10**5\n",
    "    key = random.randint(0, 10**5)\n",
    "    Entrys.append((key,i))\n",
    "\n",
    "print('The Entrys (key,i)is:')\n",
    "for entry in Entrys:\n",
    "    print(entry)"
   ]
  },
  {
   "cell_type": "markdown",
   "metadata": {},
   "source": [
    "### Search key->value in list of Entrys"
   ]
  },
  {
   "cell_type": "code",
   "execution_count": null,
   "metadata": {
    "collapsed": true
   },
   "outputs": [],
   "source": [
    "def searchEntrys():\n",
    "    for entry in Entrys:\n",
    "        key=entry[0]\n",
    "        for item in Entrys:\n",
    "            if (key==item[0]):\n",
    "                value=item[1] \n",
    "                print(key,value)  \n",
    "                break\n",
    "searchEntrys()"
   ]
  },
  {
   "cell_type": "code",
   "execution_count": null,
   "metadata": {
    "collapsed": true
   },
   "outputs": [],
   "source": [
    "def searchEntrys():\n",
    "    for entry in Entrys:\n",
    "        if entry in Entrys:\n",
    "            value=entry[1] \n",
    "            key=entry[0]\n",
    "            print(key,value)  \n",
    "searchEntrys()"
   ]
  },
  {
   "cell_type": "markdown",
   "metadata": {},
   "source": [
    "## Put entrys into intDict\n",
    "\n",
    "* numBuckets =29"
   ]
  },
  {
   "cell_type": "code",
   "execution_count": null,
   "metadata": {
    "collapsed": true
   },
   "outputs": [],
   "source": [
    "numBuckets =29\n",
    "\n",
    "D = intDict(numBuckets) # numBuckets >entries <<< the range of key \n",
    "for item in Entrys:\n",
    "    D.addEntry(item[0],item[1])\n",
    "\n",
    "print('The intDict is:' )\n",
    "print(D)\n",
    "\n",
    "print('\\n', 'The hase buckets are:')\n",
    "i=0\n",
    "for hashBucket in D.buckets:\n",
    "    print('BucketID',i,'  ', hashBucket)\n",
    "    i=i+1"
   ]
  },
  {
   "cell_type": "markdown",
   "metadata": {},
   "source": [
    "we see that many of the hash buckets are **empty**. \n",
    "\n",
    "Others contain **one, two, or three tuples** depending upon <b>the number of collisions</b> that occurred"
   ]
  },
  {
   "cell_type": "code",
   "execution_count": null,
   "metadata": {
    "collapsed": true
   },
   "outputs": [],
   "source": [
    "def getIntDict():\n",
    "    for entry in Entrys:\n",
    "        key=entry[0]\n",
    "        value=D.getValue(key)\n",
    "        #print(key,value)\n",
    "getIntDict()        "
   ]
  },
  {
   "cell_type": "code",
   "execution_count": null,
   "metadata": {
    "collapsed": true
   },
   "outputs": [],
   "source": [
    "%timeit getIntDict()"
   ]
  },
  {
   "cell_type": "markdown",
   "metadata": {},
   "source": [
    "### What is the complexity of **getValue**? "
   ]
  },
  {
   "cell_type": "markdown",
   "metadata": {},
   "source": [
    "If there were <b>no collisions</b> it would be <b>O(1)</b>,  because each hash bucket would be of length 0 or 1.\n",
    "\n",
    "there might be <b>collisions</b>. \n",
    "\n",
    "If everything hashed to the same bucket,\n",
    "\n",
    "it would be <b>O(n)</b> where n is the number of entries in the dictionary,\n",
    "\n",
    "because the code would perform a linear search on that hash bucket.\n",
    "\n",
    "### By making the <b>hash table large enough</b>, \n",
    "\n",
    "we can <b>reduce the number of collisions</b> sufficiently to allow us to treat <b>the complexity as O(1)</b>."
   ]
  },
  {
   "cell_type": "markdown",
   "metadata": {},
   "source": [
    "### hash table small , more collisions\n",
    "\n",
    "* numBucket=5"
   ]
  },
  {
   "cell_type": "code",
   "execution_count": null,
   "metadata": {
    "collapsed": true
   },
   "outputs": [],
   "source": [
    "import random #a standard library module\n",
    "\n",
    "# hash table small , more collisions\n",
    "numBuckets=5\n",
    "D = intDict(numBuckets) # numBuckets < entries\n",
    "\n",
    "for item in Entrys:\n",
    "    D.addEntry(item[0],item[1])\n",
    "\n",
    "print('The value of the intDict is:')\n",
    "print(D)\n",
    "\n",
    "print('\\n', 'The buckets are:')\n",
    "for hashBucket in D.buckets: #violates abstraction barrier\n",
    "    print('  ', hashBucket)\n"
   ]
  },
  {
   "cell_type": "code",
   "execution_count": null,
   "metadata": {
    "collapsed": true
   },
   "outputs": [],
   "source": [
    "%timeit getIntDict()"
   ]
  },
  {
   "cell_type": "markdown",
   "metadata": {},
   "source": [
    "### hash table large , less collisions\n",
    "\n",
    "* numBucket=50"
   ]
  },
  {
   "cell_type": "code",
   "execution_count": null,
   "metadata": {
    "collapsed": true
   },
   "outputs": [],
   "source": [
    "import random #a standard library module\n",
    "\n",
    "# hash table large , less collisions\n",
    "numBucket=50\n",
    "\n",
    "D = intDict(numBucket) # numBuckets >> entries\n",
    "\n",
    "for item in Entrys:\n",
    "    D.addEntry(item[0],item[1])\n",
    "    \n",
    "print('The value of the intDict is:')\n",
    "print(D)\n",
    "\n",
    "print('\\n', 'The buckets are:')\n",
    "for hashBucket in D.buckets: #violates abstraction barrier\n",
    "    print('  ', hashBucket)"
   ]
  },
  {
   "cell_type": "code",
   "execution_count": null,
   "metadata": {
    "collapsed": true
   },
   "outputs": [],
   "source": [
    "%timeit getIntDict()"
   ]
  },
  {
   "cell_type": "markdown",
   "metadata": {
    "collapsed": true
   },
   "source": [
    "##  Note: \n",
    "\n",
    "### hash table: a series of buckets\n",
    "\n",
    "* **bucket** : a list of key/value pairs. storing all of the values that hash to the same bucket in the list \n",
    "\n",
    "* **hash each element to bucket**: an address that is derived form the key value by applying the hash function\n",
    "    \n",
    "*  **search:**\n",
    "\n",
    "    * key -> the hash function -> an address of bucket in the hash table -> get valve in bucket"
   ]
  },
  {
   "cell_type": "markdown",
   "metadata": {
    "collapsed": true
   },
   "source": [
    "## Further Reading\n",
    "\n",
    "* 严蔚敏 李冬梅 吴伟民. 数据结构（C语言版），人民邮电出版社（第2版）,2015年2月  \n",
    "\n",
    "\n",
    "* Mark Allen Weiss. Data Structures and Algorithm Analysis in C\n",
    "\n",
    "\n",
    "* GNU C Library: Searching and Sorting : http://www.gnu.org/software/libc/manual/html_node/Searching-and-Sorting.html"
   ]
  },
  {
   "cell_type": "code",
   "execution_count": null,
   "metadata": {
    "collapsed": true
   },
   "outputs": [],
   "source": []
  }
 ],
 "metadata": {
  "kernelspec": {
   "display_name": "Python 3",
   "language": "python",
   "name": "python3"
  },
  "language_info": {
   "codemirror_mode": {
    "name": "ipython",
    "version": 3
   },
   "file_extension": ".py",
   "mimetype": "text/x-python",
   "name": "python",
   "nbconvert_exporter": "python",
   "pygments_lexer": "ipython3",
   "version": "3.5.2"
  }
 },
 "nbformat": 4,
 "nbformat_minor": 1
}
