{
 "cells": [
  {
   "cell_type": "markdown",
   "metadata": {},
   "source": [
    "# 10  SOME SIMPLE ALGORITHMS AND DATA STRUCTURES\n",
    "\n",
    "The goal of this chapter is to help you develop some general intuitions about <b>how to approach questions of efficiency</b>.\n",
    "\n",
    "The major point was that the key to efficiency is a <b>good algorithm</b>, not <b>clever coding tricks</b>.\n",
    "\n",
    "What we do instead is learn to <b>reduce</b> the most complex aspects of the problems with which we are faced <b>to previously solved problems</b>. \n",
    "\n",
    "More specifically, we:\n",
    "\n",
    "<ul>\n",
    "<li>Develop an <b>understanding of the inherent complexity</b> of the problem with which we are faced,\n",
    "<li>Think about how to break that problem up <b>into subproblems</b>, and\n",
    "<li>Relate those subproblems to other problems for which <b>efficient algorithms already exist</b>\n",
    "</ul>\n",
    "\n",
    "\n",
    "<b>Keep in mind that the most efficient algorithm is not always the algorithm of choice.</b>\n",
    "\n",
    "A program that does everything in the most efficient possible way is often <b>needlessly difficult to understand</b>.\n",
    "\n",
    "It is often a good strategy to :\n",
    "<ul>   \n",
    " <li>start by solving the problem <b>at hand</b> in the most straightforward manner possible,\n",
    " <li>instrument it to find any computational <b>bottlenecks</b>, and then look for ways to <b>improve</b> the computational complexity of those parts of the program contributing to the bottlenecks.\n",
    " </ul>\n"
   ]
  },
  {
   "cell_type": "markdown",
   "metadata": {},
   "source": [
    "\n",
    "## 10.1 Search Algorithms\n",
    "\n",
    "A search algorithm is a method for finding an item or group of items with specific properties within a collection of items. We refer to the collection of items as a <b>search space</b>. \n",
    "\n",
    "The search space might be something concrete, such as a set of electronic medical records, or something abstract, such as the set of all integers.\n",
    "\n",
    "In this section, we will examine two algorithms for searching a list. \n",
    "Each meets the specification:\n",
    "\n",
    "```python\n",
    "def search(L, e):\n",
    "\"\"\"Assumes L is a list.\n",
    "   Returns True if e is in L and False otherwise\"\"\"\n",
    "```\n",
    "The astute reader might wonder if this is not semantically equivalent to the Python expression\n",
    "```python\n",
    "e in L\n",
    "``` \n",
    "The answer is yes, it is. \n",
    "\n",
    "And if one is unconcerned about the efficiency of discovering whether e is in L, one should simply write that expression.\n",
    "\n",
    "### 10.1.1 Linear Search and Using Indirection to Access Elements\n",
    "\n",
    "Python uses the following algorithm to determine if an element is in a list\n",
    "```python\n",
    "def search(L, e):\n",
    "    for i in range(len(L)): # O(len(L))\n",
    "        if L[i] == e:\n",
    "            return True\n",
    "   return False\n",
    "```\n",
    "\n",
    "If the element e is not in the list the algorithm will perform <b>O(len(L))</b> tests, i.e., the complexity is <b>at best linear</b> in the length of L.\n",
    "\n",
    "Why “at best” linear? It will be linear only if each operation inside the loop can be done in <b>constant time</b>.\n",
    "\n",
    "Let’s start by considering the simple case where each element of the list is an integer.\n",
    "In this case the address in memory of the ith element of the list is simply <b>start + 4i</b>, where start is the address of the start of the list. Therefore we can assume that Python could compute the address of\n",
    "the ith element of a list of integers in constant time\n",
    "\n",
    "In Python, a list is represented as a length (the number of objects in the list) and a sequence of fixed-size pointers to objects.\n",
    "\n",
    "The Figure illustrates the use of these pointers. The shaded region represents a list containing four elements.\n",
    "\n",
    "<b>The leftmost shaded box</b> contains a pointer to an integer indicating the length of the list.\n",
    "\n",
    "<b>Each of the other shaded boxes</b> contains a pointer to an object in thelist.\n",
    "\n",
    "<img src=\"./img/10.1.1.PNG\"/>\n",
    "\n",
    "If the length field is four units of memory, and each pointer (address) occupies four units of memory, the address of the ith element of the list is stored at the address <b>start + 4 + 4i</b>.\n",
    "\n",
    "this address can be found in constant time, and then the value stored at that address can be used to access the ith element. This access too is a constant-time operation.\n",
    "\n",
    "This example illustrates one of the most important implementation techniques  used in computing: <b>indirection</b>.\\\n",
    "\n",
    "####  Indirection\n",
    "\n",
    "Generally speaking, indirection involves accessing something by first accessing something else that contains <b>a reference</b> to the thing initially sought.\n"
   ]
  },
  {
   "cell_type": "markdown",
   "metadata": {
    "collapsed": true
   },
   "source": [
    "### 10.1.2 Binary Search and Exploiting Assumptions\n",
    "\n",
    "Getting back to the problem of implementing search(L, e), is O(len(L)) the best we can do? \n",
    "\n",
    "Yes, if we know <b>nothing about the relationship of the values</b> of the elements in the list and the order in which they are stored.\n",
    "\n",
    "But suppose we know something about the order in which elements are stored, e.g., suppose we know that we have a list of integers stored in <b>ascending order</b>.\n",
    "\n",
    "We could change the implementation so that the search stops when it reaches a number larger than the number for which it is searching:\n",
    "\n",
    "```python\n",
    "def search(L, e):\n",
    "    \"\"\"Assumes L is a list, the elements of which are in\n",
    "       ascending order.\n",
    "       Returns True if e is in L and False otherwise\"\"\"\n",
    "    for i in range(len(L)):\n",
    "        if L[i] == e:\n",
    "            return True\n",
    "        if L[i] > e:  # ascending order\n",
    "            return False\n",
    "    return False\n",
    "```\n",
    "\n",
    "This would improve the average running time. However, it would not change the worst-case complexity of the algorithm, since in the worst case each element of L is examined.\n",
    "\n",
    "#### Binary search\n",
    "\n",
    "We can, however, get a considerable improvement in the worst-case complexity by using an algorithm, <b>binary search</b>,\n",
    "\n",
    "Here we rely on the assumption that the list is ordered.\n",
    "\n",
    "The idea is simple:\n",
    "<ol>\n",
    "<li>Pick an index, i, that divides the list L <b>roughly in half</b>.\n",
    "<li>Ask if L[i] == e.\n",
    "<li>If not, ask whether L[i] is larger or smaller than e.\n",
    "<li>Depending upon the answer, search either <b>the left or right half</b> of L for e.\n",
    "</ol>"
   ]
  },
  {
   "cell_type": "code",
   "execution_count": null,
   "metadata": {
    "collapsed": true
   },
   "outputs": [],
   "source": [
    "# #Page 129, Figure 10.2\n",
    "def search(L, e):\n",
    "    \"\"\"Assumes L is a list, the elements of which are in\n",
    "          ascending order.\n",
    "       Returns True if e is in L and False otherwise\"\"\"\n",
    "    \n",
    "    def bSearch(L, e, low, high):\n",
    "        #Decrements high - low\n",
    "        if high == low:\n",
    "            return L[low] == e\n",
    "        mid = (low + high)//2  #  i roughly in half of list. \n",
    "        if L[mid] == e:\n",
    "            return True\n",
    "        elif L[mid] > e:\n",
    "            if low == mid: #nothing left to search\n",
    "                return False\n",
    "            else:\n",
    "                return bSearch(L, e, low, mid - 1)# left\n",
    "        else:\n",
    "            return bSearch(L, e, mid + 1, high)  # right\n",
    "        \n",
    "    if len(L) == 0:\n",
    "        return False\n",
    "    else:\n",
    "        return bSearch(L, e, 0, len(L) - 1)"
   ]
  },
  {
   "cell_type": "markdown",
   "metadata": {},
   "source": [
    "The specification says that the implementation may assume that L is <b>sorted in ascending order</b>"
   ]
  },
  {
   "cell_type": "markdown",
   "metadata": {},
   "source": [
    "Let us now analyze the complexity of bSearch. \n",
    "\n",
    "the complexity of bSearch depends only upon <b>the number of recursive calls</b>.\n",
    "\n",
    "The next question is how many times can the value of high–low be cut in half before high–low == 0?\n",
    "\n",
    "$2^?=high-low$\n",
    "\n",
    "$?=\\log_2 ^{(high-low)}$\n",
    "\n",
    "<b>high–low</b> can be cut in half at most <b>$\\log_2^{(high–low)}$</b> times before it reaches 0.\n",
    "\n",
    "The complexity of search is <b>O(log(len(L)))</b>."
   ]
  },
  {
   "cell_type": "markdown",
   "metadata": {},
   "source": [
    "## 10.2 Sorting Algorithms\n",
    "\n",
    "the standard implementation of sorting in most Python implementations runs in roughly O(n*log(n)) time, where n is the length of the list.\n",
    "\n",
    "In most cases, the right thing to do is to use either Python’s built-in sort method:\n",
    "\n",
    "```L.sort()``` sorts the list L\n"
   ]
  },
  {
   "cell_type": "code",
   "execution_count": null,
   "metadata": {
    "collapsed": true
   },
   "outputs": [],
   "source": [
    "L=[1,34,5,7,90,2]\n",
    "L.sort()\n",
    "print(L)\n",
    "L.reverse()\n",
    "print(L)"
   ]
  },
  {
   "cell_type": "code",
   "execution_count": null,
   "metadata": {
    "collapsed": true
   },
   "outputs": [],
   "source": [
    "L =[1,34,5,7,90,2]\n",
    "L1 = L[ : ]\n",
    "L1.sort(reverse = True)\n",
    "print(L)\n",
    "print(L1)\n"
   ]
  },
  {
   "cell_type": "markdown",
   "metadata": {},
   "source": [
    "its built-in function ```sorted(L)``` returns a list with same elements as L, but <b>does not mutate L</b>"
   ]
  },
  {
   "cell_type": "code",
   "execution_count": null,
   "metadata": {
    "collapsed": true
   },
   "outputs": [],
   "source": [
    "L=[1,34,5,7,90,2]\n",
    "L1=sorted(L)\n",
    "print(L)\n",
    "print(L1)"
   ]
  },
  {
   "cell_type": "code",
   "execution_count": null,
   "metadata": {
    "collapsed": true
   },
   "outputs": [],
   "source": [
    "L=[1,34,5,7,90,2]\n",
    "L1=sorted(L,reverse = True)\n",
    "print(L)\n",
    "print(L1)"
   ]
  },
  {
   "cell_type": "markdown",
   "metadata": {},
   "source": [
    "We present sorting algorithms here primarily to provide some practice in thinking about algorithm design and complexity analysis"
   ]
  },
  {
   "cell_type": "markdown",
   "metadata": {},
   "source": [
    "###  Selection sort \n",
    "\n",
    "Selection sort works by maintaining the <b>loop invariant</b> that, given a partitioning of the list into <b>a prefix (L[0:i])</b> and <b>a suffix (L[i+1:len(L)])</b>, the prefix is sorted and no element in the prefix is larger than <b>the smallest element</b> in the suffix.\n",
    "\n",
    "<b>an invariant of a loop</b> is <b>a property that holds</b> before (and after) each repetition."
   ]
  },
  {
   "cell_type": "code",
   "execution_count": null,
   "metadata": {
    "collapsed": true
   },
   "outputs": [],
   "source": [
    "#Page 132, Figure 10.3\n",
    "def selSort(L):\n",
    "    \"\"\"Assumes that L is a list of elements that can be\n",
    "         compared using >.\n",
    "       Sorts L in ascending order\"\"\"\n",
    "    suffixStart = 0\n",
    "    while suffixStart != len(L):\n",
    "        #look at each element in suffix\n",
    "        for i in range(suffixStart, len(L)):\n",
    "            if L[i] < L[suffixStart]:\n",
    "                #swap position of elements\n",
    "                L[suffixStart], L[i] = L[i], L[suffixStart]\n",
    "        suffixStart += 1"
   ]
  },
  {
   "cell_type": "code",
   "execution_count": null,
   "metadata": {
    "collapsed": true
   },
   "outputs": [],
   "source": [
    "L=[1,34,5,7,90,2]\n",
    "selSort(L)\n",
    "print(L)"
   ]
  },
  {
   "cell_type": "markdown",
   "metadata": {},
   "source": [
    "the complexity of the entire function is O(len(L)^2). I.e., it is quadratic in the length of L."
   ]
  },
  {
   "cell_type": "markdown",
   "metadata": {},
   "source": [
    "### 10.2.1 Merge Sort\n",
    "\n",
    "Merge sort is a prototypical <b>divide-and-conquer algorithm</b>. It was invented in 1945, by John von Neumann, and is still widely used.\n",
    "\n",
    "Like many divide-andconquer algorithms it is most easily described recursively:\n",
    "\n",
    "<ol>\n",
    "<li>If the list is of length 0 or 1, it is already sorted. \n",
    "<li>If the list has more than one element, split the list into two lists, and use merge sort to sort each of them.\n",
    "<li> Merge the results.\n",
    "</ol>\n",
    "\n",
    "The idea is to look at the first element of each list, and move the smaller of the two to the end of the result list. When one of the lists is empty, all that remains is to copy the remaining items from the other list.\n",
    "\n",
    "Consider, for example, merging the two lists [1,5,12,18,19,20] and [2,3,4,17]:\n",
    "<img src=\"./img/mergesort.PNG\"/>"
   ]
  },
  {
   "cell_type": "code",
   "execution_count": null,
   "metadata": {
    "collapsed": true
   },
   "outputs": [],
   "source": [
    "#Page 134, Figure 10.4\n",
    "def merge(left, right, compare):\n",
    "    \"\"\"Assumes left and right are sorted lists and\n",
    "         compare defines an ordering on the elements.\n",
    "       Returns a new sorted (by compare) list containing the\n",
    "         same elements as (left + right) would contain.\"\"\"\n",
    "    \n",
    "    result = []\n",
    "    i,j = 0, 0\n",
    "    while i < len(left) and j < len(right):\n",
    "        if compare(left[i], right[j]):\n",
    "            result.append(left[i])\n",
    "            i += 1\n",
    "        else:\n",
    "            result.append(right[j])\n",
    "            j += 1\n",
    "    while (i < len(left)):\n",
    "        result.append(left[i])\n",
    "        i += 1\n",
    "    while (j < len(right)):\n",
    "        result.append(right[j])\n",
    "        j += 1\n",
    "    return result\n",
    "\n",
    "import operator\n",
    "\n",
    "def mergeSort(L, compare = operator.lt):\n",
    "    \"\"\"Assumes L is a list, compare defines an ordering\n",
    "         on elements of L\n",
    "       Returns a new sorted list containing the same elements as L\"\"\"\n",
    "    if len(L) < 2:\n",
    "        return L[:]\n",
    "    else:\n",
    "        middle = len(L)//2\n",
    "        left = mergeSort(L[:middle], compare)\n",
    "        right = mergeSort(L[middle:], compare)\n",
    "        return merge(left, right, compare)"
   ]
  },
  {
   "cell_type": "code",
   "execution_count": null,
   "metadata": {
    "collapsed": true
   },
   "outputs": [],
   "source": [
    "L=[1,5,12,18,19,20,2,3,4,17]\n",
    "L1=mergeSort(L,operator.gt)\n",
    "print(L1)"
   ]
  },
  {
   "cell_type": "markdown",
   "metadata": {},
   "source": [
    "Let’s analyze the complexity of mergeSort. \n",
    "\n",
    "We already know that the time complexity of merge is O(len(L)). At each level of recursion the total number of\n",
    "elements to be merged is len(L). \n",
    "\n",
    "Therefore, the time complexity of mergeSort is O(len(L)) multiplied by the number of levels of recursion. \n",
    "\n",
    "Since mergeSort divides the list <b>in half</b> each time, we know that the number of levels of recursion is O(log(len(L)). \n",
    "  \n",
    "Therefore, the time complexity of mergeSort is <b>O(n*log(n))</b>, where n is len(L).\n",
    "                                                                                                               \n",
    "This improvement in time complexity comes with a price. \n",
    "\n",
    "<b>Selection sort</b> is an example of an <b>in-place</b> sorting algorithm. Because it works by swapping the place of elements within the list, it uses only <b>a constant amount of extra storage</b> (one element in our implementation). \n",
    "\n",
    "In contrast, the <b>merge sort</b> algorithm  involves making<b> copies of the list</b>. This means that its space complexity is O(len(L)).                                                                                                             "
   ]
  },
  {
   "cell_type": "markdown",
   "metadata": {
    "collapsed": true
   },
   "source": [
    "### 10.2.2 Exploiting Functions as Parameters\n",
    "\n",
    "Suppose we want to sort a list of names written as firstName lastName, e.g.,\n",
    "\n",
    "the list ['Chris Terman', 'Tom Brady', 'Eric Grimson', 'Gisele Bundchen'].\n",
    "\n",
    "Figure 10.5 defines two ordering functions, and then uses these to sort a list in two different ways."
   ]
  },
  {
   "cell_type": "code",
   "execution_count": null,
   "metadata": {
    "collapsed": true
   },
   "outputs": [],
   "source": [
    "#Page 135, Figure 10.5\n",
    "def lastNameFirstName(name1, name2):\n",
    "    name1 = name1.split(' ')\n",
    "    name2 = name2.split(' ')\n",
    "    if name1[1] != name2[1]:\n",
    "        return name1[1] < name2[1]\n",
    "    else: #last names the same, sort by first name\n",
    "        return name1[0] < name2[0]\n",
    "\n",
    "def firstNameLastName(name1, name2):\n",
    "    # If that argument is omitted \n",
    "    #  the string is split using arbitrary strings of whitespace characters\n",
    "    #  space, tab, newline, return, and formfeed).\n",
    "    name1 = name1.split()\n",
    "    name2 = name2.split()\n",
    "    if name1[0] != name2[0]:\n",
    "        return name1[0] < name2[0]\n",
    "    else: #first names the same, sort by last name\n",
    "        return name1[1] < name2[1]\n"
   ]
  },
  {
   "cell_type": "code",
   "execution_count": null,
   "metadata": {
    "collapsed": true
   },
   "outputs": [],
   "source": [
    "L = ['Chris Terman', 'Tom Brady', 'Eric Grimson', 'Gisele Bundchen']\n",
    "newL = mergeSort(L, lastNameFirstName)\n",
    "print('Sorted by last name =', newL)\n",
    "newL = mergeSort(L, firstNameLastName)\n",
    "print('Sorted by first name =', newL)"
   ]
  },
  {
   "cell_type": "markdown",
   "metadata": {},
   "source": [
    "### 10.2.3 Sorting in Python\n",
    "\n",
    "The sorting algorithm used in most Python implementations is called <b>timsort</b>.\n",
    "\n",
    "The key idea is to take advantage of the fact that in a lot of data sets the data is <b>already partially sorted</b>. Timsort’s worst-case performance is the same as merge sort’s, but on average it performs considerably better."
   ]
  },
  {
   "cell_type": "markdown",
   "metadata": {},
   "source": [
    "The Python method <b>list.sort</b> takes a list as its first argument and modifies that list\n",
    "    \n",
    "The Python function <b>sorted<> takes an iterable object (e.g., a list or a dictionary) as its first argument and returns a new sorted list."
   ]
  },
  {
   "cell_type": "code",
   "execution_count": null,
   "metadata": {
    "collapsed": true
   },
   "outputs": [],
   "source": [
    "L = [3,5,2]\n",
    "D = {'a':12, 'c':5, 'b':'dog'}\n",
    "print(sorted(L))\n",
    "print(L)\n",
    "L.sort()\n",
    "print(L)\n",
    "print(sorted(D))\n",
    "\n",
    "\n",
    "D.sort()"
   ]
  },
  {
   "cell_type": "markdown",
   "metadata": {},
   "source": [
    "Both the list.sort method and the sorted function can have two additional parameters.\n",
    "\n",
    "The <b>key</b> parameter plays the same role as compare in our implementation of merge sort: it is used to <b>supply the comparison function</b> to be\n",
    "used.\n",
    "\n",
    "The <b>reverse</b> parameter specifies whether the list is to be sorted in <b>ascending or descending order</b>."
   ]
  },
  {
   "cell_type": "code",
   "execution_count": null,
   "metadata": {
    "collapsed": true
   },
   "outputs": [],
   "source": [
    "L = [[1,2,3], (3,2,1,0), 'abc']\n",
    "print(sorted(L, key = len, reverse = True))"
   ]
  },
  {
   "cell_type": "code",
   "execution_count": null,
   "metadata": {
    "collapsed": true
   },
   "outputs": [],
   "source": [
    "def getlastNameFirstName(name):\n",
    "    name = name.split(' ')\n",
    "    return name[1]\n",
    "\n",
    "def getfirstNameLastName(name):\n",
    "    name = name.split()\n",
    "    return name[0]"
   ]
  },
  {
   "cell_type": "code",
   "execution_count": null,
   "metadata": {
    "collapsed": true
   },
   "outputs": [],
   "source": [
    "L = ['Chris Terman', 'Tom Brady', 'Eric Grimson', 'Gisele Bundchen']\n",
    "newL = sorted(L, key=getlastNameFirstName)\n",
    "print('Sorted by last name =', newL)\n",
    "newL =sorted(L, key=getfirstNameLastName)\n",
    "print('Sorted by first name =', newL)"
   ]
  },
  {
   "cell_type": "markdown",
   "metadata": {},
   "source": [
    "Both the list.sort method and the sorted function provide <b>stable sorts</b>. \n",
    "\n",
    "This means that if two elements are equal with respect to the comparison used in the sort, <b>their relative ordering</b> in the original list (or other iterable object) is <b>preserved<b> in the final list.\n",
    "\n"
   ]
  },
  {
   "cell_type": "markdown",
   "metadata": {},
   "source": [
    "## 10.3 Hash Tables\n",
    "\n",
    "If we put merge sort together with binary search, we have a nice way to search lists.\n",
    "\n",
    "we can still ask, is logarithmic **the best** that we can do for  search when we are willing to do some\n",
    "\n",
    "<b>preprocessing</b>\n",
    "\n",
    "###  When we introduced the type ```dict``` in Chapter 5 \n",
    "\n",
    "* dictionaries use a technique called <b>hashing</b> to do <b>the lookup in time</b> \n",
    "\n",
    "  that is <b>nearly independent of the size of the dictionary</b>.\n",
    "\n",
    "The basic idea behind **a hash table** is\n",
    "\n",
    "* **convert the key to an integer, and then use that integer to index into a list**\n",
    "\n",
    "  which can be done in constant time.\n",
    "\n",
    "  In principle, values of any immutable type can be easily converted to an integer through **Hash functions**.\n",
    "\n",
    "\n",
    "### Hash functions\n",
    "\n",
    "**Hash functions** can be used to convert \n",
    "\n",
    "* <b>a large space of keys</b>  to  <b>a smaller space of integer indices</b>.\n",
    "\n",
    "Since the space of possible outputs is smaller than the space of possible inputs, \n",
    "\n",
    "a hash function is a \n",
    "\n",
    "<b>many-to-one mapping</b>,\n",
    "\n",
    "multiple different inputs may be mapped to the same output. \n",
    "\n",
    "When two inputs are mapped to the same output, \n",
    "\n",
    "it is called a <b>collision</b>. \n",
    "\n",
    "A good hash function produces \n",
    "\n",
    "<b>a uniform distribution</b>\n",
    "\n",
    "every output in the range is equally probable, which <b>minimizes the probability of collisions</b>.\n",
    "\n",
    "Designing good hash functions is surprisingly challenging.\n",
    "\n",
    "The problem is that one wants the outputs to be uniformly distributed given the expected distribution of inputs\n",
    "\n",
    "## hash bucket\n",
    "\n",
    "**class intDict(object)**  uses a simple hash function \n",
    "\n",
    "```python\n",
    "# i%j returns the remainder when the integer i is divided by the integer j \n",
    "\n",
    "hashBucket = self.buckets[dictKey%self.numBuckets]\n",
    "``` \n",
    "\n",
    "to implement a dictionary with integers as keys.\n",
    "\n",
    "The basic idea is to represent \n",
    "\n",
    "**an instance of class intDict**\n",
    "\n",
    "by a list of <b>hash buckets</b>, \n",
    "\n",
    "where **each bucket** is a list of **key/value** pairs. \n",
    "\n",
    "<b>By making each bucket a list, \n",
    "\n",
    "we handle collisions by storing all of the values that hash to the same bucket in the list</b>. \n",
    "\n",
    "The <b>hash table</b> works as follows: \n",
    "\n",
    "*  **1 def __init__(self, numBuckets):**\n",
    "\n",
    "   The instance variable <b>buckets</b> is initialized to \n",
    "\n",
    "   <b>a list</b> of  <b>numBuckets</b> <b>empty lists</b>.\n",
    "\n",
    "```python\n",
    "        self.buckets = []\n",
    "        self.numBuckets = numBuckets\n",
    "        for i in range(numBuckets):\n",
    "            self.buckets.append([]) \n",
    "```\n",
    "   \n",
    "* **2 def addEntry(self, dictKey, dictVal):**\n",
    "\n",
    "   To store or look up an entry with key **dictKey**, \n",
    "\n",
    "```python   \n",
    "        hashBucket = self.buckets[dictKey%self.numBuckets]\n",
    "        for i in range(len(hashBucket)):\n",
    "            if hashBucket[i][0] == dictKey:\n",
    "                hashBucket[i] = (dictKey, dictVal) #if one was found,replace\n",
    "                return\n",
    "        hashBucket.append((dictKey, dictVal)) # append a new entry to the bucket if none was found.\n",
    "```      \n",
    "   \n",
    "we use <b>the hash function i%j to convert dictKey into an integer</b>, \n",
    "```python  \n",
    "    hashBucket = self.buckets[dictKey%self.numBuckets\n",
    "```    \n",
    "and use that integer to index into buckets \n",
    "```python\n",
    "   hashBucket[i]\n",
    "```\n",
    "to find the hash bucket associated with **dictKey**\n",
    "\n",
    "If <b>a value is to be stored</b>,then  \n",
    "\n",
    "if one was found:  <b>replace</b> the value in the existing entry, if one was found, \n",
    "\n",
    "if none was found: <b>append</b> a new entry to the bucket \n",
    "\n",
    "* **3 def getValue(self, dictKey):**\n",
    "\n",
    "We then search that bucket (which is a list) linearly to see if there is an entry with the key dictKey.\n",
    "\n",
    "```python \n",
    " for e in hashBucket:\n",
    "            if e[0] == dictKey: // key\n",
    "                return e[1]     // valu\n",
    "```\n",
    "\n",
    "If we are doing <b>a lookup</b> and there is an entry with the key, we simply return the value stored with that key. \n",
    "\n",
    "If there is no entry with that key, we return None. \n",
    "\n",
    "\n"
   ]
  },
  {
   "cell_type": "code",
   "execution_count": null,
   "metadata": {
    "collapsed": true
   },
   "outputs": [],
   "source": [
    "#Page 139, Figure 10.6\n",
    "\n",
    "class intDict(object):\n",
    "    \"\"\"A dictionary with integer keys\"\"\"\n",
    "    \n",
    "    def __init__(self, numBuckets):\n",
    "        \"\"\"Create an empty dictionary\"\"\"\n",
    "        \n",
    "        ## buckets is initialized to a list of numBuckets empty lists.\n",
    "        \n",
    "        self.buckets = []\n",
    "        self.numBuckets = numBuckets\n",
    "        for i in range(numBuckets):\n",
    "            self.buckets.append([]) # empty list\n",
    "            \n",
    "    def addEntry(self, dictKey, dictVal):\n",
    "        \"\"\"Assumes dictKey an int.  Adds an entry.\"\"\"\n",
    "        hashBucket = self.buckets[dictKey%self.numBuckets]\n",
    "        for i in range(len(hashBucket)):\n",
    "            if hashBucket[i][0] == dictKey:\n",
    "                hashBucket[i] = (dictKey, dictVal) #if one was found,replace\n",
    "                return\n",
    "        hashBucket.append((dictKey, dictVal)) # append a new entry to the bucket if none was found.\n",
    "        \n",
    "    def getValue(self, dictKey):\n",
    "        \"\"\"Assumes dictKey an int.  Returns entry associated\n",
    "           with the key dictKey\"\"\"\n",
    "        hashBucket = self.buckets[dictKey%self.numBuckets]\n",
    "        for e in hashBucket:\n",
    "            if e[0] == dictKey: # key\n",
    "                return e[1]     # value \n",
    "        return None\n",
    "    \n",
    "    def __str__(self):\n",
    "        result = '{'\n",
    "        for b in self.buckets:\n",
    "            for e in b:\n",
    "                result = result + str(e[0]) + ':' + str(e[1]) + ','\n",
    "        return result[:-1] + '}' #result[:-1] omits the last comma\n",
    "\n"
   ]
  },
  {
   "cell_type": "markdown",
   "metadata": {},
   "source": [
    "The following code first constructs an **intDict** with twenty entries. \n",
    "\n",
    "The values of the entries are the integers 0 to 19.\n",
    "\n",
    "The **keys** are chosen at random from <b>integers in the range 0 to 10^5 - 1<b>."
   ]
  },
  {
   "cell_type": "markdown",
   "metadata": {},
   "source": [
    "## Twenty entries"
   ]
  },
  {
   "cell_type": "code",
   "execution_count": null,
   "metadata": {},
   "outputs": [],
   "source": [
    "Entrys=[]\n",
    "NumEntry=20\n",
    "\n",
    "random.seed(1)\n",
    "for i in range(NumEntry):\n",
    "    #choose a random int between 0 and 10**5\n",
    "    key = random.randint(0, 10**5)\n",
    "    Entrys.append((key,i))\n",
    "\n",
    "print('The Entrys (key,i)is:')\n",
    "for entry in Entrys:\n",
    "    print(entry)"
   ]
  },
  {
   "cell_type": "markdown",
   "metadata": {},
   "source": [
    "### Search key->value in entries"
   ]
  },
  {
   "cell_type": "code",
   "execution_count": null,
   "metadata": {},
   "outputs": [],
   "source": [
    "def searchEntrys():\n",
    "    for entry in Entrys:\n",
    "        key=entry[0]\n",
    "        for item in Entrys:\n",
    "            if (key==item[0]):\n",
    "                value=item[1] \n",
    "                #print(key,value)  \n",
    "                break\n",
    "searchEntrys()"
   ]
  },
  {
   "cell_type": "code",
   "execution_count": null,
   "metadata": {},
   "outputs": [],
   "source": [
    "%timeit searchEntrys()"
   ]
  },
  {
   "cell_type": "markdown",
   "metadata": {},
   "source": [
    "## Put entrys into intDict\n",
    "\n",
    "* numBuckets =29"
   ]
  },
  {
   "cell_type": "code",
   "execution_count": null,
   "metadata": {},
   "outputs": [],
   "source": [
    "import random #a standard library module\n",
    "\n",
    "numBuckets =29\n",
    "\n",
    "D = intDict(numBuckets) # numBuckets >entries <<< the range of key \n",
    "for item in Entrys:\n",
    "    D.addEntry(item[0],item[1])\n",
    "\n",
    "print('The intDict is:' )\n",
    "print(D)\n",
    "\n",
    "print('\\n', 'The hase buckets are:')\n",
    "i=0\n",
    "for hashBucket in D.buckets:\n",
    "    print('BucketID',i,'  ', hashBucket)\n",
    "    i=i+1"
   ]
  },
  {
   "cell_type": "markdown",
   "metadata": {},
   "source": [
    "we see that many of the hash buckets are **empty**. \n",
    "\n",
    "Others contain **one, two, or three tuples** depending upon <b>the number of collisions</b> that occurred"
   ]
  },
  {
   "cell_type": "code",
   "execution_count": null,
   "metadata": {},
   "outputs": [],
   "source": [
    "def getIntDict():\n",
    "    for entry in Entrys:\n",
    "        key=entry[0]\n",
    "        value=D.getValue(key)\n",
    "        #print(key,value)\n",
    "getIntDict()        "
   ]
  },
  {
   "cell_type": "code",
   "execution_count": null,
   "metadata": {},
   "outputs": [],
   "source": [
    "%timeit getIntDict()"
   ]
  },
  {
   "cell_type": "markdown",
   "metadata": {},
   "source": [
    "### What is the complexity of **getValue**? "
   ]
  },
  {
   "cell_type": "markdown",
   "metadata": {},
   "source": [
    "If there were <b>no collisions</b> it would be <b>O(1)</b>,  because each hash bucket would be of length 0 or 1.\n",
    "\n",
    "there might be <b>collisions</b>. \n",
    "\n",
    "If everything hashed to the same bucket,\n",
    "\n",
    "it would be <b>O(n)</b> where n is the number of entries in the dictionary,\n",
    "\n",
    "because the code would perform a linear search on that hash bucket.\n",
    "\n",
    "### By making the <b>hash table large enough</b>, \n",
    "\n",
    "we can <b>reduce the number of collisions</b> sufficiently to allow us to treat <b>the complexity as O(1)</b>."
   ]
  },
  {
   "cell_type": "markdown",
   "metadata": {},
   "source": [
    "### hash table small , more collisions\n",
    "\n",
    "* numBucket=5"
   ]
  },
  {
   "cell_type": "code",
   "execution_count": null,
   "metadata": {},
   "outputs": [],
   "source": [
    "import random #a standard library module\n",
    "\n",
    "# hash table small , more collisions\n",
    "numBuckets=5\n",
    "D = intDict(numBuckets) # numBuckets < entries\n",
    "\n",
    "for item in Entrys:\n",
    "    D.addEntry(item[0],item[1])\n",
    "\n",
    "print('The value of the intDict is:')\n",
    "print(D)\n",
    "\n",
    "print('\\n', 'The buckets are:')\n",
    "for hashBucket in D.buckets: #violates abstraction barrier\n",
    "    print('  ', hashBucket)\n"
   ]
  },
  {
   "cell_type": "code",
   "execution_count": null,
   "metadata": {},
   "outputs": [],
   "source": [
    "%timeit getIntDict()"
   ]
  },
  {
   "cell_type": "markdown",
   "metadata": {},
   "source": [
    "### hash table large , less collisions\n",
    "\n",
    "* numBucket=50"
   ]
  },
  {
   "cell_type": "code",
   "execution_count": null,
   "metadata": {},
   "outputs": [],
   "source": [
    "import random #a standard library module\n",
    "\n",
    "# hash table large , less collisions\n",
    "numBucket=50\n",
    "\n",
    "D = intDict(numBucket) # numBuckets >> entries\n",
    "\n",
    "for item in Entrys:\n",
    "    D.addEntry(item[0],item[1])\n",
    "    \n",
    "print('The value of the intDict is:')\n",
    "print(D)\n",
    "\n",
    "print('\\n', 'The buckets are:')\n",
    "for hashBucket in D.buckets: #violates abstraction barrier\n",
    "    print('  ', hashBucket)"
   ]
  },
  {
   "cell_type": "code",
   "execution_count": null,
   "metadata": {},
   "outputs": [],
   "source": [
    "%timeit getIntDict()"
   ]
  },
  {
   "cell_type": "markdown",
   "metadata": {
    "collapsed": true
   },
   "source": [
    "##  Note: \n",
    "\n",
    "### hash table: a series of buckets\n",
    "\n",
    "* **bucket** : a list of key/value pairs. storing all of the values that hash to the same bucket in the list \n",
    "\n",
    "* **hash each element to bucket**: an address that is derived form the key value by applying the hash function\n",
    "    \n",
    "*  **search:**\n",
    "\n",
    "    * key -> the hash function -> an address of bucket in the hash table -> get valve in bucket"
   ]
  },
  {
   "cell_type": "markdown",
   "metadata": {
    "collapsed": true
   },
   "source": [
    "## Further Reading\n",
    "\n",
    "* 严蔚敏 李冬梅 吴伟民. 数据结构（C语言版），人民邮电出版社（第2版）,2015年2月  \n",
    "\n",
    "* Mark Allen Weiss. Data Structures and Algorithm Analysis in C"
   ]
  },
  {
   "cell_type": "code",
   "execution_count": null,
   "metadata": {
    "collapsed": true
   },
   "outputs": [],
   "source": []
  }
 ],
 "metadata": {
  "kernelspec": {
   "display_name": "Python 3",
   "language": "python",
   "name": "python3"
  },
  "language_info": {
   "codemirror_mode": {
    "name": "ipython",
    "version": 3
   },
   "file_extension": ".py",
   "mimetype": "text/x-python",
   "name": "python",
   "nbconvert_exporter": "python",
   "pygments_lexer": "ipython3",
   "version": "3.5.2"
  }
 },
 "nbformat": 4,
 "nbformat_minor": 1
}
