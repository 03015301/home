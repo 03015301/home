{
 "cells": [
  {
   "cell_type": "markdown",
   "metadata": {
    "deletable": true,
    "editable": true
   },
   "source": [
    "# Version Control and Git"
   ]
  },
  {
   "cell_type": "markdown",
   "metadata": {
    "deletable": true,
    "editable": true
   },
   "source": [
    "In any software development, one of the most important tools are version control software \n",
    "\n",
    "They are used in virtually all software development and in all environments, by everyone and everywhere.\n",
    "\n",
    "Version control an used on almost any digital content, so it is not only restricted to software development, and is also very useful for manuscript files, figures, data and notebooks!\n",
    "\n"
   ]
  },
  {
   "cell_type": "markdown",
   "metadata": {
    "deletable": true,
    "editable": true
   },
   "source": [
    "## There are two main purposes of VCS systems:"
   ]
  },
  {
   "cell_type": "markdown",
   "metadata": {
    "deletable": true,
    "editable": true
   },
   "source": [
    "1. Keep track of changes in the source code.\n",
    "    * Allow reverting back to an older revision if something goes wrong.\n",
    "    * Work on several \"branches\" of the software concurrently.\n",
    "    * Tags revisions to keep track of which version of the software that was used for what (for example, \"release-1.0\", \"paper-A-final\", ...)\n",
    "2. Make it possible for serveral people to collaboratively work on the same code base simultaneously.\n",
    "    * Allow many authors to make changes to the code.\n",
    "    * Clearly communicating and visualizing changes in the code base to everyone involved."
   ]
  },
  {
   "cell_type": "markdown",
   "metadata": {
    "deletable": true,
    "editable": true
   },
   "source": [
    "## Basic principles and terminology for VCS systems"
   ]
  },
  {
   "cell_type": "markdown",
   "metadata": {
    "deletable": true,
    "editable": true
   },
   "source": [
    "In an VCS, the source code or digital content is stored in a **repository**. \n",
    "\n",
    "* The repository does not only contain the latest version of all files, but the complete history of all changes to the files since they were added to the repository. \n",
    "\n",
    "* A user can **checkout** the repository, and obtain a local working copy of the files. All changes are made to the files in the local working directory, where files can be added, removed and updated. \n",
    "\n",
    "* When a task has been completed, the changes to the local files are **commited** (saved to the repository).\n",
    "\n",
    "* If someone else has been making changes to the same files, a **conflict** can occur. In many cases conflicts can be **resolved** automatically by the system, but in some cases we might manually have to **merge** different changes together.\n",
    "\n",
    "* It is often useful to create a new **branch** in a repository, or a **fork** or **clone** of an entire repository, when we doing larger experimental development. The main branch in a repository is called often **master** or **trunk**. When work on a branch or fork is completed, it can be merged in to the master branch/repository.\n",
    "\n",
    "* With distributed VCSs such as **GIT** or **Mercurial**, we can **pull** and **push** changesets between different repositories. For example, between a local copy of there repository to a central online reposistory (for example on a community repository host site like [github.com](github.com)."
   ]
  },
  {
   "cell_type": "markdown",
   "metadata": {
    "deletable": true,
    "editable": true
   },
   "source": [
    "## GIT\n",
    "\n",
    "* Created by Linus Torvalds, 2005 \n",
    " \n",
    "  * https://github.com/torvalds\n",
    "\n",
    "### Why git?\n",
    "\n",
    " * Popular (~50% of open source projects)\n",
    " * Truly distributed\n",
    " * Very fast\n",
    " * Everything is local\n",
    " * Free\n",
    " * Safe against corruptions\n",
    " * **GitHub!**\n",
    " \n",
    "### GitHub\n",
    "\n",
    "GitHub is a code hosting platform for version control and collaboration. It lets you and others work together on projects from anywhere.\n",
    "\n",
    "This tutorial teaches you GitHub essentials like repositories, branches, commits, and Pull Requests. You’ll create your own Hello World repository and learn GitHub’s Pull Request workflow, a popular way to create and review code.\n",
    "\n",
    "https://guides.github.com/activities/hello-world/\n",
    "\n",
    "**In the rest of this lecture we will look at `git`.**"
   ]
  },
  {
   "cell_type": "markdown",
   "metadata": {
    "deletable": true,
    "editable": true
   },
   "source": [
    "## Installing git"
   ]
  },
  {
   "cell_type": "markdown",
   "metadata": {
    "deletable": true,
    "editable": true
   },
   "source": [
    "On Windows\n",
    " \n",
    "    Download git https://github.com/git-for-windows/git/releases and run the downloaded installer.\n",
    "        \n",
    "On Linux:\n",
    "    \n",
    "    $ sudo apt-get install git\n",
    "\n",
    "On Mac (with macports):\n",
    "\n",
    "    $ sudo port install git"
   ]
  },
  {
   "cell_type": "markdown",
   "metadata": {
    "deletable": true,
    "editable": true
   },
   "source": [
    "## Configure the author information:\n",
    "\n",
    "The first time you start to use git, you'll need to configure your author information:"
   ]
  },
  {
   "cell_type": "code",
   "execution_count": null,
   "metadata": {
    "collapsed": true,
    "deletable": true,
    "editable": true
   },
   "outputs": [],
   "source": [
    "!git config --global user.name  thermalogic\n",
    "!git config --global user.email cmhnj@189.cn"
   ]
  },
  {
   "cell_type": "markdown",
   "metadata": {
    "deletable": true,
    "editable": true
   },
   "source": [
    "### Here, we set up a new git repo, add a file, and commit it to the repo."
   ]
  },
  {
   "cell_type": "code",
   "execution_count": 1,
   "metadata": {
    "collapsed": false,
    "deletable": true,
    "editable": true
   },
   "outputs": [
    {
     "data": {
      "text/plain": [
       "'/media/cmh/cmh/SEUCourse/SE_ThermalEnergy/S2017/home/notebook'"
      ]
     },
     "execution_count": 1,
     "metadata": {},
     "output_type": "execute_result"
    }
   ],
   "source": [
    "%pwd"
   ]
  },
  {
   "cell_type": "code",
   "execution_count": 1,
   "metadata": {
    "collapsed": false,
    "deletable": true,
    "editable": true
   },
   "outputs": [
    {
     "name": "stdout",
     "output_type": "stream",
     "text": [
      "D:\\SEUCourse\\SE_ThermalEnergy\\S2017\\home\n",
      "D:\\SEUCourse\\SE_ThermalEnergy\\S2017\\home\\myfirstrepo\n"
     ]
    }
   ],
   "source": [
    "%cd ..\n",
    "%mkdir myfirstrepo\n",
    "%cd myfirstrepo"
   ]
  },
  {
   "cell_type": "markdown",
   "metadata": {
    "deletable": true,
    "editable": true
   },
   "source": [
    "## Creating and cloning a repository"
   ]
  },
  {
   "cell_type": "markdown",
   "metadata": {
    "deletable": true,
    "editable": true
   },
   "source": [
    "To create a brand new empty repository, we can use the command\n",
    "```bash\n",
    ">git init repository-name\n",
    "```"
   ]
  },
  {
   "cell_type": "code",
   "execution_count": 2,
   "metadata": {
    "collapsed": false,
    "deletable": true,
    "editable": true
   },
   "outputs": [
    {
     "name": "stdout",
     "output_type": "stream",
     "text": [
      "Initialized empty Git repository in D:/SEUCourse/SE_ThermalEnergy/S2017/home/myfirstrepo/gitdemo/.git/\n"
     ]
    }
   ],
   "source": [
    "# create a new git repository called gitdemo:\n",
    "!git init gitdemo"
   ]
  },
  {
   "cell_type": "markdown",
   "metadata": {
    "deletable": true,
    "editable": true
   },
   "source": [
    "If we want to fork or clone an existing repository, we can use the command \n",
    "```bash\n",
    ">git clone repository\n",
    "```"
   ]
  },
  {
   "cell_type": "code",
   "execution_count": null,
   "metadata": {
    "collapsed": false,
    "deletable": true,
    "editable": true
   },
   "outputs": [],
   "source": [
    "!git clone https://github.com/PySEE/SEUIF97"
   ]
  },
  {
   "cell_type": "markdown",
   "metadata": {
    "deletable": true,
    "editable": true
   },
   "source": [
    "Git clone can take a URL to a public repository, like above, or a path to a local directory:"
   ]
  },
  {
   "cell_type": "code",
   "execution_count": 3,
   "metadata": {
    "collapsed": false,
    "deletable": true,
    "editable": true
   },
   "outputs": [
    {
     "name": "stderr",
     "output_type": "stream",
     "text": [
      "Cloning into 'gitdemo2'...\n",
      "warning: You appear to have cloned an empty repository.\n",
      "done.\n"
     ]
    }
   ],
   "source": [
    "!git clone gitdemo gitdemo2"
   ]
  },
  {
   "cell_type": "markdown",
   "metadata": {
    "deletable": true,
    "editable": true
   },
   "source": [
    "## Adding files,Status and committing"
   ]
  },
  {
   "cell_type": "markdown",
   "metadata": {
    "deletable": true,
    "editable": true
   },
   "source": [
    "To add a new file to the repository, we first create the file and then use the `git add filename` command:"
   ]
  },
  {
   "cell_type": "code",
   "execution_count": 4,
   "metadata": {
    "collapsed": false,
    "deletable": true,
    "editable": true
   },
   "outputs": [
    {
     "name": "stdout",
     "output_type": "stream",
     "text": [
      "Writing README.md\n"
     ]
    }
   ],
   "source": [
    "%%file README.md\n",
    "\n",
    "A file with information about the gitdemo repository."
   ]
  },
  {
   "cell_type": "code",
   "execution_count": 5,
   "metadata": {
    "collapsed": false,
    "deletable": true,
    "editable": true
   },
   "outputs": [],
   "source": [
    "!git add README.md"
   ]
  },
  {
   "cell_type": "markdown",
   "metadata": {
    "deletable": true,
    "editable": true
   },
   "source": [
    "## Status"
   ]
  },
  {
   "cell_type": "markdown",
   "metadata": {
    "deletable": true,
    "editable": true
   },
   "source": [
    "Using the command \n",
    "```base\n",
    ">git status\n",
    "```\n",
    "we get a summary of the current status of the **working directory**. It shows if we have modified, added or removed files."
   ]
  },
  {
   "cell_type": "code",
   "execution_count": 6,
   "metadata": {
    "collapsed": false,
    "deletable": true,
    "editable": true
   },
   "outputs": [
    {
     "name": "stdout",
     "output_type": "stream",
     "text": [
      "On branch S2017\n",
      "Your branch is up-to-date with 'origin/S2017'.\n",
      "Changes to be committed:\n",
      "  (use \"git reset HEAD <file>...\" to unstage)\n",
      "\n",
      "\tnew file:   README.md\n",
      "\n",
      "Changes not staged for commit:\n",
      "  (use \"git add <file>...\" to update what will be committed)\n",
      "  (use \"git checkout -- <file>...\" to discard changes in working directory)\n",
      "\n",
      "\tmodified:   ../notebook/Sup2-Version-Control-Git.ipynb\n",
      "\n",
      "Untracked files:\n",
      "  (use \"git add <file>...\" to include in what will be committed)\n",
      "\n",
      "\t../notebook/.ipynb_checkpoints/\n",
      "\n"
     ]
    }
   ],
   "source": [
    "!git status"
   ]
  },
  {
   "cell_type": "markdown",
   "metadata": {
    "deletable": true,
    "editable": true
   },
   "source": [
    "In this case, after having added the file `README.md`, the command `git status` list it as an *untracked* file and has not yet been **commited** to the **repository**.\n",
    "\n",
    "It is therefore not in the repository."
   ]
  },
  {
   "cell_type": "markdown",
   "metadata": {
    "deletable": true,
    "editable": true
   },
   "source": [
    "### Commit"
   ]
  },
  {
   "cell_type": "code",
   "execution_count": 7,
   "metadata": {
    "collapsed": false,
    "deletable": true,
    "editable": true
   },
   "outputs": [
    {
     "name": "stdout",
     "output_type": "stream",
     "text": [
      "[S2017 6e6834e] added README.mdn file\n",
      " 1 file changed, 2 insertions(+)\n",
      " create mode 100644 myfirstrepo/README.md\n"
     ]
    }
   ],
   "source": [
    "!git commit -m \"added README.mdn file\"  README.md"
   ]
  },
  {
   "cell_type": "code",
   "execution_count": 8,
   "metadata": {
    "collapsed": false,
    "deletable": true,
    "editable": true
   },
   "outputs": [
    {
     "name": "stdout",
     "output_type": "stream",
     "text": [
      "On branch S2017\n",
      "Your branch is ahead of 'origin/S2017' by 1 commit.\n",
      "  (use \"git push\" to publish your local commits)\n",
      "Changes not staged for commit:\n",
      "  (use \"git add <file>...\" to update what will be committed)\n",
      "  (use \"git checkout -- <file>...\" to discard changes in working directory)\n",
      "\n",
      "\tmodified:   ../notebook/Sup2-Version-Control-Git.ipynb\n",
      "\n",
      "Untracked files:\n",
      "  (use \"git add <file>...\" to include in what will be committed)\n",
      "\n",
      "\t../notebook/.ipynb_checkpoints/\n",
      "\n",
      "no changes added to commit (use \"git add\" and/or \"git commit -a\")\n"
     ]
    }
   ],
   "source": [
    "!git status"
   ]
  },
  {
   "cell_type": "markdown",
   "metadata": {
    "deletable": true,
    "editable": true
   },
   "source": [
    "### Add a python file"
   ]
  },
  {
   "cell_type": "code",
   "execution_count": null,
   "metadata": {
    "collapsed": false,
    "deletable": true,
    "editable": true
   },
   "outputs": [],
   "source": [
    "%%file Hello.py\n",
    "\n",
    "print('Hello,World!')"
   ]
  },
  {
   "cell_type": "code",
   "execution_count": null,
   "metadata": {
    "collapsed": false,
    "deletable": true,
    "editable": true
   },
   "outputs": [],
   "source": [
    "!git add Hello.py"
   ]
  },
  {
   "cell_type": "code",
   "execution_count": null,
   "metadata": {
    "collapsed": false,
    "deletable": true,
    "editable": true
   },
   "outputs": [],
   "source": [
    "!git commit -m \"added python file\" Hello.py"
   ]
  },
  {
   "cell_type": "code",
   "execution_count": null,
   "metadata": {
    "collapsed": false,
    "deletable": true,
    "editable": true
   },
   "outputs": [],
   "source": [
    "!git status "
   ]
  },
  {
   "cell_type": "markdown",
   "metadata": {
    "deletable": true,
    "editable": true
   },
   "source": [
    "After *committing* the change to the **repository** from **the local working directory**, `git status` again reports that working directory is clean."
   ]
  },
  {
   "cell_type": "markdown",
   "metadata": {
    "deletable": true,
    "editable": true
   },
   "source": [
    "## Commiting changes"
   ]
  },
  {
   "cell_type": "markdown",
   "metadata": {
    "deletable": true,
    "editable": true
   },
   "source": [
    "When files that is tracked by GIT are changed, they are listed as *modified* by `git status`:"
   ]
  },
  {
   "cell_type": "code",
   "execution_count": 9,
   "metadata": {
    "collapsed": false,
    "deletable": true,
    "editable": true
   },
   "outputs": [
    {
     "name": "stdout",
     "output_type": "stream",
     "text": [
      "Overwriting README.md\n"
     ]
    }
   ],
   "source": [
    "%%file README.md\n",
    "\n",
    "A file with information about the gitdemo repository.\n",
    "\n",
    "A new line."
   ]
  },
  {
   "cell_type": "code",
   "execution_count": 10,
   "metadata": {
    "collapsed": false,
    "deletable": true,
    "editable": true
   },
   "outputs": [
    {
     "name": "stdout",
     "output_type": "stream",
     "text": [
      "On branch S2017\n",
      "Your branch is ahead of 'origin/S2017' by 1 commit.\n",
      "  (use \"git push\" to publish your local commits)\n",
      "Changes not staged for commit:\n",
      "  (use \"git add <file>...\" to update what will be committed)\n",
      "  (use \"git checkout -- <file>...\" to discard changes in working directory)\n",
      "\n",
      "\tmodified:   README.md\n",
      "\tmodified:   ../notebook/Sup2-Version-Control-Git.ipynb\n",
      "\n",
      "Untracked files:\n",
      "  (use \"git add <file>...\" to include in what will be committed)\n",
      "\n",
      "\t../notebook/.ipynb_checkpoints/\n",
      "\n",
      "no changes added to commit (use \"git add\" and/or \"git commit -a\")\n"
     ]
    }
   ],
   "source": [
    "!git status"
   ]
  },
  {
   "cell_type": "markdown",
   "metadata": {
    "deletable": true,
    "editable": true
   },
   "source": [
    "Again, we can commit such changes to the repository using the `git commit -m \"message\"` command."
   ]
  },
  {
   "cell_type": "code",
   "execution_count": 11,
   "metadata": {
    "collapsed": false,
    "deletable": true,
    "editable": true
   },
   "outputs": [
    {
     "name": "stdout",
     "output_type": "stream",
     "text": [
      "[S2017 6724217] added one more line in README\n",
      " 1 file changed, 3 insertions(+), 1 deletion(-)\n"
     ]
    }
   ],
   "source": [
    "!git commit -m \"added one more line in README\" README.md"
   ]
  },
  {
   "cell_type": "code",
   "execution_count": 12,
   "metadata": {
    "collapsed": false,
    "deletable": true,
    "editable": true
   },
   "outputs": [
    {
     "name": "stdout",
     "output_type": "stream",
     "text": [
      "On branch S2017\n",
      "Your branch is ahead of 'origin/S2017' by 2 commits.\n",
      "  (use \"git push\" to publish your local commits)\n",
      "Changes not staged for commit:\n",
      "  (use \"git add <file>...\" to update what will be committed)\n",
      "  (use \"git checkout -- <file>...\" to discard changes in working directory)\n",
      "\n",
      "\tmodified:   ../notebook/Sup2-Version-Control-Git.ipynb\n",
      "\n",
      "Untracked files:\n",
      "  (use \"git add <file>...\" to include in what will be committed)\n",
      "\n",
      "\t../notebook/.ipynb_checkpoints/\n",
      "\n",
      "no changes added to commit (use \"git add\" and/or \"git commit -a\")\n"
     ]
    }
   ],
   "source": [
    "!git status"
   ]
  },
  {
   "cell_type": "markdown",
   "metadata": {
    "deletable": true,
    "editable": true
   },
   "source": [
    "## Removing files"
   ]
  },
  {
   "cell_type": "markdown",
   "metadata": {
    "deletable": true,
    "editable": true
   },
   "source": [
    "To remove file that has been added to the repository, use `git rm filename`, which works similar to `git add filename`:"
   ]
  },
  {
   "cell_type": "code",
   "execution_count": 13,
   "metadata": {
    "collapsed": false,
    "deletable": true,
    "editable": true
   },
   "outputs": [
    {
     "name": "stdout",
     "output_type": "stream",
     "text": [
      "Writing tmpfile\n"
     ]
    }
   ],
   "source": [
    "%%file tmpfile\n",
    "\n",
    "A short-lived file."
   ]
  },
  {
   "cell_type": "markdown",
   "metadata": {
    "deletable": true,
    "editable": true
   },
   "source": [
    "Add it:"
   ]
  },
  {
   "cell_type": "code",
   "execution_count": 14,
   "metadata": {
    "collapsed": false,
    "deletable": true,
    "editable": true
   },
   "outputs": [],
   "source": [
    "!git add tmpfile"
   ]
  },
  {
   "cell_type": "code",
   "execution_count": 15,
   "metadata": {
    "collapsed": false,
    "deletable": true,
    "editable": true
   },
   "outputs": [
    {
     "name": "stdout",
     "output_type": "stream",
     "text": [
      "[S2017 d22c7cb] adding file tmpfile\n",
      " 1 file changed, 2 insertions(+)\n",
      " create mode 100644 myfirstrepo/tmpfile\n"
     ]
    }
   ],
   "source": [
    "!git commit -m \"adding file tmpfile\" tmpfile "
   ]
  },
  {
   "cell_type": "markdown",
   "metadata": {
    "deletable": true,
    "editable": true
   },
   "source": [
    "Remove it again:"
   ]
  },
  {
   "cell_type": "code",
   "execution_count": 16,
   "metadata": {
    "collapsed": false,
    "deletable": true,
    "editable": true
   },
   "outputs": [
    {
     "name": "stdout",
     "output_type": "stream",
     "text": [
      "rm 'myfirstrepo/tmpfile'\n"
     ]
    }
   ],
   "source": [
    "!git rm tmpfile"
   ]
  },
  {
   "cell_type": "code",
   "execution_count": 17,
   "metadata": {
    "collapsed": false,
    "deletable": true,
    "editable": true
   },
   "outputs": [
    {
     "name": "stdout",
     "output_type": "stream",
     "text": [
      "[S2017 293976e] remove file tmpfile\n",
      " 1 file changed, 2 deletions(-)\n",
      " delete mode 100644 myfirstrepo/tmpfile\n"
     ]
    }
   ],
   "source": [
    "!git commit -m \"remove file tmpfile\" tmpfile "
   ]
  },
  {
   "cell_type": "markdown",
   "metadata": {
    "deletable": true,
    "editable": true
   },
   "source": [
    "## Commit logs"
   ]
  },
  {
   "cell_type": "markdown",
   "metadata": {
    "deletable": true,
    "editable": true
   },
   "source": [
    "The messages that are added to the commit command are supposed to give a short (often one-line) description of the changes/additions/deletions in the commit. If the `-m \"message\"` is omitted when invoking the `git commit` message an editor will be opened for you to type a commit message (for example useful when a longer commit message is requried). \n",
    "\n",
    "We can look at the revision log by using the command `git log`:"
   ]
  },
  {
   "cell_type": "code",
   "execution_count": 18,
   "metadata": {
    "collapsed": false,
    "deletable": true,
    "editable": true
   },
   "outputs": [
    {
     "name": "stdout",
     "output_type": "stream",
     "text": [
      "commit 293976e7752d16204edde9d136b46913fad1a659\n",
      "Author: thermalogic <cmhnj@189.cn>\n",
      "Date:   Fri Mar 3 08:40:09 2017 +0800\n",
      "\n",
      "    remove file tmpfile\n",
      "\n",
      "commit d22c7cbc21b41f321413564ebb7dde7351fcf63f\n",
      "Author: thermalogic <cmhnj@189.cn>\n",
      "Date:   Fri Mar 3 08:39:40 2017 +0800\n",
      "\n",
      "    adding file tmpfile\n",
      "\n",
      "commit 6724217fc198c4850a77b960e7aca66b66bf7cf7\n",
      "Author: thermalogic <cmhnj@189.cn>\n",
      "Date:   Fri Mar 3 08:39:06 2017 +0800\n",
      "\n",
      "    added one more line in README\n",
      "\n",
      "commit 6e6834ee6afd90c666231b469720cdc69641f2ff\n",
      "Author: thermalogic <cmhnj@189.cn>\n",
      "Date:   Fri Mar 3 08:37:37 2017 +0800\n",
      "\n",
      "    added README.mdn file\n",
      "\n",
      "commit 9e59b5f6378cf51c342b2e1e948f719bfdf3d240\n",
      "Author: thermalogic <cmhnj@189.cn>\n",
      "Date:   Fri Mar 3 07:56:03 2017 +0800\n",
      "\n",
      "    add 6\n",
      "\n",
      "commit a6c7f0694b88c9077e48d2e43d5d39d533e2e816\n",
      "Author: thermalogic <cmhnj@189.cn>\n",
      "Date:   Thu Mar 2 19:59:42 2017 +0800\n",
      "\n",
      "    add doc about ipython\n",
      "\n",
      "commit ccd7b61c0d8729f98d092762917c4ea2055cc6d7\n",
      "Merge: cdd1faa 8376da8\n",
      "Author: thermalogic <cmhnj@189.cn>\n",
      "Date:   Thu Mar 2 19:17:36 2017 +0800\n",
      "\n",
      "    Merge branch 'S2017' of https://github.com/PySEE/home.git into S2017\n",
      "\n",
      "commit 8376da80620780e6310e966b281bde7e8bb2bb86\n",
      "Merge: 40f21f0 40cd1e4\n",
      "Author: Cheng Maohua <cmh@seu.edu.cn>\n",
      "Date:   Thu Mar 2 05:06:17 2017 -0600\n",
      "\n",
      "    Merge pull request #2 from StBaker221B/S2017\n",
      "    \n",
      "    Update BasicPythonEnvironment.md\n",
      "\n",
      "commit 40cd1e482168804fc802ef086ce2fc838419f408\n",
      "Author: Shinichi <596931761@qq.com>\n",
      "Date:   Thu Mar 2 14:31:30 2017 +0800\n",
      "\n",
      "    Update BasicPythonEnvironment.md\n",
      "    \n",
      "    鑰佸笀鎮ㄥソ锛屽叧浜庡揩閫熷惎鍔↗upyter Notebook鐨勬柟娉曪紝鎴戣�夊緱娣诲姞鍦ㄨ繖閲屾瘮杈冨悎閫傘��\n",
      "\n",
      "commit cdd1faa37a34ec667e54b406124df0b7735ca9bd\n",
      "Author: thermalogic <cmhnj@189.cn>\n",
      "Date:   Tue Feb 28 14:44:09 2017 +0800\n",
      "\n",
      "    clean test\n",
      "\n",
      "commit 3d04703c14422065e63f5e06ad69501114346f2e\n",
      "Author: thermalogic <cmhnj@189.cn>\n",
      "Date:   Tue Feb 28 14:43:23 2017 +0800\n",
      "\n",
      "    test\n",
      "\n",
      "commit 40f21f0356f37b922592b26e4e568bc6601985a9\n",
      "Author: thermalogic <cmhnj@189.cn>\n",
      "Date:   Tue Feb 28 08:37:29 2017 +0800\n",
      "\n",
      "    Windows10\n",
      "\n",
      "commit 41571e87a88067f5fef0130308839259cdb0b6ac\n",
      "Author: thermalogic <cmhnj@189.cn>\n",
      "Date:   Mon Feb 27 23:43:14 2017 +0800\n",
      "\n",
      "    remove practice\n",
      "\n",
      "commit f26b0da0efd89c7168ebcff339743b0fc13e3441\n",
      "Author: thermalogic <cmhnj@189.cn>\n",
      "Date:   Fri Feb 24 00:31:17 2017 +0800\n",
      "\n",
      "    practice contents in https://github.com/PySEE/RecommendedPractices only\n",
      "\n",
      "commit f5844c2dd35d701ffc6181582250b41fe8e2de8f\n",
      "Author: thermalogic <cmhnj@189.cn>\n",
      "Date:   Thu Feb 23 17:05:44 2017 +0800\n",
      "\n",
      "    03014433 鍛ㄩ箯\n",
      "\n",
      "commit 0480fd25de197de6d6d7221fbf3bf4a8950033f6\n",
      "Author: thermalogic <cmhnj@189.cn>\n",
      "Date:   Tue Feb 21 22:48:29 2017 +0800\n",
      "\n",
      "    add Legitimate Software @ Southeast University in README\n",
      "\n",
      "commit 1a993dd985c7321c748379caa82cbc9735a81b8c\n",
      "Author: thermalogic <cmhnj@189.cn>\n",
      "Date:   Tue Feb 21 14:05:44 2017 +0800\n",
      "\n",
      "    github issue\n",
      "\n",
      "commit f229e0b7b85fbafbe9683c768f5b9e1fce994642\n",
      "Author: thermalogic <cmhnj@189.cn>\n",
      "Date:   Tue Feb 21 13:56:24 2017 +0800\n",
      "\n",
      "    add github issue\n",
      "\n",
      "commit 104f164e20bca1fb3a5ceec4325a9c2b5ffc0b75\n",
      "Author: thermalogic <cmhnj@189.cn>\n",
      "Date:   Tue Feb 21 11:15:31 2017 +0800\n",
      "\n",
      "    rename seuif97 2 libseuif97 in PyThermo_IF97.ipynb\n",
      "\n",
      "commit e9a1af9c3bea39142b61740598d42657fabce76c\n",
      "Author: thermalogic <cmhnj@189.cn>\n",
      "Date:   Mon Feb 20 08:19:54 2017 +0800\n",
      "\n",
      "    clean\n",
      "\n",
      "commit 47e97590adc1d4ca9354cd81dc714dd5792feae4\n",
      "Author: thermalogic <cmhnj@189.cn>\n",
      "Date:   Mon Feb 20 08:19:39 2017 +0800\n",
      "\n",
      "    software list\n",
      "\n",
      "commit aaf815e7da1eef0edaac4480764a04007ce51575\n",
      "Author: thermalogic <cmhnj@189.cn>\n",
      "Date:   Mon Feb 20 03:45:05 2017 +0800\n",
      "\n",
      "    condense goals\n",
      "\n",
      "commit f8142b3a266294a82712dad45735f0771a6f9a0f\n",
      "Author: thermalogic <cmhnj@189.cn>\n",
      "Date:   Mon Feb 20 03:17:45 2017 +0800\n",
      "\n",
      "    reduction\n",
      "\n",
      "commit f9d4103b6c049944d811be602c37119d1d6e74d1\n",
      "Author: thermalogic <cmhnj@189.cn>\n",
      "Date:   Mon Feb 20 01:20:34 2017 +0800\n",
      "\n",
      "    modified software list\n",
      "\n",
      "commit cc92e3907ae12ac0000b4220996a5802bc21d378\n",
      "Author: thermalogic <cmhnj@189.cn>\n",
      "Date:   Mon Feb 20 01:19:19 2017 +0800\n",
      "\n",
      "    modified software list\n",
      "\n",
      "commit 4aa91e56cf89ec1d4101e3630a71e0e4243eb8f7\n",
      "Author: thermalogic <cmhnj@189.cn>\n",
      "Date:   Mon Feb 20 01:15:30 2017 +0800\n",
      "\n",
      "    Softwares for the Course\n",
      "\n",
      "commit 934db9285d331a4494793565c543750095afa40f\n",
      "Author: thermalogic <cmhnj@189.cn>\n",
      "Date:   Mon Feb 20 01:01:05 2017 +0800\n",
      "\n",
      "    merge software list to readme\n",
      "\n",
      "commit 9bdaeb743363e8f56e3e7ed5217f18f4291fd426\n",
      "Author: thermalogic <cmhnj@189.cn>\n",
      "Date:   Mon Feb 20 00:42:09 2017 +0800\n",
      "\n",
      "    onGithub\n",
      "\n",
      "commit 2ff64e4573c605ed17bdea3ef9dbe282d77f44d3\n",
      "Author: thermalogic <cmhnj@189.cn>\n",
      "Date:   Sun Feb 19 16:00:36 2017 +0800\n",
      "\n",
      "    update README.md\n",
      "\n",
      "commit 7ac889525b4004c2a9a3edbb6dfe0a4236b69cdc\n",
      "Author: thermalogic <cmhnj@189.cn>\n",
      "Date:   Sun Feb 19 15:53:29 2017 +0800\n",
      "\n",
      "    update README\n",
      "\n",
      "commit 708aecbaf99da1bd1cfe4af4fb847fe7d508dfc7\n",
      "Author: thermalogic <cmhnj@189.cn>\n",
      "Date:   Sun Feb 19 02:33:40 2017 +0800\n",
      "\n",
      "    update points\n",
      "\n",
      "commit 1dce8d7dde232fa9b1c8b49967bec723c3daa946\n",
      "Author: thermalogic <cmhnj@189.cn>\n",
      "Date:   Sat Feb 18 23:09:14 2017 +0800\n",
      "\n",
      "    update git\n",
      "\n",
      "commit 7f740f6b450f61627163253d700ca544da231168\n",
      "Author: Cheng Maohua <seu@seu.edu.cn>\n",
      "Date:   Sat Feb 18 22:45:05 2017 +0800\n",
      "\n",
      "    update clean checkpoints\n",
      "\n",
      "commit 20316000987494ffdd78422201f0da3b4dadfa85\n",
      "Author: Cheng Maohua <seu@seu.edu.cn>\n",
      "Date:   Fri Feb 17 20:17:34 2017 +0800\n",
      "\n",
      "    update README\n",
      "\n",
      "commit b9b1049630bf9b29acbe9fa445316db5e6b6ae58\n",
      "Author: 'Cheng <seu@seu.edu.cn>\n",
      "Date:   Fri Feb 17 20:06:57 2017 +0800\n",
      "\n",
      "    update git\n",
      "\n",
      "commit 377cda1208e9521e2e2ebdd904217cc76a5c1e5a\n",
      "Author: Cheng <seu@seu.edu.cn>\n",
      "Date:   Fri Feb 17 10:27:51 2017 +0800\n",
      "\n",
      "    update git\n",
      "\n",
      "commit 1e6b4548e132de5e26e965f37dee51354e047ad1\n",
      "Author: Cheng <seu@seu.edu.cn>\n",
      "Date:   Thu Feb 16 17:42:41 2017 +0800\n",
      "\n",
      "    update git\n",
      "\n",
      "commit 6bf9e139982cda3816624916eba03d81ce094b0b\n",
      "Author: Cheng Maohua <cmh@seu.edu.cn>\n",
      "Date:   Wed Feb 15 01:35:13 2017 +0800\n",
      "\n",
      "    update ctypes\n",
      "\n",
      "commit b4186f434629fd774fc3660ef03a519582689da9\n",
      "Author: Cheng Maohua <cmh@seu.edu.cn>\n",
      "Date:   Wed Feb 15 01:32:50 2017 +0800\n",
      "\n",
      "    update ctypes\n",
      "\n",
      "commit 9733f26d96c7127070e2a5ecbda9b98b724e5652\n",
      "Author: Cheng Maohua <cmh@seu.edu.cn>\n",
      "Date:   Tue Feb 14 23:11:16 2017 +0800\n",
      "\n",
      "    update timeit\n",
      "\n",
      "commit c7f6f37477677601459803a26dc76a064ed9b3e5\n",
      "Author: Cheng Maohua <cmh@seu.edu.cn>\n",
      "Date:   Tue Feb 14 22:46:25 2017 +0800\n",
      "\n",
      "    update Ctypes\n",
      "\n",
      "commit 8dc59a9e36e863aa2cdbef3caa9c586559dd6040\n",
      "Author: Cheng Maohua <cmh@seu.edu.cn>\n",
      "Date:   Tue Feb 14 22:45:42 2017 +0800\n",
      "\n",
      "    update clean\n",
      "\n",
      "commit d0143163adcda299639f4aaa807af8f494c3c39c\n",
      "Author: Cheng Maohua <cmh@seu.edu.cn>\n",
      "Date:   Tue Feb 14 22:44:54 2017 +0800\n",
      "\n",
      "    update Ctypes\n",
      "\n",
      "commit 8974d6f4796b23af565d8354ed1fcb63d92291e4\n",
      "Author: Cheng Maohua <cmh@seu.edu.cn>\n",
      "Date:   Tue Feb 14 22:34:20 2017 +0800\n",
      "\n",
      "    added notebook file\n",
      "\n",
      "commit 029b60d87b6f69a3f6b33d4223c8fe6821a79ebf\n",
      "Author: Cheng Maohua <cmh@seu.edu.cn>\n",
      "Date:   Tue Feb 14 22:33:24 2017 +0800\n",
      "\n",
      "    Added a README file\n",
      "\n",
      "commit 7d5dc4acfb6dd739985b7f93e92e7d3cb6550e67\n",
      "Author: Cheng Maohua <cmh@seu.edu.cn>\n",
      "Date:   Tue Feb 14 07:56:29 2017 +0800\n",
      "\n",
      "    update dev\n",
      "\n",
      "commit a60547674c8d8b5577cfee8e72b9db4dd4e3c52c\n",
      "Author: Cheng Maohua <cmh@seu.edu.cn>\n",
      "Date:   Mon Feb 13 16:26:58 2017 +0800\n",
      "\n",
      "    update guide\n",
      "\n",
      "commit f4d3c9b5970c3d1f867573d011133c0691e29fb8\n",
      "Author: Cheng Maohua <cmh@seu.edu.cn>\n",
      "Date:   Mon Feb 13 14:39:53 2017 +0800\n",
      "\n",
      "    update cloninghome\n",
      "\n",
      "commit b378e61deeedcd444b307e499bf72db7ab1af0c6\n",
      "Author: Cheng Maohua <cmh@seu.edu.cn>\n",
      "Date:   Mon Feb 13 09:03:00 2017 +0800\n",
      "\n",
      "    Update 2017\n",
      "\n",
      "commit cb92c107a3b8f81cb78769ca9a02f6b7dd9727ba\n",
      "Author: Cheng Maohua <cmh@seu.edu.cn>\n",
      "Date:   Mon Feb 6 23:09:57 2017 +0800\n",
      "\n",
      "    update M1\n",
      "\n",
      "commit cffa9fbb6784cb7151446fa0c5a853ce9073afed\n",
      "Author: Cheng Maohua <cmh@seu.edu.cn>\n",
      "Date:   Mon Feb 6 19:23:12 2017 +0800\n",
      "\n",
      "    update M1\n",
      "\n",
      "commit 1806e497a075b9c6bcb6da83d55888c7ec38c540\n",
      "Author: Cheng Maohua <cmh@seu.edu.cn>\n",
      "Date:   Mon Feb 6 19:21:59 2017 +0800\n",
      "\n",
      "    update M1\n",
      "\n",
      "commit 093c4904be82e22d3b4a50f5cbdf14f35f2e3493\n",
      "Author: Cheng Maohua <cmh@seu.edu.cn>\n",
      "Date:   Mon Feb 6 19:17:47 2017 +0800\n",
      "\n",
      "    update M1\n",
      "\n",
      "commit a51c7918d350bdab6ee58bdbe8698ce0af0aaaa7\n",
      "Author: Cheng Maohua <cmh@seu.edu.cn>\n",
      "Date:   Mon Feb 6 19:14:32 2017 +0800\n",
      "\n",
      "    update M2\n",
      "\n",
      "commit 95971f1185b6322cd4c62791ab90c73a211cc6d3\n",
      "Author: Cheng Maohua <cmh@seu.edu.cn>\n",
      "Date:   Sun Feb 5 21:09:54 2017 +0800\n",
      "\n",
      "    update M2\n",
      "\n",
      "commit ede34bd32abe1d63d373b9b5bb8df9325a502f6f\n",
      "Author: Cheng Maohua <cmh@seu.edu.cn>\n",
      "Date:   Sun Feb 5 20:53:10 2017 +0800\n",
      "\n",
      "    update M2\n",
      "\n",
      "commit df9f7ecb8ec9b981f82f12f3af680070dfaaa3d9\n",
      "Author: Cheng Maohua <cmh@seu.edu.cn>\n",
      "Date:   Sun Feb 5 20:49:49 2017 +0800\n",
      "\n",
      "    update M1\n",
      "\n",
      "commit ae16ab540b0eaa503ab24b2be9410b7b483e534f\n",
      "Author: Cheng Maohua <cmh@seu.edu.cn>\n",
      "Date:   Fri Jan 20 22:39:51 2017 +0800\n",
      "\n",
      "    update M1\n",
      "\n",
      "commit a2b2be6f0217383f15861c086a796a08e5da8b58\n",
      "Author: Cheng Maohua <cmh@seu.edu.cn>\n",
      "Date:   Fri Jan 20 12:41:53 2017 +0800\n",
      "\n",
      "    update M1\n",
      "\n",
      "commit 666ad1835368ec63248ad8cb88c4cf15338924f9\n",
      "Author: Cheng Maohua <cmh@seu.edu.cn>\n",
      "Date:   Fri Jan 20 12:41:06 2017 +0800\n",
      "\n",
      "    update M1\n",
      "\n",
      "commit a31402533cba4ecd7d5fb1a921b9df9c33a18961\n",
      "Author: Cheng Maohua <cmh@seu.edu.cn>\n",
      "Date:   Fri Jan 20 12:36:45 2017 +0800\n",
      "\n",
      "    update M1\n",
      "\n",
      "commit e3d4309006f283696a5e5767487f5f5990ae39ca\n",
      "Author: Cheng Maohua <cmh@seu.edu.cn>\n",
      "Date:   Fri Jan 20 12:31:36 2017 +0800\n",
      "\n",
      "    update M1\n",
      "\n",
      "commit f02f852c5d1f1a92e77d66295d74585b2e4aa2c9\n",
      "Author: Cheng Maohua <cmh@seu.edu.cn>\n",
      "Date:   Fri Jan 20 12:29:34 2017 +0800\n",
      "\n",
      "    update M1\n",
      "\n",
      "commit 90def8697b65db7f5bbea878a1ecb80654ead89c\n",
      "Author: Cheng Maohua <cmh@seu.edu.cn>\n",
      "Date:   Fri Jan 20 12:22:59 2017 +0800\n",
      "\n",
      "    update M1\n",
      "\n",
      "commit fa9c79b04ca917de72217664d96c377e4364332e\n",
      "Author: Cheng Maohua <cmh@seu.edu.cn>\n",
      "Date:   Fri Jan 20 01:03:08 2017 +0800\n",
      "\n",
      "    update M1\n",
      "\n",
      "commit e54aae868454b7e74b52d3494cb4dd514b229052\n",
      "Author: Cheng Maohua <cmh@seu.edu.cn>\n",
      "Date:   Thu Jan 19 22:21:17 2017 +0800\n",
      "\n",
      "    update M1\n",
      "\n",
      "commit 23da35f86e1659aa270ac27ed709cf368c65e946\n",
      "Author: Cheng Maohua <cmh@seu.edu.cn>\n",
      "Date:   Thu Jan 19 22:10:50 2017 +0800\n",
      "\n",
      "    update M1\n",
      "\n",
      "commit e6bf04e0b2b6ce06a8ad471414232133e226426a\n",
      "Author: Cheng Maohua <cmh@seu.edu.cn>\n",
      "Date:   Thu Jan 19 09:43:34 2017 +0800\n",
      "\n",
      "    update M1\n",
      "\n",
      "commit 45dcd47b4d0ca3892ae36419ac38641e6caf2c83\n",
      "Author: Cheng Maohua <cmh@seu.edu.cn>\n",
      "Date:   Wed Jan 18 21:30:52 2017 +0800\n",
      "\n",
      "    update M1\n",
      "\n",
      "commit c72bb98f7031659307b1b49f110d7d125592bd4a\n",
      "Author: Cheng Maohua <cmh@seu.edu.cn>\n",
      "Date:   Wed Jan 18 21:24:19 2017 +0800\n",
      "\n",
      "    update M1\n",
      "\n",
      "commit f332c485be50e23a63276a333e7f69bb978b181c\n",
      "Author: Cheng Maohua <cmh@seu.edu.cn>\n",
      "Date:   Wed Jan 18 20:52:19 2017 +0800\n",
      "\n",
      "    upadte M!\n",
      "\n",
      "commit 2966cae4928e04dcf672791b49b20d569b5dd146\n",
      "Author: Cheng Maohua <cmh@seu.edu.cn>\n",
      "Date:   Wed Jan 18 20:48:44 2017 +0800\n",
      "\n",
      "    update M1\n",
      "\n",
      "commit 1fb84ab4ff933e7066eae27d63285fcdda27430f\n",
      "Author: Cheng Maohua <cmh@seu.edu.cn>\n",
      "Date:   Wed Jan 18 20:41:57 2017 +0800\n",
      "\n",
      "    update M1\n",
      "\n",
      "commit 7ccd812af7aaf3291ef7bd035d6e8941470d3888\n",
      "Author: Cheng Maohua <cmh@seu.edu.cn>\n",
      "Date:   Wed Jan 18 19:33:46 2017 +0800\n",
      "\n",
      "    update M1\n",
      "\n",
      "commit e289a66f7f22a3ff351c7fa227ca42e02018173c\n",
      "Author: Cheng Maohua <cmh@seu.edu.cn>\n",
      "Date:   Wed Jan 18 00:17:21 2017 +0800\n",
      "\n",
      "    update M1\n",
      "\n",
      "commit fe3efb9102692752747cb52b75aa1b3531e5b90a\n",
      "Author: Cheng Maohua <cmh@seu.edu.cn>\n",
      "Date:   Fri Jan 13 14:00:25 2017 +0800\n",
      "\n",
      "    update ubuntu\n",
      "\n",
      "commit dc4ae04a0e768ced4c10ef124ce76c69ec15987d\n",
      "Author: Cheng Maohua <cmh@seu.edu.cn>\n",
      "Date:   Fri Jan 13 13:15:23 2017 +0800\n",
      "\n",
      "    update readme\n",
      "\n",
      "commit ad762d5e715c480caf07fffef77ed4481400ecef\n",
      "Author: Cheng Maohua <cmh@seu.edu.cn>\n",
      "Date:   Fri Jan 13 13:06:42 2017 +0800\n",
      "\n",
      "    update img\n",
      "\n",
      "commit e02644e2ad7e1497683acaba398e3c4a38625fd5\n",
      "Author: Cheng Maohua <cmh@seu.edu.cn>\n",
      "Date:   Fri Jan 13 12:49:58 2017 +0800\n",
      "\n",
      "    update M1\n",
      "\n",
      "commit 46951daf029d190e1615da3137e233addd1fecd0\n",
      "Author: Cheng Maohua <cmh@seu.edu.cn>\n",
      "Date:   Fri Jan 13 12:48:57 2017 +0800\n",
      "\n",
      "    update M1\n",
      "\n",
      "commit 22d97c3e2f909014c14e819fc0009d055f801d6f\n",
      "Author: Cheng Maohua <cmh@seu.edu.cn>\n",
      "Date:   Fri Jan 13 12:47:48 2017 +0800\n",
      "\n",
      "    update M1\n",
      "\n",
      "commit 9e3ccae90601c838a6a9f1da4105506f405271b7\n",
      "Author: Cheng Maohua <cmh@seu.edu.cn>\n",
      "Date:   Fri Jan 13 12:46:10 2017 +0800\n",
      "\n",
      "    update M1\n",
      "\n",
      "commit abda0280ca2bd1c3187d0950a86849d73fb90196\n",
      "Author: Cheng Maohua <cmh@seu.edu.cn>\n",
      "Date:   Fri Jan 13 12:43:36 2017 +0800\n",
      "\n",
      "    update M1\n",
      "\n",
      "commit 47a4e741913b9a7ed706e0b9be45a5a9640e1f3f\n",
      "Author: Cheng Maohua <cmh@seu.edu.cn>\n",
      "Date:   Fri Jan 13 12:36:35 2017 +0800\n",
      "\n",
      "    update M1\n",
      "\n",
      "commit ed6aec703562be25d4a5834962233f4b2c7fadee\n",
      "Author: Cheng Maohua <cmh@seu.edu.cn>\n",
      "Date:   Fri Jan 13 12:33:51 2017 +0800\n",
      "\n",
      "    update desktop\n",
      "\n",
      "commit 94929678a8ee5997d7082dc64116d1bdc0b290a9\n",
      "Author: Cheng Maohua <cmh@seu.edu.cn>\n",
      "Date:   Thu Jan 12 08:32:36 2017 +0800\n",
      "\n",
      "    update ubuntukylin\n",
      "\n",
      "commit 725598fbfdae32d6c1804c1a99653f6d9fa7a823\n",
      "Author: Cheng Maohua <cmh@seu.edu.cn>\n",
      "Date:   Wed Jan 11 10:21:13 2017 +0800\n",
      "\n",
      "    update M1\n",
      "\n",
      "commit 14de1032217ff2d7eb04ed9dd3abae1687b8f634\n",
      "Author: Cheng Maohua <cmh@seu.edu.cn>\n",
      "Date:   Sat Jan 7 20:30:17 2017 +0800\n",
      "\n",
      "    update 20170107\n",
      "\n",
      "commit 3a45760cbbb434d7573d057f9e577e2b3e72bb22\n",
      "Author: Cheng Maohua <cmh@seu.edu.cn>\n",
      "Date:   Sat Jan 7 13:45:50 2017 +0800\n",
      "\n",
      "    update **\n",
      "\n",
      "commit 5cdbe5bad18a776f93a3d3819464d89df5f04219\n",
      "Author: Cheng Maohua <cmh@seu.edu.cn>\n",
      "Date:   Sat Jan 7 13:39:55 2017 +0800\n",
      "\n",
      "    update 20170117\n",
      "\n",
      "commit 035c019f16a90fc569faf33e254d68a5e79b1ba4\n",
      "Author: Cheng Maohua <cmh@seu.edu.cn>\n",
      "Date:   Wed Dec 28 10:23:19 2016 +0800\n",
      "\n",
      "    update grades\n",
      "\n",
      "commit d59edcbd5ef125cd2cfd71d29ae516023c14bc5e\n",
      "Author: Cheng Maohua <cmh@seu.edu.cn>\n",
      "Date:   Wed Dec 28 09:33:18 2016 +0800\n",
      "\n",
      "    update title\n",
      "\n",
      "commit d199556708d078145fadf6fcb40fffff235bce91\n",
      "Author: Cheng Maohua <cmh@seu.edu.cn>\n",
      "Date:   Wed Dec 28 09:32:38 2016 +0800\n",
      "\n",
      "    update title\n",
      "\n",
      "commit 68eb2ff34b70db42d8a8d7fed9fe5fa263fc9733\n",
      "Author: Cheng Maohua <cmh@seu.edu.cn>\n",
      "Date:   Mon Dec 26 23:08:50 2016 +0800\n",
      "\n",
      "    update guide\n",
      "\n",
      "commit dd8e5bff616b53f02fd89e64eb038c8cd3782cc0\n",
      "Author: Cheng Maohua <cmh@seu.edu.cn>\n",
      "Date:   Sun Dec 25 23:55:13 2016 +0800\n",
      "\n",
      "    update readme\n",
      "\n",
      "commit e821f50f37057b9155cb80b19b35e38dbcb69987\n",
      "Author: Cheng Maohua <cmh@seu.edu.cn>\n",
      "Date:   Sun Dec 25 10:21:36 2016 +0800\n",
      "\n",
      "    update guide\n",
      "\n",
      "commit 5821d26066f3b6b506460b5c6efc08c2acad8f16\n",
      "Author: Cheng Maohua <cmh@seu.edu.cn>\n",
      "Date:   Fri Dec 23 19:55:29 2016 +0800\n",
      "\n",
      "    update seuif97\n",
      "\n",
      "commit c07c42f5cb70dc9a3140db5ba383c08617b36f52\n",
      "Author: Cheng Maohua <cmh@seu.edu.cn>\n",
      "Date:   Fri Dec 23 18:44:13 2016 +0800\n",
      "\n",
      "    update FAQ\n",
      "\n",
      "commit ad04c08fb23e8ccc701173f43b54e2f047800e71\n",
      "Author: Cheng Maohua <cmh@seu.edu.cn>\n",
      "Date:   Fri Dec 23 18:38:53 2016 +0800\n",
      "\n",
      "    update FAQ\n",
      "\n",
      "commit 1f304327dc0a926b4786dc771af64ff71e62acae\n",
      "Author: Cheng Maohua <cmh@seu.edu.cn>\n",
      "Date:   Fri Dec 23 13:25:51 2016 +0800\n",
      "\n",
      "    update readme\n",
      "\n",
      "commit bfa1002ff2d81d426d19c24d391c52f1d783ea13\n",
      "Author: Cheng Maohua <cmh@seu.edu.cn>\n",
      "Date:   Fri Dec 23 12:14:37 2016 +0800\n",
      "\n",
      "    update guide\n",
      "\n",
      "commit beaba54575b8d6d45aca40d0499d41b10eda6289\n",
      "Author: Cheng Maohua <cmh@seu.edu.cn>\n",
      "Date:   Fri Dec 23 12:14:20 2016 +0800\n",
      "\n",
      "    update guide\n",
      "\n",
      "commit a9f260b29852109982201a409ffbc696962e61bc\n",
      "Author: Cheng Maohua <cmh@seu.edu.cn>\n",
      "Date:   Fri Dec 23 11:47:41 2016 +0800\n",
      "\n",
      "    update git\n",
      "\n",
      "commit 0cc7291941f5fcbca47c7774da06428077fecc3a\n",
      "Author: Cheng Maohua <cmh@seu.edu.cn>\n",
      "Date:   Fri Dec 23 11:47:31 2016 +0800\n",
      "\n",
      "    update git\n",
      "\n",
      "commit d7b9012b84c8471d1442d4e95d7c01475f592e91\n",
      "Author: Cheng Maohua <cmh@seu.edu.cn>\n",
      "Date:   Thu Dec 22 13:30:28 2016 +0800\n",
      "\n",
      "    update readme\n",
      "\n",
      "commit 0996278ec45adba83e62c319cf6cf5aef4ad66af\n",
      "Author: Cheng Maohua <cmh@seu.edu.cn>\n",
      "Date:   Thu Dec 22 00:21:02 2016 +0800\n",
      "\n",
      "    update readme\n",
      "\n",
      "commit 5e7aa62c39349caf0f5fdd1b32cd70dcf860332b\n",
      "Author: Cheng Maohua <cmh@seu.edu.cn>\n",
      "Date:   Thu Dec 22 00:17:27 2016 +0800\n",
      "\n",
      "    update readme\n",
      "\n",
      "commit 75bee0c4f81077f5b0df13dddc862cccbb0fca85\n",
      "Author: Cheng Maohua <cmh@seu.edu.cn>\n",
      "Date:   Wed Dec 21 23:45:17 2016 +0800\n",
      "\n",
      "    update readme\n",
      "\n",
      "commit 069dd1e451bf56d550ca35ef6e0e575d36f72b46\n",
      "Author: Cheng Maohua <cmh@seu.edu.cn>\n",
      "Date:   Wed Dec 21 23:43:06 2016 +0800\n",
      "\n",
      "    update code\n",
      "\n",
      "commit 739ca9a8cac09627a51c4d8eb348580397e0c2c7\n",
      "Author: Cheng Maohua <cmh@seu.edu.cn>\n",
      "Date:   Wed Dec 21 23:06:40 2016 +0800\n",
      "\n",
      "    update python35\n",
      "\n",
      "commit 41922ec21d4f346876c1e3855d0c1153d4516ffc\n",
      "Author: Cheng Maohua <cmh@seu.edu.cn>\n",
      "Date:   Wed Dec 21 23:02:17 2016 +0800\n",
      "\n",
      "    update Python3.5\n",
      "\n",
      "commit c76c0320f866dabb225a4dd4fbe448b887216710\n",
      "Author: Cheng Maohua <cmh@seu.edu.cn>\n",
      "Date:   Wed Dec 21 20:26:48 2016 +0800\n",
      "\n",
      "    update readme\n",
      "\n",
      "commit d2df96d8233927bd90ab44007be83ab78238cfcc\n",
      "Author: Cheng Maohua <cmh@seu.edu.cn>\n",
      "Date:   Wed Dec 21 20:25:46 2016 +0800\n",
      "\n",
      "    update readme\n",
      "\n",
      "commit 473f472f8bee03acd0027ecf5189acc479d1de9d\n",
      "Author: Cheng Maohua <cmh@seu.edu.cn>\n",
      "Date:   Wed Dec 21 19:37:33 2016 +0800\n",
      "\n",
      "    update ar\n",
      "\n",
      "commit b06c16ef24e39b5daf653faac93339a33316c823\n",
      "Author: Cheng Maohua <cmh@seu.edu.cn>\n",
      "Date:   Wed Dec 21 19:31:27 2016 +0800\n",
      "\n",
      "    update reheat\n",
      "\n",
      "commit 7dbdfcdde95c119777ff03c202479dd7b09cf452\n",
      "Author: Cheng Maohua <cmh@seu.edu.cn>\n",
      "Date:   Wed Dec 21 18:53:23 2016 +0800\n",
      "\n",
      "    update rankine\n",
      "\n",
      "commit 82be72618699fb9ccf144fb9832bbea4fcb8f742\n",
      "Author: Cheng Maohua <cmh@seu.edu.cn>\n",
      "Date:   Wed Dec 21 14:40:21 2016 +0800\n",
      "\n",
      "    update faq\n",
      "\n",
      "commit 9c02cfc0dc329ebe88a0e6ba3192ccb587b64326\n",
      "Author: Cheng Maohua <cmh@seu.edu.cn>\n",
      "Date:   Wed Dec 21 14:39:52 2016 +0800\n",
      "\n",
      "    update faq\n",
      "\n",
      "commit 95435ffd9b85f3c902f90fb5741a0c28940ad872\n",
      "Author: Cheng Maohua <cmh@seu.edu.cn>\n",
      "Date:   Wed Dec 21 14:36:05 2016 +0800\n",
      "\n",
      "    update clean\n",
      "\n",
      "commit 68460415a7135a944338eae05d4915f47fc076b6\n",
      "Author: Cheng Maohua <cmh@seu.edu.cn>\n",
      "Date:   Wed Dec 21 13:23:18 2016 +0800\n",
      "\n",
      "    update readme\n",
      "\n",
      "commit 49326186daea9b61850139e87f9f9edd1d3d8521\n",
      "Author: Cheng Maohua <cmh@seu.edu.cn>\n",
      "Date:   Wed Dec 21 13:17:54 2016 +0800\n",
      "\n",
      "    update arrangement\n",
      "\n",
      "commit 271dd7981fe734c300d78e099e93114797e69460\n",
      "Author: Cheng Maohua <cmh@seu.edu.cn>\n",
      "Date:   Wed Dec 21 13:13:47 2016 +0800\n",
      "\n",
      "    update arrangement\n",
      "\n",
      "commit 01a6b1c77043f41ffdfe8ea65741278a4c3f4240\n",
      "Author: Cheng Maohua <cmh@seu.edu.cn>\n",
      "Date:   Wed Dec 21 13:09:58 2016 +0800\n",
      "\n",
      "    update arrangement\n",
      "\n",
      "commit c4863b55776ac6e01b001b3e50e5f0a93ebb24ae\n",
      "Author: Cheng Maohua <cmh@seu.edu.cn>\n",
      "Date:   Wed Dec 21 13:07:54 2016 +0800\n",
      "\n",
      "    update arrangement\n",
      "\n",
      "commit 583c1735c8abbec8891c6cd129d182dfd9db183f\n",
      "Author: Cheng Maohua <cmh@seu.edu.cn>\n",
      "Date:   Wed Dec 21 13:06:34 2016 +0800\n",
      "\n",
      "    update PyThermal\n",
      "\n",
      "commit b9af17d08b67eb61546044df72bfd1c121fa9405\n",
      "Author: Cheng Maohua <cmh@seu.edu.cn>\n",
      "Date:   Wed Dec 21 12:38:49 2016 +0800\n",
      "\n",
      "    update readme\n",
      "\n",
      "commit d9eb7a4ccc83b0d009e8a50072c73c9fffb50a61\n",
      "Author: Cheng Maohua <cmh@seu.edu.cn>\n",
      "Date:   Wed Dec 21 12:38:05 2016 +0800\n",
      "\n",
      "    update readme\n",
      "\n",
      "commit 8d68bd9cf223988b841148ef8a35e81894d9982d\n",
      "Author: Cheng Maohua <cmh@seu.edu.cn>\n",
      "Date:   Wed Dec 21 12:36:31 2016 +0800\n",
      "\n",
      "    update readme\n",
      "\n",
      "commit f1da1a21d5fb5b7edb548611dfd29a3c058af546\n",
      "Author: Cheng Maohua <cmh@seu.edu.cn>\n",
      "Date:   Wed Dec 21 12:31:25 2016 +0800\n",
      "\n",
      "    update setupenviv\n",
      "\n",
      "commit f42af3dc353ddb4748ab880a3edaa98a741d8549\n",
      "Author: Cheng Maohua <cmh@seu.edu.cn>\n",
      "Date:   Wed Dec 21 12:29:13 2016 +0800\n",
      "\n",
      "    update softwares\n",
      "\n",
      "commit f58504be93ec9b78529a392bb1048dddb2f9a2a6\n",
      "Author: Cheng Maohua <cmh@seu.edu.cn>\n",
      "Date:   Wed Dec 21 12:23:40 2016 +0800\n",
      "\n",
      "    update guide\n",
      "\n",
      "commit 6a00477b3c2826b6eaa04811d3e7d125c0cb03e0\n",
      "Author: Cheng Maohua <cmh@seu.edu.cn>\n",
      "Date:   Wed Dec 21 12:17:35 2016 +0800\n",
      "\n",
      "    update setenvi\n",
      "\n",
      "commit 01f00210dc8e088587ad8083228eb2cd9db1b9f0\n",
      "Author: Cheng Maohua <cmh@seu.edu.cn>\n",
      "Date:   Wed Dec 21 12:09:21 2016 +0800\n",
      "\n",
      "    update multi\n",
      "\n",
      "commit 3f2a9d319e2afbd9b0820257ea488beb2b58e54c\n",
      "Author: Cheng Maohua <cmh@seu.edu.cn>\n",
      "Date:   Sun Dec 18 18:51:39 2016 +0800\n",
      "\n",
      "    update vps\n",
      "\n",
      "commit 013b3b47d20dc49d4f599948edbff6f141aa255f\n",
      "Author: Cheng Maohua <cmh@seu.edu.cn>\n",
      "Date:   Sun Dec 18 18:36:32 2016 +0800\n",
      "\n",
      "    1218\n",
      "\n",
      "commit 005d666ec8dcb52105207548b3a0f743954e4835\n",
      "Author: Cheng Maohua <cmh@seu.edu.cn>\n",
      "Date:   Sun Dec 18 15:35:49 2016 +0800\n",
      "\n",
      "    update source\n",
      "\n",
      "commit fbbc071e93f1c1536aa186a4e9f344c8e5c2427e\n",
      "Author: Cheng Maohua <cmh@seu.edu.cn>\n",
      "Date:   Sun Dec 18 07:15:38 2016 +0800\n",
      "\n",
      "    update sources\n",
      "\n",
      "commit dfd1950e9478cc170ee019d42ca0712b4354c157\n",
      "Author: Cheng Maohua <cmh@seu.edu.cn>\n",
      "Date:   Sun Dec 18 07:08:43 2016 +0800\n",
      "\n",
      "    update sources\n",
      "\n",
      "commit 9e42e370f744dc5c2b23838db324ed916aacefb6\n",
      "Author: Cheng Maohua <cmh@seu.edu.cn>\n",
      "Date:   Sun Dec 18 06:57:19 2016 +0800\n",
      "\n",
      "    update p\n",
      "\n",
      "commit f2ec682fcad873534a65c6133a0f2b70d8e62dc9\n",
      "Author: Cheng Maohua <cmh@seu.edu.cn>\n",
      "Date:   Sun Dec 18 06:56:37 2016 +0800\n",
      "\n",
      "    update guide\n",
      "\n",
      "commit eec654a41b5b910273ddd77a93597a9df9373809\n",
      "Author: Cheng Maohua <cmh@seu.edu.cn>\n",
      "Date:   Sun Dec 18 06:53:39 2016 +0800\n",
      "\n",
      "    update g\n",
      "\n",
      "commit fede39f7dfb6e5a5eba9daeb45e963238263f3a3\n",
      "Author: Cheng Maohua <cmh@seu.edu.cn>\n",
      "Date:   Sun Dec 18 06:49:33 2016 +0800\n",
      "\n",
      "    update url\n",
      "\n",
      "commit af1282523ced428ba22a60d56fbc86c3196e1916\n",
      "Author: Cheng Maohua <cmh@seu.edu.cn>\n",
      "Date:   Sun Dec 18 06:46:05 2016 +0800\n",
      "\n",
      "    update s\n",
      "\n",
      "commit e2983a174a6f8e1cd617cc84e7c63483a49a523e\n",
      "Author: Cheng Maohua <cmh@seu.edu.cn>\n",
      "Date:   Sun Dec 18 06:44:20 2016 +0800\n",
      "\n",
      "    update software guide\n",
      "\n",
      "commit caa88d7c59e5462345243ff14505bddc8572fe7a\n",
      "Author: Cheng Maohua <cmh@seu.edu.cn>\n",
      "Date:   Sun Dec 18 06:36:04 2016 +0800\n",
      "\n",
      "    update g3\n",
      "\n",
      "commit 01a0a9d9056f76358080efc429f98cfc279b00fe\n",
      "Author: Cheng Maohua <cmh@seu.edu.cn>\n",
      "Date:   Sun Dec 18 06:35:55 2016 +0800\n",
      "\n",
      "    update 3\n",
      "\n",
      "commit 0d9af550eb6356ea946c615a526562ba04fedd05\n",
      "Author: Cheng Maohua <cmh@seu.edu.cn>\n",
      "Date:   Sun Dec 18 06:28:59 2016 +0800\n",
      "\n",
      "    ubuntu update\n",
      "\n",
      "commit 5c7718a3b161839826a23d1d8d91a7297c24bd6c\n",
      "Author: Cheng Maohua <cmh@seu.edu.cn>\n",
      "Date:   Sun Dec 18 06:28:39 2016 +0800\n",
      "\n",
      "    ubuntu\n",
      "\n",
      "commit 1b45d42b596f73621813f09769f2a4347dc35a2c\n",
      "Author: Cheng Maohua <cmh@seu.edu.cn>\n",
      "Date:   Sun Dec 18 06:09:36 2016 +0800\n",
      "\n",
      "    update multi\n",
      "\n",
      "commit 4f9fef2e48d922b7e4c7d446050a7e0aeb7c36e5\n",
      "Author: Cheng Maohua <cmh@seu.edu.cn>\n",
      "Date:   Sun Dec 18 05:57:30 2016 +0800\n",
      "\n",
      "    update ref\n",
      "\n",
      "commit 7d04108bc7e1c5a33bb295406cdca5de9db836b2\n",
      "Author: Cheng Maohua <cmh@seu.edu.cn>\n",
      "Date:   Sun Dec 18 05:50:52 2016 +0800\n",
      "\n",
      "    update g2017\n",
      "\n",
      "commit f7159482bc12d216e0efc74f190021eda59b5399\n",
      "Author: Cheng Maohua <cmh@seu.edu.cn>\n",
      "Date:   Sun Dec 18 05:48:34 2016 +0800\n",
      "\n",
      "    update P2017\n",
      "\n",
      "commit 531d1a51a6380b1fc081db82709601cbf2eb31e1\n",
      "Author: Cheng Maohua <cmh@seu.edu.cn>\n",
      "Date:   Sun Dec 18 05:48:03 2016 +0800\n",
      "\n",
      "    P 2017\n",
      "\n",
      "commit 13a5cc8432e2244ead7c1c0fa1fc88c916135580\n",
      "Author: Cheng Maohua <cmh@seu.edu.cn>\n",
      "Date:   Sat Jun 18 19:32:44 2016 +0800\n",
      "\n",
      "    mark the end\n",
      "\n",
      "commit 27c6978501a2111c7227c4e2156fd1dd7c5c2002\n",
      "Author: Cheng Maohua <cmh@seu.edu.cn>\n",
      "Date:   Sat Jun 18 19:30:02 2016 +0800\n",
      "\n",
      "    mark the end\n",
      "\n",
      "commit a69a79f6ab3e5fcdb78ae4e5d3a8f544f8014707\n",
      "Author: Cheng Maohua <cmh@seu.edu.cn>\n",
      "Date:   Sat Jun 11 23:45:07 2016 +0800\n",
      "\n",
      "    Recommended Resources On Github\n",
      "\n",
      "commit d763cbc5f688dbce4435a2e25782b5ff19c6c9ae\n",
      "Author: Cheng Maohua <cmh@seu.edu.cn>\n",
      "Date:   Wed Jun 8 17:04:57 2016 +0800\n",
      "\n",
      "    readme\n",
      "\n",
      "commit bdd039c854eae6c39ebcb7ccba69ecdec2aecde8\n",
      "Author: Cheng Maohua <cmh@seu.edu.cn>\n",
      "Date:   Sun Jun 5 17:32:07 2016 +0800\n",
      "\n",
      "    p8\n",
      "\n",
      "commit 66395ef749040df56f44125eb7f82e4630fdcb3f\n",
      "Author: Cheng Maohua <cmh@seu.edu.cn>\n",
      "Date:   Wed Jun 1 23:59:18 2016 +0800\n",
      "\n",
      "    readme\n",
      "\n",
      "commit 036b9c9f14b03c9488ba252ddb171981894c2abd\n",
      "Author: Cheng Maohua <cmh@seu.edu.cn>\n",
      "Date:   Wed Jun 1 23:57:39 2016 +0800\n",
      "\n",
      "    mathjax\n",
      "\n",
      "commit ecb817ccbc1a79fd31ed250161d7fbe0e1e3d37e\n",
      "Author: Cheng Maohua <cmh@seu.edu.cn>\n",
      "Date:   Wed Jun 1 23:56:23 2016 +0800\n",
      "\n",
      "    mathjax\n",
      "\n",
      "commit 8d1ed3012404b4aa0e47a020ca84abb879062661\n",
      "Author: Cheng Maohua <cmh@seu.edu.cn>\n",
      "Date:   Wed Jun 1 23:51:33 2016 +0800\n",
      "\n",
      "    mathjax\n",
      "\n",
      "commit e9228bd8ab5ed33200c30b7034c795fbd6e17e52\n",
      "Author: Cheng Maohua <cmh@seu.edu.cn>\n",
      "Date:   Wed Jun 1 23:34:32 2016 +0800\n",
      "\n",
      "    mathjax\n",
      "\n",
      "commit ed82600ee41e884ccbc027f886f3adcb699c9ba2\n",
      "Author: Cheng Maohua <cmh@seu.edu.cn>\n",
      "Date:   Wed Jun 1 23:31:57 2016 +0800\n",
      "\n",
      "    mathjax\n",
      "\n",
      "commit e9c483690a922c59fa85e5ce8987f3f293d450a5\n",
      "Author: Cheng Maohua <cmh@seu.edu.cn>\n",
      "Date:   Wed Jun 1 23:28:40 2016 +0800\n",
      "\n",
      "    mathjax\n",
      "\n",
      "commit a9c08803bc30e6d6507492dfab55b0af14851762\n",
      "Author: Cheng Maohua <cmh@seu.edu.cn>\n",
      "Date:   Sat May 28 23:28:21 2016 +0800\n",
      "\n",
      "    10\n",
      "\n",
      "commit ef30028873427e62503cd75c522053fd64388b90\n",
      "Author: Cheng Maohua <cmh@seu.edu.cn>\n",
      "Date:   Fri May 27 18:06:12 2016 +0800\n",
      "\n",
      "    readme\n",
      "\n",
      "commit 5d045109c5e29dcb45ba1bade27ff234388e5bb5\n",
      "Author: Cheng Maohua <cmh@seu.edu.cn>\n",
      "Date:   Fri May 27 13:47:27 2016 +0800\n",
      "\n",
      "    readme\n",
      "\n",
      "commit 937df303e8728333d74997a9d71f1a8a3adb7d31\n",
      "Author: Cheng Maohua <cmh@seu.edu.cn>\n",
      "Date:   Thu May 26 23:54:45 2016 +0800\n",
      "\n",
      "    arrangements\n",
      "\n",
      "commit 3689435afd1f3235c4ef98022386bfafc03d93a7\n",
      "Author: Cheng Maohua <cmh@seu.edu.cn>\n",
      "Date:   Thu May 26 22:47:53 2016 +0800\n",
      "\n",
      "    ch9\n",
      "\n",
      "commit 46b6e276a17bac2115e163568b21230fd0173246\n",
      "Author: Cheng Maohua <cmh@seu.edu.cn>\n",
      "Date:   Thu May 26 21:15:08 2016 +0800\n",
      "\n",
      "    ch10\n",
      "\n",
      "commit a00c0ad371bd24ab554fd3161bb4fbe2e9fea27f\n",
      "Author: Cheng Maohua <cmh@seu.edu.cn>\n",
      "Date:   Wed May 25 22:45:47 2016 +0800\n",
      "\n",
      "    ch10\n",
      "\n",
      "commit 0b25e18b95447b38098c100f030f6b6fe99344af\n",
      "Author: Cheng Maohua <cmh@seu.edu.cn>\n",
      "Date:   Tue May 24 12:00:50 2016 +0800\n",
      "\n",
      "    ch9\n",
      "\n",
      "commit 8d114547cd546275e38fe4f0c777154fda2f94dd\n",
      "Author: Cheng Maohua <cmh@seu.edu.cn>\n",
      "Date:   Tue May 24 00:32:00 2016 +0800\n",
      "\n",
      "    profiler\n",
      "\n",
      "commit 44ab265b37ba3c517728b802ffdccdf7b6728d2e\n",
      "Author: Cheng Maohua <cmh@seu.edu.cn>\n",
      "Date:   Tue May 17 11:22:16 2016 +0800\n",
      "\n",
      "    unittest\n",
      "\n",
      "commit a4056e4fb39fe340652162dc2922cb93a04d24b3\n",
      "Author: Cheng Maohua <cmh@seu.edu.cn>\n",
      "Date:   Sat May 14 14:00:03 2016 +0800\n",
      "\n",
      "    readme\n",
      "\n",
      "commit e501bc0df2254afbca48306e4d4267778b4c9052\n",
      "Author: Cheng Maohua <cmh@seu.edu.cn>\n",
      "Date:   Sat May 14 13:53:46 2016 +0800\n",
      "\n",
      "    readme\n",
      "\n",
      "commit e0817eb9f4d26b044750f5e6b9b933a93568180d\n",
      "Author: Cheng Maohua <cmh@seu.edu.cn>\n",
      "Date:   Sat May 14 13:23:09 2016 +0800\n",
      "\n",
      "    cleanup\n",
      "\n",
      "commit f1fe243daada53f99d9f916c46db5f8cfee356e3\n",
      "Author: Cheng Maohua <cmh@seu.edu.cn>\n",
      "Date:   Fri May 13 22:30:13 2016 +0800\n",
      "\n",
      "    intro\n",
      "\n",
      "commit cf13edcb411198cc0a45600e079213d830a6f40c\n",
      "Author: Cheng Maohua <cmh@seu.edu.cn>\n",
      "Date:   Fri May 13 17:09:53 2016 +0800\n",
      "\n",
      "    introduction\n",
      "\n",
      "commit 311ccbef50e551eb1e52a019dc81ac3fa711e711\n",
      "Author: Cheng Maohua <cmh@seu.edu.cn>\n",
      "Date:   Fri May 13 17:07:34 2016 +0800\n",
      "\n",
      "    resources\n",
      "\n",
      "commit e2c3bb71632b9727378d8827db92b041985c6f26\n",
      "Author: Cheng Maohua <cmh@seu.edu.cn>\n",
      "Date:   Fri May 13 17:06:59 2016 +0800\n",
      "\n",
      "    introduction\n",
      "\n",
      "commit c1cf919892c4b9a45c4709a61e759cd0ef3ad544\n",
      "Author: Cheng Maohua <cmh@seu.edu.cn>\n",
      "Date:   Fri May 13 17:05:09 2016 +0800\n",
      "\n",
      "    introduction\n",
      "\n",
      "commit d22fbe785811c64acdca63c5b0115781872088b0\n",
      "Author: Cheng Maohua <cmh@seu.edu.cn>\n",
      "Date:   Fri May 13 13:54:16 2016 +0800\n",
      "\n",
      "    resources\n",
      "\n",
      "commit c9e23755ab7f389bf249a3b0a2814668ed82d9fa\n",
      "Author: Cheng Maohua <cmh@seu.edu.cn>\n",
      "Date:   Thu May 12 22:12:39 2016 +0800\n",
      "\n",
      "    HOME\n",
      "\n",
      "commit 1d5e74cfda230d6a7a466580c1be6b6538b2de6c\n",
      "Author: Cheng Maohua <cmh@seu.edu.cn>\n",
      "Date:   Thu May 12 22:12:39 2016 +0800\n",
      "\n",
      "    HOME\n",
      "\n",
      "commit 69a9a62e9d28418f56799b4c441c61efc193141a\n",
      "Author: Cheng Maohua <cmh@seu.edu.cn>\n",
      "Date:   Mon May 9 14:48:49 2016 +0800\n",
      "\n",
      "    ch8\n",
      "\n",
      "commit 66dd09397b3f0dab9df725bfd204886f392d0601\n",
      "Author: Cheng Maohua <cmh@seu.edu.cn>\n",
      "Date:   Fri Apr 29 06:18:55 2016 +0800\n",
      "\n",
      "    update redis\n",
      "\n",
      "commit 284df1648602b193602ac219c933dfba52d43c34\n",
      "Author: Cheng Maohua <cmh@seu.edu.cn>\n",
      "Date:   Thu Apr 28 17:40:19 2016 +0800\n",
      "\n",
      "    update redis\n",
      "\n",
      "commit 3f4e7fc432e7df082833cda84c4dc132f05b8cfe\n",
      "Author: Cheng Maohua <cmh@seu.edu.cn>\n",
      "Date:   Thu Apr 28 20:48:34 2016 +0800\n",
      "\n",
      "    update online\n",
      "\n",
      "commit 293625389e3a59dc8d60fdb5369f90018737c468\n",
      "Author: Cheng Maohua <cmh@seu.edu.cn>\n",
      "Date:   Thu Apr 28 19:24:14 2016 +0800\n",
      "\n",
      "    update redis\n",
      "\n",
      "commit b37c280b7a6385161411b20f73af500862f4d0cd\n",
      "Author: Cheng Maohua <cmh@seu.edu.cn>\n",
      "Date:   Wed Apr 27 10:06:18 2016 +0800\n",
      "\n",
      "    update redis\n",
      "\n",
      "commit 2eae0a9cc66f8b6e4852382089a68da6c957c195\n",
      "Author: Cheng Maohua <cmh@seu.edu.cn>\n",
      "Date:   Tue Apr 26 02:45:47 2016 +0800\n",
      "\n",
      "    update exception\n",
      "\n",
      "commit 1199761a6096f053ce75e25306b49e91bcb77be6\n",
      "Author: Cheng Maohua <cmh@seu.edu.cn>\n",
      "Date:   Wed Apr 20 13:46:43 2016 +0800\n",
      "\n",
      "    update readme\n",
      "\n",
      "commit 3433252ba9d6e74e413c334e86cab7e806ec1cfa\n",
      "Author: Cheng Maohua <cmh@seu.edu.cn>\n",
      "Date:   Wed Apr 20 13:38:08 2016 +0800\n",
      "\n",
      "    update ubuntu\n",
      "\n",
      "commit 7ee9f636d785c689b933e2a044405f0a18aa60d3\n",
      "Author: Cheng Maohua <cmh@seu.edu.cn>\n",
      "Date:   Tue Apr 19 22:42:55 2016 +0800\n",
      "\n",
      "    update ubuntu\n",
      "\n",
      "commit b6dc74e8f9585159482266242522e09a6b44f177\n",
      "Author: Cheng Maohua <cmh@seu.edu.cn>\n",
      "Date:   Tue Apr 19 22:36:14 2016 +0800\n",
      "\n",
      "    update ubuntu\n",
      "\n",
      "commit cd02b2c4014668192952b0e8a306748793d21e78\n",
      "Author: Cheng Maohua <cmh@seu.edu.cn>\n",
      "Date:   Wed Apr 13 14:26:56 2016 +0800\n",
      "\n",
      "    update fresh\n",
      "\n",
      "commit 89f3f618f732e102399929b0222c5fd3bbaa7d34\n",
      "Author: Cheng Maohua <cmh@seu.edu.cn>\n",
      "Date:   Tue Apr 12 20:57:55 2016 +0800\n",
      "\n",
      "    update p6\n",
      "\n",
      "commit b0cf603f9bb3de35a9d70c35534ab8f89e78469b\n",
      "Author: Cheng Maohua <cmh@seu.edu.cn>\n",
      "Date:   Tue Apr 12 20:55:31 2016 +0800\n",
      "\n",
      "    UPDATE NOTEBOOK\n",
      "\n",
      "commit 9d5356b2a4552763a20a3ce0d2150c266f132a32\n",
      "Author: Cheng Maohua <cmh@seu.edu.cn>\n",
      "Date:   Mon Mar 28 23:26:46 2016 +0800\n",
      "\n",
      "    update ch2-3\n",
      "\n",
      "commit cb9a569fe721379bc520d1988814f55fb495dd35\n",
      "Author: Cheng Maohua <cmh@seu.edu.cn>\n",
      "Date:   Sat Mar 26 20:42:23 2016 +0800\n",
      "\n",
      "    update  ch2-3\n",
      "\n",
      "commit ad491fed3e177feccb0c4d3d67428fec6231e6c0\n",
      "Author: Cheng Maohua <cmh@seu.edu.cn>\n",
      "Date:   Fri Mar 25 19:48:17 2016 +0800\n",
      "\n",
      "    update  ch2-3\n",
      "\n",
      "commit d64621d22c060c1627e4109a845fdbd207738b97\n",
      "Author: Cheng Maohua <cmh@seu.edu.cn>\n",
      "Date:   Tue Mar 22 12:00:56 2016 +0800\n",
      "\n",
      "    update ch2\n",
      "\n",
      "commit 463269951d45e8f453f589a4babd52c0b8c2e7dc\n",
      "Author: Cheng Maohua <cmh@seu.edu.cn>\n",
      "Date:   Thu Mar 17 23:07:28 2016 +0800\n",
      "\n",
      "    update readme\n",
      "\n",
      "commit e69668ae090c20ffa4e4fec2aca8b323771c6baa\n",
      "Author: Cheng Maohua <cmh@seu.edu.cn>\n",
      "Date:   Tue Mar 15 18:52:19 2016 +0800\n",
      "\n",
      "    update PyDev瀹夎�呮�ラ�� 锛欻elp->Eclipse Marketplaces杩涘叆甯傚満\n",
      "\n",
      "commit d25455d0180a5dddb986a3f024c468ecf4157ae5\n",
      "Author: Cheng Maohua <cmh@seu.edu.cn>\n",
      "Date:   Mon Mar 14 16:24:48 2016 +0800\n",
      "\n",
      "    update MathJax\n",
      "\n",
      "commit 16f007909920c2b0641e5c363fa61ea4a275fbf9\n",
      "Author: Cheng Maohua <cmh@seu.edu.cn>\n",
      "Date:   Mon Mar 14 16:00:14 2016 +0800\n",
      "\n",
      "    update guide4-5\n",
      "\n",
      "commit 94df54a1ded7baa4fec7ca7fcb1e964f2ed00c39\n",
      "Author: Cheng Maohua <cmh@seu.edu.cn>\n",
      "Date:   Mon Mar 14 10:20:34 2016 +0800\n",
      "\n",
      "    update readme\n",
      "\n",
      "commit 56e29029dee49e47299925267d36a6fb8bff6b82\n",
      "Author: Cheng Maohua <cmh@seu.edu.cn>\n",
      "Date:   Mon Mar 14 10:16:00 2016 +0800\n",
      "\n",
      "    update guide about EGIT\n",
      "\n",
      "commit f9f3f555839bc22c6d1ec6deafc4d107928c93a5\n",
      "Author: Cheng Maohua <cmh@seu.edu.cn>\n",
      "Date:   Sun Mar 13 22:57:14 2016 +0800\n",
      "\n",
      "    update ref-EGIT\n",
      "\n",
      "commit bb44aa7db7ec3f592d39b0c2c902386c88995035\n",
      "Author: Cheng Maohua <cmh@seu.edu.cn>\n",
      "Date:   Sun Mar 13 22:46:27 2016 +0800\n",
      "\n",
      "    : t1\n",
      "    \n",
      "    Task-Url:\n",
      "\n",
      "commit 681b94139de6f1e3d581e94d9625c986e84e58ca\n",
      "Author: Cheng Maohua <cmh@seu.edu.cn>\n",
      "Date:   Wed Mar 9 12:00:40 2016 +0800\n",
      "\n",
      "    update p5-stackoverflow\n",
      "\n",
      "commit 261b3af00fdc0d98f6a866556fbcf9d0cbb854a5\n",
      "Author: Cheng Maohua <cmh@seu.edu.cn>\n",
      "Date:   Wed Mar 9 11:45:40 2016 +0800\n",
      "\n",
      "    update p5-stackoverflow\n",
      "\n",
      "commit 29d6fed604d9dcd5a3afc0dd50deb3b22b6091a7\n",
      "Author: Cheng Maohua <cmh@seu.edu.cn>\n",
      "Date:   Wed Mar 9 10:34:02 2016 +0800\n",
      "\n",
      "    update security-essentials-download\n",
      "\n",
      "commit be213c4cab7dd2115fc158c21f1295ea000b511d\n",
      "Author: Cheng Maohua <cmh@seu.edu.cn>\n",
      "Date:   Wed Mar 9 10:32:17 2016 +0800\n",
      "\n",
      "    update security-essentials-download\n",
      "\n",
      "commit 22e320e60e0f90f77c15f2d08e8e25f6ba530c48\n",
      "Author: Cheng Maohua <cmh@seu.edu.cn>\n",
      "Date:   Wed Mar 9 10:30:21 2016 +0800\n",
      "\n",
      "    update about Microsoft Security Essentials\n",
      "\n",
      "commit 3c38e70e28caee3fbc4954f91839715b91bcfadf\n",
      "Author: Cheng Maohua <cmh@seu.edu.cn>\n",
      "Date:   Tue Mar 8 21:53:09 2016 +0800\n",
      "\n",
      "    update Python瀛︿範鍜屽紑鍙戠幆澧冪殑寤虹珛(鏁欏�︾増)\n",
      "\n",
      "commit 08f3b34ac3e4350022a2620aff3a9ae263f69560\n",
      "Author: Cheng Maohua <cmh@seu.edu.cn>\n",
      "Date:   Mon Mar 7 17:12:55 2016 +0800\n",
      "\n",
      "    update 1 Python瀛︿範鍜屽紑鍙戠幆澧冪殑寤虹珛(鏁欏�︾増).docx\n",
      "\n",
      "commit b2485a819a9cb71177043bef237f4e4c72500094\n",
      "Author: Cheng Maohua <cmh@seu.edu.cn>\n",
      "Date:   Mon Mar 7 17:08:24 2016 +0800\n",
      "\n",
      "    update Python瀛︿範鍜屽紑鍙戠幆澧冪殑寤虹珛(鏁欏�︾増).docx\n",
      "\n",
      "commit 143f2390236e02b96c6384ca47ebfa0f2083b923\n",
      "Author: Cheng Maohua <cmh@seu.edu.cn>\n",
      "Date:   Mon Mar 7 12:05:15 2016 +0800\n",
      "\n",
      "    update p5\n",
      "\n",
      "commit d4f81b9b4d6850915d66adf3cf8da8b103847f2c\n",
      "Author: Cheng Maohua <cmh@seu.edu.cn>\n",
      "Date:   Mon Mar 7 12:00:56 2016 +0800\n",
      "\n",
      "    update 98\n",
      "\n",
      "commit 37b62b02e1876e2aecd462b204d031a1f6d95a42\n",
      "Author: Cheng Maohua <cmh@seu.edu.cn>\n",
      "Date:   Mon Mar 7 11:24:03 2016 +0800\n",
      "\n",
      "    update p3-4\n",
      "\n",
      "commit 66152df80ab83d77f092f901f682102392aaa1e1\n",
      "Author: Cheng Maohua <cmh@seu.edu.cn>\n",
      "Date:   Mon Mar 7 00:13:51 2016 +0800\n",
      "\n",
      "    update p3-4\n",
      "\n",
      "commit 7ef03edd725d2768ecacbd4df5780a224f97cc7f\n",
      "Author: Cheng Maohua <cmh@seu.edu.cn>\n",
      "Date:   Sat Mar 5 00:30:17 2016 +0800\n",
      "\n",
      "    update faq\n",
      "\n",
      "commit d25f74e9b0f1e109d727ba0d9caed578b562e4d8\n",
      "Author: Cheng Maohua <cmh@seu.edu.cn>\n",
      "Date:   Sat Mar 5 00:17:48 2016 +0800\n",
      "\n",
      "    update faq\n",
      "\n",
      "commit ab8cbe84b4be98e1669d1a38f481458731e95ad3\n",
      "Author: Cheng Maohua <cmh@seu.edu.cn>\n",
      "Date:   Sat Mar 5 00:14:49 2016 +0800\n",
      "\n",
      "    update faq\n",
      "\n",
      "commit 469988fe3affea097eb4a46d059e770cadf6fbec\n",
      "Author: Cheng Maohua <cmh@seu.edu.cn>\n",
      "Date:   Sat Mar 5 00:11:45 2016 +0800\n",
      "\n",
      "    update faq\n",
      "\n",
      "commit c756af73d670ab3861b32f5fe3808007ec8c8ca2\n",
      "Author: Cheng Maohua <cmh@seu.edu.cn>\n",
      "Date:   Sat Mar 5 00:09:57 2016 +0800\n",
      "\n",
      "    update faq\n",
      "\n",
      "commit 877be6a79a52883a630d2e5dc12d21ac9a6d2f87\n",
      "Author: Cheng Maohua <cmh@seu.edu.cn>\n",
      "Date:   Thu Mar 3 12:58:22 2016 +0800\n",
      "\n",
      "    update p3\n",
      "\n",
      "commit 748db8737bc59b4c72326d54078d186e7331bc82\n",
      "Author: Cheng Maohua <cmh@seu.edu.cn>\n",
      "Date:   Wed Mar 2 10:48:19 2016 +0800\n",
      "\n",
      "    update readme\n",
      "\n",
      "commit dcbeae42c82212342be830900034d5ce92ccb375\n",
      "Author: Cheng Maohua <cmh@seu.edu.cn>\n",
      "Date:   Wed Mar 2 10:47:10 2016 +0800\n",
      "\n",
      "    update readme\n",
      "\n",
      "commit 7bec33eddbedc789db30609bfa2dcd62944c913f\n",
      "Author: Cheng Maohua <cmh@seu.edu.cn>\n",
      "Date:   Tue Mar 1 20:59:01 2016 +0800\n",
      "\n",
      "    update readme\n",
      "\n",
      "commit 139b1b1aeac5657b88896b74b078585f5edff458\n",
      "Author: Cheng Maohua <cmh@seu.edu.cn>\n",
      "Date:   Tue Mar 1 20:57:09 2016 +0800\n",
      "\n",
      "    update readme\n",
      "\n",
      "commit 5338ea173839da15da66fc1e546d28401cf51d37\n",
      "Author: Cheng Maohua <cmh@seu.edu.cn>\n",
      "Date:   Tue Mar 1 20:55:16 2016 +0800\n",
      "\n",
      "    update readme\n",
      "\n",
      "commit 337309ad615b0eaded82f4eb23ff57a977d246f3\n",
      "Author: Cheng Maohua <cmh@seu.edu.cn>\n",
      "Date:   Tue Mar 1 20:39:49 2016 +0800\n",
      "\n",
      "    update pdf\n",
      "\n",
      "commit 5646954cf2ae8978c3ad991b40d648340180511b\n",
      "Author: Cheng Maohua <cmh@seu.edu.cn>\n",
      "Date:   Sun Feb 28 15:42:03 2016 +0800\n",
      "\n",
      "    update arrangements\n",
      "\n",
      "commit 8b3052ca4046c8f35ec47455a60a3dbc81da9edc\n",
      "Author: hydro <hydro@Hydro>\n",
      "Date:   Sun Feb 28 11:43:11 2016 +0800\n",
      "\n",
      "    update P1-2\n",
      "\n",
      "commit f7ac81299d1f3ce430f1a04131688a8e5c192653\n",
      "Author: hydro <hydro@Hydro>\n",
      "Date:   Sat Feb 27 20:57:16 2016 +0800\n",
      "\n",
      "    update softwareinfo\n",
      "\n",
      "commit f3e19b9f79f4961134f70f587ca055134f071051\n",
      "Author: hydro <hydro@Hydro>\n",
      "Date:   Sat Feb 27 20:51:27 2016 +0800\n",
      "\n",
      "    update softwareforthecourse\n",
      "\n",
      "commit 8337783476198262cd73802b64dee1f502814d4d\n",
      "Author: hydro <hydro@Hydro>\n",
      "Date:   Thu Feb 25 11:46:00 2016 +0800\n",
      "\n",
      "    update arrangements\n",
      "\n",
      "commit ab948e7c607d5caa943a8eb87d788b6cc8ab65a4\n",
      "Author: hydro <hydro@Hydro>\n",
      "Date:   Thu Feb 25 10:38:20 2016 +0800\n",
      "\n",
      "    update practice1-2\n",
      "\n",
      "commit 186b24e998dd76f91c8706f92839dc815f53acbb\n",
      "Author: hydro <hydro@Hydro>\n",
      "Date:   Thu Feb 25 10:21:59 2016 +0800\n",
      "\n",
      "    update arrangements\n",
      "\n",
      "commit ca52c67341e7fdb49e1091529a7e8d4598ca74e9\n",
      "Author: hydro <hydro@Hydro>\n",
      "Date:   Thu Feb 25 10:17:34 2016 +0800\n",
      "\n",
      "    update arrangements\n",
      "\n",
      "commit 7f367bc16575e401ade7b8880d3be1eeb2523452\n",
      "Author: hydro <hydro@Hydro>\n",
      "Date:   Thu Feb 25 09:58:20 2016 +0800\n",
      "\n",
      "    update arrangements\n",
      "\n",
      "commit 36c2e097dcfa6c7e3f11c1bd6d04cebd55570ba9\n",
      "Author: hydro <hydro@Hydro>\n",
      "Date:   Tue Feb 23 19:38:01 2016 +0800\n",
      "\n",
      "    update readme\n",
      "\n",
      "commit 6ea8813e45e1fef24d397cbee07cba0a73fecb84\n",
      "Author: hydro <hydro@Hydro>\n",
      "Date:   Tue Feb 23 09:59:27 2016 +0800\n",
      "\n",
      "    update r1\n",
      "\n",
      "commit bf28227313ef64b06011400f43de456236a27ec4\n",
      "Author: hydro <hydro@Hydro>\n",
      "Date:   Mon Feb 22 20:21:58 2016 +0800\n",
      "\n",
      "    update r1\n",
      "\n",
      "commit 5f71608e48634be991199509615ff1fe327382dc\n",
      "Author: hydro <hydro@Hydro>\n",
      "Date:   Mon Feb 22 20:15:26 2016 +0800\n",
      "\n",
      "    update r1\n",
      "\n",
      "commit e9ae02f141ac8cfc13d5ecd21f77cc9e0122adfa\n",
      "Author: hydro <hydro@Hydro>\n",
      "Date:   Sun Feb 21 20:34:33 2016 +0800\n",
      "\n",
      "    update ch17\n",
      "\n",
      "commit d274d267a9f466a83d116f6f55bb4e567a186c7c\n",
      "Author: hydro <hydro@Hydro>\n",
      "Date:   Sun Feb 21 17:34:24 2016 +0800\n",
      "\n",
      "    update ch18\n",
      "\n",
      "commit 0492e41a3c6a684e821e3e3a28c36d32245b1061\n",
      "Author: hydro <hydro@Hydro>\n",
      "Date:   Fri Feb 19 14:41:19 2016 +0800\n",
      "\n",
      "    update ch17\n",
      "\n",
      "commit 4a7a1935ea96f6da718e4e62cf6fa01125a7d5d8\n",
      "Author: hydro <hydro@Hydro>\n",
      "Date:   Thu Feb 18 16:33:15 2016 +0800\n",
      "\n",
      "    update readme\n",
      "\n",
      "commit 6bfc764c579f85f1c2ee370d38a0a5e3fe7c8336\n",
      "Author: hydro <hydro@Hydro>\n",
      "Date:   Thu Feb 18 09:35:59 2016 +0800\n",
      "\n",
      "    update r1\n",
      "\n",
      "commit 76ffbe8cf7a6653df61f25fd245495df10b0e3bc\n",
      "Author: hydro <hydro@Hydro>\n",
      "Date:   Tue Dec 15 12:39:13 2015 +0800\n",
      "\n",
      "    update readme\n",
      "\n",
      "commit 529c604afdad5a5a420d7627a22b7e0fb54c74b5\n",
      "Author: hydro <hydro@Hydro.lan>\n",
      "Date:   Sun Dec 6 16:41:18 2015 +0800\n",
      "\n",
      "    update pyturbine\n",
      "\n",
      "commit a8ccc81cc2cd8dbb6fc85feb603de34f96f4bc2d\n",
      "Author: hydro <hydro@Hydro>\n",
      "Date:   Fri Dec 4 10:12:39 2015 +0800\n",
      "\n",
      "    update pyturbine\n",
      "\n",
      "commit ddbf56ae1f4d2e0a74972267e4932a22b5bcb54d\n",
      "Author: hydro <hydro@Hydro>\n",
      "Date:   Fri Dec 4 09:10:13 2015 +0800\n",
      "\n",
      "    update pyturbine\n",
      "\n",
      "commit 963ba66078510512a6ddc61abd4f2f234de87478\n",
      "Author: hydro <hydro@Hydro.lan>\n",
      "Date:   Thu Dec 3 23:43:03 2015 +0800\n",
      "\n",
      "    update readme\n",
      "\n",
      "commit 625623cf124480a592e9749860319833974d005c\n",
      "Author: hydro <hydro@Hydro.lan>\n",
      "Date:   Thu Dec 3 23:02:03 2015 +0800\n",
      "\n",
      "    update pyturbine\n",
      "\n",
      "commit 6bdea3671664ccac948ac3b1bf1ef9d6aad473da\n",
      "Author: hydro <hydro@Hydro.lan>\n",
      "Date:   Thu Dec 3 22:02:58 2015 +0800\n",
      "\n",
      "    update pyturbine\n",
      "\n",
      "commit 4c33e76cc2878b7a74d2a2b93985edc2e1bd6d0d\n",
      "Author: hydro <hydro@Hydro.lan>\n",
      "Date:   Tue Dec 1 00:06:36 2015 +0800\n",
      "\n",
      "    update Profilers\n",
      "\n",
      "commit 7d6e1ff394f7da85b91ac8489829b421e19e36fa\n",
      "Author: hydro <hydro@Hydro.lan>\n",
      "Date:   Sat Nov 28 22:16:29 2015 +0800\n",
      "\n",
      "    update practice\n",
      "\n",
      "commit 246e04be498568af95f6c9a72cc63ccb2ee4968e\n",
      "Author: hydro <hydro@Hydro.lan>\n",
      "Date:   Fri Nov 27 23:35:50 2015 +0800\n",
      "\n",
      "    update pyturbine\n",
      "\n",
      "commit c06e5fd878504c01996ec5fb8d055e6f1bd004d0\n",
      "Author: hydro <hydro@Hydro.lan>\n",
      "Date:   Thu Nov 26 20:01:07 2015 +0800\n",
      "\n",
      "    update pyturbine\n",
      "\n",
      "commit d4e5ec2a5c4f903a78348d2e8523f69aac62c13e\n",
      "Author: hydro <hydro@Hydro.lan>\n",
      "Date:   Thu Nov 26 19:59:12 2015 +0800\n",
      "\n",
      "    update pyturbine\n",
      "\n",
      "commit fca3b854c256cae8f7d801069443d8196a6ce658\n",
      "Author: hydro <hydro@Hydro.lan>\n",
      "Date:   Thu Nov 26 15:57:13 2015 +0800\n",
      "\n",
      "    update readme\n",
      "\n",
      "commit 5e3eddee967d8f47bf7e3a745cc83e6b346c988d\n",
      "Author: hydro <hydro@Hydro.lan>\n",
      "Date:   Thu Nov 26 15:54:17 2015 +0800\n",
      "\n",
      "    update readme\n",
      "\n",
      "commit 5395a6cdb0ff38f82457ea2f985a89e13d92c34b\n",
      "Author: hydro <hydro@Hydro.lan>\n",
      "Date:   Thu Nov 26 15:51:46 2015 +0800\n",
      "\n",
      "    update PyTurbine\n",
      "\n",
      "commit 3d85c749ee9b691ca45423571cd103041605c742\n",
      "Author: hydro <hydro@Hydro>\n",
      "Date:   Sat Nov 21 16:00:37 2015 +0800\n",
      "\n",
      "    update readme\n",
      "\n",
      "commit f6811c1539c002219c28205f1a4fe2a4d481e881\n",
      "Author: hydro <hydro@Hydro>\n",
      "Date:   Sat Nov 21 15:58:46 2015 +0800\n",
      "\n",
      "    update readme\n",
      "\n",
      "commit a46c7b7eca15963e8a6283af45a351ee8af2a495\n",
      "Author: hydro <hydro@Hydro>\n",
      "Date:   Sat Nov 21 14:07:51 2015 +0800\n",
      "\n",
      "    update multiobject\n",
      "\n",
      "commit 00db54ec772ae2fae8e0249e21970698d8e5a45e\n",
      "Author: hydro <hydro@Hydro>\n",
      "Date:   Sat Nov 21 13:52:48 2015 +0800\n",
      "\n",
      "    update multitask\n",
      "\n",
      "commit 4c65af59abf98c3d623f9d7de29b8dc7ca1997f1\n",
      "Author: hydro <hydro@Hydro>\n",
      "Date:   Sat Nov 21 11:08:17 2015 +0800\n",
      "\n",
      "    update chapter16\n",
      "\n",
      "commit 0e5cc1de9f98c3b361ee703c75a20fad8542cdcd\n",
      "Author: hydro <hydro@Hydro>\n",
      "Date:   Fri Nov 20 22:41:12 2015 +0800\n",
      "\n",
      "    update chapter16\n",
      "\n",
      "commit 57c3d5c4b9a13ae7e625111233455d51cb336c5c\n",
      "Author: hydro <hydro@Hydro>\n",
      "Date:   Fri Nov 20 15:32:51 2015 +0800\n",
      "\n",
      "    update multitask\n",
      "\n",
      "commit 0dc44f2d8cbe4de89442209b339cabe70fa898a5\n",
      "Author: hydro <hydro@Hydro>\n",
      "Date:   Fri Nov 20 15:22:49 2015 +0800\n",
      "\n",
      "    update multitask\n",
      "\n",
      "commit 7776d2601a20ac33f91cf99be3052e5d4bebfc9d\n",
      "Author: hydro <hydro@Hydro>\n",
      "Date:   Fri Nov 20 15:15:10 2015 +0800\n",
      "\n",
      "    update multitask\n",
      "\n",
      "commit e3afd87f177fd560a78de9bdc89667cbfe300545\n",
      "Author: hydro <hydro@Hydro>\n",
      "Date:   Fri Nov 20 12:57:48 2015 +0800\n",
      "\n",
      "    update chapter16\n",
      "\n",
      "commit c5701550c4ef84c45c6d582928262a61894c77e0\n",
      "Author: hydro <hydro@Hydro>\n",
      "Date:   Thu Nov 19 22:11:23 2015 +0800\n",
      "\n",
      "    update readme\n",
      "\n",
      "commit 6cfcca2644248dfc6841d8bf451e7a35a321bdd1\n",
      "Author: hydro <hydro@Hydro>\n",
      "Date:   Thu Nov 19 21:59:53 2015 +0800\n",
      "\n",
      "    update devtools\n",
      "\n",
      "commit d824f0de4d86d81724947ca45c9fe1cab46c4b21\n",
      "Author: hydro <hydro@Hydro>\n",
      "Date:   Wed Nov 18 12:37:38 2015 +0800\n",
      "\n",
      "    update profiler\n",
      "\n",
      "commit d062e842b0e7471e99b3b0a3fab72dc6e52c6875\n",
      "Author: hydro <hydro@Hydro>\n",
      "Date:   Wed Nov 18 10:13:40 2015 +0800\n",
      "\n",
      "    update chapter27\n",
      "\n",
      "commit c9b5f1bc73c558470a4f4c2c62b0e641ed3f8624\n",
      "Author: hydro <hydro@Hydro>\n",
      "Date:   Tue Nov 17 23:26:45 2015 +0800\n",
      "\n",
      "    update chapter27\n",
      "\n",
      "commit 5716617b13d924f46a423cdf878f90ec89537974\n",
      "Author: hydro <hydro@Hydro>\n",
      "Date:   Tue Nov 17 19:24:01 2015 +0800\n",
      "\n",
      "    update Chapter27.5\n",
      "\n",
      "commit afd0e70dcbff8b084f02f811c7cbf2a315ff8cbf\n",
      "Author: hydro <hydro@Hydro>\n",
      "Date:   Tue Nov 17 16:56:42 2015 +0800\n",
      "\n",
      "    update pythontools\n",
      "\n",
      "commit 2c774c642847b64f21b8c4aed99fa41619990bf2\n",
      "Author: hydro <hydro@Hydro>\n",
      "Date:   Tue Nov 17 00:35:16 2015 +0800\n",
      "\n",
      "    update chapter14\n",
      "\n",
      "commit 4a2a85ad4f24d1778d0f1673000b0af9f9001b3b\n",
      "Author: hydro <hydro@Hydro>\n",
      "Date:   Mon Nov 16 23:36:16 2015 +0800\n",
      "\n",
      "    update chapter14\n",
      "\n",
      "commit ff92f5268a9a1a724f1e32b118aa50027062ffab\n",
      "Author: hydro <hydro@Hydro>\n",
      "Date:   Mon Nov 16 20:03:59 2015 +0800\n",
      "\n",
      "    update multiobjects\n",
      "\n",
      "commit a3a7699225c60f4475aa6e667e418e14c02ca0d8\n",
      "Author: hydro <hydro@Hydro.lan>\n",
      "Date:   Sun Nov 15 22:33:07 2015 +0800\n",
      "\n",
      "    update readme\n",
      "\n",
      "commit 8365cc0eb47adc6e47b0d9153a15bc2edcaf01de\n",
      "Author: hydro <hydro@Hydro.lan>\n",
      "Date:   Sun Nov 15 21:27:49 2015 +0800\n",
      "\n",
      "    update practice\n",
      "\n",
      "commit fac1d124590e55ec4a343b17bd2a7ba6a30b2404\n",
      "Author: hydro <hydro@Hydro.lan>\n",
      "Date:   Sun Nov 15 21:23:26 2015 +0800\n",
      "\n",
      "    update practice\n",
      "\n",
      "commit 4adb5d43dda9cf5ce0042cf366bb42aed4609581\n",
      "Author: hydro <hydro@Hydro.lan>\n",
      "Date:   Sun Nov 15 20:56:25 2015 +0800\n",
      "\n",
      "    update unittest\n",
      "\n",
      "commit 34a2441eb767afb18b520bfead6ca18479df5419\n",
      "Author: hydro <hydro@Hydro.lan>\n",
      "Date:   Sun Nov 15 14:52:46 2015 +0800\n",
      "\n",
      "    update 26.4\n",
      "\n",
      "commit 0f3673822f3d417cba6769dd3ab89bc3e89e6477\n",
      "Author: hydro <hydro@Hydro.lan>\n",
      "Date:   Sat Nov 14 19:07:54 2015 +0800\n",
      "\n",
      "    update chapter15\n",
      "\n",
      "commit 5c902175aed4284c8bee93514e12467b25c0a704\n",
      "Author: hydro <hydro@Hydro>\n",
      "Date:   Fri Nov 13 23:54:57 2015 +0800\n",
      "\n",
      "    update chapter15\n",
      "\n",
      "commit 01fb97a7b6d538a0030663db06efb79ee6592cb0\n",
      "Author: hydro <hydro@Hydro>\n",
      "Date:   Fri Nov 13 20:26:45 2015 +0800\n",
      "\n",
      "     update chapter15\n",
      "\n",
      "commit b1933d3fc6252fe9984a60c33e93531c14d56640\n",
      "Author: hydro <hydro@Hydro>\n",
      "Date:   Fri Nov 13 14:54:27 2015 +0800\n",
      "\n",
      "    update readme\n",
      "\n",
      "commit b963e189a79503bf053c68d0a2ac36a392db81d8\n",
      "Author: hydro <hydro@Hydro>\n",
      "Date:   Fri Nov 13 13:34:54 2015 +0800\n",
      "\n",
      "    update chapter11\n",
      "\n",
      "commit df5f2865cb3ce07295733fff4ec819c037a165ff\n",
      "Author: hydro <hydro@Hydro>\n",
      "Date:   Fri Nov 13 12:36:40 2015 +0800\n",
      "\n",
      "    update readme\n",
      "\n",
      "commit 4a32dfbd3530c8a2c7343f1bdcfda8758a531d34\n",
      "Author: hydro <hydro@Hydro>\n",
      "Date:   Thu Nov 12 23:44:06 2015 +0800\n",
      "\n",
      "    update chapter11\n",
      "\n",
      "commit 39e6700aa031db5796802925c8cbbc3835c6cbbe\n",
      "Author: hydro <hydro@Hydro>\n",
      "Date:   Thu Nov 12 17:24:33 2015 +0800\n",
      "\n",
      "    update chapter8\n",
      "\n",
      "commit ea1410db465c261b5ce0fdb6e68cead6b001fc4a\n",
      "Author: hydro <hydro@Hydro>\n",
      "Date:   Wed Nov 11 21:51:18 2015 +0800\n",
      "\n",
      "    update chapter8\n",
      "\n",
      "commit 4a81c7924ab16f42f08bb9de4dc8bfcb33278103\n",
      "Author: hydro <hydro@Hydro>\n",
      "Date:   Tue Nov 10 23:41:37 2015 +0800\n",
      "\n",
      "    update chapter7\n",
      "\n",
      "commit 8f1e7b59081d0e36ca72146c5e1f7ee10b9c4030\n",
      "Author: hydro <hydro@Hydro>\n",
      "Date:   Tue Nov 10 14:07:02 2015 +0800\n",
      "\n",
      "    update chapter6\n",
      "\n",
      "commit 261cd8cd2879c314f2322f2ad292a31ddbb69a9f\n",
      "Author: hydro <hydro@Hydro>\n",
      "Date:   Fri Oct 30 11:12:27 2015 +0800\n",
      "\n",
      "    update readme of notebook\n",
      "\n",
      "commit 1482ea73bace55af8752cb3d7c7ee69b9cf1c4f4\n",
      "Author: hydro <hydro@Hydro>\n",
      "Date:   Fri Oct 30 11:07:56 2015 +0800\n",
      "\n",
      "    update readme\n",
      "\n",
      "commit 92dd32a0c326f9d8346e8dcea78a186ca11e442f\n",
      "Author: hydro <hydro@Hydro>\n",
      "Date:   Fri Oct 30 11:04:52 2015 +0800\n",
      "\n",
      "    update readme\n",
      "\n",
      "commit 79df63745ba4f75614c7fc93c22681f33dd527b5\n",
      "Author: hydro <hydro@Hydro>\n",
      "Date:   Fri Oct 30 11:00:36 2015 +0800\n",
      "\n",
      "    update multitask\n",
      "\n",
      "commit bf71a88794d2e06d4e0a4385c9bff73e72347b59\n",
      "Author: hydro <hydro@Hydro>\n",
      "Date:   Thu Oct 29 11:58:09 2015 +0800\n",
      "\n",
      "    update VS Code\n",
      "\n",
      "commit 4d4c5101b0784efbcce27cbc055d900da77f7e9c\n",
      "Author: hydro <hydro@Hydro>\n",
      "Date:   Wed Oct 28 08:56:16 2015 +0800\n",
      "\n",
      "    update makedown\n",
      "\n",
      "commit db3b7e35bb6576e3f49dde8782240a3d0d0a7915\n",
      "Author: hydro <hydro@Hydro>\n",
      "Date:   Sat Oct 24 19:28:02 2015 +0800\n",
      "\n",
      "    update makedown\n",
      "\n",
      "commit 3a4fdc4c781d1f5c0cfaebf569ff65d2038cf44c\n",
      "Author: hydro <hydro@Hydro>\n",
      "Date:   Sat Oct 24 17:28:39 2015 +0800\n",
      "\n",
      "    update about Electron\n",
      "\n",
      "commit 8b37a87c09f1e91726a6aa86ed854cab6b538a96\n",
      "Author: hydro <hydro@Hydro>\n",
      "Date:   Sat Oct 24 17:22:04 2015 +0800\n",
      "\n",
      "    update makedown\n",
      "\n",
      "commit 3ef328d3ad8cb3acdc43cff730d713c7afd7c900\n",
      "Author: hydro <hydro@Hydro>\n",
      "Date:   Sat Oct 24 17:06:12 2015 +0800\n",
      "\n",
      "    update  makedown\n",
      "\n",
      "commit adcbfdeadd9e27bc6bf498f5d085317e52477457\n",
      "Author: hydro <hydro@Hydro>\n",
      "Date:   Sat Oct 24 16:09:20 2015 +0800\n",
      "\n",
      "    update makedown utf-8\n",
      "\n",
      "commit 1969867d7af2de651718f7783a5ea0012f4b6736\n",
      "Author: hydro <hydro@Hydro>\n",
      "Date:   Sat Oct 24 15:58:11 2015 +0800\n",
      "\n",
      "    update makedown\n",
      "\n",
      "commit 2c867bcfb8f755c2f5f3b8f0d83e4ce76b8a7601\n",
      "Author: hydro <hydro@Hydro>\n",
      "Date:   Sat Oct 24 15:45:43 2015 +0800\n",
      "\n",
      "    update makedown\n",
      "\n",
      "commit 7c71c84aed9c06b9d9451352c9428c7e89a626d3\n",
      "Author: hydro <hydro@Hydro>\n",
      "Date:   Sat Oct 24 15:34:43 2015 +0800\n",
      "\n",
      "    update Makedown\n",
      "\n",
      "commit d10e32ef3d3198ad73beeead65ee1901e791e75f\n",
      "Author: hydro <hydro@Hydro>\n",
      "Date:   Sat Oct 24 15:29:17 2015 +0800\n",
      "\n",
      "    update  makedown\n",
      "\n",
      "commit a0c3795834008c56c96118f1ffb02692d444f534\n",
      "Author: hydro <hydro@Hydro>\n",
      "Date:   Sat Oct 24 13:43:24 2015 +0800\n",
      "\n",
      "    update multi\n",
      "\n",
      "commit 45e27d5adc20220391e9ad8eab1cb61bac78ea46\n",
      "Author: hydro <hydro@Hydro>\n",
      "Date:   Wed Oct 21 23:10:34 2015 +0800\n",
      "\n",
      "    update pydoc\n",
      "\n",
      "commit 53a2a648bc5b0ef12645e3a7843cd2660be957ef\n",
      "Author: hydro <hydro@Hydro>\n",
      "Date:   Wed Oct 21 17:30:41 2015 +0800\n",
      "\n",
      "    update  notebook\n",
      "\n",
      "commit 6ab58689b7eb004c98b685095829e021f1e24f26\n",
      "Author: hydro <hydro@Hydro>\n",
      "Date:   Wed Oct 21 15:35:15 2015 +0800\n",
      "\n",
      "    update PyLib about software engineering\n",
      "\n",
      "commit 9778e88eb4c663280ca6e37911580e145c4c338d\n",
      "Author: hydro <hydro@Hydro>\n",
      "Date:   Tue Oct 20 15:53:31 2015 +0800\n",
      "\n",
      "    update readme\n",
      "\n",
      "commit c518f4921d34e930385aad885bbb10228b5307c2\n",
      "Author: hydro <hydro@Hydro>\n",
      "Date:   Tue Oct 20 15:41:07 2015 +0800\n",
      "\n",
      "    update about\n",
      "\n",
      "commit 44e1a844fade9b6b7098870c149e38935524cd8f\n",
      "Author: hydro <hydro@Hydro>\n",
      "Date:   Tue Oct 20 03:18:36 2015 +0800\n",
      "\n",
      "    update Online read-only versions\n",
      "\n",
      "commit 8af3ab0f8def1736af140528b1dc1221ca20b0d3\n",
      "Author: hydro <hydro@Hydro>\n",
      "Date:   Tue Oct 20 03:17:46 2015 +0800\n",
      "\n",
      "    update ref\n",
      "\n",
      "commit 546c3b044c94dabf65d76f1f1bd14b1e24180c9f\n",
      "Author: hydro <hydro@Hydro>\n",
      "Date:   Tue Oct 20 03:11:53 2015 +0800\n",
      "\n",
      "    update references\n",
      "\n",
      "commit 0662f8b620807f013168dd1607f3442a132a53f8\n",
      "Author: hydro <hydro@Hydro>\n",
      "Date:   Mon Oct 19 12:46:30 2015 +0800\n",
      "\n",
      "    update readme\n",
      "\n",
      "commit 18a920cda914d14f368d5ff6ae42de99a56100bd\n",
      "Author: hydro <hydro@Hydro>\n",
      "Date:   Mon Oct 19 12:08:44 2015 +0800\n",
      "\n",
      "    update chapter 6\n",
      "\n",
      "commit 2f081dc4cd373c3ce8dad89b31500045dee13bdd\n",
      "Author: hydro <hydro@Hydro>\n",
      "Date:   Mon Oct 19 11:27:53 2015 +0800\n",
      "\n",
      "    update nbviewer\n",
      "\n",
      "commit 490b6a95a4b21c1bf3dd1e22cde3e09628d52bc9\n",
      "Author: hydro <hydro@Hydro>\n",
      "Date:   Sun Oct 18 20:48:34 2015 +0800\n",
      "\n",
      "    update readme\n",
      "\n",
      "commit 5b841a2a2e9c68b7e540c2330dc4ca4eb1b2da15\n",
      "Author: hydro <hydro@Hydro>\n",
      "Date:   Sun Oct 18 18:47:23 2015 +0800\n",
      "\n",
      "    update锛歮ultitask\n",
      "\n",
      "commit f3ecc489340ecde1765b64ec8a4fbf16f8d0b5d1\n",
      "Author: hydro <hydro@Hydro>\n",
      "Date:   Sun Oct 18 15:07:47 2015 +0800\n",
      "\n",
      "    update readmes\n",
      "\n",
      "commit d0979ba786877eb611fe69386c5c1cdf97670db5\n",
      "Author: hydro <hydro@Hydro>\n",
      "Date:   Sun Oct 18 14:55:35 2015 +0800\n",
      "\n",
      "    update guide README.md\n",
      "\n",
      "commit 4563b3dfb789ce71dac744d500f5ea1c3ee88253\n",
      "Author: hydro <hydro@Hydro>\n",
      "Date:   Sun Oct 18 14:54:06 2015 +0800\n",
      "\n",
      "    update guide README.md\n",
      "\n",
      "commit b3b671788363f4c94ebd0688af2e61f5124f20d4\n",
      "Author: hydro <hydro@Hydro>\n",
      "Date:   Sun Oct 18 14:29:51 2015 +0800\n",
      "\n",
      "    update practice README.md\n",
      "\n",
      "commit d941a3511bcb4c753e66fdfc8ae8dff4da6fc906\n",
      "Author: hydro <hydro@Hydro>\n",
      "Date:   Sun Oct 18 14:21:37 2015 +0800\n",
      "\n",
      "    update\n",
      "\n",
      "commit 444e5af61ccbb8fa617224d04fcfb422402590da\n",
      "Author: hydro <hydro@Hydro>\n",
      "Date:   Sun Oct 18 13:25:10 2015 +0800\n",
      "\n",
      "    update README.md\n",
      "\n",
      "commit e271abf18290cea0bbc8c2413139ab91a060c8c4\n",
      "Author: hydro <hydro@Hydro>\n",
      "Date:   Sun Oct 18 13:09:46 2015 +0800\n",
      "\n",
      "    update README.md\n",
      "\n",
      "commit 13e6f005f805473a031f530aaa0f42048ec2f084\n",
      "Author: hydro <hydro@Hydro>\n",
      "Date:   Sun Oct 18 12:27:05 2015 +0800\n",
      "\n",
      "    update software guide\n",
      "\n",
      "commit 1414d18a167e56d4c4273efd351e385fe6877bc9\n",
      "Author: hydro <hydro@Hydro>\n",
      "Date:   Sun Oct 18 12:22:16 2015 +0800\n",
      "\n",
      "    update git\n",
      "\n",
      "commit 67baead8b40c700a85203962ab78f46f6915cb1e\n",
      "Author: hydro <hydro@Hydro>\n",
      "Date:   Sun Oct 18 11:24:11 2015 +0800\n",
      "\n",
      "    update practice1,2\n",
      "\n",
      "commit afb8e7c57cd8be6a9fdc07fbb167cf94023d5a27\n",
      "Author: hydro <hydro@Hydro>\n",
      "Date:   Fri Oct 16 17:13:00 2015 +0800\n",
      "\n",
      "    update of practice 6\n",
      "\n",
      "commit b000dd5d92d1c39024c9093420111302b48dcfd1\n",
      "Author: hydro <hydro@Hydro>\n",
      "Date:   Fri Oct 16 16:01:09 2015 +0800\n",
      "\n",
      "    update of practice assignment\n",
      "\n",
      "commit db221be73c9d3e3b4772271f1636a57be348d28e\n",
      "Author: hydro <hydro@Hydro>\n",
      "Date:   Fri Oct 16 15:49:48 2015 +0800\n",
      "\n",
      "    update of practice 6\n",
      "\n",
      "commit fe3650a4831fe9142d40979943ecd14152b36c78\n",
      "Author: hydro <hydro@Hydro>\n",
      "Date:   Fri Oct 16 15:12:52 2015 +0800\n",
      "\n",
      "    update of practice 5\n",
      "\n",
      "commit 9ce48da4bc5256f5a63cbca93f11cb204f262842\n",
      "Author: hydro <hydro@Hydro>\n",
      "Date:   Fri Oct 16 15:01:38 2015 +0800\n",
      "\n",
      "    assignment of practice\n",
      "\n",
      "commit 36eb3b683a37862f92cb3e997932da9cbb61a7f8\n",
      "Author: hydro <hydro@Hydro>\n",
      "Date:   Thu Oct 15 02:16:25 2015 +0800\n",
      "\n",
      "    ref1\n",
      "\n",
      "commit 83526b9ecd57d873ee9062eef140861961830c64\n",
      "Author: hydro <hydro@Hydro>\n",
      "Date:   Thu Oct 15 02:13:17 2015 +0800\n",
      "\n",
      "    ref\n",
      "\n",
      "commit 71797d4597cad186c297271334485f03672dcf6c\n",
      "Author: hydro <hydro@Hydro>\n",
      "Date:   Wed Oct 14 23:25:42 2015 +0800\n",
      "\n",
      "    task tag\n",
      "\n",
      "commit 172a827cc0e703752b0667919b727f8ff61f0ced\n",
      "Author: hydro <hydro@Hydro>\n",
      "Date:   Wed Oct 14 13:28:46 2015 +0800\n",
      "\n",
      "    ALM1\n",
      "\n",
      "commit 80a38e01cbab8b6dd2d4c1ab215a3898227cc85a\n",
      "Author: hydro <hydro@Hydro>\n",
      "Date:   Tue Oct 13 21:57:43 2015 +0800\n",
      "\n",
      "    r2\n",
      "\n",
      "commit efedbc8f231406840718ad5b837ae5aea34e5ef5\n",
      "Author: hydro <hydro@Hydro>\n",
      "Date:   Tue Oct 13 21:55:51 2015 +0800\n",
      "\n",
      "    r1\n",
      "\n",
      "commit ecf150dd04f34c3efabb109d4d804eeee0a7659a\n",
      "Author: hydro <hydro@Hydro>\n",
      "Date:   Tue Oct 13 21:50:46 2015 +0800\n",
      "\n",
      "    rj\n",
      "\n",
      "commit c29b547d5d2e01a8c25e7f8487a0520e70bb4e27\n",
      "Author: hydro <hydro@Hydro>\n",
      "Date:   Tue Oct 13 21:34:39 2015 +0800\n",
      "\n",
      "    r2\n",
      "\n",
      "commit a0f76282bd405431e2b598d57b6b1b1d1b5d9e1d\n",
      "Author: hydro <hydro@Hydro>\n",
      "Date:   Tue Oct 13 21:32:05 2015 +0800\n",
      "\n",
      "    gr\n",
      "\n",
      "commit a55a66e04a90a4b1870de7dfeed21d4207054a3d\n",
      "Author: hydro <hydro@Hydro>\n",
      "Date:   Tue Oct 13 21:28:03 2015 +0800\n",
      "\n",
      "    d1\n",
      "\n",
      "commit d514f12b50d835dbabbd2d38ab78b95a11a05225\n",
      "Author: hydro <hydro@Hydro>\n",
      "Date:   Tue Oct 13 21:22:01 2015 +0800\n",
      "\n",
      "    g1\n",
      "\n",
      "commit 53660cc663f1b81d09f482f458db3250bf6fbde5\n",
      "Author: hydro <hydro@Hydro>\n",
      "Date:   Tue Oct 13 21:06:26 2015 +0800\n",
      "\n",
      "    guide1\n",
      "\n",
      "commit 35a2373ae0ff598a0d61639fb18846f07418b57d\n",
      "Author: hydro <hydro@Hydro>\n",
      "Date:   Tue Oct 13 11:47:15 2015 +0800\n",
      "\n",
      "    c\n",
      "\n",
      "commit a4936d9ac27fd45365c0a6a8d09d8337597f9fb7\n",
      "Author: hydro <hydro@Hydro>\n",
      "Date:   Tue Oct 13 11:14:55 2015 +0800\n",
      "\n",
      "    a\n",
      "\n",
      "commit ea6e7df57b786906e08e36108f34e33de70f70c7\n",
      "Author: hydro <hydro@Hydro>\n",
      "Date:   Tue Oct 13 11:00:47 2015 +0800\n",
      "\n",
      "    b\n",
      "\n",
      "commit 8c5e7ebedbbe37970e89e4132e087b8298a0c9d5\n",
      "Author: hydro <hydro@Hydro>\n",
      "Date:   Tue Oct 13 10:58:36 2015 +0800\n",
      "\n",
      "    h\n",
      "\n",
      "commit 34ef20d3e7ae5bc57b0692ec16ce9754f6e5176b\n",
      "Author: hydro <hydro@Hydro>\n",
      "Date:   Tue Oct 13 10:49:42 2015 +0800\n",
      "\n",
      "    p\n",
      "\n",
      "commit 07c86a95c6a49d006e77c270326d4248ad16fab3\n",
      "Author: hydro <hydro@Hydro>\n",
      "Date:   Tue Oct 13 10:44:17 2015 +0800\n",
      "\n",
      "    r\n",
      "\n",
      "commit ac0fa95c041f1bef995106ec2a894d2a2f107a01\n",
      "Author: hydro <hydro@Hydro>\n",
      "Date:   Tue Oct 13 10:43:52 2015 +0800\n",
      "\n",
      "    r\n",
      "\n",
      "commit 6b9ed5af09e56b4de9e1b9b1c708b25446c9a7b1\n",
      "Author: hydro <hydro@Hydro>\n",
      "Date:   Tue Oct 13 10:41:25 2015 +0800\n",
      "\n",
      "    ad\n",
      "\n",
      "commit 67d18beecb1b6cce2cd43a81741dc4d67204dcb0\n",
      "Author: hydro <hydro@Hydro>\n",
      "Date:   Mon Oct 12 22:54:18 2015 +0800\n",
      "\n",
      "    ch5-ok\n",
      "\n",
      "commit 46a3c8b9582ed3479d3dc2b7668c1cdfdd0a69e7\n",
      "Author: hydro <hydro@Hydro>\n",
      "Date:   Mon Oct 12 00:22:46 2015 +0800\n",
      "\n",
      "    ch5-fig-1\n",
      "\n",
      "commit b5c7d898ffacc44da6481da6b6fa3cb9fef355ad\n",
      "Author: hydro <hydro@Hydro>\n",
      "Date:   Mon Oct 12 00:03:01 2015 +0800\n",
      "\n",
      "    ch5-1\n",
      "\n",
      "commit 5bf0af5bf70fc30721bb4c05a5ed37bd6d8fd19e\n",
      "Author: hydro <hydro@Hydro>\n",
      "Date:   Sun Oct 11 18:50:08 2015 +0800\n",
      "\n",
      "    ref\n",
      "\n",
      "commit 750660a12ccd97a140688947e0af773e56ef6be9\n",
      "Author: hydro <hydro@Hydro>\n",
      "Date:   Sun Oct 11 14:05:11 2015 +0800\n",
      "\n",
      "    rm2\n",
      "\n",
      "commit 252cff99ee48c90e757e0188ec08682fab3de0d3\n",
      "Author: hydro <hydro@Hydro>\n",
      "Date:   Sun Oct 11 14:02:37 2015 +0800\n",
      "\n",
      "    rm1\n",
      "\n",
      "commit 0b9b72e2147e8bfd80399d80906fc275bfe2a6b7\n",
      "Author: hydro <hydro@Hydro>\n",
      "Date:   Sun Oct 11 13:58:27 2015 +0800\n",
      "\n",
      "    readme\n",
      "\n",
      "commit ebbc21a2303f807819d9a1283f037a9338581b34\n",
      "Author: hydro <hydro@Hydro>\n",
      "Date:   Sun Oct 11 13:46:27 2015 +0800\n",
      "\n",
      "    10.11\n",
      "\n",
      "commit 5b0fd19da475da6b56855595a618137810dce6a7\n",
      "Author: hydro <hydro@Hydro>\n",
      "Date:   Sat Oct 10 23:06:05 2015 +0800\n",
      "\n",
      "    code 2-4\n",
      "\n",
      "commit 3b04a8a0e3845999f888a520a5054edb4204a413\n",
      "Author: hydro <hydro@Hydro>\n",
      "Date:   Sat Oct 10 22:23:00 2015 +0800\n",
      "\n",
      "    10.10\n",
      "\n",
      "commit ced953ab276c9ef9f6b7799e78f9db6cda6ef7de\n",
      "Author: hydro <hydro@Hydro>\n",
      "Date:   Sat Oct 10 00:19:18 2015 +0800\n",
      "\n",
      "    CH4\n",
      "\n",
      "commit b1ab4ce77baf1e201c22f10402659caa719f9bb7\n",
      "Author: hydro <hydro@Hydro>\n",
      "Date:   Mon Oct 5 20:42:44 2015 +0800\n",
      "\n",
      "    2015.10.05\n",
      "\n",
      "commit 4baa364a673d96410790f66cc7b66220ac0441ec\n",
      "Author: SuperHydro <cmh@seu.edu.cn>\n",
      "Date:   Wed Sep 30 23:18:50 2015 +0800\n",
      "\n",
      "    2015.9.30\n",
      "\n",
      "commit 34b1fa02871275ab11a492e6e817fddd0cfb1d2d\n",
      "Author: SuperHydro <cmh@seu.edu.cn>\n",
      "Date:   Mon Sep 28 23:34:48 2015 +0800\n",
      "\n",
      "    Note\n"
     ]
    }
   ],
   "source": [
    "!git log"
   ]
  },
  {
   "cell_type": "markdown",
   "metadata": {
    "deletable": true,
    "editable": true
   },
   "source": [
    "In the commit log, each version is shown with a timestampe, a unique has tag that, and author information and the commit message."
   ]
  },
  {
   "cell_type": "markdown",
   "metadata": {
    "deletable": true,
    "editable": true
   },
   "source": [
    "## Diffs"
   ]
  },
  {
   "cell_type": "markdown",
   "metadata": {
    "deletable": true,
    "editable": true
   },
   "source": [
    "All commits results in a changeset, which has a \"diff\" describing the changes to the file associated with it. We can use `git diff` so see what has changed in a file:"
   ]
  },
  {
   "cell_type": "code",
   "execution_count": 19,
   "metadata": {
    "collapsed": false,
    "deletable": true,
    "editable": true
   },
   "outputs": [
    {
     "name": "stdout",
     "output_type": "stream",
     "text": [
      "Overwriting README.md\n"
     ]
    }
   ],
   "source": [
    "%%file README.md\n",
    "\n",
    "A file with information about the gitdemo repository.\n",
    "\n",
    "README files usually contains installation instructions, and information about how to get started using the software (for example)."
   ]
  },
  {
   "cell_type": "code",
   "execution_count": 20,
   "metadata": {
    "collapsed": false,
    "deletable": true,
    "editable": true
   },
   "outputs": [
    {
     "name": "stdout",
     "output_type": "stream",
     "text": [
      "diff --git a/myfirstrepo/README.md b/myfirstrepo/README.md\n",
      "index 4f51868..d3951c6 100644\n",
      "--- a/myfirstrepo/README.md\n",
      "+++ b/myfirstrepo/README.md\n",
      "@@ -1,4 +1,4 @@\n",
      " \n",
      " A file with information about the gitdemo repository.\n",
      " \n",
      "-A new line.\n",
      "\\ No newline at end of file\n",
      "+README files usually contains installation instructions, and information about how to get started using the software (for example).\n",
      "\\ No newline at end of file\n"
     ]
    }
   ],
   "source": [
    "!git diff README.md"
   ]
  },
  {
   "cell_type": "markdown",
   "metadata": {
    "deletable": true,
    "editable": true
   },
   "source": [
    "That looks quite cryptic but is a standard form for describing changes in files. We can use other tools, like graphical user interfaces or web based systems to get a more easily understandable diff.\n",
    "\n",
    "In github (a web-based GIT repository hosting service) it can look like this:"
   ]
  },
  {
   "cell_type": "markdown",
   "metadata": {
    "collapsed": false,
    "deletable": true,
    "editable": true
   },
   "source": [
    "![git-diff](./img/git-diff.jpg)"
   ]
  },
  {
   "cell_type": "markdown",
   "metadata": {
    "deletable": true,
    "editable": true
   },
   "source": [
    "## Discard changes in the working directory"
   ]
  },
  {
   "cell_type": "markdown",
   "metadata": {
    "deletable": true,
    "editable": true
   },
   "source": [
    "To discard a change (revert to the latest version in the repository) we can use the `checkout` command like this:"
   ]
  },
  {
   "cell_type": "code",
   "execution_count": null,
   "metadata": {
    "collapsed": false,
    "deletable": true,
    "editable": true
   },
   "outputs": [],
   "source": [
    "!git checkout -- README.md"
   ]
  },
  {
   "cell_type": "code",
   "execution_count": null,
   "metadata": {
    "collapsed": false,
    "deletable": true,
    "editable": true
   },
   "outputs": [],
   "source": [
    "!git status"
   ]
  },
  {
   "cell_type": "markdown",
   "metadata": {
    "deletable": true,
    "editable": true
   },
   "source": [
    "## Checking out old versions"
   ]
  },
  {
   "cell_type": "markdown",
   "metadata": {
    "deletable": true,
    "editable": true
   },
   "source": [
    "If we want to get the code for a specific version, we can use \"git checkout\" and giving it the hash code for the version we are interested as argument:"
   ]
  },
  {
   "cell_type": "code",
   "execution_count": null,
   "metadata": {
    "collapsed": false,
    "deletable": true,
    "editable": true
   },
   "outputs": [],
   "source": [
    "!git log"
   ]
  },
  {
   "cell_type": "code",
   "execution_count": null,
   "metadata": {
    "collapsed": false,
    "deletable": true,
    "editable": true
   },
   "outputs": [],
   "source": [
    "!git checkout 1f26ad648a791e266fbb951ef5c49b8d990e6461"
   ]
  },
  {
   "cell_type": "markdown",
   "metadata": {
    "deletable": true,
    "editable": true
   },
   "source": [
    "Now the content of all the files like in the version with the hash code listed above (first revision)"
   ]
  },
  {
   "cell_type": "code",
   "execution_count": null,
   "metadata": {
    "collapsed": false,
    "deletable": true,
    "editable": true
   },
   "outputs": [],
   "source": [
    "%pycat README.md"
   ]
  },
  {
   "cell_type": "markdown",
   "metadata": {
    "deletable": true,
    "editable": true
   },
   "source": [
    "We can move back to \"the latest\" (master) with the command:"
   ]
  },
  {
   "cell_type": "code",
   "execution_count": null,
   "metadata": {
    "collapsed": false,
    "deletable": true,
    "editable": true
   },
   "outputs": [],
   "source": [
    "!git checkout master "
   ]
  },
  {
   "cell_type": "code",
   "execution_count": null,
   "metadata": {
    "collapsed": false,
    "deletable": true,
    "editable": true
   },
   "outputs": [],
   "source": [
    "%pycat README.md"
   ]
  },
  {
   "cell_type": "code",
   "execution_count": null,
   "metadata": {
    "collapsed": false,
    "deletable": true,
    "editable": true
   },
   "outputs": [],
   "source": [
    "!git status"
   ]
  },
  {
   "cell_type": "markdown",
   "metadata": {
    "deletable": true,
    "editable": true
   },
   "source": [
    "## Tagging and branching"
   ]
  },
  {
   "cell_type": "markdown",
   "metadata": {
    "deletable": true,
    "editable": true
   },
   "source": [
    "### Tags"
   ]
  },
  {
   "cell_type": "markdown",
   "metadata": {
    "deletable": true,
    "editable": true
   },
   "source": [
    "Tags are named version. They are useful for marking particular version for later references. For example, we can tag our code with the tag \"paper-1-final\" when when simulations for \"paper-1\" are finished and the paper submitted. Then we can always retreive the exactly the code used for that paper even if we continue to work on and develop the code for future projects and papers."
   ]
  },
  {
   "cell_type": "code",
   "execution_count": null,
   "metadata": {
    "collapsed": false,
    "deletable": true,
    "editable": true
   },
   "outputs": [],
   "source": [
    "!git log"
   ]
  },
  {
   "cell_type": "code",
   "execution_count": null,
   "metadata": {
    "collapsed": false,
    "deletable": true,
    "editable": true
   },
   "outputs": [],
   "source": [
    "!git tag -a demotag1 -m \"Code used for this and that purpuse\" "
   ]
  },
  {
   "cell_type": "code",
   "execution_count": null,
   "metadata": {
    "collapsed": false,
    "deletable": true,
    "editable": true
   },
   "outputs": [],
   "source": [
    "!git tag -l "
   ]
  },
  {
   "cell_type": "code",
   "execution_count": null,
   "metadata": {
    "collapsed": false,
    "deletable": true,
    "editable": true
   },
   "outputs": [],
   "source": [
    "!git show demotag1"
   ]
  },
  {
   "cell_type": "markdown",
   "metadata": {
    "deletable": true,
    "editable": true
   },
   "source": [
    "To retreive the code in the state corresponding to a particular tag, we can use the `git checkout tagname` command:\n",
    "\n",
    "    $ git checkout demotag1"
   ]
  },
  {
   "cell_type": "markdown",
   "metadata": {
    "deletable": true,
    "editable": true
   },
   "source": [
    "## Branches"
   ]
  },
  {
   "cell_type": "markdown",
   "metadata": {
    "deletable": true,
    "editable": true
   },
   "source": [
    "With branches we can create diverging code bases in the same repository. They are for example useful for experimental development that requires a lot of code changes that could break the functionality in the master branch. Once the development of a branch has reached a stable state it can always be merged back into the trunk. Branching-development-merging is a good development strategy when serveral people are involved in working on the same code base. But even in single author repositories it can often be useful to always keep the master branch in a working state, and always branch/fork before implementing a new feature, and later merge it back into the main trunk.\n",
    "\n",
    "In GIT, we can create a new branch like this:"
   ]
  },
  {
   "cell_type": "code",
   "execution_count": null,
   "metadata": {
    "collapsed": false,
    "deletable": true,
    "editable": true
   },
   "outputs": [],
   "source": [
    "!git branch expr1 "
   ]
  },
  {
   "cell_type": "markdown",
   "metadata": {
    "deletable": true,
    "editable": true
   },
   "source": [
    "We can list the existing branches like this:"
   ]
  },
  {
   "cell_type": "code",
   "execution_count": null,
   "metadata": {
    "collapsed": false,
    "deletable": true,
    "editable": true
   },
   "outputs": [],
   "source": [
    "!git branch"
   ]
  },
  {
   "cell_type": "markdown",
   "metadata": {
    "deletable": true,
    "editable": true
   },
   "source": [
    "And we can switch between branches using `checkout`:"
   ]
  },
  {
   "cell_type": "code",
   "execution_count": null,
   "metadata": {
    "collapsed": false,
    "deletable": true,
    "editable": true
   },
   "outputs": [],
   "source": [
    "!git checkout expr1"
   ]
  },
  {
   "cell_type": "markdown",
   "metadata": {
    "deletable": true,
    "editable": true
   },
   "source": [
    "Make a change in the new branch."
   ]
  },
  {
   "cell_type": "code",
   "execution_count": null,
   "metadata": {
    "collapsed": false,
    "deletable": true,
    "editable": true
   },
   "outputs": [],
   "source": [
    "%%file README.md\n",
    "\n",
    "A file with information about the gitdemo repository.\n",
    "\n",
    "README files usually contains installation instructions, and information about how to get started using the software (for example).\n",
    "\n",
    "Experimental addition."
   ]
  },
  {
   "cell_type": "code",
   "execution_count": null,
   "metadata": {
    "collapsed": false,
    "deletable": true,
    "editable": true
   },
   "outputs": [],
   "source": [
    "!git commit -m \"added a line in expr1 branch\" README.md"
   ]
  },
  {
   "cell_type": "code",
   "execution_count": null,
   "metadata": {
    "collapsed": false,
    "deletable": true,
    "editable": true
   },
   "outputs": [],
   "source": [
    "!git branch"
   ]
  },
  {
   "cell_type": "code",
   "execution_count": null,
   "metadata": {
    "collapsed": false,
    "deletable": true,
    "editable": true
   },
   "outputs": [],
   "source": [
    "!git checkout master"
   ]
  },
  {
   "cell_type": "code",
   "execution_count": null,
   "metadata": {
    "collapsed": false,
    "deletable": true,
    "editable": true
   },
   "outputs": [],
   "source": [
    "!git branch"
   ]
  },
  {
   "cell_type": "markdown",
   "metadata": {
    "deletable": true,
    "editable": true
   },
   "source": [
    "We can merge an existing branch and all its changesets into another branch (for example the master branch) like this:\n",
    "\n",
    "First change to the target branch:"
   ]
  },
  {
   "cell_type": "code",
   "execution_count": null,
   "metadata": {
    "collapsed": false,
    "deletable": true,
    "editable": true
   },
   "outputs": [],
   "source": [
    "!git checkout master"
   ]
  },
  {
   "cell_type": "code",
   "execution_count": null,
   "metadata": {
    "collapsed": false,
    "deletable": true,
    "editable": true
   },
   "outputs": [],
   "source": [
    "!git merge expr1"
   ]
  },
  {
   "cell_type": "code",
   "execution_count": null,
   "metadata": {
    "collapsed": false,
    "deletable": true,
    "editable": true
   },
   "outputs": [],
   "source": [
    "!git branch "
   ]
  },
  {
   "cell_type": "markdown",
   "metadata": {
    "deletable": true,
    "editable": true
   },
   "source": [
    "We can delete the branch `expr1` now that it has been merged into the master:"
   ]
  },
  {
   "cell_type": "code",
   "execution_count": null,
   "metadata": {
    "collapsed": false,
    "deletable": true,
    "editable": true
   },
   "outputs": [],
   "source": [
    "!git branch -d expr1"
   ]
  },
  {
   "cell_type": "code",
   "execution_count": null,
   "metadata": {
    "collapsed": false,
    "deletable": true,
    "editable": true
   },
   "outputs": [],
   "source": [
    "!git branch"
   ]
  },
  {
   "cell_type": "code",
   "execution_count": null,
   "metadata": {
    "collapsed": false,
    "deletable": true,
    "editable": true
   },
   "outputs": [],
   "source": [
    "%pycat README.md"
   ]
  },
  {
   "cell_type": "markdown",
   "metadata": {
    "deletable": true,
    "editable": true
   },
   "source": [
    "## pulling and pushing change sets between repositories"
   ]
  },
  {
   "cell_type": "markdown",
   "metadata": {
    "deletable": true,
    "editable": true
   },
   "source": [
    "If the respository has been cloned from another repository, for example on [github.com](github.com), it automatically remembers the address of the parant repository (called origin):"
   ]
  },
  {
   "cell_type": "code",
   "execution_count": null,
   "metadata": {
    "collapsed": false,
    "deletable": true,
    "editable": true
   },
   "outputs": [],
   "source": [
    "!git remote"
   ]
  },
  {
   "cell_type": "code",
   "execution_count": null,
   "metadata": {
    "collapsed": false,
    "deletable": true,
    "editable": true
   },
   "outputs": [],
   "source": [
    "!git remote show origin"
   ]
  },
  {
   "cell_type": "markdown",
   "metadata": {
    "deletable": true,
    "editable": true
   },
   "source": [
    "### pull"
   ]
  },
  {
   "cell_type": "markdown",
   "metadata": {
    "deletable": true,
    "editable": true
   },
   "source": [
    "We can retrieve updates from the origin repository by \"pulling\" changesets from \"origin\" to our repository:"
   ]
  },
  {
   "cell_type": "code",
   "execution_count": null,
   "metadata": {
    "collapsed": false,
    "deletable": true,
    "editable": true
   },
   "outputs": [],
   "source": [
    "!git pull origin"
   ]
  },
  {
   "cell_type": "markdown",
   "metadata": {
    "deletable": true,
    "editable": true
   },
   "source": [
    "We can register addresses to many different repositories, and pull in different changesets from different sources, but the default source is the origin from where the repository was first cloned (and the work origin could have been omitted from the line above)."
   ]
  },
  {
   "cell_type": "markdown",
   "metadata": {
    "deletable": true,
    "editable": true
   },
   "source": [
    "### push"
   ]
  },
  {
   "cell_type": "markdown",
   "metadata": {
    "deletable": true,
    "editable": true
   },
   "source": [
    "After making changes to our local repository, we can push changes to a remote repository using `git push`. Again, the default target repository is `origin`, so we can do:"
   ]
  },
  {
   "cell_type": "code",
   "execution_count": null,
   "metadata": {
    "collapsed": false,
    "deletable": true,
    "editable": true
   },
   "outputs": [],
   "source": [
    "!git status"
   ]
  },
  {
   "cell_type": "code",
   "execution_count": null,
   "metadata": {
    "collapsed": false,
    "deletable": true,
    "editable": true
   },
   "outputs": [],
   "source": [
    "!git add Hello.py"
   ]
  },
  {
   "cell_type": "code",
   "execution_count": null,
   "metadata": {
    "collapsed": false,
    "deletable": true,
    "editable": true
   },
   "outputs": [],
   "source": [
    "!git commit -m \"added python file\" Hello.py"
   ]
  },
  {
   "cell_type": "code",
   "execution_count": null,
   "metadata": {
    "collapsed": false,
    "deletable": true,
    "editable": true
   },
   "outputs": [],
   "source": [
    "!git push"
   ]
  },
  {
   "cell_type": "markdown",
   "metadata": {
    "deletable": true,
    "editable": true
   },
   "source": [
    "## Hosted repositories"
   ]
  },
  {
   "cell_type": "markdown",
   "metadata": {
    "deletable": true,
    "editable": true
   },
   "source": [
    "[Github.com](Github.com) is a git repository hosting site that is very popular with both open source projects (for which it is free) and private repositories (for which a subscription might be needed).\n",
    "\n",
    "With a hosted repository it easy to collaborate with colleagues on the same code base, and you get a graphical user interface where you can browse the code and look at commit logs, track issues etc. \n"
   ]
  },
  {
   "cell_type": "markdown",
   "metadata": {
    "collapsed": false,
    "deletable": true,
    "editable": true
   },
   "source": [
    "![SEUIF97](./img/github-repo.jpg)"
   ]
  },
  {
   "cell_type": "markdown",
   "metadata": {
    "deletable": true,
    "editable": true
   },
   "source": [
    "## Graphical user interfaces"
   ]
  },
  {
   "cell_type": "markdown",
   "metadata": {
    "deletable": true,
    "editable": true
   },
   "source": [
    "There are also a number of graphical users interfaces for GIT. \n",
    "\n",
    "* **GitHub Desktop** \n",
    "  [Download here](https://desktop.github.com/)\n",
    "  \n",
    "* **EGit In Eclipse** \n",
    "  If you have installed Eclipse, EGit is ready for you\n",
    "  \n",
    "* **Git in Visual Studio Code** \n",
    "  If you have installed Git and Visual Studio Code [Download here](https://code.visualstudio.com/)   \n",
    "\n",
    "We strongly recommend that you use version control for your projects. \n",
    "![EGit](./img/git-egit.jpg)\n",
    "\n",
    "![Code](./img/git-code.jpg)\n",
    "\n"
   ]
  },
  {
   "cell_type": "markdown",
   "metadata": {
    "deletable": true,
    "editable": true
   },
   "source": [
    "## Further reading"
   ]
  },
  {
   "cell_type": "markdown",
   "metadata": {
    "deletable": true,
    "editable": true
   },
   "source": [
    "* http://git-scm.com/book\n",
    "* John McDonnell. Git for Scientists: A Tutorial http://nyuccl.org/pages/GitTutorial/\n",
    "* Maximilian Koegel,Jonas Helming. EGit Toturial http://eclipsesource.com/blogs/tutorials/egit-tutorial/    \n",
    "* Scott Chacon，Ben Straub. Pro Git. https://git-scm.com/book/en/v2/Getting-Started-About-Version-Control\n",
    "* 廖雪峰. Git教程  http://www.liaoxuefeng.com/wiki/0013739516305929606dd18361248578c67b8067c8c017b000\n",
    "* 知乎：怎样使用GitHub. http://www.zhihu.com/question/20070065"
   ]
  }
 ],
 "metadata": {
  "kernelspec": {
   "display_name": "Python 3",
   "language": "python",
   "name": "python3"
  },
  "language_info": {
   "codemirror_mode": {
    "name": "ipython",
    "version": 3
   },
   "file_extension": ".py",
   "mimetype": "text/x-python",
   "name": "python",
   "nbconvert_exporter": "python",
   "pygments_lexer": "ipython3",
   "version": "3.5.2"
  }
 },
 "nbformat": 4,
 "nbformat_minor": 0
}
